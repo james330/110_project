{
  "nbformat": 4,
  "nbformat_minor": 0,
  "metadata": {
    "colab": {
      "name": "Google Stock Price Prediction RNN",
      "provenance": [],
      "collapsed_sections": [],
      "include_colab_link": true
    },
    "kernelspec": {
      "name": "python3",
      "display_name": "Python 3"
    },
    "accelerator": "GPU"
  },
  "cells": [
    {
      "cell_type": "markdown",
      "metadata": {
        "id": "view-in-github",
        "colab_type": "text"
      },
      "source": [
        "<a href=\"https://colab.research.google.com/github/renyuanL/110_project/blob/main/_ry_Google_Stock_Price_Prediction_RNN.ipynb\" target=\"_parent\"><img src=\"https://colab.research.google.com/assets/colab-badge.svg\" alt=\"Open In Colab\"/></a>"
      ]
    },
    {
      "cell_type": "markdown",
      "metadata": {
        "id": "kRO9n1MJVlHv"
      },
      "source": [
        "LSTM that predicts upwards and downwards trend of google stockprice \n",
        "Many layers with dropout regularisation to prevent overfitting"
      ]
    },
    {
      "cell_type": "markdown",
      "metadata": {
        "id": "UCsb2gWesFOS"
      },
      "source": [
        "Part 1 - Data Preprocessing"
      ]
    },
    {
      "cell_type": "code",
      "metadata": {
        "id": "UTEkX8bcqioW"
      },
      "source": [
        "# Importing the libraries\n",
        "import numpy as np #allow to make arrays\n",
        "import matplotlib.pyplot as plt #visualize results on charts \n",
        "import pandas as pd #import dataset and manage easily"
      ],
      "execution_count": 1,
      "outputs": []
    },
    {
      "cell_type": "code",
      "metadata": {
        "id": "pSLULOYMc7fj",
        "outputId": "078a0de2-dbb7-41c3-b2c7-f51a388ce6de",
        "colab": {
          "base_uri": "https://localhost:8080/"
        }
      },
      "source": [
        "# Importing the training set - only importing training set, test set later  on \n",
        "#rnn has no idea of the test set's data, then after training is done, test set will eb important\n",
        "\n",
        "#dataset_train = pd.read_csv('GOOGL_Stock_Price_Train.csv')\n",
        "\n",
        "import pandas_datareader as pdr\n",
        "dataset_train= pdr.get_data_yahoo('GOOGL', \n",
        "                                  start='2000-01-01', \n",
        "                                  end=  '2015-01-01')\n",
        "dataset_train= dataset_train['Close']\n",
        "\n",
        "#need to make into numpy arrays because only nump arrays can be input values in keras\n",
        "training_set = dataset_train.values\n",
        "training_set\n",
        "\n",
        "#getting everything from the columns (.values makes the numpy array)\n",
        "# Feature Scaling\n",
        "#2 ways: take obs- min ofstock prices/max of stock prices- min of stock prices\n",
        "#using normalization instead of standardisation- look at meaning\n",
        "\n",
        "from sklearn.preprocessing import MinMaxScaler\n",
        "sc = MinMaxScaler(feature_range = (0, 1))\n",
        "\n",
        "training_set= training_set.reshape(-1,1)\n",
        "\n",
        "training_set_scaled = sc.fit_transform(training_set) #fit (gets min and max on data to apply formula) tranform(compute scale stock prices to each formula)\n",
        "training_set_scaled.size"
      ],
      "execution_count": 64,
      "outputs": [
        {
          "output_type": "execute_result",
          "data": {
            "text/plain": [
              "2611"
            ]
          },
          "metadata": {
            "tags": []
          },
          "execution_count": 64
        }
      ]
    },
    {
      "cell_type": "code",
      "metadata": {
        "id": "9C4BE-F1sLpZ"
      },
      "source": [
        "# Creating a data structure with 60 timesteps and 1 output\n",
        "#60 times steps- at each time t and look at 60 previous time steps, then make new prediction \n",
        "# 1 time step leads to overfitting, 20 is still too low\n",
        "#60 previous financial days- in 3 months \n",
        "X_train = []\n",
        "y_train = []\n",
        "N= training_set_scaled.size\n",
        "for i in range(60, N): # upper bound is number of values \n",
        "  X_train.append(training_set_scaled[i-60:i, 0]) #takes 60 previous stock prices from 60 past stock prices\n",
        "  y_train.append(training_set_scaled[i, 0]) #contains stock price learned to predict \n",
        "X_train, y_train = np.array(X_train), np.array(y_train) # make into numpy arrays \n",
        "#Need to add dimension to because not only prescition with one stock price but other indicators (like other columns in dataset  or other stocks that may affect this one )"
      ],
      "execution_count": 65,
      "outputs": []
    },
    {
      "cell_type": "code",
      "metadata": {
        "id": "k_fnQGmSvfTu"
      },
      "source": [
        "# Reshaping- add dimension in numpy array \n",
        "X_train = np.reshape(X_train, (X_train.shape[0], X_train.shape[1], 1)) #adds dimension in numpy array\n",
        "#currently only have one indicator, with new dimension will have more indicators, be compatible for \"input shape\" of RNN\n",
        "# format according to keras documentation \n"
      ],
      "execution_count": 66,
      "outputs": []
    },
    {
      "cell_type": "markdown",
      "metadata": {
        "id": "j3EQlGCOvhzE"
      },
      "source": [
        "Part 2 - Building the RNN \n",
        "stacked lstm with dropout regularization to prevent overfitting"
      ]
    },
    {
      "cell_type": "code",
      "metadata": {
        "id": "4trYuBUXvuB5"
      },
      "source": [
        "# Importing the Keras libraries and packages\n",
        "from keras.models import Sequential\n",
        "from keras.layers import Dense\n",
        "from keras.layers import LSTM\n",
        "from keras.layers import Dropout"
      ],
      "execution_count": 67,
      "outputs": []
    },
    {
      "cell_type": "code",
      "metadata": {
        "id": "Oy4m0z1svv4N"
      },
      "source": [
        "# Initialising the RNN\n",
        "regressor= Sequential() #reps sequence of layers, predicting continous values (so it is a regression)"
      ],
      "execution_count": 68,
      "outputs": []
    },
    {
      "cell_type": "code",
      "metadata": {
        "id": "fWQQNeG_vwXV"
      },
      "source": [
        "# Adding the first LSTM layer and some Dropout regularisation\n",
        "#dropout to prevent overfitting\n",
        "regressor.add(LSTM(units = 50, \n",
        "                   return_sequences = True, \n",
        "                   input_shape = (X_train.shape[1], 1)))#regressor- object of sequential class, can add layers to networ.\n",
        "\n",
        "#use lstm class and create object of lstm class- 3 args\n",
        "#num of units, return sequences- set to true because is stacked lstms, and shape\n",
        "#units- neurons in first layer. 50 in layers for high dimensionality, can capture upward and downward\n",
        "regressor.add(Dropout(0.2))\n",
        "\n",
        "# takes arg of dropout late- num of neurons want to drop. dropping 20% of neurons to be ignored during trianingn for each iteratin. 10 neurons will be dropped out"
      ],
      "execution_count": 69,
      "outputs": []
    },
    {
      "cell_type": "code",
      "metadata": {
        "id": "xMTvkPLtvz4r"
      },
      "source": [
        "# Adding a second LSTM layer and some Dropout regularisation\n",
        "# total of 4 layers, simply need to copy, only change is input shape so dont need to specify that, automatically recognised through input shape\n",
        "\n",
        "regressor.add(LSTM(units = 50, \n",
        "                   return_sequences = True)) \n",
        "\n",
        "regressor.add(Dropout(0.2))"
      ],
      "execution_count": 70,
      "outputs": []
    },
    {
      "cell_type": "code",
      "metadata": {
        "id": "DwZjs53zv0K1"
      },
      "source": [
        "# Adding a third LSTM layer and some Dropout regularisation\n",
        "# same as second layer \n",
        "regressor.add(LSTM(units = 50, return_sequences = True))\n",
        "regressor.add(Dropout(0.2))"
      ],
      "execution_count": 71,
      "outputs": []
    },
    {
      "cell_type": "code",
      "metadata": {
        "id": "TqAm5r3_v9b-"
      },
      "source": [
        "# Adding a fourth LSTM layer and some Dropout regularisation\n",
        "# almost same, but return sequence is false because it is the last lstm layer (so it is removed becasue default is false)\n",
        "regressor.add(LSTM(units = 50))\n",
        "regressor.add(Dropout(0.2))"
      ],
      "execution_count": 72,
      "outputs": []
    },
    {
      "cell_type": "code",
      "metadata": {
        "id": "GyBA3V_WwAP5"
      },
      "source": [
        "# Adding the output layer\n",
        "#add fully connected layer through dense class- dimesion/units/neurons is 1\n",
        "regressor.add(Dense(units = 1))"
      ],
      "execution_count": 73,
      "outputs": []
    },
    {
      "cell_type": "code",
      "metadata": {
        "id": "F_GkymP6wAbZ"
      },
      "source": [
        "# Compiling the RNN\n",
        "#regressior because predicting continuous value, \n",
        "regressor.compile(optimizer = 'adam', loss = 'mean_squared_error')"
      ],
      "execution_count": 74,
      "outputs": []
    },
    {
      "cell_type": "code",
      "metadata": {
        "id": "s__QxkRNwHRO",
        "colab": {
          "base_uri": "https://localhost:8080/"
        },
        "outputId": "cd471257-c0ba-4689-e5e3-e597391bad02"
      },
      "source": [
        "# Fitting the RNN to the Training set\n",
        "#have not made connection to training set, training will take place\n",
        "regressor.fit(X_train, y_train, \n",
        "              epochs = 10, #200, \n",
        "              batch_size = 32) # CHANGE BACK TO 100 IF NOT WORK\n",
        "#100 gives good convergence\n",
        "# trained on certain batch sizes, "
      ],
      "execution_count": 75,
      "outputs": [
        {
          "output_type": "stream",
          "text": [
            "Epoch 1/10\n",
            "80/80 [==============================] - 6s 14ms/step - loss: 0.0447\n",
            "Epoch 2/10\n",
            "80/80 [==============================] - 1s 12ms/step - loss: 0.0031\n",
            "Epoch 3/10\n",
            "80/80 [==============================] - 1s 12ms/step - loss: 0.0035\n",
            "Epoch 4/10\n",
            "80/80 [==============================] - 1s 12ms/step - loss: 0.0029\n",
            "Epoch 5/10\n",
            "80/80 [==============================] - 1s 12ms/step - loss: 0.0025\n",
            "Epoch 6/10\n",
            "80/80 [==============================] - 1s 12ms/step - loss: 0.0025\n",
            "Epoch 7/10\n",
            "80/80 [==============================] - 1s 12ms/step - loss: 0.0026\n",
            "Epoch 8/10\n",
            "80/80 [==============================] - 1s 12ms/step - loss: 0.0023\n",
            "Epoch 9/10\n",
            "80/80 [==============================] - 1s 12ms/step - loss: 0.0026\n",
            "Epoch 10/10\n",
            "80/80 [==============================] - 1s 13ms/step - loss: 0.0025\n"
          ],
          "name": "stdout"
        },
        {
          "output_type": "execute_result",
          "data": {
            "text/plain": [
              "<keras.callbacks.History at 0x7fd83353ad90>"
            ]
          },
          "metadata": {
            "tags": []
          },
          "execution_count": 75
        }
      ]
    },
    {
      "cell_type": "markdown",
      "metadata": {
        "id": "GHac1P0e5U4G"
      },
      "source": [
        "Part 3 - Making the predictions and visualising the results"
      ]
    },
    {
      "cell_type": "code",
      "metadata": {
        "id": "9A6R2mXldQk9",
        "colab": {
          "base_uri": "https://localhost:8080/"
        },
        "outputId": "19abdf09-fea0-44bd-be6e-7df8d2fcee9a"
      },
      "source": [
        "# Getting the real stock price of 2018\n",
        "\n",
        "#dataset_test = pd.read_csv('GOOGL_Stock_Price_Test.csv')\n",
        "#real_stock_price = dataset_test.iloc[:, 1:2].values\n",
        "\n",
        "dataset_test= pdr.get_data_yahoo('GOOGL', \n",
        "                                  start='2015-01-01', \n",
        "                                  end=  '2020-01-01')\n",
        "dataset_test= dataset_test['Close']\n",
        "\n",
        "#need to make into numpy arrays because only nump arrays can be input values in keras\n",
        "test_set = dataset_test.values\n",
        "test_set\n",
        "\n",
        "#getting everything from the columns (.values makes the numpy array)\n",
        "# Feature Scaling\n",
        "#2 ways: take obs- min ofstock prices/max of stock prices- min of stock prices\n",
        "#using normalization instead of standardisation- look at meaning\n",
        "\n",
        "#from sklearn.preprocessing import MinMaxScaler\n",
        "#sc = MinMaxScaler(feature_range = (0, 1))\n",
        "\n",
        "test_set= test_set.reshape(-1,1)\n",
        "\n",
        "test_set_scaled = sc.fit_transform(test_set) #fit (gets min and max on data to apply formula) tranform(compute scale stock prices to each formula)\n",
        "test_set_scaled.size"
      ],
      "execution_count": 80,
      "outputs": [
        {
          "output_type": "execute_result",
          "data": {
            "text/plain": [
              "1258"
            ]
          },
          "metadata": {
            "tags": []
          },
          "execution_count": 80
        }
      ]
    },
    {
      "cell_type": "code",
      "metadata": {
        "id": "419ZQNSFwHf5"
      },
      "source": [
        "# Getting the predicted stock price of 2018\n",
        "'''\n",
        "dataset_total = pd.concat((dataset_train['Open'], dataset_test['Open']), axis = 0)\n",
        "inputs = dataset_total[len(dataset_total) - len(dataset_test) - 60:].values #getting input of each previous financial days\n",
        "inputs = inputs.reshape(-1,1)\n",
        "inputs = sc.transform(inputs)\n",
        "'''\n",
        "inputs= test_set_scaled\n",
        "\n",
        "X_test = []\n",
        "for i in range(60, inputs.size):\n",
        "    X_test.append(inputs[i-60:i, 0])\n",
        "X_test = np.array(X_test)\n",
        "X_test = np.reshape(X_test, (X_test.shape[0], X_test.shape[1], 1))\n",
        "predicted_stock_price = regressor.predict(X_test)\n",
        "predicted_stock_price = sc.inverse_transform(predicted_stock_price)\n"
      ],
      "execution_count": 81,
      "outputs": []
    },
    {
      "cell_type": "code",
      "metadata": {
        "id": "skhdvmCywHrr",
        "colab": {
          "base_uri": "https://localhost:8080/",
          "height": 295
        },
        "outputId": "f107763f-eb7a-4178-f9bb-1993d857751d"
      },
      "source": [
        "# Visualising the results\n",
        "\n",
        "real_stock_price= test_set\n",
        "plt.plot(real_stock_price[60:], color = 'red', label = 'Real Google Stock Price')\n",
        "\n",
        "plt.plot(predicted_stock_price, color = 'blue', label = 'Predicted Google Stock Price')\n",
        "\n",
        "plt.title('Google Stock Price Prediction')\n",
        "plt.xlabel('Time')\n",
        "plt.ylabel('Google Stock Price')\n",
        "plt.legend()\n",
        "plt.show()"
      ],
      "execution_count": 82,
      "outputs": [
        {
          "output_type": "display_data",
          "data": {
            "image/png": "[encoded data removed]",
            "text/plain": [
              "<Figure size 432x288 with 1 Axes>"
            ]
          },
          "metadata": {
            "tags": [],
            "needs_background": "light"
          }
        }
      ]
    },
    {
      "cell_type": "code",
      "metadata": {
        "id": "aQjhoElQiWnn"
      },
      "source": [
        ""
      ],
      "execution_count": null,
      "outputs": []
    }
  ]
}