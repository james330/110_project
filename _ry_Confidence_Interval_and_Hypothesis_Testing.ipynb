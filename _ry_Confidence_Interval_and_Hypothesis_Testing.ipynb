{
  "nbformat": 4,
  "nbformat_minor": 0,
  "metadata": {
    "colab": {
      "name": "_ry_Confidence_Interval_and_Hypothesis_Testing.ipynb",
      "provenance": [],
      "collapsed_sections": [],
      "authorship_tag": "ABX9TyPjna1rHinzlD+p7ix0AHUJ",
      "include_colab_link": true
    },
    "kernelspec": {
      "name": "python3",
      "display_name": "Python 3"
    },
    "language_info": {
      "name": "python"
    }
  },
  "cells": [
    {
      "cell_type": "markdown",
      "metadata": {
        "id": "view-in-github",
        "colab_type": "text"
      },
      "source": [
        "<a href=\"https://colab.research.google.com/github/renyuanL/110_project/blob/main/_ry_Confidence_Interval_and_Hypothesis_Testing.ipynb\" target=\"_parent\"><img src=\"https://colab.research.google.com/assets/colab-badge.svg\" alt=\"Open In Colab\"/></a>"
      ]
    },
    {
      "cell_type": "markdown",
      "metadata": {
        "id": "NWpBCs77Ri_c"
      },
      "source": [
        "# Introduction to Financial Python\n",
        "## Confidence Interval and Hypothesis Testing\n",
        "\n",
        "- Ref: https://www.quantconnect.com/tutorials/introduction-to-financial-python/confidence-interval-and-hypothesis-testing#Confidence-Interval-and-Hypothesis-Testing-Introduction\n"
      ]
    },
    {
      "cell_type": "code",
      "metadata": {
        "id": "iRsyN6O1RdNP"
      },
      "source": [
        "# https://www.quantconnect.com/tutorials/introduction-to-financial-python/confidence-interval-and-hypothesis-testing#Confidence-Interval-and-Hypothesis-Testing-Introduction\n"
      ],
      "execution_count": null,
      "outputs": []
    },
    {
      "cell_type": "code",
      "metadata": {
        "id": "vK-EIF8vSQ4c"
      },
      "source": [
        "import matplotlib.pyplot as plt\n",
        "import numpy as np\n",
        "import pandas as pd\n",
        "\n",
        "'''\n",
        "qb = QuantBook()\n",
        "spy = qb.AddEquity(\"SPY\").Symbol\n",
        "'''\n",
        "#get SPY data from August 2010 to the present\n",
        "'''\n",
        "start_date = datetime(2010, 8, 1, 0, 0, 0)\n",
        "end_date = qb.Time\n",
        "spy_table = qb.History(spy, start_date, end_date, Resolution.Daily)\n",
        "\n",
        "spy_total = spy_table[['open','close']]\n",
        "'''\n",
        "import pandas_datareader as pdr\n",
        "\n",
        "spy_table= pdr.get_data_yahoo('SPY',start='2010-08')\n",
        "spy_table\n",
        "spy_total= spy_table[['Open','Close']]\n",
        "spy_total.columns= ['open','close']\n"
      ],
      "execution_count": 9,
      "outputs": []
    },
    {
      "cell_type": "code",
      "metadata": {
        "colab": {
          "base_uri": "https://localhost:8080/"
        },
        "id": "CrzIym_6TAte",
        "outputId": "26751e53-7f9c-4198-9c6a-0303eb108c37"
      },
      "source": [
        "\n",
        "\n",
        "\n",
        "#calculate log returns\n",
        "spy_log_return = np.log(spy_total.close).diff().dropna()\n",
        "\n",
        "print('Population mean:', np.mean(spy_log_return))\n",
        "#[out]: Population mean: 0.000443353825615\n",
        "print('Population standard deviation:',np.std(spy_log_return))\n",
        "#[out]: Population standard deviation: 0.00784267293815\n"
      ],
      "execution_count": 10,
      "outputs": [
        {
          "output_type": "stream",
          "text": [
            "Population mean: 0.00048535249884885\n",
            "Population standard deviation: 0.01075169962667365\n"
          ],
          "name": "stdout"
        }
      ]
    },
    {
      "cell_type": "code",
      "metadata": {
        "colab": {
          "base_uri": "https://localhost:8080/"
        },
        "id": "Ztp46UNnR8Yy",
        "outputId": "6d7616ce-b8b8-41f9-82c6-072111ac30d0"
      },
      "source": [
        "print('10 days sample returns:', np.mean(spy_log_return.tail(10)))\n",
        "#[out]: 10 days sample returns: 0.000845189915474\n",
        "print('10 days sample standard deviation:', np.std(spy_log_return.tail(10)))\n",
        "#[out]: 10 days sample standard deviation: 0.00313558001122\n",
        "print('1000 days sample returns:', np.mean(spy_log_return.tail(1000)))\n",
        "#[out]: 1000 days sample returns: 0.000462827047221\n",
        "print('1000 days sample standard deviation:', np.std(spy_log_return.tail(1000)))\n",
        "#[out]: 1000 days sample standard deviation: 0.00766589174299"
      ],
      "execution_count": 11,
      "outputs": [
        {
          "output_type": "stream",
          "text": [
            "10 days sample returns: 0.0012350804361541457\n",
            "10 days sample standard deviation: 0.003422828669076326\n",
            "1000 days sample returns: 0.0005602979943605533\n",
            "1000 days sample standard deviation: 0.013036113231790701\n"
          ],
          "name": "stdout"
        }
      ]
    },
    {
      "cell_type": "code",
      "metadata": {
        "colab": {
          "base_uri": "https://localhost:8080/"
        },
        "id": "KGhfvW32UFMT",
        "outputId": "f3eadba0-a31e-4067-bbc8-6d1a1edab20e"
      },
      "source": [
        "#apply the formula above to calculate confidence interval\n",
        "bottom_1 = np.mean(spy_log_return.tail(10))-1.96*np.std(spy_log_return.tail(10))/(np.sqrt(len((spy_log_return.tail(10)))))\n",
        "upper_1 = np.mean(spy_log_return.tail(10))+1.96*np.std(spy_log_return.tail(10))/(np.sqrt(len((spy_log_return.tail(10)))))\n",
        "bottom_2 = np.mean(spy_log_return.tail(1000))-1.96*np.std(spy_log_return.tail(1000))/(np.sqrt(len((spy_log_return.tail(1000)))))\n",
        "upper_2 = np.mean(spy_log_return.tail(1000))+1.96*np.std(spy_log_return.tail(1000))/(np.sqrt(len((spy_log_return.tail(1000)))))\n",
        "#print the outcomes\n",
        "print('10 days 95% confidence inverval:', (bottom_1,upper_1))\n",
        "#[out]: 10 days 95% confidence inverval: (-0.0010982627102681939, 0.002788642541217079)\n",
        "print('1000 days 95% confidence inverval:', (bottom_2,upper_2))\n",
        "#[out]: 1000 days 95% confidence inverval: (-1.230984558013321e-05, 0.00093796394002165957)\n"
      ],
      "execution_count": 12,
      "outputs": [
        {
          "output_type": "stream",
          "text": [
            "10 days 95% confidence inverval: (-0.0008864107522674248, 0.0033565716245757163)\n",
            "1000 days 95% confidence inverval: (-0.00024768867474646284, 0.0013682846634675695)\n"
          ],
          "name": "stdout"
        }
      ]
    },
    {
      "cell_type": "code",
      "metadata": {
        "colab": {
          "base_uri": "https://localhost:8080/",
          "height": 120
        },
        "id": "jPoGEp3yUQrr",
        "outputId": "91990766-0404-4bfd-e1a9-309b0ae2f45b"
      },
      "source": [
        "mean_1000 = np.mean(spy_log_return.tail(1000))\n",
        "std_1000 = np.std(spy_log_return.tail(1000))\n",
        "mean_10 = np.mean(spy_log_return.tail(10))\n",
        "std_10 = np.std(spy_log_return.tail(10))\n",
        "s = pd.Series([mean_10,std_10,mean_1000,std_1000],index = ['mean_10', 'std_10','mean_1000','std_1000'])\n",
        "print(s)\n",
        "\n",
        "'''\n",
        "[out]: mean_10      0.000845\n",
        "       std_10       0.003136\n",
        "       mean_1000    0.000463\n",
        "       std_1000     0.007666\n",
        "'''\n"
      ],
      "execution_count": 13,
      "outputs": [
        {
          "output_type": "stream",
          "text": [
            "mean_10      0.001235\n",
            "std_10       0.003423\n",
            "mean_1000    0.000560\n",
            "std_1000     0.013036\n",
            "dtype: float64\n"
          ],
          "name": "stdout"
        },
        {
          "output_type": "execute_result",
          "data": {
            "application/vnd.google.colaboratory.intrinsic+json": {
              "type": "string"
            },
            "text/plain": [
              "'\\n[out]: mean_10      0.000845\\n       std_10       0.003136\\n       mean_1000    0.000463\\n       std_1000     0.007666\\n'"
            ]
          },
          "metadata": {
            "tags": []
          },
          "execution_count": 13
        }
      ]
    },
    {
      "cell_type": "code",
      "metadata": {
        "colab": {
          "base_uri": "https://localhost:8080/"
        },
        "id": "6R1sYvjTUZpC",
        "outputId": "d165ac28-1c6c-40dd-85b7-365d40b0be2f"
      },
      "source": [
        "bottom = 0 - 1.64*std_1000/np.sqrt(1000)\n",
        "upper = 0 + 1.64*std_1000/np.sqrt(1000)\n",
        "print((bottom, upper))\n",
        "\n",
        "#[out]: (-0.00039756352254768874, 0.00039756352254768874)\n"
      ],
      "execution_count": 14,
      "outputs": [
        {
          "output_type": "stream",
          "text": [
            "(-0.0006760704782324012, 0.0006760704782324012)\n"
          ],
          "name": "stdout"
        }
      ]
    },
    {
      "cell_type": "code",
      "metadata": {
        "colab": {
          "base_uri": "https://localhost:8080/"
        },
        "id": "z6GfE__BUgYC",
        "outputId": "a12ea438-0f34-49c3-ec6f-0e1e9ee1c8f6"
      },
      "source": [
        "bottom = 0 - 1.96*std_1000/np.sqrt(1000)\n",
        "upper = 0 + 1.96*std_1000/np.sqrt(1000)\n",
        "print((bottom, upper))\n",
        "\n",
        "#[out]: (-0.00047513689280089639, 0.00047513689280089639)\n"
      ],
      "execution_count": 15,
      "outputs": [
        {
          "output_type": "stream",
          "text": [
            "(-0.0008079866691070161, 0.0008079866691070161)\n"
          ],
          "name": "stdout"
        }
      ]
    },
    {
      "cell_type": "code",
      "metadata": {
        "colab": {
          "base_uri": "https://localhost:8080/"
        },
        "id": "wmt7l-heUj26",
        "outputId": "e1ca8127-57d5-4c4a-bd8c-dfd05842332f"
      },
      "source": [
        "print(np.sqrt(1000)*(mean_1000 - 0)/std_1000)\n",
        "\n",
        "#[out]: 1.90922032428\n"
      ],
      "execution_count": 16,
      "outputs": [
        {
          "output_type": "stream",
          "text": [
            "1.3591611234878334\n"
          ],
          "name": "stdout"
        }
      ]
    },
    {
      "cell_type": "code",
      "metadata": {
        "colab": {
          "base_uri": "https://localhost:8080/"
        },
        "id": "UwU_OsohUn_T",
        "outputId": "2f634058-ae51-40e2-c0eb-9df53e1e3561"
      },
      "source": [
        "import scipy.stats as st\n",
        "print((1 - st.norm.cdf(1.9488)))\n",
        "\n",
        "#[out]: 0.025659656888\n"
      ],
      "execution_count": 17,
      "outputs": [
        {
          "output_type": "stream",
          "text": [
            "0.02565965688799665\n"
          ],
          "name": "stdout"
        }
      ]
    },
    {
      "cell_type": "code",
      "metadata": {
        "colab": {
          "base_uri": "https://localhost:8080/"
        },
        "id": "sxEXlJecUrjy",
        "outputId": "bdd4eb74-6e78-488b-afd6-9ae5b367c5e8"
      },
      "source": [
        "mean_1200 = np.mean(spy_log_return.tail(1200))\n",
        "std_1200 = np.std(spy_log_return.tail(1200))\n",
        "z_score = np.sqrt(1200)*(mean_1200 - 0)/std_1200\n",
        "print('z-score = ',z_score)\n",
        "#[out]: z-score =  2.19793023185\n",
        "p_value = (1 - st.norm.cdf(z_score))\n",
        "print('p_value = ',p_value)\n",
        "#[out]: p_value =  0.0139770390655\n"
      ],
      "execution_count": 18,
      "outputs": [
        {
          "output_type": "stream",
          "text": [
            "z-score =  1.582371281814201\n",
            "p_value =  0.05678241835411302\n"
          ],
          "name": "stdout"
        }
      ]
    },
    {
      "cell_type": "code",
      "metadata": {
        "id": "O-He_PfJUx1q"
      },
      "source": [
        ""
      ],
      "execution_count": null,
      "outputs": []
    },
    {
      "cell_type": "markdown",
      "metadata": {
        "id": "DczAn4zdU3PR"
      },
      "source": [
        "# Summary\n",
        "\n",
        "- In this chapter we introduced confidence interval, especially that for the normal distribution, and hypothesis test. Now we know how to test our idea rigorously. Normal distribution and it's confidence interval can be applied to many quantitative finance theories, we will see it frequently in our following tutorials.\n",
        "\n",
        "# Ref:\n",
        "- \n",
        "https://www.quantconnect.com/tutorials/introduction-to-financial-python/confidence-interval-and-hypothesis-testing#Confidence-Interval-and-Hypothesis-Testing-Introduction\n"
      ]
    }
  ]
}