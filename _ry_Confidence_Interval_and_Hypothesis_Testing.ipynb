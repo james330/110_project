{
  "nbformat": 4,
  "nbformat_minor": 0,
  "metadata": {
    "colab": {
      "name": "_ry_Confidence_Interval_and_Hypothesis_Testing.ipynb",
      "provenance": [],
      "collapsed_sections": [],
      "authorship_tag": "ABX9TyNyIIVQNjOFWzXU8D7NgOLT",
      "include_colab_link": true
    },
    "kernelspec": {
      "name": "python3",
      "display_name": "Python 3"
    },
    "language_info": {
      "name": "python"
    }
  },
  "cells": [
    {
      "cell_type": "markdown",
      "metadata": {
        "id": "view-in-github",
        "colab_type": "text"
      },
      "source": [
        "<a href=\"https://colab.research.google.com/github/renyuanL/110_project/blob/main/_ry_Confidence_Interval_and_Hypothesis_Testing.ipynb\" target=\"_parent\"><img src=\"https://colab.research.google.com/assets/colab-badge.svg\" alt=\"Open In Colab\"/></a>"
      ]
    },
    {
      "cell_type": "markdown",
      "metadata": {
        "id": "NWpBCs77Ri_c"
      },
      "source": [
        "# Introduction to Financial Python\n",
        "## Confidence Interval and Hypothesis Testing\n",
        "\n",
        "- Ref: https://www.quantconnect.com/tutorials/introduction-to-financial-python/confidence-interval-and-hypothesis-testing#Confidence-Interval-and-Hypothesis-Testing-Introduction\n"
      ]
    },
    {
      "cell_type": "code",
      "metadata": {
        "id": "iRsyN6O1RdNP"
      },
      "source": [
        "# https://www.quantconnect.com/tutorials/introduction-to-financial-python/confidence-interval-and-hypothesis-testing#Confidence-Interval-and-Hypothesis-Testing-Introduction\n"
      ],
      "execution_count": 12,
      "outputs": []
    },
    {
      "cell_type": "code",
      "metadata": {
        "id": "vK-EIF8vSQ4c"
      },
      "source": [
        "import matplotlib.pyplot as plt\n",
        "import numpy as np\n",
        "import pandas as pd\n",
        "\n",
        "'''\n",
        "qb = QuantBook()\n",
        "spy = qb.AddEquity(\"SPY\").Symbol\n",
        "'''\n",
        "#get SPY data from August 2010 to the present\n",
        "'''\n",
        "start_date = datetime(2010, 8, 1, 0, 0, 0)\n",
        "end_date = qb.Time\n",
        "spy_table = qb.History(spy, start_date, end_date, Resolution.Daily)\n",
        "\n",
        "spy_total = spy_table[['open','close']]\n",
        "'''\n",
        "#\n",
        "# 上面主要是撈資料，原作者用了私有的模組 QuantBook \n",
        "# 那個東西我沒有，也暫時不想去網路尋找，因此就自創一段來修補，以便連接....\n",
        "#\n",
        "import pandas_datareader as pdr\n",
        "\n",
        "spy_table= pdr.get_data_yahoo('SPY',start='2010-08')\n",
        "spy_table\n",
        "spy_total= spy_table[['Open','Close']]\n",
        "spy_total.columns= ['open','close']\n"
      ],
      "execution_count": 23,
      "outputs": []
    },
    {
      "cell_type": "code",
      "metadata": {
        "id": "Kn5CdPnDXbgY",
        "outputId": "b92c5a81-0831-414f-83c4-96fabbc18053",
        "colab": {
          "base_uri": "https://localhost:8080/",
          "height": 450
        }
      },
      "source": [
        "# 先喵一下我撈到了啥資料？\n",
        "# Google: 【spy yahoo finance】\n",
        "# https://finance.yahoo.com/quote/SPY/chart?p=SPY#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--\n",
        "\n",
        "spy_total\n"
      ],
      "execution_count": 27,
      "outputs": [
        {
          "output_type": "execute_result",
          "data": {
            "text/html": [
              "<div>\n",
              "<style scoped>\n",
              "    .dataframe tbody tr th:only-of-type {\n",
              "        vertical-align: middle;\n",
              "    }\n",
              "\n",
              "    .dataframe tbody tr th {\n",
              "        vertical-align: top;\n",
              "    }\n",
              "\n",
              "    .dataframe thead th {\n",
              "        text-align: right;\n",
              "    }\n",
              "</style>\n",
              "<table border=\"1\" class=\"dataframe\">\n",
              "  <thead>\n",
              "    <tr style=\"text-align: right;\">\n",
              "      <th></th>\n",
              "      <th>open</th>\n",
              "      <th>close</th>\n",
              "    </tr>\n",
              "    <tr>\n",
              "      <th>Date</th>\n",
              "      <th></th>\n",
              "      <th></th>\n",
              "    </tr>\n",
              "  </thead>\n",
              "  <tbody>\n",
              "    <tr>\n",
              "      <th>2010-08-02</th>\n",
              "      <td>111.989998</td>\n",
              "      <td>112.760002</td>\n",
              "    </tr>\n",
              "    <tr>\n",
              "      <th>2010-08-03</th>\n",
              "      <td>112.480003</td>\n",
              "      <td>112.220001</td>\n",
              "    </tr>\n",
              "    <tr>\n",
              "      <th>2010-08-04</th>\n",
              "      <td>112.529999</td>\n",
              "      <td>112.970001</td>\n",
              "    </tr>\n",
              "    <tr>\n",
              "      <th>2010-08-05</th>\n",
              "      <td>112.250000</td>\n",
              "      <td>112.849998</td>\n",
              "    </tr>\n",
              "    <tr>\n",
              "      <th>2010-08-06</th>\n",
              "      <td>111.739998</td>\n",
              "      <td>112.389999</td>\n",
              "    </tr>\n",
              "    <tr>\n",
              "      <th>...</th>\n",
              "      <td>...</td>\n",
              "      <td>...</td>\n",
              "    </tr>\n",
              "    <tr>\n",
              "      <th>2021-06-08</th>\n",
              "      <td>423.109985</td>\n",
              "      <td>422.279999</td>\n",
              "    </tr>\n",
              "    <tr>\n",
              "      <th>2021-06-09</th>\n",
              "      <td>423.179993</td>\n",
              "      <td>421.649994</td>\n",
              "    </tr>\n",
              "    <tr>\n",
              "      <th>2021-06-10</th>\n",
              "      <td>422.959991</td>\n",
              "      <td>423.609985</td>\n",
              "    </tr>\n",
              "    <tr>\n",
              "      <th>2021-06-11</th>\n",
              "      <td>424.200012</td>\n",
              "      <td>424.309998</td>\n",
              "    </tr>\n",
              "    <tr>\n",
              "      <th>2021-06-14</th>\n",
              "      <td>424.429993</td>\n",
              "      <td>425.260010</td>\n",
              "    </tr>\n",
              "  </tbody>\n",
              "</table>\n",
              "<p>2736 rows × 2 columns</p>\n",
              "</div>"
            ],
            "text/plain": [
              "                  open       close\n",
              "Date                              \n",
              "2010-08-02  111.989998  112.760002\n",
              "2010-08-03  112.480003  112.220001\n",
              "2010-08-04  112.529999  112.970001\n",
              "2010-08-05  112.250000  112.849998\n",
              "2010-08-06  111.739998  112.389999\n",
              "...                ...         ...\n",
              "2021-06-08  423.109985  422.279999\n",
              "2021-06-09  423.179993  421.649994\n",
              "2021-06-10  422.959991  423.609985\n",
              "2021-06-11  424.200012  424.309998\n",
              "2021-06-14  424.429993  425.260010\n",
              "\n",
              "[2736 rows x 2 columns]"
            ]
          },
          "metadata": {
            "tags": []
          },
          "execution_count": 27
        }
      ]
    },
    {
      "cell_type": "code",
      "metadata": {
        "colab": {
          "base_uri": "https://localhost:8080/"
        },
        "id": "CrzIym_6TAte",
        "outputId": "6f9331e5-4e2a-476b-e175-46c04c741be8"
      },
      "source": [
        "#calculate log returns\n",
        "spy_log_return = np.log(spy_total.close).diff().dropna()\n",
        "print('Population mean:', np.mean(spy_log_return))\n",
        "#[out]: Population mean: 0.000443353825615\n",
        "print('Population standard deviation:',np.std(spy_log_return))\n",
        "#[out]: Population standard deviation: 0.00784267293815\n",
        "\n"
      ],
      "execution_count": 28,
      "outputs": [
        {
          "output_type": "stream",
          "text": [
            "Population mean: 0.00048535249884885\n",
            "Population standard deviation: 0.01075169962667365\n"
          ],
          "name": "stdout"
        }
      ]
    },
    {
      "cell_type": "code",
      "metadata": {
        "id": "ZWaKqqHHZvj-",
        "outputId": "3137d141-d529-4ed9-eded-14d18e85ed32",
        "colab": {
          "base_uri": "https://localhost:8080/",
          "height": 286
        }
      },
      "source": [
        "# 原作者只用到 上面 Dataframe 的 'close' 這個欄 (column)\n",
        "X= spy_total.close \n",
        "# 或者\n",
        "X= spy_total['close']\n",
        "X\n",
        "X.plot(grid=True)\n",
        "\n"
      ],
      "execution_count": 31,
      "outputs": [
        {
          "output_type": "execute_result",
          "data": {
            "text/plain": [
              "<matplotlib.axes._subplots.AxesSubplot at 0x7feef40298d0>"
            ]
          },
          "metadata": {
            "tags": []
          },
          "execution_count": 31
        },
        {
          "output_type": "display_data",
          "data": {
            "image/png": "[encoded data removed]",
            "text/plain": [
              "<Figure size 432x288 with 1 Axes>"
            ]
          },
          "metadata": {
            "tags": [],
            "needs_background": "light"
          }
        }
      ]
    },
    {
      "cell_type": "code",
      "metadata": {
        "colab": {
          "base_uri": "https://localhost:8080/"
        },
        "id": "Ztp46UNnR8Yy",
        "outputId": "113b3162-22ce-4afe-a7e5-d9a5baafc41a"
      },
      "source": [
        "print('10 days sample returns:', np.mean(spy_log_return.tail(10)))\n",
        "#[out]: 10 days sample returns: 0.000845189915474\n",
        "print('10 days sample standard deviation:', np.std(spy_log_return.tail(10)))\n",
        "#[out]: 10 days sample standard deviation: 0.00313558001122\n",
        "print('1000 days sample returns:', np.mean(spy_log_return.tail(1000)))\n",
        "#[out]: 1000 days sample returns: 0.000462827047221\n",
        "print('1000 days sample standard deviation:', np.std(spy_log_return.tail(1000)))\n",
        "#[out]: 1000 days sample standard deviation: 0.00766589174299"
      ],
      "execution_count": 15,
      "outputs": [
        {
          "output_type": "stream",
          "text": [
            "10 days sample returns: 0.0012350804361541457\n",
            "10 days sample standard deviation: 0.003422828669076326\n",
            "1000 days sample returns: 0.0005602979943605533\n",
            "1000 days sample standard deviation: 0.013036113231790701\n"
          ],
          "name": "stdout"
        }
      ]
    },
    {
      "cell_type": "code",
      "metadata": {
        "colab": {
          "base_uri": "https://localhost:8080/"
        },
        "id": "KGhfvW32UFMT",
        "outputId": "4f3277ee-57db-48b9-e137-31c52dc446e8"
      },
      "source": [
        "#apply the formula above to calculate confidence interval\n",
        "bottom_1 = np.mean(spy_log_return.tail(10))-1.96*np.std(spy_log_return.tail(10))/(np.sqrt(len((spy_log_return.tail(10)))))\n",
        "upper_1 = np.mean(spy_log_return.tail(10))+1.96*np.std(spy_log_return.tail(10))/(np.sqrt(len((spy_log_return.tail(10)))))\n",
        "bottom_2 = np.mean(spy_log_return.tail(1000))-1.96*np.std(spy_log_return.tail(1000))/(np.sqrt(len((spy_log_return.tail(1000)))))\n",
        "upper_2 = np.mean(spy_log_return.tail(1000))+1.96*np.std(spy_log_return.tail(1000))/(np.sqrt(len((spy_log_return.tail(1000)))))\n",
        "#print the outcomes\n",
        "print('10 days 95% confidence inverval:', (bottom_1,upper_1))\n",
        "#[out]: 10 days 95% confidence inverval: (-0.0010982627102681939, 0.002788642541217079)\n",
        "print('1000 days 95% confidence inverval:', (bottom_2,upper_2))\n",
        "#[out]: 1000 days 95% confidence inverval: (-1.230984558013321e-05, 0.00093796394002165957)\n"
      ],
      "execution_count": 16,
      "outputs": [
        {
          "output_type": "stream",
          "text": [
            "10 days 95% confidence inverval: (-0.0008864107522674248, 0.0033565716245757163)\n",
            "1000 days 95% confidence inverval: (-0.00024768867474646284, 0.0013682846634675695)\n"
          ],
          "name": "stdout"
        }
      ]
    },
    {
      "cell_type": "code",
      "metadata": {
        "colab": {
          "base_uri": "https://localhost:8080/",
          "height": 137
        },
        "id": "jPoGEp3yUQrr",
        "outputId": "071a704b-9486-4d39-e615-6e697c6f08d7"
      },
      "source": [
        "mean_1000 = np.mean(spy_log_return.tail(1000))\n",
        "std_1000 = np.std(spy_log_return.tail(1000))\n",
        "mean_10 = np.mean(spy_log_return.tail(10))\n",
        "std_10 = np.std(spy_log_return.tail(10))\n",
        "s = pd.Series([mean_10,std_10,mean_1000,std_1000],index = ['mean_10', 'std_10','mean_1000','std_1000'])\n",
        "print(s)\n",
        "\n",
        "'''\n",
        "[out]: mean_10      0.000845\n",
        "       std_10       0.003136\n",
        "       mean_1000    0.000463\n",
        "       std_1000     0.007666\n",
        "'''\n"
      ],
      "execution_count": 17,
      "outputs": [
        {
          "output_type": "stream",
          "text": [
            "mean_10      0.001235\n",
            "std_10       0.003423\n",
            "mean_1000    0.000560\n",
            "std_1000     0.013036\n",
            "dtype: float64\n"
          ],
          "name": "stdout"
        },
        {
          "output_type": "execute_result",
          "data": {
            "application/vnd.google.colaboratory.intrinsic+json": {
              "type": "string"
            },
            "text/plain": [
              "'\\n[out]: mean_10      0.000845\\n       std_10       0.003136\\n       mean_1000    0.000463\\n       std_1000     0.007666\\n'"
            ]
          },
          "metadata": {
            "tags": []
          },
          "execution_count": 17
        }
      ]
    },
    {
      "cell_type": "code",
      "metadata": {
        "colab": {
          "base_uri": "https://localhost:8080/"
        },
        "id": "6R1sYvjTUZpC",
        "outputId": "5714577f-ac03-4612-9db4-4227131bfd47"
      },
      "source": [
        "bottom = 0 - 1.64*std_1000/np.sqrt(1000)\n",
        "upper = 0 + 1.64*std_1000/np.sqrt(1000)\n",
        "print((bottom, upper))\n",
        "\n",
        "#[out]: (-0.00039756352254768874, 0.00039756352254768874)\n"
      ],
      "execution_count": 18,
      "outputs": [
        {
          "output_type": "stream",
          "text": [
            "(-0.0006760704782324012, 0.0006760704782324012)\n"
          ],
          "name": "stdout"
        }
      ]
    },
    {
      "cell_type": "code",
      "metadata": {
        "colab": {
          "base_uri": "https://localhost:8080/"
        },
        "id": "z6GfE__BUgYC",
        "outputId": "a8470adb-4948-4bcf-927f-e396e6ed36b6"
      },
      "source": [
        "bottom = 0 - 1.96*std_1000/np.sqrt(1000)\n",
        "upper = 0 + 1.96*std_1000/np.sqrt(1000)\n",
        "print((bottom, upper))\n",
        "\n",
        "#[out]: (-0.00047513689280089639, 0.00047513689280089639)\n"
      ],
      "execution_count": 19,
      "outputs": [
        {
          "output_type": "stream",
          "text": [
            "(-0.0008079866691070161, 0.0008079866691070161)\n"
          ],
          "name": "stdout"
        }
      ]
    },
    {
      "cell_type": "code",
      "metadata": {
        "colab": {
          "base_uri": "https://localhost:8080/"
        },
        "id": "wmt7l-heUj26",
        "outputId": "85c7cb3d-e29f-48e9-9d73-55625210a906"
      },
      "source": [
        "print(np.sqrt(1000)*(mean_1000 - 0)/std_1000)\n",
        "\n",
        "#[out]: 1.90922032428\n"
      ],
      "execution_count": 20,
      "outputs": [
        {
          "output_type": "stream",
          "text": [
            "1.3591611234878334\n"
          ],
          "name": "stdout"
        }
      ]
    },
    {
      "cell_type": "code",
      "metadata": {
        "colab": {
          "base_uri": "https://localhost:8080/"
        },
        "id": "UwU_OsohUn_T",
        "outputId": "ac5bd825-f5ee-498f-bf5e-88649da399c0"
      },
      "source": [
        "import scipy.stats as st\n",
        "print((1 - st.norm.cdf(1.9488)))\n",
        "\n",
        "#[out]: 0.025659656888\n"
      ],
      "execution_count": 21,
      "outputs": [
        {
          "output_type": "stream",
          "text": [
            "0.02565965688799665\n"
          ],
          "name": "stdout"
        }
      ]
    },
    {
      "cell_type": "code",
      "metadata": {
        "colab": {
          "base_uri": "https://localhost:8080/"
        },
        "id": "sxEXlJecUrjy",
        "outputId": "ce3ec782-819b-4548-83cc-9a708d150c4f"
      },
      "source": [
        "mean_1200 = np.mean(spy_log_return.tail(1200))\n",
        "std_1200 = np.std(spy_log_return.tail(1200))\n",
        "z_score = np.sqrt(1200)*(mean_1200 - 0)/std_1200\n",
        "print('z-score = ',z_score)\n",
        "#[out]: z-score =  2.19793023185\n",
        "p_value = (1 - st.norm.cdf(z_score))\n",
        "print('p_value = ',p_value)\n",
        "#[out]: p_value =  0.0139770390655\n"
      ],
      "execution_count": 22,
      "outputs": [
        {
          "output_type": "stream",
          "text": [
            "z-score =  1.582371281814201\n",
            "p_value =  0.05678241835411302\n"
          ],
          "name": "stdout"
        }
      ]
    },
    {
      "cell_type": "code",
      "metadata": {
        "id": "O-He_PfJUx1q"
      },
      "source": [
        ""
      ],
      "execution_count": 22,
      "outputs": []
    },
    {
      "cell_type": "markdown",
      "metadata": {
        "id": "DczAn4zdU3PR"
      },
      "source": [
        "# Summary\n",
        "\n",
        "- In this chapter we introduced confidence interval, especially that for the normal distribution, and hypothesis test. Now we know how to test our idea rigorously. Normal distribution and it's confidence interval can be applied to many quantitative finance theories, we will see it frequently in our following tutorials.\n",
        "\n",
        "# Ref:\n",
        "- \n",
        "https://www.quantconnect.com/tutorials/introduction-to-financial-python/confidence-interval-and-hypothesis-testing#Confidence-Interval-and-Hypothesis-Testing-Introduction\n"
      ]
    },
    {
      "cell_type": "code",
      "metadata": {
        "id": "_IQs1OQ2XZ9h"
      },
      "source": [
        ""
      ],
      "execution_count": null,
      "outputs": []
    }
  ]
}