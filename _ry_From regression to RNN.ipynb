{
  "nbformat": 4,
  "nbformat_minor": 0,
  "metadata": {
    "kernelspec": {
      "display_name": "Python 3",
      "language": "python",
      "name": "python3"
    },
    "language_info": {
      "codemirror_mode": {
        "name": "ipython",
        "version": 3
      },
      "file_extension": ".py",
      "mimetype": "text/x-python",
      "name": "python",
      "nbconvert_exporter": "python",
      "pygments_lexer": "ipython3",
      "version": "3.8.2"
    },
    "colab": {
      "name": "From regression to RNN.ipynb",
      "provenance": [],
      "include_colab_link": true
    }
  },
  "cells": [
    {
      "cell_type": "markdown",
      "metadata": {
        "id": "view-in-github",
        "colab_type": "text"
      },
      "source": [
        "<a href=\"https://colab.research.google.com/github/renyuanL/110_project/blob/main/_ry_From%20regression%20to%20RNN.ipynb\" target=\"_parent\"><img src=\"https://colab.research.google.com/assets/colab-badge.svg\" alt=\"Open In Colab\"/></a>"
      ]
    },
    {
      "cell_type": "code",
      "metadata": {
        "id": "AZNzIQU1CjsY"
      },
      "source": [
        ""
      ],
      "execution_count": null,
      "outputs": []
    },
    {
      "cell_type": "markdown",
      "metadata": {
        "id": "lnGgdiQqoFgx"
      },
      "source": [
        "## From Regression to RNN\n",
        "\n",
        "Learning objectives:\n",
        "* [Objective 1] ARIMA\n",
        "* [Objective 2] RNN requires a 3-D tensor as input\n",
        "* [Objective 3] Stock data\n",
        "* [Objective 4] Create the training and test data for RNN/LSTM\n",
        "* [Objective 5] Run a simple RNN model\n",
        "* [Objective 6] RNN/LTSM requires normalized input data\n",
        "* [Objective 7] LSTM\n",
        "* [Objective 8] LSTM Regularization\n",
        "* [Objective 9] GRU\n",
        "* [Objective 10] GRU Regularization\n",
        "\n",
        "Note: Every run of the following code may vary.\n",
        "\n",
        "## Ref:\n",
        "- https://medium.com/swlh/a-technical-guide-on-rnn-lstm-gru-for-stock-price-prediction-bce2f7f30346\n",
        "\n",
        "- https://github.com/dataman-git/codes_for_articles/blob/master/From%20regression%20to%20RNN.ipynb\n"
      ]
    },
    {
      "cell_type": "code",
      "metadata": {
        "id": "KfVrYmC6oFgy"
      },
      "source": [
        "from statsmodels.graphics.tsaplots import plot_pacf, plot_acf\n",
        "from statsmodels.tsa.arima_process import ArmaProcess\n",
        "from statsmodels.tsa.stattools import pacf\n",
        "from statsmodels.regression.linear_model import yule_walker\n",
        "#from statsmodels.tsa.stattools import adfuller\n",
        "import matplotlib.pyplot as plt\n",
        "import numpy as np\n",
        "%matplotlib inline"
      ],
      "execution_count": 28,
      "outputs": []
    },
    {
      "cell_type": "markdown",
      "metadata": {
        "id": "yZ6V7DoNoFgz"
      },
      "source": [
        "### [Learning Objective 1] ARIMA()"
      ]
    },
    {
      "cell_type": "code",
      "metadata": {
        "id": "-SZvsQmooFgz"
      },
      "source": [
        "from statsmodels.graphics.tsaplots import plot_pacf, plot_acf\n",
        "\n",
        "from statsmodels.tsa.arima_process import ArmaProcess\n",
        "\n",
        "from statsmodels.tsa.stattools import pacf\n",
        "from statsmodels.regression.linear_model import yule_walker\n",
        "#from statsmodels.tsa.stattools import adfuller\n",
        "import matplotlib.pyplot as plt\n",
        "import numpy as np\n",
        "import pandas as pd\n",
        "\n",
        "%matplotlib inline\n",
        "\n",
        "# Generate the data\n",
        "import numpy as np\n",
        "\n",
        "np.random.seed(0)\n",
        "\n",
        "ar= np.array([1, -0.8, 0.2])\n",
        "ma= np.array([1])\n",
        "my_simulation= ArmaProcess(ar, ma).generate_sample(nsample=100)\n",
        "\n",
        "'''\n",
        "plt.figure(figsize=[10, 5]); # Set dimensions for figure\n",
        "plt.plot(my_simulation, linestyle='-', marker='o', color='b')\n",
        "plt.title(\"Simulated Process\")\n",
        "plt.show()\n",
        "'''\n",
        "my_simulation\n"
      ],
      "execution_count": null,
      "outputs": []
    },
    {
      "cell_type": "code",
      "metadata": {
        "id": "WPLv4hcs8iVu"
      },
      "source": [
        "ArmaProcess??"
      ],
      "execution_count": 63,
      "outputs": []
    },
    {
      "cell_type": "markdown",
      "metadata": {
        "id": "gOeiRnSS9CxE"
      },
      "source": [
        "The ARMA(p,q) process is described by\n",
        "\n",
        ".. math::\n",
        "\n",
        "$\n",
        "        y_{t}=\\phi_{1}y_{t-1}+\\ldots+\\phi_{p}y_{t-p}+\\theta_{1}\\epsilon_{t-1}\n",
        "               +\\ldots+\\theta_{q}\\epsilon_{t-q}+\\epsilon_{t}\n",
        "$\n",
        "\n",
        "and the parameterization used in this function uses the lag-polynomial\n",
        "    representation,\n",
        "\n",
        ".. math::\n",
        "\n",
        "$\n",
        "        \\left(1-\\phi_{1}L-\\ldots-\\phi_{p}L^{p}\\right)y_{t} =\n",
        "            \\left(1-\\theta_{1}L-\\ldots-\\theta_{q}L^{q}\\right)\n",
        "$\n",
        "\n",
        "### ry: 上面這式子(from官方文件)怪怪的，修改一下...\n",
        "\n",
        "$\n",
        "        \\left(1-\\phi_{1}L-\\ldots-\\phi_{p}L^{p}\\right)y_{t} =\n",
        "            \\left(1+\\theta_{1}L+\\ldots+\\theta_{q}L^{q}\\right)\\epsilon_{t}\n",
        "$"
      ]
    },
    {
      "cell_type": "code",
      "metadata": {
        "id": "-nCuM4sn5Wpt",
        "outputId": "743efbae-2c71-4310-9061-0e170c74598d",
        "colab": {
          "base_uri": "https://localhost:8080/",
          "height": 428
        }
      },
      "source": [
        "x= pd.Series(my_simulation)\n",
        "x.describe(), x.plot(grid=True)"
      ],
      "execution_count": 66,
      "outputs": [
        {
          "output_type": "execute_result",
          "data": {
            "text/plain": [
              "(count    100.000000\n",
              " mean       0.138111\n",
              " std        1.510065\n",
              " min       -3.368351\n",
              " 25%       -1.138510\n",
              " 50%        0.075776\n",
              " 75%        1.356861\n",
              " max        4.283469\n",
              " dtype: float64, <matplotlib.axes._subplots.AxesSubplot at 0x7fa25237b310>)"
            ]
          },
          "metadata": {
            "tags": []
          },
          "execution_count": 66
        },
        {
          "output_type": "display_data",
          "data": {
            "image/png": "[encoded data removed]",
            "text/plain": [
              "<Figure size 432x288 with 1 Axes>"
            ]
          },
          "metadata": {
            "tags": [],
            "needs_background": "light"
          }
        }
      ]
    },
    {
      "cell_type": "code",
      "metadata": {
        "id": "Q7hriPRfoFg0",
        "colab": {
          "base_uri": "https://localhost:8080/",
          "height": 545
        },
        "outputId": "52201325-9c76-4cf5-d099-61cbf7fc6e21"
      },
      "source": [
        "from matplotlib import pyplot\n",
        "from pandas.plotting import autocorrelation_plot\n",
        "plot_acf(my_simulation)"
      ],
      "execution_count": 67,
      "outputs": [
        {
          "output_type": "execute_result",
          "data": {
            "image/png": "[encoded data removed]",
            "text/plain": [
              "<Figure size 432x288 with 1 Axes>"
            ]
          },
          "metadata": {
            "tags": []
          },
          "execution_count": 67
        },
        {
          "output_type": "display_data",
          "data": {
            "image/png": "[encoded data removed]",
            "text/plain": [
              "<Figure size 432x288 with 1 Axes>"
            ]
          },
          "metadata": {
            "tags": [],
            "needs_background": "light"
          }
        }
      ]
    },
    {
      "cell_type": "code",
      "metadata": {
        "id": "G3Osje2IoFg1",
        "colab": {
          "base_uri": "https://localhost:8080/",
          "height": 545
        },
        "outputId": "47bcfdba-1feb-41ba-b6e7-18cd009066a0"
      },
      "source": [
        "plot_pacf(my_simulation)"
      ],
      "execution_count": 68,
      "outputs": [
        {
          "output_type": "execute_result",
          "data": {
            "image/png": "[encoded data removed]",
            "text/plain": [
              "<Figure size 432x288 with 1 Axes>"
            ]
          },
          "metadata": {
            "tags": []
          },
          "execution_count": 68
        },
        {
          "output_type": "display_data",
          "data": {
            "image/png": "[encoded data removed]",
            "text/plain": [
              "<Figure size 432x288 with 1 Axes>"
            ]
          },
          "metadata": {
            "tags": [],
            "needs_background": "light"
          }
        }
      ]
    },
    {
      "cell_type": "code",
      "metadata": {
        "id": "dYYn46FNoFg1"
      },
      "source": [
        "import warnings\n",
        "import statsmodels.api as sm\n",
        "from  statsmodels.tsa.arima_model import ARMA\n",
        "\n",
        "#mod = sm.tsa.arima.ARIMA(my_simulation, order=(2, 0, 0))\n",
        "\n",
        "mod=   sm.tsa.ARIMA(my_simulation, order=(2, 0, 0))\n",
        "#sm.tsa.ARIMA??\n"
      ],
      "execution_count": 79,
      "outputs": []
    },
    {
      "cell_type": "code",
      "metadata": {
        "id": "veYvB0EMBFgc",
        "outputId": "5e041cc8-160f-4158-c3d4-92b00f567fde",
        "colab": {
          "base_uri": "https://localhost:8080/",
          "height": 335
        }
      },
      "source": [
        "\n",
        "mod_fit= mod.fit()\n",
        "\n",
        "mod_fit.summary()\n"
      ],
      "execution_count": 80,
      "outputs": [
        {
          "output_type": "execute_result",
          "data": {
            "text/html": [
              "<table class=\"simpletable\">\n",
              "<caption>ARMA Model Results</caption>\n",
              "<tr>\n",
              "  <th>Dep. Variable:</th>         <td>y</td>        <th>  No. Observations:  </th>    <td>100</td>  \n",
              "</tr>\n",
              "<tr>\n",
              "  <th>Model:</th>            <td>ARMA(2, 0)</td>    <th>  Log Likelihood     </th> <td>-141.440</td>\n",
              "</tr>\n",
              "<tr>\n",
              "  <th>Method:</th>             <td>css-mle</td>     <th>  S.D. of innovations</th>   <td>0.991</td> \n",
              "</tr>\n",
              "<tr>\n",
              "  <th>Date:</th>          <td>Sun, 13 Jun 2021</td> <th>  AIC                </th>  <td>290.880</td>\n",
              "</tr>\n",
              "<tr>\n",
              "  <th>Time:</th>              <td>01:42:16</td>     <th>  BIC                </th>  <td>301.301</td>\n",
              "</tr>\n",
              "<tr>\n",
              "  <th>Sample:</th>                <td>0</td>        <th>  HQIC               </th>  <td>295.098</td>\n",
              "</tr>\n",
              "<tr>\n",
              "  <th></th>                       <td> </td>        <th>                     </th>     <td> </td>   \n",
              "</tr>\n",
              "</table>\n",
              "<table class=\"simpletable\">\n",
              "<tr>\n",
              "     <td></td>        <th>coef</th>     <th>std err</th>      <th>z</th>      <th>P>|z|</th>  <th>[0.025</th>    <th>0.975]</th>  \n",
              "</tr>\n",
              "<tr>\n",
              "  <th>const</th>   <td>    0.1824</td> <td>    0.321</td> <td>    0.569</td> <td> 0.571</td> <td>   -0.446</td> <td>    0.811</td>\n",
              "</tr>\n",
              "<tr>\n",
              "  <th>ar.L1.y</th> <td>    0.8699</td> <td>    0.098</td> <td>    8.895</td> <td> 0.000</td> <td>    0.678</td> <td>    1.062</td>\n",
              "</tr>\n",
              "<tr>\n",
              "  <th>ar.L2.y</th> <td>   -0.1745</td> <td>    0.099</td> <td>   -1.768</td> <td> 0.080</td> <td>   -0.368</td> <td>    0.019</td>\n",
              "</tr>\n",
              "</table>\n",
              "<table class=\"simpletable\">\n",
              "<caption>Roots</caption>\n",
              "<tr>\n",
              "    <td></td>   <th>            Real</th>  <th>         Imaginary</th> <th>         Modulus</th>  <th>        Frequency</th>\n",
              "</tr>\n",
              "<tr>\n",
              "  <th>AR.1</th> <td>           1.7972</td> <td>          +0.0000j</td> <td>           1.7972</td> <td>           0.0000</td>\n",
              "</tr>\n",
              "<tr>\n",
              "  <th>AR.2</th> <td>           3.1896</td> <td>          +0.0000j</td> <td>           3.1896</td> <td>           0.0000</td>\n",
              "</tr>\n",
              "</table>"
            ],
            "text/plain": [
              "<class 'statsmodels.iolib.summary.Summary'>\n",
              "\"\"\"\n",
              "                              ARMA Model Results                              \n",
              "==============================================================================\n",
              "Dep. Variable:                      y   No. Observations:                  100\n",
              "Model:                     ARMA(2, 0)   Log Likelihood                -141.440\n",
              "Method:                       css-mle   S.D. of innovations              0.991\n",
              "Date:                Sun, 13 Jun 2021   AIC                            290.880\n",
              "Time:                        01:42:16   BIC                            301.301\n",
              "Sample:                             0   HQIC                           295.098\n",
              "                                                                              \n",
              "==============================================================================\n",
              "                 coef    std err          z      P>|z|      [0.025      0.975]\n",
              "------------------------------------------------------------------------------\n",
              "const          0.1824      0.321      0.569      0.571      -0.446       0.811\n",
              "ar.L1.y        0.8699      0.098      8.895      0.000       0.678       1.062\n",
              "ar.L2.y       -0.1745      0.099     -1.768      0.080      -0.368       0.019\n",
              "                                    Roots                                    \n",
              "=============================================================================\n",
              "                  Real          Imaginary           Modulus         Frequency\n",
              "-----------------------------------------------------------------------------\n",
              "AR.1            1.7972           +0.0000j            1.7972            0.0000\n",
              "AR.2            3.1896           +0.0000j            3.1896            0.0000\n",
              "-----------------------------------------------------------------------------\n",
              "\"\"\""
            ]
          },
          "metadata": {
            "tags": []
          },
          "execution_count": 80
        }
      ]
    },
    {
      "cell_type": "code",
      "metadata": {
        "id": "qIk6sJSJCo1i",
        "outputId": "baa4b7b9-28be-4b9a-9252-da3e29d2dac7",
        "colab": {
          "base_uri": "https://localhost:8080/",
          "height": 360
        }
      },
      "source": [
        "mod_fit.summary2()"
      ],
      "execution_count": 83,
      "outputs": [
        {
          "output_type": "execute_result",
          "data": {
            "text/html": [
              "<table class=\"simpletable\">\n",
              "<tr>\n",
              "        <td>Model:</td>              <td>ARMA</td>               <td>BIC:</td>         <td>301.3011</td>\n",
              "</tr>\n",
              "<tr>\n",
              "  <td>Dependent Variable:</td>         <td>y</td>           <td>Log-Likelihood:</td>    <td>-141.44</td>\n",
              "</tr>\n",
              "<tr>\n",
              "         <td>Date:</td>        <td>2021-06-13 01:48</td>        <td>Scale:</td>         <td>1.0000</td> \n",
              "</tr>\n",
              "<tr>\n",
              "   <td>No. Observations:</td>         <td>100</td>              <td>Method:</td>        <td>css-mle</td>\n",
              "</tr>\n",
              "<tr>\n",
              "       <td>Df Model:</td>              <td>3</td>               <td>Sample:</td>           <td>0</td>   \n",
              "</tr>\n",
              "<tr>\n",
              "     <td>Df Residuals:</td>           <td>97</td>                  <td></td>               <td>0</td>   \n",
              "</tr>\n",
              "<tr>\n",
              "      <td>Converged:</td>           <td>1.0000</td>      <td>S.D. of innovations:</td>   <td>0.991</td> \n",
              "</tr>\n",
              "<tr>\n",
              "    <td>No. Iterations:</td>        <td>6.0000</td>              <td>HQIC:</td>         <td>295.098</td>\n",
              "</tr>\n",
              "<tr>\n",
              "         <td>AIC:</td>             <td>290.8804</td>               <td></td>               <td></td>    \n",
              "</tr>\n",
              "</table>\n",
              "<table class=\"simpletable\">\n",
              "<tr>\n",
              "     <td></td>      <th>Coef.</th>  <th>Std.Err.</th>    <th>t</th>     <th>P>|t|</th> <th>[0.025</th>  <th>0.975]</th>\n",
              "</tr>\n",
              "<tr>\n",
              "  <th>const</th>   <td>0.1824</td>   <td>0.3208</td>  <td>0.5685</td>  <td>0.5710</td> <td>-0.4464</td> <td>0.8112</td>\n",
              "</tr>\n",
              "<tr>\n",
              "  <th>ar.L1.y</th> <td>0.8699</td>   <td>0.0978</td>  <td>8.8953</td>  <td>0.0000</td> <td>0.6783</td>  <td>1.0616</td>\n",
              "</tr>\n",
              "<tr>\n",
              "  <th>ar.L2.y</th> <td>-0.1745</td>  <td>0.0987</td>  <td>-1.7675</td> <td>0.0803</td> <td>-0.3679</td> <td>0.0190</td>\n",
              "</tr>\n",
              "</table>\n",
              "<table class=\"simpletable\">\n",
              "<tr>\n",
              "    <td></td>    <th>Real</th>  <th>Imaginary</th> <th>Modulus</th> <th>Frequency</th>\n",
              "</tr>\n",
              "<tr>\n",
              "  <th>AR.1</th> <td>1.7972</td>  <td>0.0000</td>   <td>1.7972</td>   <td>0.0000</td>  \n",
              "</tr>\n",
              "<tr>\n",
              "  <th>AR.2</th> <td>3.1896</td>  <td>0.0000</td>   <td>3.1896</td>   <td>0.0000</td>  \n",
              "</tr>\n",
              "</table>"
            ],
            "text/plain": [
              "<class 'statsmodels.iolib.summary2.Summary'>\n",
              "\"\"\"\n",
              "                          Results: ARMA\n",
              "==================================================================\n",
              "Model:              ARMA             BIC:                 301.3011\n",
              "Dependent Variable: y                Log-Likelihood:      -141.44 \n",
              "Date:               2021-06-13 01:48 Scale:               1.0000  \n",
              "No. Observations:   100              Method:              css-mle \n",
              "Df Model:           3                Sample:              0       \n",
              "Df Residuals:       97                                    0       \n",
              "Converged:          1.0000           S.D. of innovations: 0.991   \n",
              "No. Iterations:     6.0000           HQIC:                295.098 \n",
              "AIC:                290.8804                                      \n",
              "--------------------------------------------------------------------\n",
              "             Coef.    Std.Err.      t      P>|t|     [0.025   0.975]\n",
              "--------------------------------------------------------------------\n",
              "const        0.1824     0.3208    0.5685   0.5710   -0.4464   0.8112\n",
              "ar.L1.y      0.8699     0.0978    8.8953   0.0000    0.6783   1.0616\n",
              "ar.L2.y     -0.1745     0.0987   -1.7675   0.0803   -0.3679   0.0190\n",
              "---------------------------------------------------------------------------\n",
              "               Real           Imaginary          Modulus          Frequency\n",
              "---------------------------------------------------------------------------\n",
              "AR.1          1.7972             0.0000           1.7972             0.0000\n",
              "AR.2          3.1896             0.0000           3.1896             0.0000\n",
              "==================================================================\n",
              "\n",
              "\"\"\""
            ]
          },
          "metadata": {
            "tags": []
          },
          "execution_count": 83
        }
      ]
    },
    {
      "cell_type": "markdown",
      "metadata": {
        "id": "gS9TCybboFg1"
      },
      "source": [
        "### [Learning Objective 2] RNN requires a 3-D tensor as input\n",
        "* Tensor: One tensor is a vector that enters the model\n",
        "* Time Step: One time step is one observation in the tensor.\n",
        "* Feature: One feature is one observation at a time step."
      ]
    },
    {
      "cell_type": "code",
      "metadata": {
        "id": "ZXPI3YWSoFg2",
        "colab": {
          "base_uri": "https://localhost:8080/"
        },
        "outputId": "a750db3e-056d-4ab2-8271-dd39c399fa7d"
      },
      "source": [
        "np.random.seed(0)\n",
        "\n",
        "array = np.random.random(20) #.astype(np.float32\n",
        "array.reshape((1,20,1))\n",
        "array"
      ],
      "execution_count": 91,
      "outputs": [
        {
          "output_type": "execute_result",
          "data": {
            "text/plain": [
              "array([0.5488135 , 0.71518937, 0.60276338, 0.54488318, 0.4236548 ,\n",
              "       0.64589411, 0.43758721, 0.891773  , 0.96366276, 0.38344152,\n",
              "       0.79172504, 0.52889492, 0.56804456, 0.92559664, 0.07103606,\n",
              "       0.0871293 , 0.0202184 , 0.83261985, 0.77815675, 0.87001215])"
            ]
          },
          "metadata": {
            "tags": []
          },
          "execution_count": 91
        }
      ]
    },
    {
      "cell_type": "code",
      "metadata": {
        "id": "YyWDXACyoFg2",
        "colab": {
          "base_uri": "https://localhost:8080/",
          "height": 321
        },
        "outputId": "06c6802e-512d-4a79-9cc4-663e804f35ff"
      },
      "source": [
        "plt.figure(figsize=[10, 5]); # Set dimensions for figure\n",
        "plt.plot(array, linestyle='-', marker='o', color='b')\n",
        "plt.grid(True)\n",
        "plt.show()"
      ],
      "execution_count": 93,
      "outputs": [
        {
          "output_type": "display_data",
          "data": {
            "image/png": "[encoded data removed]",
            "text/plain": [
              "<Figure size 720x360 with 1 Axes>"
            ]
          },
          "metadata": {
            "tags": [],
            "needs_background": "light"
          }
        }
      ]
    },
    {
      "cell_type": "code",
      "metadata": {
        "id": "6SwjDEdroFg2",
        "colab": {
          "base_uri": "https://localhost:8080/"
        },
        "outputId": "420bc781-0666-4fff-dffd-e015e2afd2e7"
      },
      "source": [
        "array.reshape((4,5,1))"
      ],
      "execution_count": 36,
      "outputs": [
        {
          "output_type": "execute_result",
          "data": {
            "text/plain": [
              "array([[[0.48216153],\n",
              "        [0.64394996],\n",
              "        [0.36993374],\n",
              "        [0.49393276],\n",
              "        [0.2709401 ]],\n",
              "\n",
              "       [[0.8216722 ],\n",
              "        [0.5169487 ],\n",
              "        [0.60975072],\n",
              "        [0.12805636],\n",
              "        [0.49322599]],\n",
              "\n",
              "       [[0.08707937],\n",
              "        [0.27558187],\n",
              "        [0.47889729],\n",
              "        [0.7145938 ],\n",
              "        [0.37433898]],\n",
              "\n",
              "       [[0.05487956],\n",
              "        [0.63617233],\n",
              "        [0.55681666],\n",
              "        [0.25431445],\n",
              "        [0.92858191]]])"
            ]
          },
          "metadata": {
            "tags": []
          },
          "execution_count": 36
        }
      ]
    },
    {
      "cell_type": "code",
      "metadata": {
        "id": "wZ8uop8JoFg2",
        "colab": {
          "base_uri": "https://localhost:8080/"
        },
        "outputId": "da4b5ad9-3511-4040-d8aa-858974a33878"
      },
      "source": [
        "array.reshape((2,5,2))"
      ],
      "execution_count": 37,
      "outputs": [
        {
          "output_type": "execute_result",
          "data": {
            "text/plain": [
              "array([[[0.48216153, 0.64394996],\n",
              "        [0.36993374, 0.49393276],\n",
              "        [0.2709401 , 0.8216722 ],\n",
              "        [0.5169487 , 0.60975072],\n",
              "        [0.12805636, 0.49322599]],\n",
              "\n",
              "       [[0.08707937, 0.27558187],\n",
              "        [0.47889729, 0.7145938 ],\n",
              "        [0.37433898, 0.05487956],\n",
              "        [0.63617233, 0.55681666],\n",
              "        [0.25431445, 0.92858191]]])"
            ]
          },
          "metadata": {
            "tags": []
          },
          "execution_count": 37
        }
      ]
    },
    {
      "cell_type": "code",
      "metadata": {
        "id": "74JJls1KoFg3",
        "colab": {
          "base_uri": "https://localhost:8080/"
        },
        "outputId": "698d9f2d-e98d-44fe-a77f-f8940111b80d"
      },
      "source": [
        "np.random.seed(0)\n",
        "\n",
        "# Example 1\n",
        "array= np.random.random(20) #.astype(np.float32\n",
        "x1=   array.reshape((1,20,1))\n",
        "x1"
      ],
      "execution_count": 105,
      "outputs": [
        {
          "output_type": "execute_result",
          "data": {
            "text/plain": [
              "array([[[0.5488135 ],\n",
              "        [0.71518937],\n",
              "        [0.60276338],\n",
              "        [0.54488318],\n",
              "        [0.4236548 ],\n",
              "        [0.64589411],\n",
              "        [0.43758721],\n",
              "        [0.891773  ],\n",
              "        [0.96366276],\n",
              "        [0.38344152],\n",
              "        [0.79172504],\n",
              "        [0.52889492],\n",
              "        [0.56804456],\n",
              "        [0.92559664],\n",
              "        [0.07103606],\n",
              "        [0.0871293 ],\n",
              "        [0.0202184 ],\n",
              "        [0.83261985],\n",
              "        [0.77815675],\n",
              "        [0.87001215]]])"
            ]
          },
          "metadata": {
            "tags": []
          },
          "execution_count": 105
        }
      ]
    },
    {
      "cell_type": "code",
      "metadata": {
        "id": "T8FYKzqnFMYU",
        "outputId": "a50be6cc-0791-42a8-c075-fc77e0199cf0",
        "colab": {
          "base_uri": "https://localhost:8080/"
        }
      },
      "source": [
        "\n",
        "# Example 2\n",
        "x2= array.reshape((4,5,1))\n",
        "x2"
      ],
      "execution_count": 106,
      "outputs": [
        {
          "output_type": "execute_result",
          "data": {
            "text/plain": [
              "array([[[0.5488135 ],\n",
              "        [0.71518937],\n",
              "        [0.60276338],\n",
              "        [0.54488318],\n",
              "        [0.4236548 ]],\n",
              "\n",
              "       [[0.64589411],\n",
              "        [0.43758721],\n",
              "        [0.891773  ],\n",
              "        [0.96366276],\n",
              "        [0.38344152]],\n",
              "\n",
              "       [[0.79172504],\n",
              "        [0.52889492],\n",
              "        [0.56804456],\n",
              "        [0.92559664],\n",
              "        [0.07103606]],\n",
              "\n",
              "       [[0.0871293 ],\n",
              "        [0.0202184 ],\n",
              "        [0.83261985],\n",
              "        [0.77815675],\n",
              "        [0.87001215]]])"
            ]
          },
          "metadata": {
            "tags": []
          },
          "execution_count": 106
        }
      ]
    },
    {
      "cell_type": "code",
      "metadata": {
        "id": "cf598s4RFNNx",
        "outputId": "6e6d612d-c1ce-40c5-8cd0-6ff61ea27cda",
        "colab": {
          "base_uri": "https://localhost:8080/"
        }
      },
      "source": [
        "\n",
        "# Example 3\n",
        "x3= array.reshape((2,5,2))\n",
        "x3"
      ],
      "execution_count": 107,
      "outputs": [
        {
          "output_type": "execute_result",
          "data": {
            "text/plain": [
              "array([[[0.5488135 , 0.71518937],\n",
              "        [0.60276338, 0.54488318],\n",
              "        [0.4236548 , 0.64589411],\n",
              "        [0.43758721, 0.891773  ],\n",
              "        [0.96366276, 0.38344152]],\n",
              "\n",
              "       [[0.79172504, 0.52889492],\n",
              "        [0.56804456, 0.92559664],\n",
              "        [0.07103606, 0.0871293 ],\n",
              "        [0.0202184 , 0.83261985],\n",
              "        [0.77815675, 0.87001215]]])"
            ]
          },
          "metadata": {
            "tags": []
          },
          "execution_count": 107
        }
      ]
    },
    {
      "cell_type": "markdown",
      "metadata": {
        "id": "15PsKIWToFg3"
      },
      "source": [
        "* use numpy to store and manipulate image data. \n",
        "* We will use the Python Imaging library (PIL) to read and write data to standard file formats.\n",
        "* 4 lines of pixels, each line of pixels contains 5 pixels, and each pixel contains 3 bytes (red, green, blue)\n",
        "* The shape of the array is: height x width x 3."
      ]
    },
    {
      "cell_type": "code",
      "metadata": {
        "id": "464fyrRyGnUQ"
      },
      "source": [
        "#np.random.randint?"
      ],
      "execution_count": 111,
      "outputs": []
    },
    {
      "cell_type": "code",
      "metadata": {
        "id": "r2904p_4oFg3",
        "colab": {
          "base_uri": "https://localhost:8080/"
        },
        "outputId": "e440b563-2841-4521-adb8-fb40f2cf0944"
      },
      "source": [
        "np.random.seed(0)\n",
        "\n",
        "# IF it is image data:\n",
        "# Create an RGB image that is 3 dimensional arrays of 8-bit unsigned integers.\n",
        "width= 5\n",
        "height= 4\n",
        "RGB= 3\n",
        "p= width * height * RGB\n",
        "img_data= np.random.randint(low=100, high=256, size=p, dtype= np.uint8) # Generate values in (100,255)\n",
        "img_data= img_data.reshape((height, width, RGB))\n",
        "img_data"
      ],
      "execution_count": 130,
      "outputs": [
        {
          "output_type": "execute_result",
          "data": {
            "text/plain": [
              "array([[[110, 227, 240],\n",
              "        [147, 251, 217],\n",
              "        [122, 133, 167],\n",
              "        [178, 254, 182],\n",
              "        [218, 225, 239]],\n",
              "\n",
              "       [[203, 225, 109],\n",
              "        [216, 208, 121],\n",
              "        [181, 189, 202],\n",
              "        [198, 136, 105],\n",
              "        [212, 187, 158]],\n",
              "\n",
              "       [[143, 176, 170],\n",
              "        [160, 175, 232],\n",
              "        [114, 188, 254],\n",
              "        [240, 169, 158],\n",
              "        [157, 141, 198]],\n",
              "\n",
              "       [[166, 172, 222],\n",
              "        [225, 139, 174],\n",
              "        [187, 201, 235],\n",
              "        [222, 188, 194],\n",
              "        [207, 245, 181]]], dtype=uint8)"
            ]
          },
          "metadata": {
            "tags": []
          },
          "execution_count": 130
        }
      ]
    },
    {
      "cell_type": "code",
      "metadata": {
        "id": "KzE9a7TsoFg3"
      },
      "source": [
        "from PIL import Image\n",
        "img= Image.fromarray(img_data)\n",
        "img.show()\n"
      ],
      "execution_count": 137,
      "outputs": []
    },
    {
      "cell_type": "code",
      "metadata": {
        "id": "V1-7fWRvInNY"
      },
      "source": [
        "# for google colab use cv2_imshow instead\n",
        "# change x, y, h ,w to the values you are happy with\n",
        "#import cv2_imshow\n",
        "#img = cv2.imread(\"lenna.png\")\n",
        "#crop_img = img[y:y+h, x:x+w]\n",
        "#cv2_imshow(img)\n",
        "#cv2.waitKey(0)\n",
        "\n",
        "#import cv2 as cv \n",
        "#from google.colab.patches import cv2_imshow # for image display\n",
        "#from PIL import Image\n",
        "#cv2_imshow(img)\n",
        "\n"
      ],
      "execution_count": 140,
      "outputs": []
    },
    {
      "cell_type": "markdown",
      "metadata": {
        "id": "TtO9QvQ1oFg4"
      },
      "source": [
        "### [Learning Objective 3] Stock data"
      ]
    },
    {
      "cell_type": "code",
      "metadata": {
        "id": "RRo_KlCKo9bp"
      },
      "source": [
        "try:\n",
        "  import yfinance as yf\n",
        "except:\n",
        "  !pip install yfinance\n",
        "\n",
        "try:\n",
        "  from yahoofinancials import YahooFinancials\n",
        "except:\n",
        "  !pip install yahoofinancials\n",
        "  "
      ],
      "execution_count": 141,
      "outputs": []
    },
    {
      "cell_type": "code",
      "metadata": {
        "id": "ru5t5jyOoFg4",
        "colab": {
          "base_uri": "https://localhost:8080/",
          "height": 447
        },
        "outputId": "e852479d-da4c-4493-9d5d-dc45f3f4c485"
      },
      "source": [
        "import pandas as pd\n",
        "import yfinance as yf\n",
        "from yahoofinancials import YahooFinancials\n",
        "AMZN= yf.download( '^gspc', #'AMZN', \n",
        "          start= '1991-01-01',#'2013-01-01', \n",
        "          end=  '2021-01-01',#'2019-12-31', \n",
        "          progress=False)\n",
        "# AMZN = yf.download('AMZN') for all \n",
        "all_data= AMZN[['Adj Close',\n",
        "        'Open', \n",
        "        'High', \n",
        "        'Low', \n",
        "        'Close', \n",
        "        'Volume']].round(2)\n",
        "all_data\n"
      ],
      "execution_count": 145,
      "outputs": [
        {
          "output_type": "execute_result",
          "data": {
            "text/html": [
              "<div>\n",
              "<style scoped>\n",
              "    .dataframe tbody tr th:only-of-type {\n",
              "        vertical-align: middle;\n",
              "    }\n",
              "\n",
              "    .dataframe tbody tr th {\n",
              "        vertical-align: top;\n",
              "    }\n",
              "\n",
              "    .dataframe thead th {\n",
              "        text-align: right;\n",
              "    }\n",
              "</style>\n",
              "<table border=\"1\" class=\"dataframe\">\n",
              "  <thead>\n",
              "    <tr style=\"text-align: right;\">\n",
              "      <th></th>\n",
              "      <th>Adj Close</th>\n",
              "      <th>Open</th>\n",
              "      <th>High</th>\n",
              "      <th>Low</th>\n",
              "      <th>Close</th>\n",
              "      <th>Volume</th>\n",
              "    </tr>\n",
              "    <tr>\n",
              "      <th>Date</th>\n",
              "      <th></th>\n",
              "      <th></th>\n",
              "      <th></th>\n",
              "      <th></th>\n",
              "      <th></th>\n",
              "      <th></th>\n",
              "    </tr>\n",
              "  </thead>\n",
              "  <tbody>\n",
              "    <tr>\n",
              "      <th>1991-01-02</th>\n",
              "      <td>326.45</td>\n",
              "      <td>330.20</td>\n",
              "      <td>330.75</td>\n",
              "      <td>326.45</td>\n",
              "      <td>326.45</td>\n",
              "      <td>126280000</td>\n",
              "    </tr>\n",
              "    <tr>\n",
              "      <th>1991-01-03</th>\n",
              "      <td>321.91</td>\n",
              "      <td>326.46</td>\n",
              "      <td>326.53</td>\n",
              "      <td>321.90</td>\n",
              "      <td>321.91</td>\n",
              "      <td>141450000</td>\n",
              "    </tr>\n",
              "    <tr>\n",
              "      <th>1991-01-04</th>\n",
              "      <td>321.00</td>\n",
              "      <td>321.91</td>\n",
              "      <td>322.35</td>\n",
              "      <td>318.87</td>\n",
              "      <td>321.00</td>\n",
              "      <td>140820000</td>\n",
              "    </tr>\n",
              "    <tr>\n",
              "      <th>1991-01-07</th>\n",
              "      <td>315.44</td>\n",
              "      <td>320.97</td>\n",
              "      <td>320.97</td>\n",
              "      <td>315.44</td>\n",
              "      <td>315.44</td>\n",
              "      <td>130610000</td>\n",
              "    </tr>\n",
              "    <tr>\n",
              "      <th>1991-01-08</th>\n",
              "      <td>314.90</td>\n",
              "      <td>315.44</td>\n",
              "      <td>316.97</td>\n",
              "      <td>313.79</td>\n",
              "      <td>314.90</td>\n",
              "      <td>143390000</td>\n",
              "    </tr>\n",
              "    <tr>\n",
              "      <th>...</th>\n",
              "      <td>...</td>\n",
              "      <td>...</td>\n",
              "      <td>...</td>\n",
              "      <td>...</td>\n",
              "      <td>...</td>\n",
              "      <td>...</td>\n",
              "    </tr>\n",
              "    <tr>\n",
              "      <th>2020-12-24</th>\n",
              "      <td>3703.06</td>\n",
              "      <td>3694.03</td>\n",
              "      <td>3703.82</td>\n",
              "      <td>3689.32</td>\n",
              "      <td>3703.06</td>\n",
              "      <td>1885090000</td>\n",
              "    </tr>\n",
              "    <tr>\n",
              "      <th>2020-12-28</th>\n",
              "      <td>3735.36</td>\n",
              "      <td>3723.03</td>\n",
              "      <td>3740.51</td>\n",
              "      <td>3723.03</td>\n",
              "      <td>3735.36</td>\n",
              "      <td>3527460000</td>\n",
              "    </tr>\n",
              "    <tr>\n",
              "      <th>2020-12-29</th>\n",
              "      <td>3727.04</td>\n",
              "      <td>3750.01</td>\n",
              "      <td>3756.12</td>\n",
              "      <td>3723.31</td>\n",
              "      <td>3727.04</td>\n",
              "      <td>3387030000</td>\n",
              "    </tr>\n",
              "    <tr>\n",
              "      <th>2020-12-30</th>\n",
              "      <td>3732.04</td>\n",
              "      <td>3736.19</td>\n",
              "      <td>3744.63</td>\n",
              "      <td>3730.21</td>\n",
              "      <td>3732.04</td>\n",
              "      <td>3145200000</td>\n",
              "    </tr>\n",
              "    <tr>\n",
              "      <th>2020-12-31</th>\n",
              "      <td>3756.07</td>\n",
              "      <td>3733.27</td>\n",
              "      <td>3760.20</td>\n",
              "      <td>3726.88</td>\n",
              "      <td>3756.07</td>\n",
              "      <td>3172510000</td>\n",
              "    </tr>\n",
              "  </tbody>\n",
              "</table>\n",
              "<p>7559 rows × 6 columns</p>\n",
              "</div>"
            ],
            "text/plain": [
              "            Adj Close     Open     High      Low    Close      Volume\n",
              "Date                                                                 \n",
              "1991-01-02     326.45   330.20   330.75   326.45   326.45   126280000\n",
              "1991-01-03     321.91   326.46   326.53   321.90   321.91   141450000\n",
              "1991-01-04     321.00   321.91   322.35   318.87   321.00   140820000\n",
              "1991-01-07     315.44   320.97   320.97   315.44   315.44   130610000\n",
              "1991-01-08     314.90   315.44   316.97   313.79   314.90   143390000\n",
              "...               ...      ...      ...      ...      ...         ...\n",
              "2020-12-24    3703.06  3694.03  3703.82  3689.32  3703.06  1885090000\n",
              "2020-12-28    3735.36  3723.03  3740.51  3723.03  3735.36  3527460000\n",
              "2020-12-29    3727.04  3750.01  3756.12  3723.31  3727.04  3387030000\n",
              "2020-12-30    3732.04  3736.19  3744.63  3730.21  3732.04  3145200000\n",
              "2020-12-31    3756.07  3733.27  3760.20  3726.88  3756.07  3172510000\n",
              "\n",
              "[7559 rows x 6 columns]"
            ]
          },
          "metadata": {
            "tags": []
          },
          "execution_count": 145
        }
      ]
    },
    {
      "cell_type": "code",
      "metadata": {
        "id": "v4X2dBjcoFg4",
        "colab": {
          "base_uri": "https://localhost:8080/",
          "height": 286
        },
        "outputId": "0de9e0be-5f8a-4602-d5f2-65fc5d519304"
      },
      "source": [
        "all_data['Adj Close'].plot(grid=True)"
      ],
      "execution_count": 146,
      "outputs": [
        {
          "output_type": "execute_result",
          "data": {
            "text/plain": [
              "<matplotlib.axes._subplots.AxesSubplot at 0x7fa249e14710>"
            ]
          },
          "metadata": {
            "tags": []
          },
          "execution_count": 146
        },
        {
          "output_type": "display_data",
          "data": {
            "image/png": "[encoded data removed]",
            "text/plain": [
              "<Figure size 432x288 with 1 Axes>"
            ]
          },
          "metadata": {
            "tags": [],
            "needs_background": "light"
          }
        }
      ]
    },
    {
      "cell_type": "code",
      "metadata": {
        "id": "FBsWAauRLpaO",
        "outputId": "60fc3960-811f-4b57-ef8a-13df0a5a0002",
        "colab": {
          "base_uri": "https://localhost:8080/",
          "height": 286
        }
      },
      "source": [
        "all_data['Adj Close'].plot(grid=True,logy=True)"
      ],
      "execution_count": 147,
      "outputs": [
        {
          "output_type": "execute_result",
          "data": {
            "text/plain": [
              "<matplotlib.axes._subplots.AxesSubplot at 0x7fa2454da6d0>"
            ]
          },
          "metadata": {
            "tags": []
          },
          "execution_count": 147
        },
        {
          "output_type": "display_data",
          "data": {
            "image/png": "[encoded data removed]",
            "text/plain": [
              "<Figure size 432x288 with 1 Axes>"
            ]
          },
          "metadata": {
            "tags": [],
            "needs_background": "light"
          }
        }
      ]
    },
    {
      "cell_type": "code",
      "metadata": {
        "id": "VBo8J-YQL8dW",
        "outputId": "31c4b998-9c87-4a37-c0f6-dd1c8a909602",
        "colab": {
          "base_uri": "https://localhost:8080/",
          "height": 286
        }
      },
      "source": [
        "tr_data= all_data[:'2018']['Close']\n",
        "ts_data= all_data['2019':]['Close']\n",
        "tr_data.plot(c='r')\n",
        "ts_data.plot(c='g', grid=True, logy=True)\n",
        "tr_data.size, ts_data.size "
      ],
      "execution_count": 164,
      "outputs": [
        {
          "output_type": "execute_result",
          "data": {
            "text/plain": [
              "(7054, 505)"
            ]
          },
          "metadata": {
            "tags": []
          },
          "execution_count": 164
        },
        {
          "output_type": "display_data",
          "data": {
            "image/png": "[encoded data removed]",
            "text/plain": [
              "<Figure size 432x288 with 1 Axes>"
            ]
          },
          "metadata": {
            "tags": [],
            "needs_background": "light"
          }
        }
      ]
    },
    {
      "cell_type": "code",
      "metadata": {
        "id": "AzVzBjuDL8pT",
        "outputId": "f138d063-9327-434e-b045-d2f47261b9d1",
        "colab": {
          "base_uri": "https://localhost:8080/"
        }
      },
      "source": [
        "tr_days= (tr_data.index[-1]-tr_data.index[0]).days\n",
        "ts_days= (ts_data.index[-1]-ts_data.index[0]).days\n",
        "\n",
        "tr_years= tr_days/365\n",
        "ts_years= ts_days/365\n",
        "tr_days, ts_days, tr_years, ts_years"
      ],
      "execution_count": 165,
      "outputs": [
        {
          "output_type": "execute_result",
          "data": {
            "text/plain": [
              "(10225, 729, 28.013698630136986, 1.9972602739726026)"
            ]
          },
          "metadata": {
            "tags": []
          },
          "execution_count": 165
        }
      ]
    },
    {
      "cell_type": "code",
      "metadata": {
        "id": "E8IKvQaJoFg4",
        "colab": {
          "base_uri": "https://localhost:8080/"
        },
        "outputId": "bd725c90-186a-4551-b41c-d0a91487cc55"
      },
      "source": [
        "print(f\"{tr_data.size} data points in the training data\")\n",
        "print(f\"{ts_data.size} data points in the test data\")\n",
        "\n"
      ],
      "execution_count": 167,
      "outputs": [
        {
          "output_type": "stream",
          "text": [
            "7054 data points in the training data\n",
            "505 data points in the test data\n"
          ],
          "name": "stdout"
        }
      ]
    },
    {
      "cell_type": "markdown",
      "metadata": {
        "id": "MHmPLHAqoFg5"
      },
      "source": [
        "## [Learning objective 4] Create the training and test data for RNN/LSTM"
      ]
    },
    {
      "cell_type": "code",
      "metadata": {
        "id": "v1lEjbGMoFg5",
        "colab": {
          "base_uri": "https://localhost:8080/"
        },
        "outputId": "bc50cecd-a8fd-4551-e074-e5427637cdf3"
      },
      "source": [
        "def ts_train_test(all_data, time_steps, for_periods):\n",
        "    '''\n",
        "    input: \n",
        "      data: dataframe with dates and price data\n",
        "    output:\n",
        "      X_train, y_train: data from 2013/1/1-2018/12/31\n",
        "      X_test:  data from 2019 -\n",
        "      sc:      insantiated MinMaxScaler object fit to the training data\n",
        "    '''\n",
        "    # create training and test set\n",
        "    ts_train = all_data[:'2018'].iloc[:,0:1].values\n",
        "    ts_test  = all_data['2019':].iloc[:,0:1].values\n",
        "    ts_train_len = len(ts_train)\n",
        "    ts_test_len = len(ts_test)\n",
        "\n",
        "    # create training data of s samples and t time steps\n",
        "    X_train = []\n",
        "    y_train = []\n",
        "    y_train_stacked = []\n",
        "    for i in range(time_steps,ts_train_len-1): \n",
        "        X_train.append(ts_train[i-time_steps:i,0])\n",
        "        y_train.append(ts_train[i:i+for_periods,0])\n",
        "    X_train, y_train = np.array(X_train), np.array(y_train)\n",
        "\n",
        "    # Reshaping X_train for efficient modelling\n",
        "    X_train= np.reshape(X_train, (X_train.shape[0],X_train.shape[1],1))\n",
        "\n",
        "    inputs= pd.concat((all_data[\"Adj Close\"][:'2018'], \n",
        "              all_data[\"Adj Close\"]['2019':]),\n",
        "            axis=0).values\n",
        "    inputs= inputs[len(inputs)-len(ts_test) - time_steps:]\n",
        "    inputs= inputs.reshape(-1,1)\n",
        "\n",
        "    # Preparing X_test\n",
        "    X_test= []\n",
        "    for i in range(time_steps,ts_test_len+time_steps-for_periods):\n",
        "        X_test.append(inputs[i-time_steps:i,0])\n",
        "        \n",
        "    X_test= np.array(X_test)\n",
        "    X_test= np.reshape(X_test, (X_test.shape[0],X_test.shape[1],1))\n",
        "\n",
        "    return X_train, y_train , X_test\n",
        "\n",
        "X_train, y_train, X_test= ts_train_test(all_data, 5, 2)\n",
        "X_train.shape, y_train.shape, X_test.shape"
      ],
      "execution_count": 171,
      "outputs": [
        {
          "output_type": "execute_result",
          "data": {
            "text/plain": [
              "((7048, 5, 1), (7048, 2), (503, 5, 1))"
            ]
          },
          "metadata": {
            "tags": []
          },
          "execution_count": 171
        }
      ]
    },
    {
      "cell_type": "code",
      "metadata": {
        "id": "TBYLJiPQoFg5",
        "colab": {
          "base_uri": "https://localhost:8080/",
          "height": 417
        },
        "outputId": "de9f7e38-e488-43cd-d94d-d7a68e9cf08f"
      },
      "source": [
        "# Make the 3-D shape to a data frame so we can see: \n",
        "X_train_see= pd.DataFrame(np.reshape(X_train, \n",
        "                   X_train.shape[0:2] #(X_train.shape[0],X_train.shape[1])\n",
        "                   ))\n",
        "y_train_see= pd.DataFrame(y_train)\n",
        "pd.concat([X_train_see,y_train_see], axis=1)"
      ],
      "execution_count": 176,
      "outputs": [
        {
          "output_type": "execute_result",
          "data": {
            "text/html": [
              "<div>\n",
              "<style scoped>\n",
              "    .dataframe tbody tr th:only-of-type {\n",
              "        vertical-align: middle;\n",
              "    }\n",
              "\n",
              "    .dataframe tbody tr th {\n",
              "        vertical-align: top;\n",
              "    }\n",
              "\n",
              "    .dataframe thead th {\n",
              "        text-align: right;\n",
              "    }\n",
              "</style>\n",
              "<table border=\"1\" class=\"dataframe\">\n",
              "  <thead>\n",
              "    <tr style=\"text-align: right;\">\n",
              "      <th></th>\n",
              "      <th>0</th>\n",
              "      <th>1</th>\n",
              "      <th>2</th>\n",
              "      <th>3</th>\n",
              "      <th>4</th>\n",
              "      <th>0</th>\n",
              "      <th>1</th>\n",
              "    </tr>\n",
              "  </thead>\n",
              "  <tbody>\n",
              "    <tr>\n",
              "      <th>0</th>\n",
              "      <td>326.45</td>\n",
              "      <td>321.91</td>\n",
              "      <td>321.00</td>\n",
              "      <td>315.44</td>\n",
              "      <td>314.90</td>\n",
              "      <td>311.49</td>\n",
              "      <td>314.53</td>\n",
              "    </tr>\n",
              "    <tr>\n",
              "      <th>1</th>\n",
              "      <td>321.91</td>\n",
              "      <td>321.00</td>\n",
              "      <td>315.44</td>\n",
              "      <td>314.90</td>\n",
              "      <td>311.49</td>\n",
              "      <td>314.53</td>\n",
              "      <td>315.23</td>\n",
              "    </tr>\n",
              "    <tr>\n",
              "      <th>2</th>\n",
              "      <td>321.00</td>\n",
              "      <td>315.44</td>\n",
              "      <td>314.90</td>\n",
              "      <td>311.49</td>\n",
              "      <td>314.53</td>\n",
              "      <td>315.23</td>\n",
              "      <td>312.49</td>\n",
              "    </tr>\n",
              "    <tr>\n",
              "      <th>3</th>\n",
              "      <td>315.44</td>\n",
              "      <td>314.90</td>\n",
              "      <td>311.49</td>\n",
              "      <td>314.53</td>\n",
              "      <td>315.23</td>\n",
              "      <td>312.49</td>\n",
              "      <td>313.73</td>\n",
              "    </tr>\n",
              "    <tr>\n",
              "      <th>4</th>\n",
              "      <td>314.90</td>\n",
              "      <td>311.49</td>\n",
              "      <td>314.53</td>\n",
              "      <td>315.23</td>\n",
              "      <td>312.49</td>\n",
              "      <td>313.73</td>\n",
              "      <td>316.17</td>\n",
              "    </tr>\n",
              "    <tr>\n",
              "      <th>...</th>\n",
              "      <td>...</td>\n",
              "      <td>...</td>\n",
              "      <td>...</td>\n",
              "      <td>...</td>\n",
              "      <td>...</td>\n",
              "      <td>...</td>\n",
              "      <td>...</td>\n",
              "    </tr>\n",
              "    <tr>\n",
              "      <th>7043</th>\n",
              "      <td>2599.95</td>\n",
              "      <td>2545.94</td>\n",
              "      <td>2546.16</td>\n",
              "      <td>2506.96</td>\n",
              "      <td>2467.42</td>\n",
              "      <td>2416.62</td>\n",
              "      <td>2351.10</td>\n",
              "    </tr>\n",
              "    <tr>\n",
              "      <th>7044</th>\n",
              "      <td>2545.94</td>\n",
              "      <td>2546.16</td>\n",
              "      <td>2506.96</td>\n",
              "      <td>2467.42</td>\n",
              "      <td>2416.62</td>\n",
              "      <td>2351.10</td>\n",
              "      <td>2467.70</td>\n",
              "    </tr>\n",
              "    <tr>\n",
              "      <th>7045</th>\n",
              "      <td>2546.16</td>\n",
              "      <td>2506.96</td>\n",
              "      <td>2467.42</td>\n",
              "      <td>2416.62</td>\n",
              "      <td>2351.10</td>\n",
              "      <td>2467.70</td>\n",
              "      <td>2488.83</td>\n",
              "    </tr>\n",
              "    <tr>\n",
              "      <th>7046</th>\n",
              "      <td>2506.96</td>\n",
              "      <td>2467.42</td>\n",
              "      <td>2416.62</td>\n",
              "      <td>2351.10</td>\n",
              "      <td>2467.70</td>\n",
              "      <td>2488.83</td>\n",
              "      <td>2485.74</td>\n",
              "    </tr>\n",
              "    <tr>\n",
              "      <th>7047</th>\n",
              "      <td>2467.42</td>\n",
              "      <td>2416.62</td>\n",
              "      <td>2351.10</td>\n",
              "      <td>2467.70</td>\n",
              "      <td>2488.83</td>\n",
              "      <td>2485.74</td>\n",
              "      <td>2506.85</td>\n",
              "    </tr>\n",
              "  </tbody>\n",
              "</table>\n",
              "<p>7048 rows × 7 columns</p>\n",
              "</div>"
            ],
            "text/plain": [
              "            0        1        2        3        4        0        1\n",
              "0      326.45   321.91   321.00   315.44   314.90   311.49   314.53\n",
              "1      321.91   321.00   315.44   314.90   311.49   314.53   315.23\n",
              "2      321.00   315.44   314.90   311.49   314.53   315.23   312.49\n",
              "3      315.44   314.90   311.49   314.53   315.23   312.49   313.73\n",
              "4      314.90   311.49   314.53   315.23   312.49   313.73   316.17\n",
              "...       ...      ...      ...      ...      ...      ...      ...\n",
              "7043  2599.95  2545.94  2546.16  2506.96  2467.42  2416.62  2351.10\n",
              "7044  2545.94  2546.16  2506.96  2467.42  2416.62  2351.10  2467.70\n",
              "7045  2546.16  2506.96  2467.42  2416.62  2351.10  2467.70  2488.83\n",
              "7046  2506.96  2467.42  2416.62  2351.10  2467.70  2488.83  2485.74\n",
              "7047  2467.42  2416.62  2351.10  2467.70  2488.83  2485.74  2506.85\n",
              "\n",
              "[7048 rows x 7 columns]"
            ]
          },
          "metadata": {
            "tags": []
          },
          "execution_count": 176
        }
      ]
    },
    {
      "cell_type": "code",
      "metadata": {
        "id": "Mc2qWkgxoFg6",
        "colab": {
          "base_uri": "https://localhost:8080/",
          "height": 417
        },
        "outputId": "b2d0d085-1cdb-4ff7-d904-15512a61f244"
      },
      "source": [
        "# Make the 3-D shape to a data frame so we can see: \n",
        "X_test_see= pd.DataFrame(np.reshape(X_test, \n",
        "                  X_test.shape[0:2] #(X_test.shape[0],X_test.shape[1])\n",
        "                  ))\n",
        "pd.DataFrame(X_test_see)"
      ],
      "execution_count": 177,
      "outputs": [
        {
          "output_type": "execute_result",
          "data": {
            "text/html": [
              "<div>\n",
              "<style scoped>\n",
              "    .dataframe tbody tr th:only-of-type {\n",
              "        vertical-align: middle;\n",
              "    }\n",
              "\n",
              "    .dataframe tbody tr th {\n",
              "        vertical-align: top;\n",
              "    }\n",
              "\n",
              "    .dataframe thead th {\n",
              "        text-align: right;\n",
              "    }\n",
              "</style>\n",
              "<table border=\"1\" class=\"dataframe\">\n",
              "  <thead>\n",
              "    <tr style=\"text-align: right;\">\n",
              "      <th></th>\n",
              "      <th>0</th>\n",
              "      <th>1</th>\n",
              "      <th>2</th>\n",
              "      <th>3</th>\n",
              "      <th>4</th>\n",
              "    </tr>\n",
              "  </thead>\n",
              "  <tbody>\n",
              "    <tr>\n",
              "      <th>0</th>\n",
              "      <td>2351.10</td>\n",
              "      <td>2467.70</td>\n",
              "      <td>2488.83</td>\n",
              "      <td>2485.74</td>\n",
              "      <td>2506.85</td>\n",
              "    </tr>\n",
              "    <tr>\n",
              "      <th>1</th>\n",
              "      <td>2467.70</td>\n",
              "      <td>2488.83</td>\n",
              "      <td>2485.74</td>\n",
              "      <td>2506.85</td>\n",
              "      <td>2510.03</td>\n",
              "    </tr>\n",
              "    <tr>\n",
              "      <th>2</th>\n",
              "      <td>2488.83</td>\n",
              "      <td>2485.74</td>\n",
              "      <td>2506.85</td>\n",
              "      <td>2510.03</td>\n",
              "      <td>2447.89</td>\n",
              "    </tr>\n",
              "    <tr>\n",
              "      <th>3</th>\n",
              "      <td>2485.74</td>\n",
              "      <td>2506.85</td>\n",
              "      <td>2510.03</td>\n",
              "      <td>2447.89</td>\n",
              "      <td>2531.94</td>\n",
              "    </tr>\n",
              "    <tr>\n",
              "      <th>4</th>\n",
              "      <td>2506.85</td>\n",
              "      <td>2510.03</td>\n",
              "      <td>2447.89</td>\n",
              "      <td>2531.94</td>\n",
              "      <td>2549.69</td>\n",
              "    </tr>\n",
              "    <tr>\n",
              "      <th>...</th>\n",
              "      <td>...</td>\n",
              "      <td>...</td>\n",
              "      <td>...</td>\n",
              "      <td>...</td>\n",
              "      <td>...</td>\n",
              "    </tr>\n",
              "    <tr>\n",
              "      <th>498</th>\n",
              "      <td>3694.62</td>\n",
              "      <td>3701.17</td>\n",
              "      <td>3722.48</td>\n",
              "      <td>3709.41</td>\n",
              "      <td>3694.92</td>\n",
              "    </tr>\n",
              "    <tr>\n",
              "      <th>499</th>\n",
              "      <td>3701.17</td>\n",
              "      <td>3722.48</td>\n",
              "      <td>3709.41</td>\n",
              "      <td>3694.92</td>\n",
              "      <td>3687.26</td>\n",
              "    </tr>\n",
              "    <tr>\n",
              "      <th>500</th>\n",
              "      <td>3722.48</td>\n",
              "      <td>3709.41</td>\n",
              "      <td>3694.92</td>\n",
              "      <td>3687.26</td>\n",
              "      <td>3690.01</td>\n",
              "    </tr>\n",
              "    <tr>\n",
              "      <th>501</th>\n",
              "      <td>3709.41</td>\n",
              "      <td>3694.92</td>\n",
              "      <td>3687.26</td>\n",
              "      <td>3690.01</td>\n",
              "      <td>3703.06</td>\n",
              "    </tr>\n",
              "    <tr>\n",
              "      <th>502</th>\n",
              "      <td>3694.92</td>\n",
              "      <td>3687.26</td>\n",
              "      <td>3690.01</td>\n",
              "      <td>3703.06</td>\n",
              "      <td>3735.36</td>\n",
              "    </tr>\n",
              "  </tbody>\n",
              "</table>\n",
              "<p>503 rows × 5 columns</p>\n",
              "</div>"
            ],
            "text/plain": [
              "           0        1        2        3        4\n",
              "0    2351.10  2467.70  2488.83  2485.74  2506.85\n",
              "1    2467.70  2488.83  2485.74  2506.85  2510.03\n",
              "2    2488.83  2485.74  2506.85  2510.03  2447.89\n",
              "3    2485.74  2506.85  2510.03  2447.89  2531.94\n",
              "4    2506.85  2510.03  2447.89  2531.94  2549.69\n",
              "..       ...      ...      ...      ...      ...\n",
              "498  3694.62  3701.17  3722.48  3709.41  3694.92\n",
              "499  3701.17  3722.48  3709.41  3694.92  3687.26\n",
              "500  3722.48  3709.41  3694.92  3687.26  3690.01\n",
              "501  3709.41  3694.92  3687.26  3690.01  3703.06\n",
              "502  3694.92  3687.26  3690.01  3703.06  3735.36\n",
              "\n",
              "[503 rows x 5 columns]"
            ]
          },
          "metadata": {
            "tags": []
          },
          "execution_count": 177
        }
      ]
    },
    {
      "cell_type": "code",
      "metadata": {
        "id": "w7MN1GBUoFg6",
        "colab": {
          "base_uri": "https://localhost:8080/"
        },
        "outputId": "cb03c572-d171-40b5-d28d-5e2f3c1e303d"
      },
      "source": [
        "print(f\"{X_train.shape} samples in the training data\")\n",
        "print(f\"{y_train.shape} samples in the training label\")\n",
        "print(f\"{X_test.shape} samples in the test data\")"
      ],
      "execution_count": 180,
      "outputs": [
        {
          "output_type": "stream",
          "text": [
            "(7048, 5, 1) samples in the training data\n",
            "(7048, 2) samples in the training label\n",
            "(503, 5, 1) samples in the test data\n"
          ],
          "name": "stdout"
        }
      ]
    },
    {
      "cell_type": "markdown",
      "metadata": {
        "id": "edzWqzNuoFg6"
      },
      "source": [
        "## [Learning objective 5] Run a simple RNN model"
      ]
    },
    {
      "cell_type": "code",
      "metadata": {
        "id": "hYGr0luxoFg6",
        "colab": {
          "base_uri": "https://localhost:8080/"
        },
        "outputId": "2ccedec1-56d2-4de8-ec00-26627ff876b5"
      },
      "source": [
        "def simple_rnn_model(X_train, y_train, X_test):\n",
        "    '''\n",
        "    create single layer rnn model trained on X_train and y_train\n",
        "    and make predictions on the X_test data\n",
        "    '''\n",
        "    # create a model\n",
        "    from keras.models import Sequential\n",
        "    from keras.layers import Dense, SimpleRNN\n",
        "    \n",
        "    my_rnn_model = Sequential()\n",
        "    my_rnn_model.add(SimpleRNN(32, return_sequences=True))\n",
        "    #my_rnn_model.add(SimpleRNN(32, return_sequences=True))\n",
        "    #my_rnn_model.add(SimpleRNN(32, return_sequences=True))\n",
        "    my_rnn_model.add(SimpleRNN(32))\n",
        "    my_rnn_model.add(Dense(2)) # The time step of the output\n",
        "\n",
        "    my_rnn_model.compile(optimizer='rmsprop', \n",
        "               loss='mean_squared_error')\n",
        "\n",
        "    # fit the RNN model\n",
        "    my_rnn_model.fit(X_train, y_train, \n",
        "            epochs=100, \n",
        "            batch_size=150, \n",
        "            verbose=0)\n",
        "\n",
        "    # Finalizing predictions\n",
        "    rnn_predictions= my_rnn_model.predict(X_test)\n",
        "\n",
        "    return my_rnn_model, rnn_predictions\n",
        "\n",
        "(my_rnn_model, \n",
        "rnn_predictions)= simple_rnn_model(X_train, y_train, X_test)\n",
        "\n",
        "my_rnn_model, rnn_predictions"
      ],
      "execution_count": 186,
      "outputs": [
        {
          "output_type": "execute_result",
          "data": {
            "text/plain": [
              "(<keras.engine.sequential.Sequential at 0x7fa23753e250>,\n",
              " array([[158.66212, 159.47755],\n",
              "        [158.66212, 159.47755],\n",
              "        [158.66212, 159.47755],\n",
              "        ...,\n",
              "        [158.66212, 159.47755],\n",
              "        [158.66212, 159.47755],\n",
              "        [158.66212, 159.47755]], dtype=float32))"
            ]
          },
          "metadata": {
            "tags": []
          },
          "execution_count": 186
        }
      ]
    },
    {
      "cell_type": "code",
      "metadata": {
        "id": "WaJBssCcTPnS"
      },
      "source": [
        ""
      ],
      "execution_count": 186,
      "outputs": []
    },
    {
      "cell_type": "code",
      "metadata": {
        "id": "ESXqYAVRoFg6",
        "colab": {
          "base_uri": "https://localhost:8080/",
          "height": 529
        },
        "outputId": "f4ddc395-f688-4a7a-efae-0315a47c2b14"
      },
      "source": [
        "def actual_pred_plot(preds):\n",
        "    actual_pred= pd.DataFrame()#columns= ['Adj. Close', 'prediction'])\n",
        "    actual_pred['real']= ts_data[-len(preds):] #all_data.loc['2019':,'Adj Close'][0:len(preds)]\n",
        "    actual_pred['pred']= preds[:,0]\n",
        "\n",
        "    from keras.metrics import MeanSquaredError\n",
        "    m = MeanSquaredError()\n",
        "    m.update_state(np.array(actual_pred['real']),\n",
        "            np.array(actual_pred['pred']))\n",
        "    actual_pred.plot(grid=True, logy=True)\n",
        "    return (m.result().numpy(), actual_pred)\n",
        "    \n",
        "actual_pred_plot(rnn_predictions)  "
      ],
      "execution_count": 210,
      "outputs": [
        {
          "output_type": "execute_result",
          "data": {
            "text/plain": [
              "(8549926.0,                real        pred\n",
              " Date                           \n",
              " 2019-01-04  2531.94  158.662125\n",
              " 2019-01-07  2549.69  158.662125\n",
              " 2019-01-08  2574.41  158.662125\n",
              " 2019-01-09  2584.96  158.662125\n",
              " 2019-01-10  2596.64  158.662125\n",
              " ...             ...         ...\n",
              " 2020-12-24  3703.06  158.662125\n",
              " 2020-12-28  3735.36  158.662125\n",
              " 2020-12-29  3727.04  158.662125\n",
              " 2020-12-30  3732.04  158.662125\n",
              " 2020-12-31  3756.07  158.662125\n",
              " \n",
              " [503 rows x 2 columns])"
            ]
          },
          "metadata": {
            "tags": []
          },
          "execution_count": 210
        },
        {
          "output_type": "display_data",
          "data": {
            "image/png": "[encoded data removed]",
            "text/plain": [
              "<Figure size 432x288 with 1 Axes>"
            ]
          },
          "metadata": {
            "tags": [],
            "needs_background": "light"
          }
        }
      ]
    },
    {
      "cell_type": "markdown",
      "metadata": {
        "id": "iYLB-sF0oFg7"
      },
      "source": [
        "## [Learning objective 6] RNN/LTSM requires normalized input data"
      ]
    },
    {
      "cell_type": "code",
      "metadata": {
        "id": "e1Y0eTfWoFg7"
      },
      "source": [
        "def ts_train_test_normalize(all_data, \n",
        "               time_steps=5, \n",
        "               for_periods=2):\n",
        "    '''\n",
        "    input: \n",
        "      data: dataframe with dates and price data\n",
        "      time_steps: 向後回朔日期\n",
        "      for_periods: 向前預測日期\n",
        "    output:\n",
        "      X_train, y_train: data from 2013/1/1-2018/12/31\n",
        "      X_test:  data from 2019 -\n",
        "      sc:      insantiated MinMaxScaler object fit to the training data\n",
        "    '''\n",
        "    # create training and test set\n",
        "    ts_train = all_data[:'2018'].iloc[:,0:1].values #tr_data.values #\n",
        "    ts_test  = all_data['2019':].iloc[:,0:1].values #ts_data.values #\n",
        "    ts_train_len = len(ts_train)\n",
        "    ts_test_len = len(ts_test)\n",
        "\n",
        "    # scale the data\n",
        "    from sklearn.preprocessing import MinMaxScaler\n",
        "    sc= MinMaxScaler(feature_range=(0,1))\n",
        "\n",
        "    ts_train_scaled= sc.fit_transform(ts_train)\n",
        "\n",
        "    # create training data of s samples and t time steps\n",
        "    X_train= []\n",
        "    y_train= []\n",
        "    y_train_stacked= []\n",
        "    for i in range(time_steps,ts_train_len-1): \n",
        "        X_train.append(ts_train_scaled[i-time_steps:i,0])\n",
        "        y_train.append(ts_train_scaled[i:i+for_periods,0])\n",
        "    X_train, y_train = np.array(X_train), np.array(y_train)\n",
        "\n",
        "    # Reshaping X_train for efficient modelling\n",
        "    X_train = np.reshape(X_train, (X_train.shape[0],X_train.shape[1],1))\n",
        "\n",
        "    inputs = pd.concat((all_data[\"Adj Close\"][:'2018'], #ts_train, #\n",
        "               all_data[\"Adj Close\"]['2019':] #ts_test  #\n",
        "               ),axis=0).values\n",
        "    inputs = inputs[len(inputs)-len(ts_test) - time_steps:]\n",
        "    inputs = inputs.reshape(-1,1)\n",
        "    inputs  = sc.transform(inputs)\n",
        "\n",
        "    # Preparing X_test\n",
        "    X_test = []\n",
        "    for i in range(time_steps,ts_test_len+time_steps-for_periods):\n",
        "        X_test.append(inputs[i-time_steps:i,0])\n",
        "        \n",
        "    X_test = np.array(X_test)\n",
        "    X_test = np.reshape(X_test, (X_test.shape[0],X_test.shape[1],1))\n",
        "\n",
        "    return X_train, y_train , X_test, sc\n",
        "\n",
        "X_train, y_train, X_test, sc = ts_train_test_normalize(all_data)\n"
      ],
      "execution_count": 203,
      "outputs": []
    },
    {
      "cell_type": "code",
      "metadata": {
        "id": "2qornJWoataB",
        "outputId": "4243be37-f760-4840-dcca-9da6fc8a293c",
        "colab": {
          "base_uri": "https://localhost:8080/",
          "height": 413
        }
      },
      "source": [
        "\n",
        "def simple_rnn_model(X_train, y_train, X_test, sc):\n",
        "    '''\n",
        "    create single layer rnn model trained on X_train and y_train\n",
        "    and make predictions on the X_test data\n",
        "    '''\n",
        "    # create a model\n",
        "    from keras.models import Sequential\n",
        "    from keras.layers import Dense, SimpleRNN\n",
        "    \n",
        "    my_rnn_model = Sequential()\n",
        "    my_rnn_model.add(SimpleRNN(32, return_sequences=True))\n",
        "    #my_rnn_model.add(SimpleRNN(32, return_sequences=True))\n",
        "    #my_rnn_model.add(SimpleRNN(32, return_sequences=True))\n",
        "    my_rnn_model.add(SimpleRNN(32))\n",
        "    my_rnn_model.add(Dense(2)) # The time step of the output\n",
        "\n",
        "    my_rnn_model.compile(optimizer='rmsprop', loss='mean_squared_error')\n",
        "\n",
        "    # fit the RNN model\n",
        "    my_rnn_model.fit(X_train, y_train, epochs=100, batch_size=150, verbose=0)\n",
        "\n",
        "    # Finalizing predictions\n",
        "    rnn_predictions = my_rnn_model.predict(X_test)\n",
        "    from sklearn.preprocessing import MinMaxScaler\n",
        "    rnn_predictions = sc.inverse_transform(rnn_predictions)\n",
        "\n",
        "    return my_rnn_model, rnn_predictions\n",
        "\n",
        "\n",
        "my_rnn_model, rnn_predictions_2= simple_rnn_model(X_train, y_train, X_test, sc)\n",
        "rnn_predictions_2, actual_pred_plot(rnn_predictions_2)\n",
        "\n"
      ],
      "execution_count": 204,
      "outputs": [
        {
          "output_type": "execute_result",
          "data": {
            "text/plain": [
              "(array([[2409.3755, 2450.0386],\n",
              "        [2437.1248, 2479.0146],\n",
              "        [2367.3926, 2406.8633],\n",
              "        ...,\n",
              "        [3495.151 , 3553.0996],\n",
              "        [3506.1924, 3564.5327],\n",
              "        [3531.3403, 3590.042 ]], dtype=float32),\n",
              " (20775.588, <matplotlib.axes._subplots.AxesSubplot at 0x7fa251b56e10>))"
            ]
          },
          "metadata": {
            "tags": []
          },
          "execution_count": 204
        },
        {
          "output_type": "display_data",
          "data": {
            "image/png": "[encoded data removed]",
            "text/plain": [
              "<Figure size 432x288 with 1 Axes>"
            ]
          },
          "metadata": {
            "tags": [],
            "needs_background": "light"
          }
        }
      ]
    },
    {
      "cell_type": "code",
      "metadata": {
        "id": "7ecgLVgSYonr"
      },
      "source": [
        "\n"
      ],
      "execution_count": 204,
      "outputs": []
    },
    {
      "cell_type": "markdown",
      "metadata": {
        "id": "DlPJ6mMboFg7"
      },
      "source": [
        "## [Learning objective 7] LSTM"
      ]
    },
    {
      "cell_type": "code",
      "metadata": {
        "id": "BEb-WzoboFg8",
        "colab": {
          "base_uri": "https://localhost:8080/",
          "height": 349
        },
        "outputId": "b06a8223-4390-4dc8-9f48-67092e55a003"
      },
      "source": [
        "def LSTM_model(X_train, y_train, X_test, sc):\n",
        "    # create a model\n",
        "    from keras.models import Sequential\n",
        "    from keras.layers import Dense, SimpleRNN, GRU, LSTM\n",
        "    from keras.optimizers import SGD\n",
        "    \n",
        "    # The LSTM architecture\n",
        "    my_LSTM_model = Sequential()\n",
        "    my_LSTM_model.add(LSTM(units=50, return_sequences=True, input_shape=(X_train.shape[1],1), activation='tanh'))\n",
        "    #my_LSTM_model.add(LSTM(units=50, return_sequences=True, input_shape=(X_train.shape[1],1), activation='tanh'))\n",
        "    #my_LSTM_model.add(LSTM(units=50, return_sequences=True, input_shape=(X_train.shape[1],1), activation='tanh'))\n",
        "    my_LSTM_model.add(LSTM(units=50, activation='tanh'))\n",
        "    my_LSTM_model.add(Dense(units=2))\n",
        "\n",
        "    # Compiling\n",
        "    my_LSTM_model.compile(optimizer=SGD(lr=0.01, decay=1e-7, momentum=0.9, nesterov=False),loss='mean_squared_error')\n",
        "    # Fitting to the training set\n",
        "    my_LSTM_model.fit(X_train,y_train,epochs=50,batch_size=150, verbose=0)\n",
        "\n",
        "    LSTM_prediction = my_LSTM_model.predict(X_test)\n",
        "    LSTM_prediction = sc.inverse_transform(LSTM_prediction)\n",
        "\n",
        "    return my_LSTM_model, LSTM_prediction\n",
        "\n",
        "my_LSTM_model, LSTM_prediction = LSTM_model(X_train, y_train, X_test, sc)\n",
        "LSTM_prediction[1:10]\n",
        "actual_pred_plot(LSTM_prediction)   "
      ],
      "execution_count": 201,
      "outputs": [
        {
          "output_type": "stream",
          "text": [
            "/usr/local/lib/python3.7/dist-packages/tensorflow/python/keras/optimizer_v2/optimizer_v2.py:375: UserWarning: The `lr` argument is deprecated, use `learning_rate` instead.\n",
            "  \"The `lr` argument is deprecated, use `learning_rate` instead.\")\n"
          ],
          "name": "stderr"
        },
        {
          "output_type": "execute_result",
          "data": {
            "text/plain": [
              "(24627.797, <matplotlib.axes._subplots.AxesSubplot at 0x7fa239416710>)"
            ]
          },
          "metadata": {
            "tags": []
          },
          "execution_count": 201
        },
        {
          "output_type": "display_data",
          "data": {
            "image/png": "[encoded data removed]",
            "text/plain": [
              "<Figure size 432x288 with 1 Axes>"
            ]
          },
          "metadata": {
            "tags": [],
            "needs_background": "light"
          }
        }
      ]
    },
    {
      "cell_type": "markdown",
      "metadata": {
        "id": "ReZTpbffoFg8"
      },
      "source": [
        "## [Learning objective 8] LSTM Regularization"
      ]
    },
    {
      "cell_type": "code",
      "metadata": {
        "id": "l6j5QfeXoFg8",
        "colab": {
          "base_uri": "https://localhost:8080/",
          "height": 466
        },
        "outputId": "ed7dede7-390d-488a-b4b4-7e63770ca623"
      },
      "source": [
        "def LSTM_model_regularization(X_train, y_train, X_test, sc):\n",
        "    # create a model\n",
        "    from keras.models import Sequential\n",
        "    from keras.layers import Dense, SimpleRNN, GRU, LSTM\n",
        "    from keras.optimizers import SGD\n",
        "    \n",
        "    # The LSTM architecture\n",
        "    my_LSTM_model = Sequential()\n",
        "    my_LSTM_model.add(LSTM(units=50, return_sequences=True, input_shape=(X_train.shape[1],1), activation='tanh'))\n",
        "    #my_LSTM_model.add(LSTM(units=50, return_sequences=True, input_shape=(X_train.shape[1],1), activation='tanh'))\n",
        "    #my_LSTM_model.add(LSTM(units=50, return_sequences=True, input_shape=(X_train.shape[1],1), activation='tanh'))\n",
        "    my_LSTM_model.add(LSTM(units=50, activation='tanh'))\n",
        "    my_LSTM_model.add(Dense(units=2))\n",
        "\n",
        "    # Compiling\n",
        "    my_LSTM_model.compile(optimizer=SGD(lr=0.01, \n",
        "                      decay=1e-7, \n",
        "                      momentum=0.9, \n",
        "                      nesterov=False),\n",
        "               loss='mean_squared_error')\n",
        "    # Fitting to the training set\n",
        "    my_LSTM_model.fit(X_train,y_train,epochs=50,batch_size=150, verbose=0)\n",
        "\n",
        "    LSTM_prediction = my_LSTM_model.predict(X_test)\n",
        "    LSTM_prediction = sc.inverse_transform(LSTM_prediction)\n",
        "\n",
        "    return my_LSTM_model, LSTM_prediction\n",
        "\n",
        "my_LSTM_model, LSTM_prediction= LSTM_model_regularization(X_train, y_train, X_test, sc)\n",
        "LSTM_prediction, actual_pred_plot(LSTM_prediction)  "
      ],
      "execution_count": 205,
      "outputs": [
        {
          "output_type": "stream",
          "text": [
            "/usr/local/lib/python3.7/dist-packages/tensorflow/python/keras/optimizer_v2/optimizer_v2.py:375: UserWarning: The `lr` argument is deprecated, use `learning_rate` instead.\n",
            "  \"The `lr` argument is deprecated, use `learning_rate` instead.\")\n"
          ],
          "name": "stderr"
        },
        {
          "output_type": "execute_result",
          "data": {
            "text/plain": [
              "(array([[2436.978 , 2436.1687],\n",
              "        [2470.694 , 2470.687 ],\n",
              "        [2473.003 , 2473.4832],\n",
              "        ...,\n",
              "        [3442.6482, 3436.8071],\n",
              "        [3438.123 , 3432.108 ],\n",
              "        [3438.806 , 3432.3994]], dtype=float32),\n",
              " (24297.979, <matplotlib.axes._subplots.AxesSubplot at 0x7fa247d0ab90>))"
            ]
          },
          "metadata": {
            "tags": []
          },
          "execution_count": 205
        },
        {
          "output_type": "display_data",
          "data": {
            "image/png": "[encoded data removed]",
            "text/plain": [
              "<Figure size 432x288 with 1 Axes>"
            ]
          },
          "metadata": {
            "tags": [],
            "needs_background": "light"
          }
        }
      ]
    },
    {
      "cell_type": "markdown",
      "metadata": {
        "id": "5GgrhVo4oFg8"
      },
      "source": [
        "## [Learning objective 9] GRU"
      ]
    },
    {
      "cell_type": "code",
      "metadata": {
        "id": "_LocI-ZUoFg8",
        "colab": {
          "base_uri": "https://localhost:8080/",
          "height": 349
        },
        "outputId": "fbcd76e3-cfdd-4e4f-ad07-f9055dd16e72"
      },
      "source": [
        "def GRU_model(X_train, y_train, X_test, sc):\n",
        "    # create a model\n",
        "    from keras.models import Sequential\n",
        "    from keras.layers import Dense, SimpleRNN, GRU\n",
        "    from keras.optimizers import SGD\n",
        "    \n",
        "    # The GRU architecture\n",
        "    my_GRU_model = Sequential()\n",
        "    # First GRU layer with Dropout regularisation\n",
        "    my_GRU_model.add(GRU(units=50, return_sequences=True, input_shape=(X_train.shape[1],1), activation='tanh'))\n",
        "    #my_GRU_model.add(GRU(units=50, return_sequences=True, input_shape=(X_train.shape[1],1), activation='tanh'))\n",
        "    #my_GRU_model.add(GRU(units=50, return_sequences=True, input_shape=(X_train.shape[1],1), activation='tanh'))\n",
        "    my_GRU_model.add(GRU(units=50, activation='tanh'))\n",
        "    my_GRU_model.add(Dense(units=2))\n",
        "\n",
        "    # Compiling the RNN\n",
        "    my_GRU_model.compile(optimizer=SGD(lr=0.01, decay=1e-7, momentum=0.9, nesterov=False),loss='mean_squared_error')\n",
        "    # Fitting to the training set\n",
        "    my_GRU_model.fit(X_train,y_train,epochs=50,batch_size=150, verbose=0)\n",
        "\n",
        "    GRU_prediction = my_GRU_model.predict(X_test)\n",
        "    GRU_prediction = sc.inverse_transform(GRU_prediction)\n",
        "\n",
        "    return my_GRU_model, GRU_prediction\n",
        "\n",
        "my_GRU_model, GRU_prediction = GRU_model(X_train, y_train, X_test, sc)\n",
        "GRU_prediction, actual_pred_plot(GRU_prediction)  "
      ],
      "execution_count": 206,
      "outputs": [
        {
          "output_type": "stream",
          "text": [
            "/usr/local/lib/python3.7/dist-packages/tensorflow/python/keras/optimizer_v2/optimizer_v2.py:375: UserWarning: The `lr` argument is deprecated, use `learning_rate` instead.\n",
            "  \"The `lr` argument is deprecated, use `learning_rate` instead.\")\n"
          ],
          "name": "stderr"
        },
        {
          "output_type": "execute_result",
          "data": {
            "text/plain": [
              "(12180.22, <matplotlib.axes._subplots.AxesSubplot at 0x7fa234795f90>)"
            ]
          },
          "metadata": {
            "tags": []
          },
          "execution_count": 206
        },
        {
          "output_type": "display_data",
          "data": {
            "image/png": "[encoded data removed]",
            "text/plain": [
              "<Figure size 432x288 with 1 Axes>"
            ]
          },
          "metadata": {
            "tags": [],
            "needs_background": "light"
          }
        }
      ]
    },
    {
      "cell_type": "markdown",
      "metadata": {
        "id": "7pzuQ4EloFg9"
      },
      "source": [
        "## [Learning objective 10] GRU Regularization"
      ]
    },
    {
      "cell_type": "code",
      "metadata": {
        "id": "wjp2zqO-oFg9",
        "colab": {
          "base_uri": "https://localhost:8080/",
          "height": 349
        },
        "outputId": "577b3cc3-f236-4f34-abfd-f457fd82e550"
      },
      "source": [
        "def GRU_model_regularization(X_train, y_train, X_test, sc):\n",
        "    '''\n",
        "    create GRU model trained on X_train and y_train\n",
        "    and make predictions on the X_test data\n",
        "    '''\n",
        "    # create a model\n",
        "    from keras.models import Sequential\n",
        "    from keras.layers import Dense, SimpleRNN, GRU\n",
        "    from keras.optimizers import SGD\n",
        "    from keras.layers import Dropout\n",
        "    \n",
        "    # The GRU architecture\n",
        "    my_GRU_model = Sequential()\n",
        "    # First GRU layer with Dropout regularisation\n",
        "    my_GRU_model.add(GRU(units=50, return_sequences=True, input_shape=(X_train.shape[1],1), activation='tanh'))\n",
        "    my_GRU_model.add(Dropout(0.2))\n",
        "    # Second GRU layer\n",
        "    my_GRU_model.add(GRU(units=50, return_sequences=True, activation='tanh'))\n",
        "    my_GRU_model.add(Dropout(0.2))\n",
        "    \n",
        "    # Third GRU layer\n",
        "    my_GRU_model.add(GRU(units=50, return_sequences=True, activation='tanh'))\n",
        "    my_GRU_model.add(Dropout(0.2))\n",
        "    # Fourth GRU layer\n",
        "    my_GRU_model.add(GRU(units=50, activation='tanh'))\n",
        "    my_GRU_model.add(Dropout(0.2))\n",
        "    # The output layer\n",
        "    my_GRU_model.add(Dense(units=1))\n",
        "    # Compiling the RNN\n",
        "    my_GRU_model.compile(optimizer=SGD(lr=0.01, decay=1e-7, momentum=0.9, nesterov=False),loss='mean_squared_error')\n",
        "    # Fitting to the training set\n",
        "    my_GRU_model.fit(X_train,y_train,epochs=50,batch_size=150, verbose=0)\n",
        "\n",
        "    GRU_predictions = my_GRU_model.predict(X_test)\n",
        "    GRU_predictions = sc.inverse_transform(GRU_predictions)\n",
        "\n",
        "    return my_GRU_model, GRU_predictions\n",
        "\n",
        "my_GRU_model, GRU_predictions = GRU_model_regularization(X_train, y_train, X_test, sc)\n",
        "GRU_predictions\n",
        "actual_pred_plot(GRU_prediction)  "
      ],
      "execution_count": 208,
      "outputs": [
        {
          "output_type": "stream",
          "text": [
            "/usr/local/lib/python3.7/dist-packages/tensorflow/python/keras/optimizer_v2/optimizer_v2.py:375: UserWarning: The `lr` argument is deprecated, use `learning_rate` instead.\n",
            "  \"The `lr` argument is deprecated, use `learning_rate` instead.\")\n"
          ],
          "name": "stderr"
        },
        {
          "output_type": "execute_result",
          "data": {
            "text/plain": [
              "(12180.22, <matplotlib.axes._subplots.AxesSubplot at 0x7fa2349e9490>)"
            ]
          },
          "metadata": {
            "tags": []
          },
          "execution_count": 208
        },
        {
          "output_type": "display_data",
          "data": {
            "image/png": "[encoded data removed]",
            "text/plain": [
              "<Figure size 432x288 with 1 Axes>"
            ]
          },
          "metadata": {
            "tags": [],
            "needs_background": "light"
          }
        }
      ]
    },
    {
      "cell_type": "code",
      "metadata": {
        "id": "r3EeA5VloFg9"
      },
      "source": [
        ""
      ],
      "execution_count": 55,
      "outputs": []
    },
    {
      "cell_type": "code",
      "metadata": {
        "id": "bElUzPNQoFg9",
        "outputId": "69e05220-4d49-4340-c75b-db7a00f1045a",
        "colab": {
          "base_uri": "https://localhost:8080/",
          "height": 447
        }
      },
      "source": [
        "preds= rnn_predictions_2\n",
        "\n",
        "x= pd.DataFrame()#columns= ['Adj. Close', 'prediction'])\n",
        "x['real']= ts_data[-len(preds):] #all_data.loc['2019':,'Adj Close'][0:len(preds)]\n",
        "x['rnn']= preds[:,0]\n",
        "\n",
        "x['lstm']= LSTM_prediction[:,0]\n",
        "x['gru']= GRU_prediction[:,0]\n",
        "\n",
        "x"
      ],
      "execution_count": 212,
      "outputs": [
        {
          "output_type": "execute_result",
          "data": {
            "text/html": [
              "<div>\n",
              "<style scoped>\n",
              "    .dataframe tbody tr th:only-of-type {\n",
              "        vertical-align: middle;\n",
              "    }\n",
              "\n",
              "    .dataframe tbody tr th {\n",
              "        vertical-align: top;\n",
              "    }\n",
              "\n",
              "    .dataframe thead th {\n",
              "        text-align: right;\n",
              "    }\n",
              "</style>\n",
              "<table border=\"1\" class=\"dataframe\">\n",
              "  <thead>\n",
              "    <tr style=\"text-align: right;\">\n",
              "      <th></th>\n",
              "      <th>real</th>\n",
              "      <th>rnn</th>\n",
              "      <th>lstm</th>\n",
              "      <th>gru</th>\n",
              "    </tr>\n",
              "    <tr>\n",
              "      <th>Date</th>\n",
              "      <th></th>\n",
              "      <th></th>\n",
              "      <th></th>\n",
              "      <th></th>\n",
              "    </tr>\n",
              "  </thead>\n",
              "  <tbody>\n",
              "    <tr>\n",
              "      <th>2019-01-04</th>\n",
              "      <td>2531.94</td>\n",
              "      <td>2409.375488</td>\n",
              "      <td>2436.978027</td>\n",
              "      <td>2463.010010</td>\n",
              "    </tr>\n",
              "    <tr>\n",
              "      <th>2019-01-07</th>\n",
              "      <td>2549.69</td>\n",
              "      <td>2437.124756</td>\n",
              "      <td>2470.694092</td>\n",
              "      <td>2482.929199</td>\n",
              "    </tr>\n",
              "    <tr>\n",
              "      <th>2019-01-08</th>\n",
              "      <td>2574.41</td>\n",
              "      <td>2367.392578</td>\n",
              "      <td>2473.002930</td>\n",
              "      <td>2474.501221</td>\n",
              "    </tr>\n",
              "    <tr>\n",
              "      <th>2019-01-09</th>\n",
              "      <td>2584.96</td>\n",
              "      <td>2459.988037</td>\n",
              "      <td>2476.059814</td>\n",
              "      <td>2482.436523</td>\n",
              "    </tr>\n",
              "    <tr>\n",
              "      <th>2019-01-10</th>\n",
              "      <td>2596.64</td>\n",
              "      <td>2497.400879</td>\n",
              "      <td>2484.606445</td>\n",
              "      <td>2498.119629</td>\n",
              "    </tr>\n",
              "    <tr>\n",
              "      <th>...</th>\n",
              "      <td>...</td>\n",
              "      <td>...</td>\n",
              "      <td>...</td>\n",
              "      <td>...</td>\n",
              "    </tr>\n",
              "    <tr>\n",
              "      <th>2020-12-24</th>\n",
              "      <td>3703.06</td>\n",
              "      <td>3486.639893</td>\n",
              "      <td>3443.586182</td>\n",
              "      <td>3563.013672</td>\n",
              "    </tr>\n",
              "    <tr>\n",
              "      <th>2020-12-28</th>\n",
              "      <td>3735.36</td>\n",
              "      <td>3484.265137</td>\n",
              "      <td>3443.983887</td>\n",
              "      <td>3559.005615</td>\n",
              "    </tr>\n",
              "    <tr>\n",
              "      <th>2020-12-29</th>\n",
              "      <td>3727.04</td>\n",
              "      <td>3495.150879</td>\n",
              "      <td>3442.648193</td>\n",
              "      <td>3555.437012</td>\n",
              "    </tr>\n",
              "    <tr>\n",
              "      <th>2020-12-30</th>\n",
              "      <td>3732.04</td>\n",
              "      <td>3506.192383</td>\n",
              "      <td>3438.123047</td>\n",
              "      <td>3554.541504</td>\n",
              "    </tr>\n",
              "    <tr>\n",
              "      <th>2020-12-31</th>\n",
              "      <td>3756.07</td>\n",
              "      <td>3531.340332</td>\n",
              "      <td>3438.805908</td>\n",
              "      <td>3562.780273</td>\n",
              "    </tr>\n",
              "  </tbody>\n",
              "</table>\n",
              "<p>503 rows × 4 columns</p>\n",
              "</div>"
            ],
            "text/plain": [
              "               real          rnn         lstm          gru\n",
              "Date                                                      \n",
              "2019-01-04  2531.94  2409.375488  2436.978027  2463.010010\n",
              "2019-01-07  2549.69  2437.124756  2470.694092  2482.929199\n",
              "2019-01-08  2574.41  2367.392578  2473.002930  2474.501221\n",
              "2019-01-09  2584.96  2459.988037  2476.059814  2482.436523\n",
              "2019-01-10  2596.64  2497.400879  2484.606445  2498.119629\n",
              "...             ...          ...          ...          ...\n",
              "2020-12-24  3703.06  3486.639893  3443.586182  3563.013672\n",
              "2020-12-28  3735.36  3484.265137  3443.983887  3559.005615\n",
              "2020-12-29  3727.04  3495.150879  3442.648193  3555.437012\n",
              "2020-12-30  3732.04  3506.192383  3438.123047  3554.541504\n",
              "2020-12-31  3756.07  3531.340332  3438.805908  3562.780273\n",
              "\n",
              "[503 rows x 4 columns]"
            ]
          },
          "metadata": {
            "tags": []
          },
          "execution_count": 212
        }
      ]
    },
    {
      "cell_type": "code",
      "metadata": {
        "id": "J7qnikZse91F",
        "outputId": "aca99418-b15f-41ec-a403-f407fe116f46",
        "colab": {
          "base_uri": "https://localhost:8080/",
          "height": 295
        }
      },
      "source": [
        "x.plot(grid=True,logy=True)"
      ],
      "execution_count": 214,
      "outputs": [
        {
          "output_type": "execute_result",
          "data": {
            "text/plain": [
              "<matplotlib.axes._subplots.AxesSubplot at 0x7fa234d72ad0>"
            ]
          },
          "metadata": {
            "tags": []
          },
          "execution_count": 214
        },
        {
          "output_type": "display_data",
          "data": {
            "image/png": "[encoded data removed]",
            "text/plain": [
              "<Figure size 432x288 with 1 Axes>"
            ]
          },
          "metadata": {
            "tags": [],
            "needs_background": "light"
          }
        }
      ]
    },
    {
      "cell_type": "code",
      "metadata": {
        "id": "5Kt7qYRtfG-B",
        "outputId": "64d3e71c-cfd3-41c6-c14b-b8ad9acd7002",
        "colab": {
          "base_uri": "https://localhost:8080/",
          "height": 172
        }
      },
      "source": [
        "x.corr()"
      ],
      "execution_count": 215,
      "outputs": [
        {
          "output_type": "execute_result",
          "data": {
            "text/html": [
              "<div>\n",
              "<style scoped>\n",
              "    .dataframe tbody tr th:only-of-type {\n",
              "        vertical-align: middle;\n",
              "    }\n",
              "\n",
              "    .dataframe tbody tr th {\n",
              "        vertical-align: top;\n",
              "    }\n",
              "\n",
              "    .dataframe thead th {\n",
              "        text-align: right;\n",
              "    }\n",
              "</style>\n",
              "<table border=\"1\" class=\"dataframe\">\n",
              "  <thead>\n",
              "    <tr style=\"text-align: right;\">\n",
              "      <th></th>\n",
              "      <th>real</th>\n",
              "      <th>rnn</th>\n",
              "      <th>lstm</th>\n",
              "      <th>gru</th>\n",
              "    </tr>\n",
              "  </thead>\n",
              "  <tbody>\n",
              "    <tr>\n",
              "      <th>real</th>\n",
              "      <td>1.000000</td>\n",
              "      <td>0.969514</td>\n",
              "      <td>0.952340</td>\n",
              "      <td>0.961091</td>\n",
              "    </tr>\n",
              "    <tr>\n",
              "      <th>rnn</th>\n",
              "      <td>0.969514</td>\n",
              "      <td>1.000000</td>\n",
              "      <td>0.982163</td>\n",
              "      <td>0.989270</td>\n",
              "    </tr>\n",
              "    <tr>\n",
              "      <th>lstm</th>\n",
              "      <td>0.952340</td>\n",
              "      <td>0.982163</td>\n",
              "      <td>1.000000</td>\n",
              "      <td>0.998154</td>\n",
              "    </tr>\n",
              "    <tr>\n",
              "      <th>gru</th>\n",
              "      <td>0.961091</td>\n",
              "      <td>0.989270</td>\n",
              "      <td>0.998154</td>\n",
              "      <td>1.000000</td>\n",
              "    </tr>\n",
              "  </tbody>\n",
              "</table>\n",
              "</div>"
            ],
            "text/plain": [
              "          real       rnn      lstm       gru\n",
              "real  1.000000  0.969514  0.952340  0.961091\n",
              "rnn   0.969514  1.000000  0.982163  0.989270\n",
              "lstm  0.952340  0.982163  1.000000  0.998154\n",
              "gru   0.961091  0.989270  0.998154  1.000000"
            ]
          },
          "metadata": {
            "tags": []
          },
          "execution_count": 215
        }
      ]
    },
    {
      "cell_type": "code",
      "metadata": {
        "id": "WSy5cUYvfPjz"
      },
      "source": [
        ""
      ],
      "execution_count": null,
      "outputs": []
    }
  ]
}