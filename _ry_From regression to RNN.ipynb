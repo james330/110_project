{
  "nbformat": 4,
  "nbformat_minor": 0,
  "metadata": {
    "kernelspec": {
      "display_name": "Python 3",
      "language": "python",
      "name": "python3"
    },
    "language_info": {
      "codemirror_mode": {
        "name": "ipython",
        "version": 3
      },
      "file_extension": ".py",
      "mimetype": "text/x-python",
      "name": "python",
      "nbconvert_exporter": "python",
      "pygments_lexer": "ipython3",
      "version": "3.8.2"
    },
    "colab": {
      "name": "From regression to RNN.ipynb",
      "provenance": [],
      "include_colab_link": true
    },
    "accelerator": "GPU"
  },
  "cells": [
    {
      "cell_type": "markdown",
      "metadata": {
        "id": "view-in-github",
        "colab_type": "text"
      },
      "source": [
        "<a href=\"https://colab.research.google.com/github/renyuanL/110_project/blob/main/_ry_From%20regression%20to%20RNN.ipynb\" target=\"_parent\"><img src=\"https://colab.research.google.com/assets/colab-badge.svg\" alt=\"Open In Colab\"/></a>"
      ]
    },
    {
      "cell_type": "code",
      "metadata": {
        "id": "AZNzIQU1CjsY"
      },
      "source": [
        ""
      ],
      "execution_count": null,
      "outputs": []
    },
    {
      "cell_type": "markdown",
      "metadata": {
        "id": "lnGgdiQqoFgx"
      },
      "source": [
        "## From Regression to RNN\n",
        "\n",
        "Learning objectives:\n",
        "* [Objective 1] ARIMA\n",
        "* [Objective 2] RNN requires a 3-D tensor as input\n",
        "* [Objective 3] Stock data\n",
        "* [Objective 4] Create the training and test data for RNN/LSTM\n",
        "* [Objective 5] Run a simple RNN model\n",
        "* [Objective 6] RNN/LTSM requires normalized input data\n",
        "* [Objective 7] LSTM\n",
        "* [Objective 8] LSTM Regularization\n",
        "* [Objective 9] GRU\n",
        "* [Objective 10] GRU Regularization\n",
        "\n",
        "Note: Every run of the following code may vary.\n",
        "\n",
        "## Ref:\n",
        "- https://medium.com/swlh/a-technical-guide-on-rnn-lstm-gru-for-stock-price-prediction-bce2f7f30346\n",
        "\n",
        "- https://github.com/dataman-git/codes_for_articles/blob/master/From%20regression%20to%20RNN.ipynb\n"
      ]
    },
    {
      "cell_type": "code",
      "metadata": {
        "id": "KfVrYmC6oFgy"
      },
      "source": [
        "from statsmodels.graphics.tsaplots import plot_pacf, plot_acf\n",
        "from statsmodels.tsa.arima_process import ArmaProcess\n",
        "from statsmodels.tsa.stattools import pacf\n",
        "from statsmodels.regression.linear_model import yule_walker\n",
        "#from statsmodels.tsa.stattools import adfuller\n",
        "import matplotlib.pyplot as plt\n",
        "import numpy as np\n",
        "%matplotlib inline"
      ],
      "execution_count": 341,
      "outputs": []
    },
    {
      "cell_type": "markdown",
      "metadata": {
        "id": "yZ6V7DoNoFgz"
      },
      "source": [
        "### [Learning Objective 1] ARIMA()"
      ]
    },
    {
      "cell_type": "code",
      "metadata": {
        "id": "-SZvsQmooFgz",
        "colab": {
          "base_uri": "https://localhost:8080/"
        },
        "outputId": "6169303b-7116-49ed-8606-ff1b8815e441"
      },
      "source": [
        "from statsmodels.graphics.tsaplots import plot_pacf, plot_acf\n",
        "\n",
        "from statsmodels.tsa.arima_process import ArmaProcess\n",
        "\n",
        "from statsmodels.tsa.stattools import pacf\n",
        "from statsmodels.regression.linear_model import yule_walker\n",
        "#from statsmodels.tsa.stattools import adfuller\n",
        "import matplotlib.pyplot as plt\n",
        "import numpy as np\n",
        "import pandas as pd\n",
        "\n",
        "%matplotlib inline\n",
        "\n",
        "# Generate the data\n",
        "import numpy as np\n",
        "\n",
        "np.random.seed(0)\n",
        "\n",
        "ar= np.array([1, -0.8, 0.2])\n",
        "ma= np.array([1])\n",
        "my_simulation= ArmaProcess(ar, ma).generate_sample(nsample=100)\n",
        "\n",
        "'''\n",
        "plt.figure(figsize=[10, 5]); # Set dimensions for figure\n",
        "plt.plot(my_simulation, linestyle='-', marker='o', color='b')\n",
        "plt.title(\"Simulated Process\")\n",
        "plt.show()\n",
        "'''\n",
        "my_simulation\n"
      ],
      "execution_count": 342,
      "outputs": [
        {
          "output_type": "execute_result",
          "data": {
            "text/plain": [
              "array([ 1.76405235,  1.81139909,  2.07504678,  3.53865081,  4.28346928,\n",
              "        1.74176738,  1.48680847,  0.68973609,  0.15120833,  0.39361794,\n",
              "        0.42869626,  1.71850693,  2.05010401,  1.41805684,  1.1682879 ,\n",
              "        0.98469328,  2.04817612,  1.23644397,  0.89258766, -0.38731441,\n",
              "       -3.04135887, -1.70200562,  0.11110348, -0.31288112,  1.99722904,\n",
              "        0.20599378, -0.18889227, -0.37949642,  1.26696053,  2.55882648,\n",
              "        1.9486165 ,  1.42529043, -0.13727671, -2.37567592, -2.22099754,\n",
              "       -1.14531388,  0.75823908,  2.03803389,  1.09145248,  0.16325245,\n",
              "       -1.1362415 , -2.36166163, -3.36835119, -0.27157323, -0.05324053,\n",
              "       -0.42635208, -1.58322892, -0.40382236, -1.62030995, -1.42822377,\n",
              "       -1.71398359, -0.69863962, -0.72692011, -1.62244035, -1.18075049,\n",
              "       -0.19178045,  0.14924296,  0.46022236, -0.2959928 , -0.69157988,\n",
              "       -1.16652579, -1.15445782, -1.50340738, -2.69811694, -1.68038594,\n",
              "       -1.2064663 , -2.2592942 , -1.10335984, -1.3381274 , -0.79788456,\n",
              "        0.3584084 ,  0.57528654,  1.52794824, -0.12752454, -0.00526764,\n",
              "       -0.66351929, -1.40055906, -1.56659305, -1.28471516, -0.65828818,\n",
              "       -1.43483735, -0.11538576,  0.6603213 , -0.98490949,  0.56826034,\n",
              "        2.54747935,  3.10311098,  1.79306808, -0.25692035,  0.49030183,\n",
              "        0.04044859,  1.15674357,  1.12558012,  1.64575442,  1.44785391,\n",
              "        1.53570541,  0.94949357,  2.23832427,  1.72767279,  1.33646274])"
            ]
          },
          "metadata": {
            "tags": []
          },
          "execution_count": 342
        }
      ]
    },
    {
      "cell_type": "code",
      "metadata": {
        "id": "WPLv4hcs8iVu"
      },
      "source": [
        "#ArmaProcess??"
      ],
      "execution_count": 343,
      "outputs": []
    },
    {
      "cell_type": "markdown",
      "metadata": {
        "id": "gOeiRnSS9CxE"
      },
      "source": [
        "The ARMA(p,q) process is described by\n",
        "\n",
        ".. math::\n",
        "\n",
        "$\n",
        "        y_{t}=\\phi_{1}y_{t-1}+\\ldots+\\phi_{p}y_{t-p}+\\theta_{1}\\epsilon_{t-1}\n",
        "               +\\ldots+\\theta_{q}\\epsilon_{t-q}+\\epsilon_{t}\n",
        "$\n",
        "\n",
        "and the parameterization used in this function uses the lag-polynomial\n",
        "    representation,\n",
        "\n",
        ".. math::\n",
        "\n",
        "$\n",
        "        \\left(1-\\phi_{1}L-\\ldots-\\phi_{p}L^{p}\\right)y_{t} =\n",
        "            \\left(1-\\theta_{1}L-\\ldots-\\theta_{q}L^{q}\\right)\n",
        "$\n",
        "\n",
        "### ry: 上面這式子(from官方文件)怪怪的，修改一下...\n",
        "\n",
        "$\n",
        "        \\left(1-\\phi_{1}L-\\ldots-\\phi_{p}L^{p}\\right)y_{t} =\n",
        "            \\left(1+\\theta_{1}L+\\ldots+\\theta_{q}L^{q}\\right)\\epsilon_{t}\n",
        "$"
      ]
    },
    {
      "cell_type": "code",
      "metadata": {
        "id": "-nCuM4sn5Wpt",
        "colab": {
          "base_uri": "https://localhost:8080/",
          "height": 416
        },
        "outputId": "d619240e-3016-4fb7-a5a2-03eb43f1fcd3"
      },
      "source": [
        "x= pd.Series(my_simulation)\n",
        "x.describe(), x.plot(grid=True)"
      ],
      "execution_count": 344,
      "outputs": [
        {
          "output_type": "execute_result",
          "data": {
            "text/plain": [
              "(count    100.000000\n",
              " mean       0.138111\n",
              " std        1.510065\n",
              " min       -3.368351\n",
              " 25%       -1.138510\n",
              " 50%        0.075776\n",
              " 75%        1.356861\n",
              " max        4.283469\n",
              " dtype: float64, <matplotlib.axes._subplots.AxesSubplot at 0x7fa244dc4550>)"
            ]
          },
          "metadata": {
            "tags": []
          },
          "execution_count": 344
        },
        {
          "output_type": "display_data",
          "data": {
            "image/png": "[encoded data removed]",
            "text/plain": [
              "<Figure size 432x288 with 1 Axes>"
            ]
          },
          "metadata": {
            "tags": [],
            "needs_background": "light"
          }
        }
      ]
    },
    {
      "cell_type": "code",
      "metadata": {
        "id": "Q7hriPRfoFg0",
        "colab": {
          "base_uri": "https://localhost:8080/",
          "height": 545
        },
        "outputId": "fcc615af-ecb9-4476-9de0-0b13a4a71a40"
      },
      "source": [
        "from matplotlib import pyplot\n",
        "from pandas.plotting import autocorrelation_plot\n",
        "plot_acf(my_simulation)"
      ],
      "execution_count": 345,
      "outputs": [
        {
          "output_type": "execute_result",
          "data": {
            "image/png": "[encoded data removed]",
            "text/plain": [
              "<Figure size 432x288 with 1 Axes>"
            ]
          },
          "metadata": {
            "tags": []
          },
          "execution_count": 345
        },
        {
          "output_type": "display_data",
          "data": {
            "image/png": "[encoded data removed]",
            "text/plain": [
              "<Figure size 432x288 with 1 Axes>"
            ]
          },
          "metadata": {
            "tags": [],
            "needs_background": "light"
          }
        }
      ]
    },
    {
      "cell_type": "code",
      "metadata": {
        "id": "G3Osje2IoFg1",
        "colab": {
          "base_uri": "https://localhost:8080/",
          "height": 545
        },
        "outputId": "60966dbd-d4f5-4144-98c7-cccc5c02c0d5"
      },
      "source": [
        "plot_pacf(my_simulation)"
      ],
      "execution_count": 346,
      "outputs": [
        {
          "output_type": "execute_result",
          "data": {
            "image/png": "[encoded data removed]",
            "text/plain": [
              "<Figure size 432x288 with 1 Axes>"
            ]
          },
          "metadata": {
            "tags": []
          },
          "execution_count": 346
        },
        {
          "output_type": "display_data",
          "data": {
            "image/png": "[encoded data removed]",
            "text/plain": [
              "<Figure size 432x288 with 1 Axes>"
            ]
          },
          "metadata": {
            "tags": [],
            "needs_background": "light"
          }
        }
      ]
    },
    {
      "cell_type": "code",
      "metadata": {
        "id": "dYYn46FNoFg1"
      },
      "source": [
        "import warnings\n",
        "import statsmodels.api as sm\n",
        "from  statsmodels.tsa.arima_model import ARMA\n",
        "\n",
        "#mod = sm.tsa.arima.ARIMA(my_simulation, order=(2, 0, 0))\n",
        "\n",
        "mod=   sm.tsa.ARIMA(my_simulation, order=(2, 0, 0))\n",
        "#sm.tsa.ARIMA??\n"
      ],
      "execution_count": 347,
      "outputs": []
    },
    {
      "cell_type": "code",
      "metadata": {
        "id": "veYvB0EMBFgc",
        "colab": {
          "base_uri": "https://localhost:8080/",
          "height": 324
        },
        "outputId": "f5d3fa18-938c-48aa-9d93-c6b7ba48f4a4"
      },
      "source": [
        "\n",
        "mod_fit= mod.fit()\n",
        "\n",
        "mod_fit.summary()\n"
      ],
      "execution_count": 348,
      "outputs": [
        {
          "output_type": "execute_result",
          "data": {
            "text/html": [
              "<table class=\"simpletable\">\n",
              "<caption>ARMA Model Results</caption>\n",
              "<tr>\n",
              "  <th>Dep. Variable:</th>         <td>y</td>        <th>  No. Observations:  </th>    <td>100</td>  \n",
              "</tr>\n",
              "<tr>\n",
              "  <th>Model:</th>            <td>ARMA(2, 0)</td>    <th>  Log Likelihood     </th> <td>-141.440</td>\n",
              "</tr>\n",
              "<tr>\n",
              "  <th>Method:</th>             <td>css-mle</td>     <th>  S.D. of innovations</th>   <td>0.991</td> \n",
              "</tr>\n",
              "<tr>\n",
              "  <th>Date:</th>          <td>Sun, 13 Jun 2021</td> <th>  AIC                </th>  <td>290.880</td>\n",
              "</tr>\n",
              "<tr>\n",
              "  <th>Time:</th>              <td>06:26:24</td>     <th>  BIC                </th>  <td>301.301</td>\n",
              "</tr>\n",
              "<tr>\n",
              "  <th>Sample:</th>                <td>0</td>        <th>  HQIC               </th>  <td>295.098</td>\n",
              "</tr>\n",
              "<tr>\n",
              "  <th></th>                       <td> </td>        <th>                     </th>     <td> </td>   \n",
              "</tr>\n",
              "</table>\n",
              "<table class=\"simpletable\">\n",
              "<tr>\n",
              "     <td></td>        <th>coef</th>     <th>std err</th>      <th>z</th>      <th>P>|z|</th>  <th>[0.025</th>    <th>0.975]</th>  \n",
              "</tr>\n",
              "<tr>\n",
              "  <th>const</th>   <td>    0.1824</td> <td>    0.321</td> <td>    0.569</td> <td> 0.571</td> <td>   -0.446</td> <td>    0.811</td>\n",
              "</tr>\n",
              "<tr>\n",
              "  <th>ar.L1.y</th> <td>    0.8699</td> <td>    0.098</td> <td>    8.895</td> <td> 0.000</td> <td>    0.678</td> <td>    1.062</td>\n",
              "</tr>\n",
              "<tr>\n",
              "  <th>ar.L2.y</th> <td>   -0.1745</td> <td>    0.099</td> <td>   -1.768</td> <td> 0.080</td> <td>   -0.368</td> <td>    0.019</td>\n",
              "</tr>\n",
              "</table>\n",
              "<table class=\"simpletable\">\n",
              "<caption>Roots</caption>\n",
              "<tr>\n",
              "    <td></td>   <th>            Real</th>  <th>         Imaginary</th> <th>         Modulus</th>  <th>        Frequency</th>\n",
              "</tr>\n",
              "<tr>\n",
              "  <th>AR.1</th> <td>           1.7972</td> <td>          +0.0000j</td> <td>           1.7972</td> <td>           0.0000</td>\n",
              "</tr>\n",
              "<tr>\n",
              "  <th>AR.2</th> <td>           3.1896</td> <td>          +0.0000j</td> <td>           3.1896</td> <td>           0.0000</td>\n",
              "</tr>\n",
              "</table>"
            ],
            "text/plain": [
              "<class 'statsmodels.iolib.summary.Summary'>\n",
              "\"\"\"\n",
              "                              ARMA Model Results                              \n",
              "==============================================================================\n",
              "Dep. Variable:                      y   No. Observations:                  100\n",
              "Model:                     ARMA(2, 0)   Log Likelihood                -141.440\n",
              "Method:                       css-mle   S.D. of innovations              0.991\n",
              "Date:                Sun, 13 Jun 2021   AIC                            290.880\n",
              "Time:                        06:26:24   BIC                            301.301\n",
              "Sample:                             0   HQIC                           295.098\n",
              "                                                                              \n",
              "==============================================================================\n",
              "                 coef    std err          z      P>|z|      [0.025      0.975]\n",
              "------------------------------------------------------------------------------\n",
              "const          0.1824      0.321      0.569      0.571      -0.446       0.811\n",
              "ar.L1.y        0.8699      0.098      8.895      0.000       0.678       1.062\n",
              "ar.L2.y       -0.1745      0.099     -1.768      0.080      -0.368       0.019\n",
              "                                    Roots                                    \n",
              "=============================================================================\n",
              "                  Real          Imaginary           Modulus         Frequency\n",
              "-----------------------------------------------------------------------------\n",
              "AR.1            1.7972           +0.0000j            1.7972            0.0000\n",
              "AR.2            3.1896           +0.0000j            3.1896            0.0000\n",
              "-----------------------------------------------------------------------------\n",
              "\"\"\""
            ]
          },
          "metadata": {
            "tags": []
          },
          "execution_count": 348
        }
      ]
    },
    {
      "cell_type": "code",
      "metadata": {
        "id": "qIk6sJSJCo1i",
        "colab": {
          "base_uri": "https://localhost:8080/",
          "height": 348
        },
        "outputId": "186b2bb9-e84c-4bb8-f8be-a236f4d0c6db"
      },
      "source": [
        "mod_fit.summary2()"
      ],
      "execution_count": 349,
      "outputs": [
        {
          "output_type": "execute_result",
          "data": {
            "text/html": [
              "<table class=\"simpletable\">\n",
              "<tr>\n",
              "        <td>Model:</td>              <td>ARMA</td>               <td>BIC:</td>         <td>301.3011</td>\n",
              "</tr>\n",
              "<tr>\n",
              "  <td>Dependent Variable:</td>         <td>y</td>           <td>Log-Likelihood:</td>    <td>-141.44</td>\n",
              "</tr>\n",
              "<tr>\n",
              "         <td>Date:</td>        <td>2021-06-13 06:26</td>        <td>Scale:</td>         <td>1.0000</td> \n",
              "</tr>\n",
              "<tr>\n",
              "   <td>No. Observations:</td>         <td>100</td>              <td>Method:</td>        <td>css-mle</td>\n",
              "</tr>\n",
              "<tr>\n",
              "       <td>Df Model:</td>              <td>3</td>               <td>Sample:</td>           <td>0</td>   \n",
              "</tr>\n",
              "<tr>\n",
              "     <td>Df Residuals:</td>           <td>97</td>                  <td></td>               <td>0</td>   \n",
              "</tr>\n",
              "<tr>\n",
              "      <td>Converged:</td>           <td>1.0000</td>      <td>S.D. of innovations:</td>   <td>0.991</td> \n",
              "</tr>\n",
              "<tr>\n",
              "    <td>No. Iterations:</td>        <td>6.0000</td>              <td>HQIC:</td>         <td>295.098</td>\n",
              "</tr>\n",
              "<tr>\n",
              "         <td>AIC:</td>             <td>290.8804</td>               <td></td>               <td></td>    \n",
              "</tr>\n",
              "</table>\n",
              "<table class=\"simpletable\">\n",
              "<tr>\n",
              "     <td></td>      <th>Coef.</th>  <th>Std.Err.</th>    <th>t</th>     <th>P>|t|</th> <th>[0.025</th>  <th>0.975]</th>\n",
              "</tr>\n",
              "<tr>\n",
              "  <th>const</th>   <td>0.1824</td>   <td>0.3208</td>  <td>0.5685</td>  <td>0.5710</td> <td>-0.4464</td> <td>0.8112</td>\n",
              "</tr>\n",
              "<tr>\n",
              "  <th>ar.L1.y</th> <td>0.8699</td>   <td>0.0978</td>  <td>8.8953</td>  <td>0.0000</td> <td>0.6783</td>  <td>1.0616</td>\n",
              "</tr>\n",
              "<tr>\n",
              "  <th>ar.L2.y</th> <td>-0.1745</td>  <td>0.0987</td>  <td>-1.7675</td> <td>0.0803</td> <td>-0.3679</td> <td>0.0190</td>\n",
              "</tr>\n",
              "</table>\n",
              "<table class=\"simpletable\">\n",
              "<tr>\n",
              "    <td></td>    <th>Real</th>  <th>Imaginary</th> <th>Modulus</th> <th>Frequency</th>\n",
              "</tr>\n",
              "<tr>\n",
              "  <th>AR.1</th> <td>1.7972</td>  <td>0.0000</td>   <td>1.7972</td>   <td>0.0000</td>  \n",
              "</tr>\n",
              "<tr>\n",
              "  <th>AR.2</th> <td>3.1896</td>  <td>0.0000</td>   <td>3.1896</td>   <td>0.0000</td>  \n",
              "</tr>\n",
              "</table>"
            ],
            "text/plain": [
              "<class 'statsmodels.iolib.summary2.Summary'>\n",
              "\"\"\"\n",
              "                          Results: ARMA\n",
              "==================================================================\n",
              "Model:              ARMA             BIC:                 301.3011\n",
              "Dependent Variable: y                Log-Likelihood:      -141.44 \n",
              "Date:               2021-06-13 06:26 Scale:               1.0000  \n",
              "No. Observations:   100              Method:              css-mle \n",
              "Df Model:           3                Sample:              0       \n",
              "Df Residuals:       97                                    0       \n",
              "Converged:          1.0000           S.D. of innovations: 0.991   \n",
              "No. Iterations:     6.0000           HQIC:                295.098 \n",
              "AIC:                290.8804                                      \n",
              "--------------------------------------------------------------------\n",
              "             Coef.    Std.Err.      t      P>|t|     [0.025   0.975]\n",
              "--------------------------------------------------------------------\n",
              "const        0.1824     0.3208    0.5685   0.5710   -0.4464   0.8112\n",
              "ar.L1.y      0.8699     0.0978    8.8953   0.0000    0.6783   1.0616\n",
              "ar.L2.y     -0.1745     0.0987   -1.7675   0.0803   -0.3679   0.0190\n",
              "---------------------------------------------------------------------------\n",
              "               Real           Imaginary          Modulus          Frequency\n",
              "---------------------------------------------------------------------------\n",
              "AR.1          1.7972             0.0000           1.7972             0.0000\n",
              "AR.2          3.1896             0.0000           3.1896             0.0000\n",
              "==================================================================\n",
              "\n",
              "\"\"\""
            ]
          },
          "metadata": {
            "tags": []
          },
          "execution_count": 349
        }
      ]
    },
    {
      "cell_type": "markdown",
      "metadata": {
        "id": "gS9TCybboFg1"
      },
      "source": [
        "### [Learning Objective 2] RNN requires a 3-D tensor as input\n",
        "* Tensor: One tensor is a vector that enters the model\n",
        "* Time Step: One time step is one observation in the tensor.\n",
        "* Feature: One feature is one observation at a time step."
      ]
    },
    {
      "cell_type": "code",
      "metadata": {
        "id": "ZXPI3YWSoFg2"
      },
      "source": [
        "np.random.seed(0)\n",
        "\n",
        "array = np.random.random(20) #.astype(np.float32\n",
        "array.reshape((1,20,1))\n",
        "array"
      ],
      "execution_count": null,
      "outputs": []
    },
    {
      "cell_type": "code",
      "metadata": {
        "id": "YyWDXACyoFg2"
      },
      "source": [
        "plt.figure(figsize=[10, 5]); # Set dimensions for figure\n",
        "plt.plot(array, linestyle='-', marker='o', color='b')\n",
        "plt.grid(True)\n",
        "plt.show()"
      ],
      "execution_count": null,
      "outputs": []
    },
    {
      "cell_type": "code",
      "metadata": {
        "id": "6SwjDEdroFg2"
      },
      "source": [
        "array.reshape((4,5,1))"
      ],
      "execution_count": null,
      "outputs": []
    },
    {
      "cell_type": "code",
      "metadata": {
        "id": "wZ8uop8JoFg2"
      },
      "source": [
        "array.reshape((2,5,2))"
      ],
      "execution_count": null,
      "outputs": []
    },
    {
      "cell_type": "code",
      "metadata": {
        "id": "74JJls1KoFg3"
      },
      "source": [
        "np.random.seed(0)\n",
        "\n",
        "# Example 1\n",
        "array= np.random.random(20) #.astype(np.float32\n",
        "x1=   array.reshape((1,20,1))\n",
        "x1"
      ],
      "execution_count": null,
      "outputs": []
    },
    {
      "cell_type": "code",
      "metadata": {
        "id": "T8FYKzqnFMYU",
        "colab": {
          "base_uri": "https://localhost:8080/"
        },
        "outputId": "dde1f7c2-31c3-4551-86f1-52883de32d67"
      },
      "source": [
        "\n",
        "# Example 2\n",
        "x2= array.reshape((4,5,1))\n",
        "x2"
      ],
      "execution_count": null,
      "outputs": [
        {
          "output_type": "execute_result",
          "data": {
            "text/plain": [
              "array([[[0.5488135 ],\n",
              "        [0.71518937],\n",
              "        [0.60276338],\n",
              "        [0.54488318],\n",
              "        [0.4236548 ]],\n",
              "\n",
              "       [[0.64589411],\n",
              "        [0.43758721],\n",
              "        [0.891773  ],\n",
              "        [0.96366276],\n",
              "        [0.38344152]],\n",
              "\n",
              "       [[0.79172504],\n",
              "        [0.52889492],\n",
              "        [0.56804456],\n",
              "        [0.92559664],\n",
              "        [0.07103606]],\n",
              "\n",
              "       [[0.0871293 ],\n",
              "        [0.0202184 ],\n",
              "        [0.83261985],\n",
              "        [0.77815675],\n",
              "        [0.87001215]]])"
            ]
          },
          "metadata": {
            "tags": []
          },
          "execution_count": 285
        }
      ]
    },
    {
      "cell_type": "code",
      "metadata": {
        "id": "cf598s4RFNNx",
        "colab": {
          "base_uri": "https://localhost:8080/"
        },
        "outputId": "bbd37146-8f48-4904-b74c-891fc94fddf6"
      },
      "source": [
        "\n",
        "# Example 3\n",
        "x3= array.reshape((2,5,2))\n",
        "x3"
      ],
      "execution_count": null,
      "outputs": [
        {
          "output_type": "execute_result",
          "data": {
            "text/plain": [
              "array([[[0.5488135 , 0.71518937],\n",
              "        [0.60276338, 0.54488318],\n",
              "        [0.4236548 , 0.64589411],\n",
              "        [0.43758721, 0.891773  ],\n",
              "        [0.96366276, 0.38344152]],\n",
              "\n",
              "       [[0.79172504, 0.52889492],\n",
              "        [0.56804456, 0.92559664],\n",
              "        [0.07103606, 0.0871293 ],\n",
              "        [0.0202184 , 0.83261985],\n",
              "        [0.77815675, 0.87001215]]])"
            ]
          },
          "metadata": {
            "tags": []
          },
          "execution_count": 286
        }
      ]
    },
    {
      "cell_type": "markdown",
      "metadata": {
        "id": "15PsKIWToFg3"
      },
      "source": [
        "* use numpy to store and manipulate image data. \n",
        "* We will use the Python Imaging library (PIL) to read and write data to standard file formats.\n",
        "* 4 lines of pixels, each line of pixels contains 5 pixels, and each pixel contains 3 bytes (red, green, blue)\n",
        "* The shape of the array is: height x width x 3."
      ]
    },
    {
      "cell_type": "code",
      "metadata": {
        "id": "464fyrRyGnUQ"
      },
      "source": [
        "#np.random.randint?"
      ],
      "execution_count": null,
      "outputs": []
    },
    {
      "cell_type": "code",
      "metadata": {
        "id": "r2904p_4oFg3",
        "colab": {
          "base_uri": "https://localhost:8080/"
        },
        "outputId": "23be9fb4-20e3-4c7d-c80e-c1d46698e859"
      },
      "source": [
        "np.random.seed(0)\n",
        "\n",
        "# IF it is image data:\n",
        "# Create an RGB image that is 3 dimensional arrays of 8-bit unsigned integers.\n",
        "width= 5\n",
        "height= 4\n",
        "RGB= 3\n",
        "p= width * height * RGB\n",
        "img_data= np.random.randint(low=100, high=256, size=p, dtype= np.uint8) # Generate values in (100,255)\n",
        "img_data= img_data.reshape((height, width, RGB))\n",
        "img_data"
      ],
      "execution_count": null,
      "outputs": [
        {
          "output_type": "execute_result",
          "data": {
            "text/plain": [
              "array([[[110, 227, 240],\n",
              "        [147, 251, 217],\n",
              "        [122, 133, 167],\n",
              "        [178, 254, 182],\n",
              "        [218, 225, 239]],\n",
              "\n",
              "       [[203, 225, 109],\n",
              "        [216, 208, 121],\n",
              "        [181, 189, 202],\n",
              "        [198, 136, 105],\n",
              "        [212, 187, 158]],\n",
              "\n",
              "       [[143, 176, 170],\n",
              "        [160, 175, 232],\n",
              "        [114, 188, 254],\n",
              "        [240, 169, 158],\n",
              "        [157, 141, 198]],\n",
              "\n",
              "       [[166, 172, 222],\n",
              "        [225, 139, 174],\n",
              "        [187, 201, 235],\n",
              "        [222, 188, 194],\n",
              "        [207, 245, 181]]], dtype=uint8)"
            ]
          },
          "metadata": {
            "tags": []
          },
          "execution_count": 288
        }
      ]
    },
    {
      "cell_type": "code",
      "metadata": {
        "id": "KzE9a7TsoFg3"
      },
      "source": [
        "# this cell has no effect in Colab, need debugging ...\n",
        "from PIL import Image\n",
        "img= Image.fromarray(img_data)\n",
        "img.show()\n"
      ],
      "execution_count": null,
      "outputs": []
    },
    {
      "cell_type": "code",
      "metadata": {
        "id": "V1-7fWRvInNY"
      },
      "source": [
        "#\n",
        "# 尚未成功\n",
        "#\n",
        "\n",
        "# for google colab use cv2_imshow instead\n",
        "# change x, y, h ,w to the values you are happy with\n",
        "#import cv2_imshow\n",
        "#img = cv2.imread(\"lenna.png\")\n",
        "#crop_img = img[y:y+h, x:x+w]\n",
        "#cv2_imshow(img)\n",
        "#cv2.waitKey(0)\n",
        "\n",
        "#import cv2 as cv \n",
        "#from google.colab.patches import cv2_imshow # for image display\n",
        "#from PIL import Image\n",
        "#cv2_imshow(img)\n",
        "\n"
      ],
      "execution_count": null,
      "outputs": []
    },
    {
      "cell_type": "markdown",
      "metadata": {
        "id": "TtO9QvQ1oFg4"
      },
      "source": [
        "### [Learning Objective 3] Stock data"
      ]
    },
    {
      "cell_type": "code",
      "metadata": {
        "id": "RRo_KlCKo9bp"
      },
      "source": [
        "try:\n",
        "  import yfinance as yf\n",
        "except:\n",
        "  !pip install yfinance\n",
        "\n",
        "try:\n",
        "  from yahoofinancials import YahooFinancials\n",
        "except:\n",
        "  !pip install yahoofinancials\n",
        "  "
      ],
      "execution_count": 353,
      "outputs": []
    },
    {
      "cell_type": "code",
      "metadata": {
        "id": "ru5t5jyOoFg4",
        "colab": {
          "base_uri": "https://localhost:8080/",
          "height": 447
        },
        "outputId": "312b35fc-96f8-4dad-cf8e-335655d8c9fc"
      },
      "source": [
        "import pandas as pd\n",
        "import yfinance as yf\n",
        "from yahoofinancials import YahooFinancials\n",
        "\n",
        "all_data= yf.download( '^gspc',    #'AMZN', \n",
        "          start= '1991-01-01',#'2013-01-01', \n",
        "          end=  '2021-01-01',#'2019-12-31', \n",
        "          progress=False)\n",
        "# AMZN = yf.download('AMZN') for all \n",
        "'''\n",
        "all_data= AMZN[['Adj Close',\n",
        "        'Open', \n",
        "        'High', \n",
        "        'Low', \n",
        "        'Close', \n",
        "        'Volume']].round(2)\n",
        "'''\n",
        "all_data # 7559 rows × 6 columns"
      ],
      "execution_count": 356,
      "outputs": [
        {
          "output_type": "execute_result",
          "data": {
            "text/html": [
              "<div>\n",
              "<style scoped>\n",
              "    .dataframe tbody tr th:only-of-type {\n",
              "        vertical-align: middle;\n",
              "    }\n",
              "\n",
              "    .dataframe tbody tr th {\n",
              "        vertical-align: top;\n",
              "    }\n",
              "\n",
              "    .dataframe thead th {\n",
              "        text-align: right;\n",
              "    }\n",
              "</style>\n",
              "<table border=\"1\" class=\"dataframe\">\n",
              "  <thead>\n",
              "    <tr style=\"text-align: right;\">\n",
              "      <th></th>\n",
              "      <th>Open</th>\n",
              "      <th>High</th>\n",
              "      <th>Low</th>\n",
              "      <th>Close</th>\n",
              "      <th>Adj Close</th>\n",
              "      <th>Volume</th>\n",
              "    </tr>\n",
              "    <tr>\n",
              "      <th>Date</th>\n",
              "      <th></th>\n",
              "      <th></th>\n",
              "      <th></th>\n",
              "      <th></th>\n",
              "      <th></th>\n",
              "      <th></th>\n",
              "    </tr>\n",
              "  </thead>\n",
              "  <tbody>\n",
              "    <tr>\n",
              "      <th>1991-01-02</th>\n",
              "      <td>330.200012</td>\n",
              "      <td>330.750000</td>\n",
              "      <td>326.450012</td>\n",
              "      <td>326.450012</td>\n",
              "      <td>326.450012</td>\n",
              "      <td>126280000</td>\n",
              "    </tr>\n",
              "    <tr>\n",
              "      <th>1991-01-03</th>\n",
              "      <td>326.459991</td>\n",
              "      <td>326.529999</td>\n",
              "      <td>321.899994</td>\n",
              "      <td>321.910004</td>\n",
              "      <td>321.910004</td>\n",
              "      <td>141450000</td>\n",
              "    </tr>\n",
              "    <tr>\n",
              "      <th>1991-01-04</th>\n",
              "      <td>321.910004</td>\n",
              "      <td>322.350006</td>\n",
              "      <td>318.869995</td>\n",
              "      <td>321.000000</td>\n",
              "      <td>321.000000</td>\n",
              "      <td>140820000</td>\n",
              "    </tr>\n",
              "    <tr>\n",
              "      <th>1991-01-07</th>\n",
              "      <td>320.970001</td>\n",
              "      <td>320.970001</td>\n",
              "      <td>315.440002</td>\n",
              "      <td>315.440002</td>\n",
              "      <td>315.440002</td>\n",
              "      <td>130610000</td>\n",
              "    </tr>\n",
              "    <tr>\n",
              "      <th>1991-01-08</th>\n",
              "      <td>315.440002</td>\n",
              "      <td>316.970001</td>\n",
              "      <td>313.790009</td>\n",
              "      <td>314.899994</td>\n",
              "      <td>314.899994</td>\n",
              "      <td>143390000</td>\n",
              "    </tr>\n",
              "    <tr>\n",
              "      <th>...</th>\n",
              "      <td>...</td>\n",
              "      <td>...</td>\n",
              "      <td>...</td>\n",
              "      <td>...</td>\n",
              "      <td>...</td>\n",
              "      <td>...</td>\n",
              "    </tr>\n",
              "    <tr>\n",
              "      <th>2020-12-24</th>\n",
              "      <td>3694.030029</td>\n",
              "      <td>3703.820068</td>\n",
              "      <td>3689.320068</td>\n",
              "      <td>3703.060059</td>\n",
              "      <td>3703.060059</td>\n",
              "      <td>1885090000</td>\n",
              "    </tr>\n",
              "    <tr>\n",
              "      <th>2020-12-28</th>\n",
              "      <td>3723.030029</td>\n",
              "      <td>3740.510010</td>\n",
              "      <td>3723.030029</td>\n",
              "      <td>3735.360107</td>\n",
              "      <td>3735.360107</td>\n",
              "      <td>3527460000</td>\n",
              "    </tr>\n",
              "    <tr>\n",
              "      <th>2020-12-29</th>\n",
              "      <td>3750.010010</td>\n",
              "      <td>3756.120117</td>\n",
              "      <td>3723.310059</td>\n",
              "      <td>3727.040039</td>\n",
              "      <td>3727.040039</td>\n",
              "      <td>3387030000</td>\n",
              "    </tr>\n",
              "    <tr>\n",
              "      <th>2020-12-30</th>\n",
              "      <td>3736.189941</td>\n",
              "      <td>3744.629883</td>\n",
              "      <td>3730.209961</td>\n",
              "      <td>3732.040039</td>\n",
              "      <td>3732.040039</td>\n",
              "      <td>3145200000</td>\n",
              "    </tr>\n",
              "    <tr>\n",
              "      <th>2020-12-31</th>\n",
              "      <td>3733.270020</td>\n",
              "      <td>3760.199951</td>\n",
              "      <td>3726.879883</td>\n",
              "      <td>3756.070068</td>\n",
              "      <td>3756.070068</td>\n",
              "      <td>3172510000</td>\n",
              "    </tr>\n",
              "  </tbody>\n",
              "</table>\n",
              "<p>7559 rows × 6 columns</p>\n",
              "</div>"
            ],
            "text/plain": [
              "                   Open         High  ...    Adj Close      Volume\n",
              "Date                                  ...                         \n",
              "1991-01-02   330.200012   330.750000  ...   326.450012   126280000\n",
              "1991-01-03   326.459991   326.529999  ...   321.910004   141450000\n",
              "1991-01-04   321.910004   322.350006  ...   321.000000   140820000\n",
              "1991-01-07   320.970001   320.970001  ...   315.440002   130610000\n",
              "1991-01-08   315.440002   316.970001  ...   314.899994   143390000\n",
              "...                 ...          ...  ...          ...         ...\n",
              "2020-12-24  3694.030029  3703.820068  ...  3703.060059  1885090000\n",
              "2020-12-28  3723.030029  3740.510010  ...  3735.360107  3527460000\n",
              "2020-12-29  3750.010010  3756.120117  ...  3727.040039  3387030000\n",
              "2020-12-30  3736.189941  3744.629883  ...  3732.040039  3145200000\n",
              "2020-12-31  3733.270020  3760.199951  ...  3756.070068  3172510000\n",
              "\n",
              "[7559 rows x 6 columns]"
            ]
          },
          "metadata": {
            "tags": []
          },
          "execution_count": 356
        }
      ]
    },
    {
      "cell_type": "code",
      "metadata": {
        "id": "v4X2dBjcoFg4",
        "colab": {
          "base_uri": "https://localhost:8080/",
          "height": 286
        },
        "outputId": "2202bb5a-c3a2-49a5-bd1d-35bebaf75adf"
      },
      "source": [
        "all_data['Close'].plot(grid=True)"
      ],
      "execution_count": 357,
      "outputs": [
        {
          "output_type": "execute_result",
          "data": {
            "text/plain": [
              "<matplotlib.axes._subplots.AxesSubplot at 0x7fa244f55890>"
            ]
          },
          "metadata": {
            "tags": []
          },
          "execution_count": 357
        },
        {
          "output_type": "display_data",
          "data": {
            "image/png": "[encoded data removed]",
            "text/plain": [
              "<Figure size 432x288 with 1 Axes>"
            ]
          },
          "metadata": {
            "tags": [],
            "needs_background": "light"
          }
        }
      ]
    },
    {
      "cell_type": "code",
      "metadata": {
        "id": "FBsWAauRLpaO",
        "colab": {
          "base_uri": "https://localhost:8080/",
          "height": 286
        },
        "outputId": "0376a758-d4d5-4bdd-f6de-f9f1c44a582c"
      },
      "source": [
        "all_data['Close'].plot(grid=True,logy=True)"
      ],
      "execution_count": 358,
      "outputs": [
        {
          "output_type": "execute_result",
          "data": {
            "text/plain": [
              "<matplotlib.axes._subplots.AxesSubplot at 0x7fa2474f11d0>"
            ]
          },
          "metadata": {
            "tags": []
          },
          "execution_count": 358
        },
        {
          "output_type": "display_data",
          "data": {
            "image/png": "[encoded data removed]",
            "text/plain": [
              "<Figure size 432x288 with 1 Axes>"
            ]
          },
          "metadata": {
            "tags": [],
            "needs_background": "light"
          }
        }
      ]
    },
    {
      "cell_type": "code",
      "metadata": {
        "id": "VBo8J-YQL8dW",
        "colab": {
          "base_uri": "https://localhost:8080/",
          "height": 286
        },
        "outputId": "b6699511-61e8-4405-b317-fa405ebb3c2e"
      },
      "source": [
        "tr_data= all_data['Close'][:'2018']\n",
        "ts_data= all_data['Close']['2019':]\n",
        "tr_data.plot(c='r')\n",
        "ts_data.plot(c='g', grid=True, logy=True)\n",
        "tr_data.size, ts_data.size "
      ],
      "execution_count": 359,
      "outputs": [
        {
          "output_type": "execute_result",
          "data": {
            "text/plain": [
              "(7054, 505)"
            ]
          },
          "metadata": {
            "tags": []
          },
          "execution_count": 359
        },
        {
          "output_type": "display_data",
          "data": {
            "image/png": "[encoded data removed]",
            "text/plain": [
              "<Figure size 432x288 with 1 Axes>"
            ]
          },
          "metadata": {
            "tags": [],
            "needs_background": "light"
          }
        }
      ]
    },
    {
      "cell_type": "code",
      "metadata": {
        "id": "AzVzBjuDL8pT",
        "colab": {
          "base_uri": "https://localhost:8080/"
        },
        "outputId": "869bd94b-81d4-4e5f-de81-d6e2311f3bb6"
      },
      "source": [
        "tr_days= (tr_data.index[-1]-tr_data.index[0]).days\n",
        "ts_days= (ts_data.index[-1]-ts_data.index[0]).days\n",
        "\n",
        "tr_years= tr_days/365\n",
        "ts_years= ts_days/365\n",
        "tr_days, ts_days, tr_years, ts_years"
      ],
      "execution_count": 360,
      "outputs": [
        {
          "output_type": "execute_result",
          "data": {
            "text/plain": [
              "(10225, 729, 28.013698630136986, 1.9972602739726026)"
            ]
          },
          "metadata": {
            "tags": []
          },
          "execution_count": 360
        }
      ]
    },
    {
      "cell_type": "code",
      "metadata": {
        "id": "E8IKvQaJoFg4",
        "colab": {
          "base_uri": "https://localhost:8080/"
        },
        "outputId": "f4cd5cc0-f3a3-4da3-b40a-969f9b02c534"
      },
      "source": [
        "print(f\"{tr_data.size} data points in the training data\")\n",
        "print(f\"{ts_data.size} data points in the test data\")\n",
        "\n"
      ],
      "execution_count": 361,
      "outputs": [
        {
          "output_type": "stream",
          "text": [
            "7054 data points in the training data\n",
            "505 data points in the test data\n"
          ],
          "name": "stdout"
        }
      ]
    },
    {
      "cell_type": "markdown",
      "metadata": {
        "id": "MHmPLHAqoFg5"
      },
      "source": [
        "## [Learning objective 4] Create the training and test data for RNN/LSTM"
      ]
    },
    {
      "cell_type": "code",
      "metadata": {
        "id": "DaS8ZUuy-Hp_"
      },
      "source": [
        ""
      ],
      "execution_count": 364,
      "outputs": []
    },
    {
      "cell_type": "code",
      "metadata": {
        "id": "guLWt1mG-MDP"
      },
      "source": [
        ""
      ],
      "execution_count": 364,
      "outputs": []
    },
    {
      "cell_type": "code",
      "metadata": {
        "id": "v1lEjbGMoFg5",
        "colab": {
          "base_uri": "https://localhost:8080/"
        },
        "outputId": "9001f932-7b06-46aa-b7b6-13c17a0530d0"
      },
      "source": [
        "def ts_train_test( #all_data, \n",
        "          time_steps= 10, \n",
        "          for_periods= 3):\n",
        "    '''\n",
        "    input: \n",
        "      data: dataframe with dates and price data\n",
        "    output:\n",
        "      X_train, y_train: data from 2013/1/1-2018/12/31\n",
        "      X_test:  data from 2019 -\n",
        "      sc:      insantiated MinMaxScaler object fit to the training data\n",
        "    '''\n",
        "    # create training and test set\n",
        "    #ts_train = all_data[:'2018'].iloc[:,0:1].values\n",
        "    #ts_test  = all_data['2019':].iloc[:,0:1].values\n",
        "\n",
        "    ts_train= tr_data.values.reshape(-1,1)\n",
        "    ts_test=  ts_data.values.reshape(-1,1)\n",
        "\n",
        "    ts_train_len = len(ts_train)\n",
        "    ts_test_len = len(ts_test)\n",
        "\n",
        "    # create training data of s samples and t time steps\n",
        "    X_train = []\n",
        "    y_train = []\n",
        "    #y_train_stacked = []\n",
        "    for i in range(time_steps,ts_train_len-for_periods+1): \n",
        "        X_train.append(ts_train[i-time_steps:i,0])\n",
        "        y_train.append(ts_train[i:i+for_periods,0])\n",
        "    X_train, y_train = np.array(X_train), np.array(y_train)\n",
        "\n",
        "    # Reshaping X_train for efficient modelling\n",
        "    X_train= np.reshape(X_train, (X_train.shape[0],X_train.shape[1],1))\n",
        "\n",
        "    #inputs= pd.concat((all_data[\"Adj Close\"][:'2018'], \n",
        "    #          all_data[\"Adj Close\"]['2019':]),\n",
        "    #        axis=0).values\n",
        "    \n",
        "    inputs= pd.concat((tr_data, \n",
        "              ts_data),\n",
        "            axis=0).values\n",
        "\n",
        "    inputs= inputs[len(inputs)-len(ts_test) - time_steps:]\n",
        "    inputs= inputs.reshape(-1,1)\n",
        "\n",
        "    # Preparing X_test\n",
        "    X_test= []\n",
        "    for i in range(time_steps,ts_test_len+time_steps-for_periods):\n",
        "        X_test.append(inputs[i-time_steps:i,0])\n",
        "        \n",
        "    X_test= np.array(X_test)\n",
        "    X_test= np.reshape(X_test, (X_test.shape[0],X_test.shape[1],1))\n",
        "\n",
        "    return X_train, y_train , X_test\n",
        "\n",
        "X_train, y_train, X_test= ts_train_test() #all_data, 5, 2)\n",
        "X_train.shape, y_train.shape, X_test.shape"
      ],
      "execution_count": 374,
      "outputs": [
        {
          "output_type": "execute_result",
          "data": {
            "text/plain": [
              "((7042, 10, 1), (7042, 3), (502, 10, 1))"
            ]
          },
          "metadata": {
            "tags": []
          },
          "execution_count": 374
        }
      ]
    },
    {
      "cell_type": "code",
      "metadata": {
        "id": "TBYLJiPQoFg5",
        "colab": {
          "base_uri": "https://localhost:8080/",
          "height": 437
        },
        "outputId": "77df09f1-23ee-4d63-8f4c-c7a44ba6dd6f"
      },
      "source": [
        "# Make the 3-D shape to a data frame so we can see: \n",
        "X_train_see= pd.DataFrame(np.reshape(X_train, \n",
        "                   X_train.shape[0:2] #(X_train.shape[0],X_train.shape[1])\n",
        "                   ))\n",
        "y_train_see= pd.DataFrame(y_train)\n",
        "pd.concat([X_train_see,y_train_see], axis=1)"
      ],
      "execution_count": 375,
      "outputs": [
        {
          "output_type": "execute_result",
          "data": {
            "text/html": [
              "<div>\n",
              "<style scoped>\n",
              "    .dataframe tbody tr th:only-of-type {\n",
              "        vertical-align: middle;\n",
              "    }\n",
              "\n",
              "    .dataframe tbody tr th {\n",
              "        vertical-align: top;\n",
              "    }\n",
              "\n",
              "    .dataframe thead th {\n",
              "        text-align: right;\n",
              "    }\n",
              "</style>\n",
              "<table border=\"1\" class=\"dataframe\">\n",
              "  <thead>\n",
              "    <tr style=\"text-align: right;\">\n",
              "      <th></th>\n",
              "      <th>0</th>\n",
              "      <th>1</th>\n",
              "      <th>2</th>\n",
              "      <th>3</th>\n",
              "      <th>4</th>\n",
              "      <th>5</th>\n",
              "      <th>6</th>\n",
              "      <th>7</th>\n",
              "      <th>8</th>\n",
              "      <th>9</th>\n",
              "      <th>0</th>\n",
              "      <th>1</th>\n",
              "      <th>2</th>\n",
              "    </tr>\n",
              "  </thead>\n",
              "  <tbody>\n",
              "    <tr>\n",
              "      <th>0</th>\n",
              "      <td>326.450012</td>\n",
              "      <td>321.910004</td>\n",
              "      <td>321.000000</td>\n",
              "      <td>315.440002</td>\n",
              "      <td>314.899994</td>\n",
              "      <td>311.489990</td>\n",
              "      <td>314.529999</td>\n",
              "      <td>315.230011</td>\n",
              "      <td>312.489990</td>\n",
              "      <td>313.730011</td>\n",
              "      <td>316.170013</td>\n",
              "      <td>327.970001</td>\n",
              "      <td>332.230011</td>\n",
              "    </tr>\n",
              "    <tr>\n",
              "      <th>1</th>\n",
              "      <td>321.910004</td>\n",
              "      <td>321.000000</td>\n",
              "      <td>315.440002</td>\n",
              "      <td>314.899994</td>\n",
              "      <td>311.489990</td>\n",
              "      <td>314.529999</td>\n",
              "      <td>315.230011</td>\n",
              "      <td>312.489990</td>\n",
              "      <td>313.730011</td>\n",
              "      <td>316.170013</td>\n",
              "      <td>327.970001</td>\n",
              "      <td>332.230011</td>\n",
              "      <td>331.059998</td>\n",
              "    </tr>\n",
              "    <tr>\n",
              "      <th>2</th>\n",
              "      <td>321.000000</td>\n",
              "      <td>315.440002</td>\n",
              "      <td>314.899994</td>\n",
              "      <td>311.489990</td>\n",
              "      <td>314.529999</td>\n",
              "      <td>315.230011</td>\n",
              "      <td>312.489990</td>\n",
              "      <td>313.730011</td>\n",
              "      <td>316.170013</td>\n",
              "      <td>327.970001</td>\n",
              "      <td>332.230011</td>\n",
              "      <td>331.059998</td>\n",
              "      <td>328.309998</td>\n",
              "    </tr>\n",
              "    <tr>\n",
              "      <th>3</th>\n",
              "      <td>315.440002</td>\n",
              "      <td>314.899994</td>\n",
              "      <td>311.489990</td>\n",
              "      <td>314.529999</td>\n",
              "      <td>315.230011</td>\n",
              "      <td>312.489990</td>\n",
              "      <td>313.730011</td>\n",
              "      <td>316.170013</td>\n",
              "      <td>327.970001</td>\n",
              "      <td>332.230011</td>\n",
              "      <td>331.059998</td>\n",
              "      <td>328.309998</td>\n",
              "      <td>330.209991</td>\n",
              "    </tr>\n",
              "    <tr>\n",
              "      <th>4</th>\n",
              "      <td>314.899994</td>\n",
              "      <td>311.489990</td>\n",
              "      <td>314.529999</td>\n",
              "      <td>315.230011</td>\n",
              "      <td>312.489990</td>\n",
              "      <td>313.730011</td>\n",
              "      <td>316.170013</td>\n",
              "      <td>327.970001</td>\n",
              "      <td>332.230011</td>\n",
              "      <td>331.059998</td>\n",
              "      <td>328.309998</td>\n",
              "      <td>330.209991</td>\n",
              "      <td>334.779999</td>\n",
              "    </tr>\n",
              "    <tr>\n",
              "      <th>...</th>\n",
              "      <td>...</td>\n",
              "      <td>...</td>\n",
              "      <td>...</td>\n",
              "      <td>...</td>\n",
              "      <td>...</td>\n",
              "      <td>...</td>\n",
              "      <td>...</td>\n",
              "      <td>...</td>\n",
              "      <td>...</td>\n",
              "      <td>...</td>\n",
              "      <td>...</td>\n",
              "      <td>...</td>\n",
              "      <td>...</td>\n",
              "    </tr>\n",
              "    <tr>\n",
              "      <th>7037</th>\n",
              "      <td>2695.949951</td>\n",
              "      <td>2633.080078</td>\n",
              "      <td>2637.719971</td>\n",
              "      <td>2636.780029</td>\n",
              "      <td>2651.070068</td>\n",
              "      <td>2650.540039</td>\n",
              "      <td>2599.949951</td>\n",
              "      <td>2545.939941</td>\n",
              "      <td>2546.159912</td>\n",
              "      <td>2506.959961</td>\n",
              "      <td>2467.419922</td>\n",
              "      <td>2416.620117</td>\n",
              "      <td>2351.100098</td>\n",
              "    </tr>\n",
              "    <tr>\n",
              "      <th>7038</th>\n",
              "      <td>2633.080078</td>\n",
              "      <td>2637.719971</td>\n",
              "      <td>2636.780029</td>\n",
              "      <td>2651.070068</td>\n",
              "      <td>2650.540039</td>\n",
              "      <td>2599.949951</td>\n",
              "      <td>2545.939941</td>\n",
              "      <td>2546.159912</td>\n",
              "      <td>2506.959961</td>\n",
              "      <td>2467.419922</td>\n",
              "      <td>2416.620117</td>\n",
              "      <td>2351.100098</td>\n",
              "      <td>2467.699951</td>\n",
              "    </tr>\n",
              "    <tr>\n",
              "      <th>7039</th>\n",
              "      <td>2637.719971</td>\n",
              "      <td>2636.780029</td>\n",
              "      <td>2651.070068</td>\n",
              "      <td>2650.540039</td>\n",
              "      <td>2599.949951</td>\n",
              "      <td>2545.939941</td>\n",
              "      <td>2546.159912</td>\n",
              "      <td>2506.959961</td>\n",
              "      <td>2467.419922</td>\n",
              "      <td>2416.620117</td>\n",
              "      <td>2351.100098</td>\n",
              "      <td>2467.699951</td>\n",
              "      <td>2488.830078</td>\n",
              "    </tr>\n",
              "    <tr>\n",
              "      <th>7040</th>\n",
              "      <td>2636.780029</td>\n",
              "      <td>2651.070068</td>\n",
              "      <td>2650.540039</td>\n",
              "      <td>2599.949951</td>\n",
              "      <td>2545.939941</td>\n",
              "      <td>2546.159912</td>\n",
              "      <td>2506.959961</td>\n",
              "      <td>2467.419922</td>\n",
              "      <td>2416.620117</td>\n",
              "      <td>2351.100098</td>\n",
              "      <td>2467.699951</td>\n",
              "      <td>2488.830078</td>\n",
              "      <td>2485.739990</td>\n",
              "    </tr>\n",
              "    <tr>\n",
              "      <th>7041</th>\n",
              "      <td>2651.070068</td>\n",
              "      <td>2650.540039</td>\n",
              "      <td>2599.949951</td>\n",
              "      <td>2545.939941</td>\n",
              "      <td>2546.159912</td>\n",
              "      <td>2506.959961</td>\n",
              "      <td>2467.419922</td>\n",
              "      <td>2416.620117</td>\n",
              "      <td>2351.100098</td>\n",
              "      <td>2467.699951</td>\n",
              "      <td>2488.830078</td>\n",
              "      <td>2485.739990</td>\n",
              "      <td>2506.850098</td>\n",
              "    </tr>\n",
              "  </tbody>\n",
              "</table>\n",
              "<p>7042 rows × 13 columns</p>\n",
              "</div>"
            ],
            "text/plain": [
              "                0            1  ...            1            2\n",
              "0      326.450012   321.910004  ...   327.970001   332.230011\n",
              "1      321.910004   321.000000  ...   332.230011   331.059998\n",
              "2      321.000000   315.440002  ...   331.059998   328.309998\n",
              "3      315.440002   314.899994  ...   328.309998   330.209991\n",
              "4      314.899994   311.489990  ...   330.209991   334.779999\n",
              "...           ...          ...  ...          ...          ...\n",
              "7037  2695.949951  2633.080078  ...  2416.620117  2351.100098\n",
              "7038  2633.080078  2637.719971  ...  2351.100098  2467.699951\n",
              "7039  2637.719971  2636.780029  ...  2467.699951  2488.830078\n",
              "7040  2636.780029  2651.070068  ...  2488.830078  2485.739990\n",
              "7041  2651.070068  2650.540039  ...  2485.739990  2506.850098\n",
              "\n",
              "[7042 rows x 13 columns]"
            ]
          },
          "metadata": {
            "tags": []
          },
          "execution_count": 375
        }
      ]
    },
    {
      "cell_type": "code",
      "metadata": {
        "id": "Mc2qWkgxoFg6",
        "colab": {
          "base_uri": "https://localhost:8080/",
          "height": 437
        },
        "outputId": "83469bcb-e694-4e4d-f454-948cc741a83a"
      },
      "source": [
        "# Make the 3-D shape to a data frame so we can see: \n",
        "X_test_see= pd.DataFrame(np.reshape(X_test, \n",
        "                  X_test.shape[0:2] #(X_test.shape[0],X_test.shape[1])\n",
        "                  ))\n",
        "pd.DataFrame(X_test_see)"
      ],
      "execution_count": 376,
      "outputs": [
        {
          "output_type": "execute_result",
          "data": {
            "text/html": [
              "<div>\n",
              "<style scoped>\n",
              "    .dataframe tbody tr th:only-of-type {\n",
              "        vertical-align: middle;\n",
              "    }\n",
              "\n",
              "    .dataframe tbody tr th {\n",
              "        vertical-align: top;\n",
              "    }\n",
              "\n",
              "    .dataframe thead th {\n",
              "        text-align: right;\n",
              "    }\n",
              "</style>\n",
              "<table border=\"1\" class=\"dataframe\">\n",
              "  <thead>\n",
              "    <tr style=\"text-align: right;\">\n",
              "      <th></th>\n",
              "      <th>0</th>\n",
              "      <th>1</th>\n",
              "      <th>2</th>\n",
              "      <th>3</th>\n",
              "      <th>4</th>\n",
              "      <th>5</th>\n",
              "      <th>6</th>\n",
              "      <th>7</th>\n",
              "      <th>8</th>\n",
              "      <th>9</th>\n",
              "    </tr>\n",
              "  </thead>\n",
              "  <tbody>\n",
              "    <tr>\n",
              "      <th>0</th>\n",
              "      <td>2545.939941</td>\n",
              "      <td>2546.159912</td>\n",
              "      <td>2506.959961</td>\n",
              "      <td>2467.419922</td>\n",
              "      <td>2416.620117</td>\n",
              "      <td>2351.100098</td>\n",
              "      <td>2467.699951</td>\n",
              "      <td>2488.830078</td>\n",
              "      <td>2485.739990</td>\n",
              "      <td>2506.850098</td>\n",
              "    </tr>\n",
              "    <tr>\n",
              "      <th>1</th>\n",
              "      <td>2546.159912</td>\n",
              "      <td>2506.959961</td>\n",
              "      <td>2467.419922</td>\n",
              "      <td>2416.620117</td>\n",
              "      <td>2351.100098</td>\n",
              "      <td>2467.699951</td>\n",
              "      <td>2488.830078</td>\n",
              "      <td>2485.739990</td>\n",
              "      <td>2506.850098</td>\n",
              "      <td>2510.030029</td>\n",
              "    </tr>\n",
              "    <tr>\n",
              "      <th>2</th>\n",
              "      <td>2506.959961</td>\n",
              "      <td>2467.419922</td>\n",
              "      <td>2416.620117</td>\n",
              "      <td>2351.100098</td>\n",
              "      <td>2467.699951</td>\n",
              "      <td>2488.830078</td>\n",
              "      <td>2485.739990</td>\n",
              "      <td>2506.850098</td>\n",
              "      <td>2510.030029</td>\n",
              "      <td>2447.889893</td>\n",
              "    </tr>\n",
              "    <tr>\n",
              "      <th>3</th>\n",
              "      <td>2467.419922</td>\n",
              "      <td>2416.620117</td>\n",
              "      <td>2351.100098</td>\n",
              "      <td>2467.699951</td>\n",
              "      <td>2488.830078</td>\n",
              "      <td>2485.739990</td>\n",
              "      <td>2506.850098</td>\n",
              "      <td>2510.030029</td>\n",
              "      <td>2447.889893</td>\n",
              "      <td>2531.939941</td>\n",
              "    </tr>\n",
              "    <tr>\n",
              "      <th>4</th>\n",
              "      <td>2416.620117</td>\n",
              "      <td>2351.100098</td>\n",
              "      <td>2467.699951</td>\n",
              "      <td>2488.830078</td>\n",
              "      <td>2485.739990</td>\n",
              "      <td>2506.850098</td>\n",
              "      <td>2510.030029</td>\n",
              "      <td>2447.889893</td>\n",
              "      <td>2531.939941</td>\n",
              "      <td>2549.689941</td>\n",
              "    </tr>\n",
              "    <tr>\n",
              "      <th>...</th>\n",
              "      <td>...</td>\n",
              "      <td>...</td>\n",
              "      <td>...</td>\n",
              "      <td>...</td>\n",
              "      <td>...</td>\n",
              "      <td>...</td>\n",
              "      <td>...</td>\n",
              "      <td>...</td>\n",
              "      <td>...</td>\n",
              "      <td>...</td>\n",
              "    </tr>\n",
              "    <tr>\n",
              "      <th>497</th>\n",
              "      <td>3691.959961</td>\n",
              "      <td>3702.250000</td>\n",
              "      <td>3672.820068</td>\n",
              "      <td>3668.100098</td>\n",
              "      <td>3663.459961</td>\n",
              "      <td>3647.489990</td>\n",
              "      <td>3694.620117</td>\n",
              "      <td>3701.169922</td>\n",
              "      <td>3722.479980</td>\n",
              "      <td>3709.409912</td>\n",
              "    </tr>\n",
              "    <tr>\n",
              "      <th>498</th>\n",
              "      <td>3702.250000</td>\n",
              "      <td>3672.820068</td>\n",
              "      <td>3668.100098</td>\n",
              "      <td>3663.459961</td>\n",
              "      <td>3647.489990</td>\n",
              "      <td>3694.620117</td>\n",
              "      <td>3701.169922</td>\n",
              "      <td>3722.479980</td>\n",
              "      <td>3709.409912</td>\n",
              "      <td>3694.919922</td>\n",
              "    </tr>\n",
              "    <tr>\n",
              "      <th>499</th>\n",
              "      <td>3672.820068</td>\n",
              "      <td>3668.100098</td>\n",
              "      <td>3663.459961</td>\n",
              "      <td>3647.489990</td>\n",
              "      <td>3694.620117</td>\n",
              "      <td>3701.169922</td>\n",
              "      <td>3722.479980</td>\n",
              "      <td>3709.409912</td>\n",
              "      <td>3694.919922</td>\n",
              "      <td>3687.260010</td>\n",
              "    </tr>\n",
              "    <tr>\n",
              "      <th>500</th>\n",
              "      <td>3668.100098</td>\n",
              "      <td>3663.459961</td>\n",
              "      <td>3647.489990</td>\n",
              "      <td>3694.620117</td>\n",
              "      <td>3701.169922</td>\n",
              "      <td>3722.479980</td>\n",
              "      <td>3709.409912</td>\n",
              "      <td>3694.919922</td>\n",
              "      <td>3687.260010</td>\n",
              "      <td>3690.010010</td>\n",
              "    </tr>\n",
              "    <tr>\n",
              "      <th>501</th>\n",
              "      <td>3663.459961</td>\n",
              "      <td>3647.489990</td>\n",
              "      <td>3694.620117</td>\n",
              "      <td>3701.169922</td>\n",
              "      <td>3722.479980</td>\n",
              "      <td>3709.409912</td>\n",
              "      <td>3694.919922</td>\n",
              "      <td>3687.260010</td>\n",
              "      <td>3690.010010</td>\n",
              "      <td>3703.060059</td>\n",
              "    </tr>\n",
              "  </tbody>\n",
              "</table>\n",
              "<p>502 rows × 10 columns</p>\n",
              "</div>"
            ],
            "text/plain": [
              "               0            1  ...            8            9\n",
              "0    2545.939941  2546.159912  ...  2485.739990  2506.850098\n",
              "1    2546.159912  2506.959961  ...  2506.850098  2510.030029\n",
              "2    2506.959961  2467.419922  ...  2510.030029  2447.889893\n",
              "3    2467.419922  2416.620117  ...  2447.889893  2531.939941\n",
              "4    2416.620117  2351.100098  ...  2531.939941  2549.689941\n",
              "..           ...          ...  ...          ...          ...\n",
              "497  3691.959961  3702.250000  ...  3722.479980  3709.409912\n",
              "498  3702.250000  3672.820068  ...  3709.409912  3694.919922\n",
              "499  3672.820068  3668.100098  ...  3694.919922  3687.260010\n",
              "500  3668.100098  3663.459961  ...  3687.260010  3690.010010\n",
              "501  3663.459961  3647.489990  ...  3690.010010  3703.060059\n",
              "\n",
              "[502 rows x 10 columns]"
            ]
          },
          "metadata": {
            "tags": []
          },
          "execution_count": 376
        }
      ]
    },
    {
      "cell_type": "code",
      "metadata": {
        "id": "w7MN1GBUoFg6",
        "colab": {
          "base_uri": "https://localhost:8080/"
        },
        "outputId": "c0734405-87fe-4c4a-923a-ffc87687855b"
      },
      "source": [
        "print(f\"{X_train.shape} samples in the training data\")\n",
        "print(f\"{y_train.shape} samples in the training label\")\n",
        "print(f\"{X_test.shape} samples in the test data\")"
      ],
      "execution_count": 377,
      "outputs": [
        {
          "output_type": "stream",
          "text": [
            "(7042, 10, 1) samples in the training data\n",
            "(7042, 3) samples in the training label\n",
            "(502, 10, 1) samples in the test data\n"
          ],
          "name": "stdout"
        }
      ]
    },
    {
      "cell_type": "markdown",
      "metadata": {
        "id": "edzWqzNuoFg6"
      },
      "source": [
        "## [Learning objective 5] Run a simple RNN model"
      ]
    },
    {
      "cell_type": "code",
      "metadata": {
        "id": "hYGr0luxoFg6",
        "colab": {
          "base_uri": "https://localhost:8080/"
        },
        "outputId": "3a0c97ba-87d2-4cd3-f311-592fe1cd2f5d"
      },
      "source": [
        "def simple_rnn_model(X_train, y_train, X_test, for_periods= 3):\n",
        "    '''\n",
        "    create single layer rnn model trained on X_train and y_train\n",
        "    and make predictions on the X_test data\n",
        "    '''\n",
        "    # create a model\n",
        "    from keras.models import Sequential\n",
        "    from keras.layers import Dense, SimpleRNN\n",
        "    \n",
        "    my_rnn_model = Sequential()\n",
        "    my_rnn_model.add(SimpleRNN(32, return_sequences=True))\n",
        "    #my_rnn_model.add(SimpleRNN(32, return_sequences=True))\n",
        "    #my_rnn_model.add(SimpleRNN(32, return_sequences=True))\n",
        "    my_rnn_model.add(SimpleRNN(32))\n",
        "    my_rnn_model.add(Dense(for_periods)) # The time step of the output\n",
        "\n",
        "    my_rnn_model.compile(optimizer='rmsprop', \n",
        "               loss='mean_squared_error')\n",
        "\n",
        "    # fit the RNN model\n",
        "    my_rnn_model.fit(X_train, y_train, \n",
        "            epochs=10, \n",
        "            batch_size=150, \n",
        "            verbose=0)\n",
        "\n",
        "    # Finalizing predictions\n",
        "    rnn_predictions= my_rnn_model.predict(X_test)\n",
        "\n",
        "    return my_rnn_model, rnn_predictions\n",
        "\n",
        "(my_rnn_model, \n",
        "rnn_predictions)= simple_rnn_model(X_train, y_train, X_test)\n",
        "\n",
        "my_rnn_model, rnn_predictions"
      ],
      "execution_count": 379,
      "outputs": [
        {
          "output_type": "execute_result",
          "data": {
            "text/plain": [
              "(<keras.engine.sequential.Sequential at 0x7fa2339c9810>,\n",
              " array([[19.613663, 19.016378, 16.857786],\n",
              "        [19.613663, 19.016378, 16.857786],\n",
              "        [19.613663, 19.016378, 16.857786],\n",
              "        ...,\n",
              "        [19.613663, 19.016378, 16.857786],\n",
              "        [19.613663, 19.016378, 16.857786],\n",
              "        [19.613663, 19.016378, 16.857786]], dtype=float32))"
            ]
          },
          "metadata": {
            "tags": []
          },
          "execution_count": 379
        }
      ]
    },
    {
      "cell_type": "code",
      "metadata": {
        "id": "WaJBssCcTPnS"
      },
      "source": [
        ""
      ],
      "execution_count": null,
      "outputs": []
    },
    {
      "cell_type": "code",
      "metadata": {
        "id": "ESXqYAVRoFg6",
        "colab": {
          "base_uri": "https://localhost:8080/",
          "height": 529
        },
        "outputId": "9c3ca1a1-3b08-4e7d-ee32-3d1fdbb09bf2"
      },
      "source": [
        "def actual_pred_plot(preds):\n",
        "    actual_pred= pd.DataFrame()#columns= ['Adj. Close', 'prediction'])\n",
        "    actual_pred['real']= ts_data[-len(preds):] #all_data.loc['2019':,'Adj Close'][0:len(preds)]\n",
        "    actual_pred['pred']= preds[:,0]\n",
        "\n",
        "    from keras.metrics import MeanSquaredError\n",
        "    m = MeanSquaredError()\n",
        "    m.update_state(np.array(actual_pred['real']),\n",
        "            np.array(actual_pred['pred']))\n",
        "    actual_pred.plot(grid=True, logy=True)\n",
        "    return (m.result().numpy(), actual_pred)\n",
        "    \n",
        "actual_pred_plot(rnn_predictions)  "
      ],
      "execution_count": 380,
      "outputs": [
        {
          "output_type": "execute_result",
          "data": {
            "text/plain": [
              "(9384513.0,                    real       pred\n",
              " Date                              \n",
              " 2019-01-07  2549.689941  19.613663\n",
              " 2019-01-08  2574.409912  19.613663\n",
              " 2019-01-09  2584.959961  19.613663\n",
              " 2019-01-10  2596.639893  19.613663\n",
              " 2019-01-11  2596.260010  19.613663\n",
              " ...                 ...        ...\n",
              " 2020-12-24  3703.060059  19.613663\n",
              " 2020-12-28  3735.360107  19.613663\n",
              " 2020-12-29  3727.040039  19.613663\n",
              " 2020-12-30  3732.040039  19.613663\n",
              " 2020-12-31  3756.070068  19.613663\n",
              " \n",
              " [502 rows x 2 columns])"
            ]
          },
          "metadata": {
            "tags": []
          },
          "execution_count": 380
        },
        {
          "output_type": "display_data",
          "data": {
            "image/png": "[encoded data removed]",
            "text/plain": [
              "<Figure size 432x288 with 1 Axes>"
            ]
          },
          "metadata": {
            "tags": [],
            "needs_background": "light"
          }
        }
      ]
    },
    {
      "cell_type": "markdown",
      "metadata": {
        "id": "iYLB-sF0oFg7"
      },
      "source": [
        "## [Learning objective 6] RNN/LTSM requires normalized input data"
      ]
    },
    {
      "cell_type": "code",
      "metadata": {
        "id": "e1Y0eTfWoFg7",
        "outputId": "bb953e82-9fd5-4385-aab9-4109c436c5aa",
        "colab": {
          "base_uri": "https://localhost:8080/"
        }
      },
      "source": [
        "def ts_train_test_normalize( #all_data, \n",
        "               time_steps=10, \n",
        "               for_periods=3):\n",
        "    '''\n",
        "    input: \n",
        "      data: dataframe with dates and price data\n",
        "      time_steps: 向後回朔日期\n",
        "      for_periods: 向前預測日期\n",
        "    output:\n",
        "      X_train, y_train: data from 2013/1/1-2018/12/31\n",
        "      X_test:  data from 2019 -\n",
        "      sc:      insantiated MinMaxScaler object fit to the training data\n",
        "    '''\n",
        "    # create training and test set\n",
        "    #ts_train =  all_data[:'2018'].iloc[:,0:1].values #tr_data.values #\n",
        "    #ts_test  =  all_data['2019':].iloc[:,0:1].values #ts_data.values #\n",
        "    \n",
        "    ts_train= tr_data.values.reshape(-1,1)\n",
        "    ts_test=  ts_data.values.reshape(-1,1)\n",
        "\n",
        "    ts_train_len = len(ts_train)\n",
        "    ts_test_len = len(ts_test)\n",
        "\n",
        "    # scale the data\n",
        "    from sklearn.preprocessing import MinMaxScaler\n",
        "    sc= MinMaxScaler(feature_range=(0,1))\n",
        "\n",
        "    ts_train_scaled= sc.fit_transform(ts_train)\n",
        "\n",
        "    # create training data of s samples and t time steps\n",
        "    X_train= []\n",
        "    y_train= []\n",
        "    y_train_stacked= []\n",
        "    for i in range(time_steps,ts_train_len-for_periods+1): \n",
        "        X_train.append(ts_train_scaled[i-time_steps:i,0])\n",
        "        y_train.append(ts_train_scaled[i:i+for_periods,0])\n",
        "    X_train, y_train = np.array(X_train), np.array(y_train)\n",
        "\n",
        "    # Reshaping X_train for efficient modelling\n",
        "    X_train = np.reshape(X_train, (X_train.shape[0],X_train.shape[1],1))\n",
        "\n",
        "    #inputs = pd.concat((all_data[\"Adj Close\"][:'2018'], #ts_train, #\n",
        "    #           all_data[\"Adj Close\"]['2019':] #ts_test  #\n",
        "    #           ),axis=0).values\n",
        "    \n",
        "    inputs= pd.concat((tr_data, \n",
        "              ts_data),\n",
        "            axis=0).values\n",
        "\n",
        "    inputs = inputs[len(inputs)-len(ts_test) - time_steps:]\n",
        "    inputs = inputs.reshape(-1,1)\n",
        "    inputs  = sc.transform(inputs)\n",
        "\n",
        "    # Preparing X_test\n",
        "    X_test = []\n",
        "    for i in range(time_steps,ts_test_len+time_steps-for_periods):\n",
        "        X_test.append(inputs[i-time_steps:i,0])\n",
        "        \n",
        "    X_test = np.array(X_test)\n",
        "    X_test = np.reshape(X_test, (X_test.shape[0],X_test.shape[1],1))\n",
        "\n",
        "    return X_train, y_train , X_test, sc\n",
        "\n",
        "X_train, y_train, X_test, sc= ts_train_test_normalize() #all_data)\n",
        "X_train, y_train, X_test, sc"
      ],
      "execution_count": 384,
      "outputs": [
        {
          "output_type": "execute_result",
          "data": {
            "text/plain": [
              "(array([[[5.71154521e-03],\n",
              "         [3.97822797e-03],\n",
              "         [3.63080020e-03],\n",
              "         ...,\n",
              "         [1.42789213e-03],\n",
              "         [3.81787221e-04],\n",
              "         [8.55211298e-04]],\n",
              " \n",
              "        [[3.97822797e-03],\n",
              "         [3.63080020e-03],\n",
              "         [1.50806418e-03],\n",
              "         ...,\n",
              "         [3.81787221e-04],\n",
              "         [8.55211298e-04],\n",
              "         [1.78677305e-03]],\n",
              " \n",
              "        [[3.63080020e-03],\n",
              "         [1.50806418e-03],\n",
              "         [1.30189582e-03],\n",
              "         ...,\n",
              "         [8.55211298e-04],\n",
              "         [1.78677305e-03],\n",
              "         [6.29185760e-03]],\n",
              " \n",
              "        ...,\n",
              " \n",
              "        [[8.88124879e-01],\n",
              "         [8.87766022e-01],\n",
              "         [8.93221776e-01],\n",
              "         ...,\n",
              "         [8.38202379e-01],\n",
              "         [8.23106497e-01],\n",
              "         [8.03711781e-01]],\n",
              " \n",
              "        [[8.87766022e-01],\n",
              "         [8.93221776e-01],\n",
              "         [8.93019418e-01],\n",
              "         ...,\n",
              "         [8.23106497e-01],\n",
              "         [8.03711781e-01],\n",
              "         [7.78697075e-01]],\n",
              " \n",
              "        [[8.93221776e-01],\n",
              "         [8.93019418e-01],\n",
              "         [8.73704769e-01],\n",
              "         ...,\n",
              "         [8.03711781e-01],\n",
              "         [7.78697075e-01],\n",
              "         [8.23213409e-01]]]), array([[0.00178677, 0.00629186, 0.00791827],\n",
              "        [0.00629186, 0.00791827, 0.00747158],\n",
              "        [0.00791827, 0.00747158, 0.00642166],\n",
              "        ...,\n",
              "        [0.77869707, 0.82321341, 0.83128062],\n",
              "        [0.82321341, 0.83128062, 0.83010087],\n",
              "        [0.83128062, 0.83010087, 0.83816043]]), array([[[0.85308444],\n",
              "         [0.85316842],\n",
              "         [0.83820238],\n",
              "         ...,\n",
              "         [0.83128062],\n",
              "         [0.83010087],\n",
              "         [0.83816043]],\n",
              " \n",
              "        [[0.85316842],\n",
              "         [0.83820238],\n",
              "         [0.8231065 ],\n",
              "         ...,\n",
              "         [0.83010087],\n",
              "         [0.83816043],\n",
              "         [0.83937449]],\n",
              " \n",
              "        [[0.83820238],\n",
              "         [0.8231065 ],\n",
              "         [0.80371178],\n",
              "         ...,\n",
              "         [0.83816043],\n",
              "         [0.83937449],\n",
              "         [0.81565018]],\n",
              " \n",
              "        ...,\n",
              " \n",
              "        [[1.28331287],\n",
              "         [1.28151084],\n",
              "         [1.2797393 ],\n",
              "         ...,\n",
              "         [1.2972824 ],\n",
              "         [1.29175031],\n",
              "         [1.28882585]],\n",
              " \n",
              "        [[1.28151084],\n",
              "         [1.2797393 ],\n",
              "         [1.27364217],\n",
              "         ...,\n",
              "         [1.29175031],\n",
              "         [1.28882585],\n",
              "         [1.28987577]],\n",
              " \n",
              "        [[1.2797393 ],\n",
              "         [1.27364217],\n",
              "         [1.29163585],\n",
              "         ...,\n",
              "         [1.28882585],\n",
              "         [1.28987577],\n",
              "         [1.29485811]]]), MinMaxScaler(copy=True, feature_range=(0, 1)))"
            ]
          },
          "metadata": {
            "tags": []
          },
          "execution_count": 384
        }
      ]
    },
    {
      "cell_type": "code",
      "metadata": {
        "id": "2qornJWoataB"
      },
      "source": [
        "\n",
        "def simple_rnn_model(X_train, y_train, X_test, sc, for_periods= 3):\n",
        "    '''\n",
        "    create single layer rnn model trained on X_train and y_train\n",
        "    and make predictions on the X_test data\n",
        "    '''\n",
        "    # create a model\n",
        "    from keras.models import Sequential\n",
        "    from keras.layers import Dense, SimpleRNN\n",
        "    \n",
        "    my_rnn_model = Sequential()\n",
        "    my_rnn_model.add(SimpleRNN(32, return_sequences=True))\n",
        "    #my_rnn_model.add(SimpleRNN(32, return_sequences=True))\n",
        "    #my_rnn_model.add(SimpleRNN(32, return_sequences=True))\n",
        "    my_rnn_model.add(SimpleRNN(32))\n",
        "    my_rnn_model.add(Dense(for_periods)) # The time step of the output\n",
        "\n",
        "    my_rnn_model.compile(optimizer='rmsprop', \n",
        "              loss='mean_squared_error')\n",
        "\n",
        "    # fit the RNN model\n",
        "    my_rnn_model.fit(X_train, y_train, epochs=100, batch_size=150, verbose=0)\n",
        "\n",
        "    # Finalizing predictions\n",
        "    rnn_predictions= my_rnn_model.predict(X_test)\n",
        "    from sklearn.preprocessing import MinMaxScaler\n",
        "    rnn_predictions= sc.inverse_transform(rnn_predictions)\n",
        "\n",
        "    return my_rnn_model, rnn_predictions\n",
        "\n",
        "\n",
        "my_rnn_model, rnn_predictions_2= simple_rnn_model(X_train, y_train, X_test, sc)\n",
        "rnn_predictions_2, actual_pred_plot(rnn_predictions_2)\n",
        "\n"
      ],
      "execution_count": null,
      "outputs": []
    },
    {
      "cell_type": "code",
      "metadata": {
        "id": "_h5TlsbYJ8Io",
        "outputId": "4eef0275-cc98-473d-98c5-2bb55ba5fe66",
        "colab": {
          "base_uri": "https://localhost:8080/"
        }
      },
      "source": [
        "x= X_test\n",
        "y= my_rnn_model(x) #.predict(x)\n",
        "\n",
        "y= sc.inverse_transform(y)\n",
        "x, y\n",
        "\n",
        "# ry: 這裡所用的 X_test 其實有點怪怪的。\n",
        "# 就 RNN 而言，input 應是最初的 1個 window，\n",
        "# 稱為初始 window，(eg. 10個資料點)\n",
        "# 然後產生的 output (eg. 3個資料點)接到初始 window 的後面，\n",
        "# 砍掉初始window的前面(3個資料點)，形成新的 input\n",
        "# 如此一直重複至無窮遠的未來....\n",
        "#\n",
        "#\n",
        "# x= X_test[0:1] # 僅拿1個window\n",
        "# #以 x 為種子，運用 rnn_model() 不斷滾出整條output yL[]\n",
        "# yL= [x]\n",
        "# while True:\n",
        "#   y= my_rnn_model(x)\n",
        "#   x[0:7]=x[3:]\n",
        "#   x[7:]=y\n",
        "#   yL +=[y]\n",
        "#\n",
        "# 以上想法尚未 implement...\n",
        "# 可以想見的是預測誤差會逐步累積，越遠的將來誤差越大....\n",
        "# 好處是，只要提供初始種子就可長成1棵大樹\n",
        "# 雖然大樹可能越長越歪!!\n",
        "#"
      ],
      "execution_count": 405,
      "outputs": [
        {
          "output_type": "execute_result",
          "data": {
            "text/plain": [
              "(array([[[0.85308444],\n",
              "         [0.85316842],\n",
              "         [0.83820238],\n",
              "         ...,\n",
              "         [0.83128062],\n",
              "         [0.83010087],\n",
              "         [0.83816043]],\n",
              " \n",
              "        [[0.85316842],\n",
              "         [0.83820238],\n",
              "         [0.8231065 ],\n",
              "         ...,\n",
              "         [0.83010087],\n",
              "         [0.83816043],\n",
              "         [0.83937449]],\n",
              " \n",
              "        [[0.83820238],\n",
              "         [0.8231065 ],\n",
              "         [0.80371178],\n",
              "         ...,\n",
              "         [0.83816043],\n",
              "         [0.83937449],\n",
              "         [0.81565018]],\n",
              " \n",
              "        ...,\n",
              " \n",
              "        [[1.28331287],\n",
              "         [1.28151084],\n",
              "         [1.2797393 ],\n",
              "         ...,\n",
              "         [1.2972824 ],\n",
              "         [1.29175031],\n",
              "         [1.28882585]],\n",
              " \n",
              "        [[1.28151084],\n",
              "         [1.2797393 ],\n",
              "         [1.27364217],\n",
              "         ...,\n",
              "         [1.29175031],\n",
              "         [1.28882585],\n",
              "         [1.28987577]],\n",
              " \n",
              "        [[1.2797393 ],\n",
              "         [1.27364217],\n",
              "         [1.29163585],\n",
              "         ...,\n",
              "         [1.28882585],\n",
              "         [1.28987577],\n",
              "         [1.29485811]]]), array([[2498.21374664, 2493.92622137, 2517.47115635],\n",
              "        [2506.24050353, 2494.91196344, 2533.94713102],\n",
              "        [2443.61356496, 2431.76498894, 2470.47464618],\n",
              "        ...,\n",
              "        [3512.90953554, 3478.79855085, 3494.21977838],\n",
              "        [3515.01684414, 3478.67552824, 3494.95541611],\n",
              "        [3522.55744315, 3488.75151707, 3504.15650811]]))"
            ]
          },
          "metadata": {
            "tags": []
          },
          "execution_count": 405
        }
      ]
    },
    {
      "cell_type": "code",
      "metadata": {
        "id": "7ecgLVgSYonr",
        "outputId": "0b45a3d2-53df-4ab6-be09-be363fba6c7e",
        "colab": {
          "base_uri": "https://localhost:8080/"
        }
      },
      "source": [
        "my_rnn_model(x)\n"
      ],
      "execution_count": 402,
      "outputs": [
        {
          "output_type": "execute_result",
          "data": {
            "text/plain": [
              "<tf.Tensor: shape=(502, 3), dtype=float32, numpy=\n",
              "array([[0.8348632 , 0.83322626, 0.8422154 ],\n",
              "       [0.8379277 , 0.8336026 , 0.84850574],\n",
              "       [0.81401753, 0.8094939 , 0.82427275],\n",
              "       ...,\n",
              "       [1.2222611 , 1.2092379 , 1.2151256 ],\n",
              "       [1.2230656 , 1.209191  , 1.2154064 ],\n",
              "       [1.2259445 , 1.2130378 , 1.2189193 ]], dtype=float32)>"
            ]
          },
          "metadata": {
            "tags": []
          },
          "execution_count": 402
        }
      ]
    },
    {
      "cell_type": "markdown",
      "metadata": {
        "id": "DlPJ6mMboFg7"
      },
      "source": [
        "## [Learning objective 7] LSTM"
      ]
    },
    {
      "cell_type": "code",
      "metadata": {
        "id": "BEb-WzoboFg8",
        "colab": {
          "base_uri": "https://localhost:8080/",
          "height": 584
        },
        "outputId": "4acaaeb1-a60f-49ac-8af9-fe430b63833f"
      },
      "source": [
        "def LSTM_model(X_train, y_train, X_test, sc):\n",
        "    # create a model\n",
        "    from keras.models import Sequential\n",
        "    from keras.layers import Dense, SimpleRNN, GRU, LSTM\n",
        "    from keras.optimizers import SGD\n",
        "    \n",
        "    # The LSTM architecture\n",
        "    my_LSTM_model = Sequential()\n",
        "    my_LSTM_model.add(LSTM(units=50, return_sequences=True, input_shape=(X_train.shape[1],1), activation='tanh'))\n",
        "    #my_LSTM_model.add(LSTM(units=50, return_sequences=True, input_shape=(X_train.shape[1],1), activation='tanh'))\n",
        "    #my_LSTM_model.add(LSTM(units=50, return_sequences=True, input_shape=(X_train.shape[1],1), activation='tanh'))\n",
        "    my_LSTM_model.add(LSTM(units=50, activation='tanh'))\n",
        "    my_LSTM_model.add(Dense(units=2))\n",
        "\n",
        "    # Compiling\n",
        "    my_LSTM_model.compile(optimizer=SGD(lr=0.01, decay=1e-7, momentum=0.9, nesterov=False),loss='mean_squared_error')\n",
        "    # Fitting to the training set\n",
        "    my_LSTM_model.fit(X_train,y_train,epochs=50,batch_size=150, verbose=0)\n",
        "\n",
        "    LSTM_prediction = my_LSTM_model.predict(X_test)\n",
        "    LSTM_prediction = sc.inverse_transform(LSTM_prediction)\n",
        "\n",
        "    return my_LSTM_model, LSTM_prediction\n",
        "\n",
        "my_LSTM_model, LSTM_prediction = LSTM_model(X_train, y_train, X_test, sc)\n",
        "LSTM_prediction[1:10]\n",
        "actual_pred_plot(LSTM_prediction)   "
      ],
      "execution_count": null,
      "outputs": [
        {
          "output_type": "stream",
          "text": [
            "/usr/local/lib/python3.7/dist-packages/tensorflow/python/keras/optimizer_v2/optimizer_v2.py:375: UserWarning: The `lr` argument is deprecated, use `learning_rate` instead.\n",
            "  \"The `lr` argument is deprecated, use `learning_rate` instead.\")\n"
          ],
          "name": "stderr"
        },
        {
          "output_type": "execute_result",
          "data": {
            "text/plain": [
              "(34169.19,                real         pred\n",
              " Date                            \n",
              " 2019-01-04  2531.94  2552.063477\n",
              " 2019-01-07  2549.69  2540.569824\n",
              " 2019-01-08  2574.41  2528.628662\n",
              " 2019-01-09  2584.96  2520.850830\n",
              " 2019-01-10  2596.64  2515.195557\n",
              " ...             ...          ...\n",
              " 2020-12-24  3703.06  3384.498291\n",
              " 2020-12-28  3735.36  3387.192383\n",
              " 2020-12-29  3727.04  3388.815674\n",
              " 2020-12-30  3732.04  3390.545166\n",
              " 2020-12-31  3756.07  3392.611084\n",
              " \n",
              " [503 rows x 2 columns])"
            ]
          },
          "metadata": {
            "tags": []
          },
          "execution_count": 339
        },
        {
          "output_type": "display_data",
          "data": {
            "image/png": "[encoded data removed]",
            "text/plain": [
              "<Figure size 432x288 with 1 Axes>"
            ]
          },
          "metadata": {
            "tags": [],
            "needs_background": "light"
          }
        }
      ]
    },
    {
      "cell_type": "markdown",
      "metadata": {
        "id": "ReZTpbffoFg8"
      },
      "source": [
        "## [Learning objective 8] LSTM Regularization"
      ]
    },
    {
      "cell_type": "code",
      "metadata": {
        "id": "l6j5QfeXoFg8",
        "colab": {
          "base_uri": "https://localhost:8080/",
          "height": 702
        },
        "outputId": "b3174877-9877-42e1-d353-6a4c7e14577f"
      },
      "source": [
        "def LSTM_model_regularization(X_train, y_train, X_test, sc):\n",
        "    # create a model\n",
        "    from keras.models import Sequential\n",
        "    from keras.layers import Dense, SimpleRNN, GRU, LSTM\n",
        "    from keras.optimizers import SGD\n",
        "    \n",
        "    # The LSTM architecture\n",
        "    my_LSTM_model = Sequential()\n",
        "    my_LSTM_model.add(LSTM(units=50, return_sequences=True, input_shape=(X_train.shape[1],1), activation='tanh'))\n",
        "    #my_LSTM_model.add(LSTM(units=50, return_sequences=True, input_shape=(X_train.shape[1],1), activation='tanh'))\n",
        "    #my_LSTM_model.add(LSTM(units=50, return_sequences=True, input_shape=(X_train.shape[1],1), activation='tanh'))\n",
        "    my_LSTM_model.add(LSTM(units=50, activation='tanh'))\n",
        "    my_LSTM_model.add(Dense(units=2))\n",
        "\n",
        "    # Compiling\n",
        "    my_LSTM_model.compile(optimizer=SGD(lr=0.01, \n",
        "                      decay=1e-7, \n",
        "                      momentum=0.9, \n",
        "                      nesterov=False),\n",
        "               loss='mean_squared_error')\n",
        "    # Fitting to the training set\n",
        "    my_LSTM_model.fit(X_train,y_train,epochs=50,batch_size=150, verbose=0)\n",
        "\n",
        "    LSTM_prediction = my_LSTM_model.predict(X_test)\n",
        "    LSTM_prediction = sc.inverse_transform(LSTM_prediction)\n",
        "\n",
        "    return my_LSTM_model, LSTM_prediction\n",
        "\n",
        "my_LSTM_model, LSTM_prediction= LSTM_model_regularization(X_train, y_train, X_test, sc)\n",
        "LSTM_prediction, actual_pred_plot(LSTM_prediction)  "
      ],
      "execution_count": null,
      "outputs": [
        {
          "output_type": "stream",
          "text": [
            "/usr/local/lib/python3.7/dist-packages/tensorflow/python/keras/optimizer_v2/optimizer_v2.py:375: UserWarning: The `lr` argument is deprecated, use `learning_rate` instead.\n",
            "  \"The `lr` argument is deprecated, use `learning_rate` instead.\")\n"
          ],
          "name": "stderr"
        },
        {
          "output_type": "execute_result",
          "data": {
            "text/plain": [
              "(array([[2431.1716, 2435.4858],\n",
              "        [2465.7136, 2469.557 ],\n",
              "        [2468.862 , 2472.2122],\n",
              "        ...,\n",
              "        [3419.9104, 3448.9976],\n",
              "        [3415.107 , 3444.2683],\n",
              "        [3415.11  , 3444.7466]], dtype=float32),\n",
              " (27983.549,                real         pred\n",
              "  Date                            \n",
              "  2019-01-04  2531.94  2431.171631\n",
              "  2019-01-07  2549.69  2465.713623\n",
              "  2019-01-08  2574.41  2468.862061\n",
              "  2019-01-09  2584.96  2471.435303\n",
              "  2019-01-10  2596.64  2479.404785\n",
              "  ...             ...          ...\n",
              "  2020-12-24  3703.06  3420.304199\n",
              "  2020-12-28  3735.36  3421.060547\n",
              "  2020-12-29  3727.04  3419.910400\n",
              "  2020-12-30  3732.04  3415.106934\n",
              "  2020-12-31  3756.07  3415.110107\n",
              "  \n",
              "  [503 rows x 2 columns]))"
            ]
          },
          "metadata": {
            "tags": []
          },
          "execution_count": 307
        },
        {
          "output_type": "display_data",
          "data": {
            "image/png": "[encoded data removed]",
            "text/plain": [
              "<Figure size 432x288 with 1 Axes>"
            ]
          },
          "metadata": {
            "tags": [],
            "needs_background": "light"
          }
        }
      ]
    },
    {
      "cell_type": "markdown",
      "metadata": {
        "id": "5GgrhVo4oFg8"
      },
      "source": [
        "## [Learning objective 9] GRU"
      ]
    },
    {
      "cell_type": "code",
      "metadata": {
        "id": "_LocI-ZUoFg8",
        "colab": {
          "base_uri": "https://localhost:8080/",
          "height": 702
        },
        "outputId": "7ca1d423-1c82-41eb-df2c-5b7a90902b80"
      },
      "source": [
        "def GRU_model(X_train, y_train, X_test, sc):\n",
        "    # create a model\n",
        "    from keras.models import Sequential\n",
        "    from keras.layers import Dense, SimpleRNN, GRU\n",
        "    from keras.optimizers import SGD\n",
        "    \n",
        "    # The GRU architecture\n",
        "    my_GRU_model = Sequential()\n",
        "    # First GRU layer with Dropout regularisation\n",
        "    my_GRU_model.add(GRU(units=50, return_sequences=True, input_shape=(X_train.shape[1],1), activation='tanh'))\n",
        "    #my_GRU_model.add(GRU(units=50, return_sequences=True, input_shape=(X_train.shape[1],1), activation='tanh'))\n",
        "    #my_GRU_model.add(GRU(units=50, return_sequences=True, input_shape=(X_train.shape[1],1), activation='tanh'))\n",
        "    my_GRU_model.add(GRU(units=50, activation='tanh'))\n",
        "    my_GRU_model.add(Dense(units=2))\n",
        "\n",
        "    # Compiling the RNN\n",
        "    my_GRU_model.compile(optimizer=SGD(lr=0.01, decay=1e-7, momentum=0.9, nesterov=False),loss='mean_squared_error')\n",
        "    # Fitting to the training set\n",
        "    my_GRU_model.fit(X_train,y_train,epochs=50,batch_size=150, verbose=0)\n",
        "\n",
        "    GRU_prediction = my_GRU_model.predict(X_test)\n",
        "    GRU_prediction = sc.inverse_transform(GRU_prediction)\n",
        "\n",
        "    return my_GRU_model, GRU_prediction\n",
        "\n",
        "my_GRU_model, GRU_prediction = GRU_model(X_train, y_train, X_test, sc)\n",
        "GRU_prediction, actual_pred_plot(GRU_prediction)  "
      ],
      "execution_count": null,
      "outputs": [
        {
          "output_type": "stream",
          "text": [
            "/usr/local/lib/python3.7/dist-packages/tensorflow/python/keras/optimizer_v2/optimizer_v2.py:375: UserWarning: The `lr` argument is deprecated, use `learning_rate` instead.\n",
            "  \"The `lr` argument is deprecated, use `learning_rate` instead.\")\n"
          ],
          "name": "stderr"
        },
        {
          "output_type": "execute_result",
          "data": {
            "text/plain": [
              "(array([[2462.542 , 2459.878 ],\n",
              "        [2482.7942, 2481.346 ],\n",
              "        [2474.5098, 2474.5327],\n",
              "        ...,\n",
              "        [3556.5764, 3551.1365],\n",
              "        [3555.6704, 3549.7246],\n",
              "        [3563.8523, 3557.0442]], dtype=float32),\n",
              " (11981.919,                real         pred\n",
              "  Date                            \n",
              "  2019-01-04  2531.94  2462.541992\n",
              "  2019-01-07  2549.69  2482.794189\n",
              "  2019-01-08  2574.41  2474.509766\n",
              "  2019-01-09  2584.96  2482.436768\n",
              "  2019-01-10  2596.64  2498.042236\n",
              "  ...             ...          ...\n",
              "  2020-12-24  3703.06  3564.083008\n",
              "  2020-12-28  3735.36  3560.117432\n",
              "  2020-12-29  3727.04  3556.576416\n",
              "  2020-12-30  3732.04  3555.670410\n",
              "  2020-12-31  3756.07  3563.852295\n",
              "  \n",
              "  [503 rows x 2 columns]))"
            ]
          },
          "metadata": {
            "tags": []
          },
          "execution_count": 308
        },
        {
          "output_type": "display_data",
          "data": {
            "image/png": "[encoded data removed]",
            "text/plain": [
              "<Figure size 432x288 with 1 Axes>"
            ]
          },
          "metadata": {
            "tags": [],
            "needs_background": "light"
          }
        }
      ]
    },
    {
      "cell_type": "markdown",
      "metadata": {
        "id": "7pzuQ4EloFg9"
      },
      "source": [
        "## [Learning objective 10] GRU Regularization"
      ]
    },
    {
      "cell_type": "code",
      "metadata": {
        "id": "wjp2zqO-oFg9",
        "colab": {
          "base_uri": "https://localhost:8080/",
          "height": 584
        },
        "outputId": "5344bc41-f59d-4d7f-cec7-a6f1cc29e036"
      },
      "source": [
        "def GRU_model_regularization(X_train, y_train, X_test, sc):\n",
        "    '''\n",
        "    create GRU model trained on X_train and y_train\n",
        "    and make predictions on the X_test data\n",
        "    '''\n",
        "    # create a model\n",
        "    from keras.models import Sequential\n",
        "    from keras.layers import Dense, SimpleRNN, GRU\n",
        "    from keras.optimizers import SGD\n",
        "    from keras.layers import Dropout\n",
        "    \n",
        "    # The GRU architecture\n",
        "    my_GRU_model = Sequential()\n",
        "    # First GRU layer with Dropout regularisation\n",
        "    my_GRU_model.add(GRU(units=50, return_sequences=True, input_shape=(X_train.shape[1],1), activation='tanh'))\n",
        "    my_GRU_model.add(Dropout(0.2))\n",
        "    # Second GRU layer\n",
        "    my_GRU_model.add(GRU(units=50, return_sequences=True, activation='tanh'))\n",
        "    my_GRU_model.add(Dropout(0.2))\n",
        "    \n",
        "    # Third GRU layer\n",
        "    my_GRU_model.add(GRU(units=50, return_sequences=True, activation='tanh'))\n",
        "    my_GRU_model.add(Dropout(0.2))\n",
        "    # Fourth GRU layer\n",
        "    my_GRU_model.add(GRU(units=50, activation='tanh'))\n",
        "    my_GRU_model.add(Dropout(0.2))\n",
        "    # The output layer\n",
        "    my_GRU_model.add(Dense(units=1))\n",
        "    # Compiling the RNN\n",
        "    my_GRU_model.compile(optimizer=SGD(lr=0.01, decay=1e-7, momentum=0.9, nesterov=False),loss='mean_squared_error')\n",
        "    # Fitting to the training set\n",
        "    my_GRU_model.fit(X_train,y_train,epochs=50,batch_size=150, verbose=0)\n",
        "\n",
        "    GRU_predictions = my_GRU_model.predict(X_test)\n",
        "    GRU_predictions = sc.inverse_transform(GRU_predictions)\n",
        "\n",
        "    return my_GRU_model, GRU_predictions\n",
        "\n",
        "my_GRU_model, GRU_predictions = GRU_model_regularization(X_train, y_train, X_test, sc)\n",
        "GRU_predictions\n",
        "actual_pred_plot(GRU_prediction)  "
      ],
      "execution_count": null,
      "outputs": [
        {
          "output_type": "stream",
          "text": [
            "/usr/local/lib/python3.7/dist-packages/tensorflow/python/keras/optimizer_v2/optimizer_v2.py:375: UserWarning: The `lr` argument is deprecated, use `learning_rate` instead.\n",
            "  \"The `lr` argument is deprecated, use `learning_rate` instead.\")\n"
          ],
          "name": "stderr"
        },
        {
          "output_type": "execute_result",
          "data": {
            "text/plain": [
              "(11981.919,                real         pred\n",
              " Date                            \n",
              " 2019-01-04  2531.94  2462.541992\n",
              " 2019-01-07  2549.69  2482.794189\n",
              " 2019-01-08  2574.41  2474.509766\n",
              " 2019-01-09  2584.96  2482.436768\n",
              " 2019-01-10  2596.64  2498.042236\n",
              " ...             ...          ...\n",
              " 2020-12-24  3703.06  3564.083008\n",
              " 2020-12-28  3735.36  3560.117432\n",
              " 2020-12-29  3727.04  3556.576416\n",
              " 2020-12-30  3732.04  3555.670410\n",
              " 2020-12-31  3756.07  3563.852295\n",
              " \n",
              " [503 rows x 2 columns])"
            ]
          },
          "metadata": {
            "tags": []
          },
          "execution_count": 309
        },
        {
          "output_type": "display_data",
          "data": {
            "image/png": "[encoded data removed]",
            "text/plain": [
              "<Figure size 432x288 with 1 Axes>"
            ]
          },
          "metadata": {
            "tags": [],
            "needs_background": "light"
          }
        }
      ]
    },
    {
      "cell_type": "code",
      "metadata": {
        "id": "r3EeA5VloFg9"
      },
      "source": [
        ""
      ],
      "execution_count": null,
      "outputs": []
    },
    {
      "cell_type": "code",
      "metadata": {
        "id": "bElUzPNQoFg9",
        "colab": {
          "base_uri": "https://localhost:8080/",
          "height": 447
        },
        "outputId": "9a875660-0e13-4155-e125-ef5c8dac938d"
      },
      "source": [
        "preds= rnn_predictions_2\n",
        "\n",
        "x= pd.DataFrame()#columns= ['Adj. Close', 'prediction'])\n",
        "x['real']= ts_data[-len(preds):] #all_data.loc['2019':,'Adj Close'][0:len(preds)]\n",
        "x['rnn']= preds[:,0]\n",
        "\n",
        "x['lstm']= LSTM_prediction[:,0]\n",
        "x['gru']= GRU_prediction[:,0]\n",
        "\n",
        "x"
      ],
      "execution_count": null,
      "outputs": [
        {
          "output_type": "execute_result",
          "data": {
            "text/html": [
              "<div>\n",
              "<style scoped>\n",
              "    .dataframe tbody tr th:only-of-type {\n",
              "        vertical-align: middle;\n",
              "    }\n",
              "\n",
              "    .dataframe tbody tr th {\n",
              "        vertical-align: top;\n",
              "    }\n",
              "\n",
              "    .dataframe thead th {\n",
              "        text-align: right;\n",
              "    }\n",
              "</style>\n",
              "<table border=\"1\" class=\"dataframe\">\n",
              "  <thead>\n",
              "    <tr style=\"text-align: right;\">\n",
              "      <th></th>\n",
              "      <th>real</th>\n",
              "      <th>rnn</th>\n",
              "      <th>lstm</th>\n",
              "      <th>gru</th>\n",
              "    </tr>\n",
              "    <tr>\n",
              "      <th>Date</th>\n",
              "      <th></th>\n",
              "      <th></th>\n",
              "      <th></th>\n",
              "      <th></th>\n",
              "    </tr>\n",
              "  </thead>\n",
              "  <tbody>\n",
              "    <tr>\n",
              "      <th>2019-01-04</th>\n",
              "      <td>2531.94</td>\n",
              "      <td>2444.349121</td>\n",
              "      <td>2431.171631</td>\n",
              "      <td>2462.541992</td>\n",
              "    </tr>\n",
              "    <tr>\n",
              "      <th>2019-01-07</th>\n",
              "      <td>2549.69</td>\n",
              "      <td>2474.379395</td>\n",
              "      <td>2465.713623</td>\n",
              "      <td>2482.794189</td>\n",
              "    </tr>\n",
              "    <tr>\n",
              "      <th>2019-01-08</th>\n",
              "      <td>2574.41</td>\n",
              "      <td>2396.443115</td>\n",
              "      <td>2468.862061</td>\n",
              "      <td>2474.509766</td>\n",
              "    </tr>\n",
              "    <tr>\n",
              "      <th>2019-01-09</th>\n",
              "      <td>2584.96</td>\n",
              "      <td>2501.575684</td>\n",
              "      <td>2471.435303</td>\n",
              "      <td>2482.436768</td>\n",
              "    </tr>\n",
              "    <tr>\n",
              "      <th>2019-01-10</th>\n",
              "      <td>2596.64</td>\n",
              "      <td>2542.041992</td>\n",
              "      <td>2479.404785</td>\n",
              "      <td>2498.042236</td>\n",
              "    </tr>\n",
              "    <tr>\n",
              "      <th>...</th>\n",
              "      <td>...</td>\n",
              "      <td>...</td>\n",
              "      <td>...</td>\n",
              "      <td>...</td>\n",
              "    </tr>\n",
              "    <tr>\n",
              "      <th>2020-12-24</th>\n",
              "      <td>3703.06</td>\n",
              "      <td>3536.054443</td>\n",
              "      <td>3420.304199</td>\n",
              "      <td>3564.083008</td>\n",
              "    </tr>\n",
              "    <tr>\n",
              "      <th>2020-12-28</th>\n",
              "      <td>3735.36</td>\n",
              "      <td>3536.491943</td>\n",
              "      <td>3421.060547</td>\n",
              "      <td>3560.117432</td>\n",
              "    </tr>\n",
              "    <tr>\n",
              "      <th>2020-12-29</th>\n",
              "      <td>3727.04</td>\n",
              "      <td>3547.233643</td>\n",
              "      <td>3419.910400</td>\n",
              "      <td>3556.576416</td>\n",
              "    </tr>\n",
              "    <tr>\n",
              "      <th>2020-12-30</th>\n",
              "      <td>3732.04</td>\n",
              "      <td>3559.035889</td>\n",
              "      <td>3415.106934</td>\n",
              "      <td>3555.670410</td>\n",
              "    </tr>\n",
              "    <tr>\n",
              "      <th>2020-12-31</th>\n",
              "      <td>3756.07</td>\n",
              "      <td>3586.008301</td>\n",
              "      <td>3415.110107</td>\n",
              "      <td>3563.852295</td>\n",
              "    </tr>\n",
              "  </tbody>\n",
              "</table>\n",
              "<p>503 rows × 4 columns</p>\n",
              "</div>"
            ],
            "text/plain": [
              "               real          rnn         lstm          gru\n",
              "Date                                                      \n",
              "2019-01-04  2531.94  2444.349121  2431.171631  2462.541992\n",
              "2019-01-07  2549.69  2474.379395  2465.713623  2482.794189\n",
              "2019-01-08  2574.41  2396.443115  2468.862061  2474.509766\n",
              "2019-01-09  2584.96  2501.575684  2471.435303  2482.436768\n",
              "2019-01-10  2596.64  2542.041992  2479.404785  2498.042236\n",
              "...             ...          ...          ...          ...\n",
              "2020-12-24  3703.06  3536.054443  3420.304199  3564.083008\n",
              "2020-12-28  3735.36  3536.491943  3421.060547  3560.117432\n",
              "2020-12-29  3727.04  3547.233643  3419.910400  3556.576416\n",
              "2020-12-30  3732.04  3559.035889  3415.106934  3555.670410\n",
              "2020-12-31  3756.07  3586.008301  3415.110107  3563.852295\n",
              "\n",
              "[503 rows x 4 columns]"
            ]
          },
          "metadata": {
            "tags": []
          },
          "execution_count": 310
        }
      ]
    },
    {
      "cell_type": "code",
      "metadata": {
        "id": "J7qnikZse91F",
        "colab": {
          "base_uri": "https://localhost:8080/",
          "height": 295
        },
        "outputId": "817f4427-86be-4aca-9c29-19a79bc95e86"
      },
      "source": [
        "x.plot(grid=True,logy=True)"
      ],
      "execution_count": null,
      "outputs": [
        {
          "output_type": "execute_result",
          "data": {
            "text/plain": [
              "<matplotlib.axes._subplots.AxesSubplot at 0x7fa248197110>"
            ]
          },
          "metadata": {
            "tags": []
          },
          "execution_count": 311
        },
        {
          "output_type": "display_data",
          "data": {
            "image/png": "[encoded data removed]",
            "text/plain": [
              "<Figure size 432x288 with 1 Axes>"
            ]
          },
          "metadata": {
            "tags": [],
            "needs_background": "light"
          }
        }
      ]
    },
    {
      "cell_type": "code",
      "metadata": {
        "id": "5Kt7qYRtfG-B",
        "colab": {
          "base_uri": "https://localhost:8080/",
          "height": 172
        },
        "outputId": "ea2f2cd3-37a3-4ceb-cbb4-6324b9b3be03"
      },
      "source": [
        "x.corr()"
      ],
      "execution_count": null,
      "outputs": [
        {
          "output_type": "execute_result",
          "data": {
            "text/html": [
              "<div>\n",
              "<style scoped>\n",
              "    .dataframe tbody tr th:only-of-type {\n",
              "        vertical-align: middle;\n",
              "    }\n",
              "\n",
              "    .dataframe tbody tr th {\n",
              "        vertical-align: top;\n",
              "    }\n",
              "\n",
              "    .dataframe thead th {\n",
              "        text-align: right;\n",
              "    }\n",
              "</style>\n",
              "<table border=\"1\" class=\"dataframe\">\n",
              "  <thead>\n",
              "    <tr style=\"text-align: right;\">\n",
              "      <th></th>\n",
              "      <th>real</th>\n",
              "      <th>rnn</th>\n",
              "      <th>lstm</th>\n",
              "      <th>gru</th>\n",
              "    </tr>\n",
              "  </thead>\n",
              "  <tbody>\n",
              "    <tr>\n",
              "      <th>real</th>\n",
              "      <td>1.000000</td>\n",
              "      <td>0.969063</td>\n",
              "      <td>0.951328</td>\n",
              "      <td>0.960954</td>\n",
              "    </tr>\n",
              "    <tr>\n",
              "      <th>rnn</th>\n",
              "      <td>0.969063</td>\n",
              "      <td>1.000000</td>\n",
              "      <td>0.979070</td>\n",
              "      <td>0.987284</td>\n",
              "    </tr>\n",
              "    <tr>\n",
              "      <th>lstm</th>\n",
              "      <td>0.951328</td>\n",
              "      <td>0.979070</td>\n",
              "      <td>1.000000</td>\n",
              "      <td>0.997866</td>\n",
              "    </tr>\n",
              "    <tr>\n",
              "      <th>gru</th>\n",
              "      <td>0.960954</td>\n",
              "      <td>0.987284</td>\n",
              "      <td>0.997866</td>\n",
              "      <td>1.000000</td>\n",
              "    </tr>\n",
              "  </tbody>\n",
              "</table>\n",
              "</div>"
            ],
            "text/plain": [
              "          real       rnn      lstm       gru\n",
              "real  1.000000  0.969063  0.951328  0.960954\n",
              "rnn   0.969063  1.000000  0.979070  0.987284\n",
              "lstm  0.951328  0.979070  1.000000  0.997866\n",
              "gru   0.960954  0.987284  0.997866  1.000000"
            ]
          },
          "metadata": {
            "tags": []
          },
          "execution_count": 312
        }
      ]
    },
    {
      "cell_type": "code",
      "metadata": {
        "id": "WSy5cUYvfPjz",
        "colab": {
          "base_uri": "https://localhost:8080/",
          "height": 447
        },
        "outputId": "4972ecf5-4542-4a77-f7df-fbce7b9ad7b3"
      },
      "source": [
        "# 如果不用 RNN/LSTM/GRU，只用 moving average 呢？\n",
        "x"
      ],
      "execution_count": null,
      "outputs": [
        {
          "output_type": "execute_result",
          "data": {
            "text/html": [
              "<div>\n",
              "<style scoped>\n",
              "    .dataframe tbody tr th:only-of-type {\n",
              "        vertical-align: middle;\n",
              "    }\n",
              "\n",
              "    .dataframe tbody tr th {\n",
              "        vertical-align: top;\n",
              "    }\n",
              "\n",
              "    .dataframe thead th {\n",
              "        text-align: right;\n",
              "    }\n",
              "</style>\n",
              "<table border=\"1\" class=\"dataframe\">\n",
              "  <thead>\n",
              "    <tr style=\"text-align: right;\">\n",
              "      <th></th>\n",
              "      <th>real</th>\n",
              "      <th>rnn</th>\n",
              "      <th>lstm</th>\n",
              "      <th>gru</th>\n",
              "    </tr>\n",
              "    <tr>\n",
              "      <th>Date</th>\n",
              "      <th></th>\n",
              "      <th></th>\n",
              "      <th></th>\n",
              "      <th></th>\n",
              "    </tr>\n",
              "  </thead>\n",
              "  <tbody>\n",
              "    <tr>\n",
              "      <th>2019-01-04</th>\n",
              "      <td>2531.94</td>\n",
              "      <td>2444.349121</td>\n",
              "      <td>2431.171631</td>\n",
              "      <td>2462.541992</td>\n",
              "    </tr>\n",
              "    <tr>\n",
              "      <th>2019-01-07</th>\n",
              "      <td>2549.69</td>\n",
              "      <td>2474.379395</td>\n",
              "      <td>2465.713623</td>\n",
              "      <td>2482.794189</td>\n",
              "    </tr>\n",
              "    <tr>\n",
              "      <th>2019-01-08</th>\n",
              "      <td>2574.41</td>\n",
              "      <td>2396.443115</td>\n",
              "      <td>2468.862061</td>\n",
              "      <td>2474.509766</td>\n",
              "    </tr>\n",
              "    <tr>\n",
              "      <th>2019-01-09</th>\n",
              "      <td>2584.96</td>\n",
              "      <td>2501.575684</td>\n",
              "      <td>2471.435303</td>\n",
              "      <td>2482.436768</td>\n",
              "    </tr>\n",
              "    <tr>\n",
              "      <th>2019-01-10</th>\n",
              "      <td>2596.64</td>\n",
              "      <td>2542.041992</td>\n",
              "      <td>2479.404785</td>\n",
              "      <td>2498.042236</td>\n",
              "    </tr>\n",
              "    <tr>\n",
              "      <th>...</th>\n",
              "      <td>...</td>\n",
              "      <td>...</td>\n",
              "      <td>...</td>\n",
              "      <td>...</td>\n",
              "    </tr>\n",
              "    <tr>\n",
              "      <th>2020-12-24</th>\n",
              "      <td>3703.06</td>\n",
              "      <td>3536.054443</td>\n",
              "      <td>3420.304199</td>\n",
              "      <td>3564.083008</td>\n",
              "    </tr>\n",
              "    <tr>\n",
              "      <th>2020-12-28</th>\n",
              "      <td>3735.36</td>\n",
              "      <td>3536.491943</td>\n",
              "      <td>3421.060547</td>\n",
              "      <td>3560.117432</td>\n",
              "    </tr>\n",
              "    <tr>\n",
              "      <th>2020-12-29</th>\n",
              "      <td>3727.04</td>\n",
              "      <td>3547.233643</td>\n",
              "      <td>3419.910400</td>\n",
              "      <td>3556.576416</td>\n",
              "    </tr>\n",
              "    <tr>\n",
              "      <th>2020-12-30</th>\n",
              "      <td>3732.04</td>\n",
              "      <td>3559.035889</td>\n",
              "      <td>3415.106934</td>\n",
              "      <td>3555.670410</td>\n",
              "    </tr>\n",
              "    <tr>\n",
              "      <th>2020-12-31</th>\n",
              "      <td>3756.07</td>\n",
              "      <td>3586.008301</td>\n",
              "      <td>3415.110107</td>\n",
              "      <td>3563.852295</td>\n",
              "    </tr>\n",
              "  </tbody>\n",
              "</table>\n",
              "<p>503 rows × 4 columns</p>\n",
              "</div>"
            ],
            "text/plain": [
              "               real          rnn         lstm          gru\n",
              "Date                                                      \n",
              "2019-01-04  2531.94  2444.349121  2431.171631  2462.541992\n",
              "2019-01-07  2549.69  2474.379395  2465.713623  2482.794189\n",
              "2019-01-08  2574.41  2396.443115  2468.862061  2474.509766\n",
              "2019-01-09  2584.96  2501.575684  2471.435303  2482.436768\n",
              "2019-01-10  2596.64  2542.041992  2479.404785  2498.042236\n",
              "...             ...          ...          ...          ...\n",
              "2020-12-24  3703.06  3536.054443  3420.304199  3564.083008\n",
              "2020-12-28  3735.36  3536.491943  3421.060547  3560.117432\n",
              "2020-12-29  3727.04  3547.233643  3419.910400  3556.576416\n",
              "2020-12-30  3732.04  3559.035889  3415.106934  3555.670410\n",
              "2020-12-31  3756.07  3586.008301  3415.110107  3563.852295\n",
              "\n",
              "[503 rows x 4 columns]"
            ]
          },
          "metadata": {
            "tags": []
          },
          "execution_count": 313
        }
      ]
    },
    {
      "cell_type": "code",
      "metadata": {
        "id": "UL0TUemgjIbj",
        "colab": {
          "base_uri": "https://localhost:8080/",
          "height": 447
        },
        "outputId": "d1249078-9864-4bd5-bee5-a35e00f88ca4"
      },
      "source": [
        "for w in [10, 20, 50, 100]:\n",
        "  x[f'ma{w}']=x['real'].rolling(window=w).mean()\n",
        "x"
      ],
      "execution_count": null,
      "outputs": [
        {
          "output_type": "execute_result",
          "data": {
            "text/html": [
              "<div>\n",
              "<style scoped>\n",
              "    .dataframe tbody tr th:only-of-type {\n",
              "        vertical-align: middle;\n",
              "    }\n",
              "\n",
              "    .dataframe tbody tr th {\n",
              "        vertical-align: top;\n",
              "    }\n",
              "\n",
              "    .dataframe thead th {\n",
              "        text-align: right;\n",
              "    }\n",
              "</style>\n",
              "<table border=\"1\" class=\"dataframe\">\n",
              "  <thead>\n",
              "    <tr style=\"text-align: right;\">\n",
              "      <th></th>\n",
              "      <th>real</th>\n",
              "      <th>rnn</th>\n",
              "      <th>lstm</th>\n",
              "      <th>gru</th>\n",
              "      <th>ma10</th>\n",
              "      <th>ma20</th>\n",
              "      <th>ma50</th>\n",
              "      <th>ma100</th>\n",
              "    </tr>\n",
              "    <tr>\n",
              "      <th>Date</th>\n",
              "      <th></th>\n",
              "      <th></th>\n",
              "      <th></th>\n",
              "      <th></th>\n",
              "      <th></th>\n",
              "      <th></th>\n",
              "      <th></th>\n",
              "      <th></th>\n",
              "    </tr>\n",
              "  </thead>\n",
              "  <tbody>\n",
              "    <tr>\n",
              "      <th>2019-01-04</th>\n",
              "      <td>2531.94</td>\n",
              "      <td>2444.349121</td>\n",
              "      <td>2431.171631</td>\n",
              "      <td>2462.541992</td>\n",
              "      <td>NaN</td>\n",
              "      <td>NaN</td>\n",
              "      <td>NaN</td>\n",
              "      <td>NaN</td>\n",
              "    </tr>\n",
              "    <tr>\n",
              "      <th>2019-01-07</th>\n",
              "      <td>2549.69</td>\n",
              "      <td>2474.379395</td>\n",
              "      <td>2465.713623</td>\n",
              "      <td>2482.794189</td>\n",
              "      <td>NaN</td>\n",
              "      <td>NaN</td>\n",
              "      <td>NaN</td>\n",
              "      <td>NaN</td>\n",
              "    </tr>\n",
              "    <tr>\n",
              "      <th>2019-01-08</th>\n",
              "      <td>2574.41</td>\n",
              "      <td>2396.443115</td>\n",
              "      <td>2468.862061</td>\n",
              "      <td>2474.509766</td>\n",
              "      <td>NaN</td>\n",
              "      <td>NaN</td>\n",
              "      <td>NaN</td>\n",
              "      <td>NaN</td>\n",
              "    </tr>\n",
              "    <tr>\n",
              "      <th>2019-01-09</th>\n",
              "      <td>2584.96</td>\n",
              "      <td>2501.575684</td>\n",
              "      <td>2471.435303</td>\n",
              "      <td>2482.436768</td>\n",
              "      <td>NaN</td>\n",
              "      <td>NaN</td>\n",
              "      <td>NaN</td>\n",
              "      <td>NaN</td>\n",
              "    </tr>\n",
              "    <tr>\n",
              "      <th>2019-01-10</th>\n",
              "      <td>2596.64</td>\n",
              "      <td>2542.041992</td>\n",
              "      <td>2479.404785</td>\n",
              "      <td>2498.042236</td>\n",
              "      <td>NaN</td>\n",
              "      <td>NaN</td>\n",
              "      <td>NaN</td>\n",
              "      <td>NaN</td>\n",
              "    </tr>\n",
              "    <tr>\n",
              "      <th>...</th>\n",
              "      <td>...</td>\n",
              "      <td>...</td>\n",
              "      <td>...</td>\n",
              "      <td>...</td>\n",
              "      <td>...</td>\n",
              "      <td>...</td>\n",
              "      <td>...</td>\n",
              "      <td>...</td>\n",
              "    </tr>\n",
              "    <tr>\n",
              "      <th>2020-12-24</th>\n",
              "      <td>3703.06</td>\n",
              "      <td>3536.054443</td>\n",
              "      <td>3420.304199</td>\n",
              "      <td>3564.083008</td>\n",
              "      <td>3691.388</td>\n",
              "      <td>3680.3145</td>\n",
              "      <td>3563.2108</td>\n",
              "      <td>3478.3820</td>\n",
              "    </tr>\n",
              "    <tr>\n",
              "      <th>2020-12-28</th>\n",
              "      <td>3735.36</td>\n",
              "      <td>3536.491943</td>\n",
              "      <td>3421.060547</td>\n",
              "      <td>3560.117432</td>\n",
              "      <td>3698.578</td>\n",
              "      <td>3685.1650</td>\n",
              "      <td>3568.2512</td>\n",
              "      <td>3482.4579</td>\n",
              "    </tr>\n",
              "    <tr>\n",
              "      <th>2020-12-29</th>\n",
              "      <td>3727.04</td>\n",
              "      <td>3547.233643</td>\n",
              "      <td>3419.910400</td>\n",
              "      <td>3556.576416</td>\n",
              "      <td>3706.533</td>\n",
              "      <td>3690.4355</td>\n",
              "      <td>3573.1158</td>\n",
              "      <td>3486.2367</td>\n",
              "    </tr>\n",
              "    <tr>\n",
              "      <th>2020-12-30</th>\n",
              "      <td>3732.04</td>\n",
              "      <td>3559.035889</td>\n",
              "      <td>3415.106934</td>\n",
              "      <td>3555.670410</td>\n",
              "      <td>3710.275</td>\n",
              "      <td>3693.9150</td>\n",
              "      <td>3579.2182</td>\n",
              "      <td>3490.0443</td>\n",
              "    </tr>\n",
              "    <tr>\n",
              "      <th>2020-12-31</th>\n",
              "      <td>3756.07</td>\n",
              "      <td>3586.008301</td>\n",
              "      <td>3415.110107</td>\n",
              "      <td>3563.852295</td>\n",
              "      <td>3715.765</td>\n",
              "      <td>3698.2680</td>\n",
              "      <td>3585.4772</td>\n",
              "      <td>3494.0003</td>\n",
              "    </tr>\n",
              "  </tbody>\n",
              "</table>\n",
              "<p>503 rows × 8 columns</p>\n",
              "</div>"
            ],
            "text/plain": [
              "               real          rnn         lstm  ...       ma20       ma50      ma100\n",
              "Date                                           ...                                 \n",
              "2019-01-04  2531.94  2444.349121  2431.171631  ...        NaN        NaN        NaN\n",
              "2019-01-07  2549.69  2474.379395  2465.713623  ...        NaN        NaN        NaN\n",
              "2019-01-08  2574.41  2396.443115  2468.862061  ...        NaN        NaN        NaN\n",
              "2019-01-09  2584.96  2501.575684  2471.435303  ...        NaN        NaN        NaN\n",
              "2019-01-10  2596.64  2542.041992  2479.404785  ...        NaN        NaN        NaN\n",
              "...             ...          ...          ...  ...        ...        ...        ...\n",
              "2020-12-24  3703.06  3536.054443  3420.304199  ...  3680.3145  3563.2108  3478.3820\n",
              "2020-12-28  3735.36  3536.491943  3421.060547  ...  3685.1650  3568.2512  3482.4579\n",
              "2020-12-29  3727.04  3547.233643  3419.910400  ...  3690.4355  3573.1158  3486.2367\n",
              "2020-12-30  3732.04  3559.035889  3415.106934  ...  3693.9150  3579.2182  3490.0443\n",
              "2020-12-31  3756.07  3586.008301  3415.110107  ...  3698.2680  3585.4772  3494.0003\n",
              "\n",
              "[503 rows x 8 columns]"
            ]
          },
          "metadata": {
            "tags": []
          },
          "execution_count": 314
        }
      ]
    },
    {
      "cell_type": "code",
      "metadata": {
        "id": "juDiDD5PjMgp",
        "colab": {
          "base_uri": "https://localhost:8080/",
          "height": 295
        },
        "outputId": "07582e62-7af4-456f-e49e-3da362bdc4a0"
      },
      "source": [
        "x.corr()"
      ],
      "execution_count": null,
      "outputs": [
        {
          "output_type": "execute_result",
          "data": {
            "text/html": [
              "<div>\n",
              "<style scoped>\n",
              "    .dataframe tbody tr th:only-of-type {\n",
              "        vertical-align: middle;\n",
              "    }\n",
              "\n",
              "    .dataframe tbody tr th {\n",
              "        vertical-align: top;\n",
              "    }\n",
              "\n",
              "    .dataframe thead th {\n",
              "        text-align: right;\n",
              "    }\n",
              "</style>\n",
              "<table border=\"1\" class=\"dataframe\">\n",
              "  <thead>\n",
              "    <tr style=\"text-align: right;\">\n",
              "      <th></th>\n",
              "      <th>real</th>\n",
              "      <th>rnn</th>\n",
              "      <th>lstm</th>\n",
              "      <th>gru</th>\n",
              "      <th>ma10</th>\n",
              "      <th>ma20</th>\n",
              "      <th>ma50</th>\n",
              "      <th>ma100</th>\n",
              "    </tr>\n",
              "  </thead>\n",
              "  <tbody>\n",
              "    <tr>\n",
              "      <th>real</th>\n",
              "      <td>1.000000</td>\n",
              "      <td>0.969063</td>\n",
              "      <td>0.951328</td>\n",
              "      <td>0.960954</td>\n",
              "      <td>0.970436</td>\n",
              "      <td>0.924500</td>\n",
              "      <td>0.794824</td>\n",
              "      <td>0.653097</td>\n",
              "    </tr>\n",
              "    <tr>\n",
              "      <th>rnn</th>\n",
              "      <td>0.969063</td>\n",
              "      <td>1.000000</td>\n",
              "      <td>0.979070</td>\n",
              "      <td>0.987284</td>\n",
              "      <td>0.986311</td>\n",
              "      <td>0.952923</td>\n",
              "      <td>0.818177</td>\n",
              "      <td>0.661793</td>\n",
              "    </tr>\n",
              "    <tr>\n",
              "      <th>lstm</th>\n",
              "      <td>0.951328</td>\n",
              "      <td>0.979070</td>\n",
              "      <td>1.000000</td>\n",
              "      <td>0.997866</td>\n",
              "      <td>0.995055</td>\n",
              "      <td>0.975896</td>\n",
              "      <td>0.841924</td>\n",
              "      <td>0.674342</td>\n",
              "    </tr>\n",
              "    <tr>\n",
              "      <th>gru</th>\n",
              "      <td>0.960954</td>\n",
              "      <td>0.987284</td>\n",
              "      <td>0.997866</td>\n",
              "      <td>1.000000</td>\n",
              "      <td>0.996835</td>\n",
              "      <td>0.972591</td>\n",
              "      <td>0.841835</td>\n",
              "      <td>0.681981</td>\n",
              "    </tr>\n",
              "    <tr>\n",
              "      <th>ma10</th>\n",
              "      <td>0.970436</td>\n",
              "      <td>0.986311</td>\n",
              "      <td>0.995055</td>\n",
              "      <td>0.996835</td>\n",
              "      <td>1.000000</td>\n",
              "      <td>0.978998</td>\n",
              "      <td>0.855552</td>\n",
              "      <td>0.700174</td>\n",
              "    </tr>\n",
              "    <tr>\n",
              "      <th>ma20</th>\n",
              "      <td>0.924500</td>\n",
              "      <td>0.952923</td>\n",
              "      <td>0.975896</td>\n",
              "      <td>0.972591</td>\n",
              "      <td>0.978998</td>\n",
              "      <td>1.000000</td>\n",
              "      <td>0.912960</td>\n",
              "      <td>0.749102</td>\n",
              "    </tr>\n",
              "    <tr>\n",
              "      <th>ma50</th>\n",
              "      <td>0.794824</td>\n",
              "      <td>0.818177</td>\n",
              "      <td>0.841924</td>\n",
              "      <td>0.841835</td>\n",
              "      <td>0.855552</td>\n",
              "      <td>0.912960</td>\n",
              "      <td>1.000000</td>\n",
              "      <td>0.877588</td>\n",
              "    </tr>\n",
              "    <tr>\n",
              "      <th>ma100</th>\n",
              "      <td>0.653097</td>\n",
              "      <td>0.661793</td>\n",
              "      <td>0.674342</td>\n",
              "      <td>0.681981</td>\n",
              "      <td>0.700174</td>\n",
              "      <td>0.749102</td>\n",
              "      <td>0.877588</td>\n",
              "      <td>1.000000</td>\n",
              "    </tr>\n",
              "  </tbody>\n",
              "</table>\n",
              "</div>"
            ],
            "text/plain": [
              "           real       rnn      lstm  ...      ma20      ma50     ma100\n",
              "real   1.000000  0.969063  0.951328  ...  0.924500  0.794824  0.653097\n",
              "rnn    0.969063  1.000000  0.979070  ...  0.952923  0.818177  0.661793\n",
              "lstm   0.951328  0.979070  1.000000  ...  0.975896  0.841924  0.674342\n",
              "gru    0.960954  0.987284  0.997866  ...  0.972591  0.841835  0.681981\n",
              "ma10   0.970436  0.986311  0.995055  ...  0.978998  0.855552  0.700174\n",
              "ma20   0.924500  0.952923  0.975896  ...  1.000000  0.912960  0.749102\n",
              "ma50   0.794824  0.818177  0.841924  ...  0.912960  1.000000  0.877588\n",
              "ma100  0.653097  0.661793  0.674342  ...  0.749102  0.877588  1.000000\n",
              "\n",
              "[8 rows x 8 columns]"
            ]
          },
          "metadata": {
            "tags": []
          },
          "execution_count": 315
        }
      ]
    },
    {
      "cell_type": "code",
      "metadata": {
        "id": "4Blk4sDPjpdA",
        "colab": {
          "base_uri": "https://localhost:8080/",
          "height": 294
        },
        "outputId": "a3dbe5ee-0b28-4c0f-c6c0-5f07cb5f5dd2"
      },
      "source": [
        "x.plot()"
      ],
      "execution_count": null,
      "outputs": [
        {
          "output_type": "execute_result",
          "data": {
            "text/plain": [
              "<matplotlib.axes._subplots.AxesSubplot at 0x7fa233859390>"
            ]
          },
          "metadata": {
            "tags": []
          },
          "execution_count": 316
        },
        {
          "output_type": "display_data",
          "data": {
            "image/png": "[encoded data removed]",
            "text/plain": [
              "<Figure size 432x288 with 1 Axes>"
            ]
          },
          "metadata": {
            "tags": [],
            "needs_background": "light"
          }
        }
      ]
    },
    {
      "cell_type": "code",
      "metadata": {
        "id": "fq96RHC1jttB",
        "colab": {
          "base_uri": "https://localhost:8080/",
          "height": 418
        },
        "outputId": "8af1986d-58fb-4e85-f6d6-f69bafc9565f"
      },
      "source": [
        "for w in [10, 20, 50, 100]:\n",
        "  x[f'mC{w}']=x['real'].rolling(window=w, center=True).mean()\n",
        "x.corr()\n"
      ],
      "execution_count": null,
      "outputs": [
        {
          "output_type": "execute_result",
          "data": {
            "text/html": [
              "<div>\n",
              "<style scoped>\n",
              "    .dataframe tbody tr th:only-of-type {\n",
              "        vertical-align: middle;\n",
              "    }\n",
              "\n",
              "    .dataframe tbody tr th {\n",
              "        vertical-align: top;\n",
              "    }\n",
              "\n",
              "    .dataframe thead th {\n",
              "        text-align: right;\n",
              "    }\n",
              "</style>\n",
              "<table border=\"1\" class=\"dataframe\">\n",
              "  <thead>\n",
              "    <tr style=\"text-align: right;\">\n",
              "      <th></th>\n",
              "      <th>real</th>\n",
              "      <th>rnn</th>\n",
              "      <th>lstm</th>\n",
              "      <th>gru</th>\n",
              "      <th>ma10</th>\n",
              "      <th>ma20</th>\n",
              "      <th>ma50</th>\n",
              "      <th>ma100</th>\n",
              "      <th>mC10</th>\n",
              "      <th>mC20</th>\n",
              "      <th>mC50</th>\n",
              "      <th>mC100</th>\n",
              "    </tr>\n",
              "  </thead>\n",
              "  <tbody>\n",
              "    <tr>\n",
              "      <th>real</th>\n",
              "      <td>1.000000</td>\n",
              "      <td>0.969063</td>\n",
              "      <td>0.951328</td>\n",
              "      <td>0.960954</td>\n",
              "      <td>0.970436</td>\n",
              "      <td>0.924500</td>\n",
              "      <td>0.794824</td>\n",
              "      <td>0.653097</td>\n",
              "      <td>0.990788</td>\n",
              "      <td>0.982726</td>\n",
              "      <td>0.926622</td>\n",
              "      <td>0.792111</td>\n",
              "    </tr>\n",
              "    <tr>\n",
              "      <th>rnn</th>\n",
              "      <td>0.969063</td>\n",
              "      <td>1.000000</td>\n",
              "      <td>0.979070</td>\n",
              "      <td>0.987284</td>\n",
              "      <td>0.986311</td>\n",
              "      <td>0.952923</td>\n",
              "      <td>0.818177</td>\n",
              "      <td>0.661793</td>\n",
              "      <td>0.980956</td>\n",
              "      <td>0.974825</td>\n",
              "      <td>0.919008</td>\n",
              "      <td>0.779765</td>\n",
              "    </tr>\n",
              "    <tr>\n",
              "      <th>lstm</th>\n",
              "      <td>0.951328</td>\n",
              "      <td>0.979070</td>\n",
              "      <td>1.000000</td>\n",
              "      <td>0.997866</td>\n",
              "      <td>0.995055</td>\n",
              "      <td>0.975896</td>\n",
              "      <td>0.841924</td>\n",
              "      <td>0.674342</td>\n",
              "      <td>0.969213</td>\n",
              "      <td>0.969695</td>\n",
              "      <td>0.921266</td>\n",
              "      <td>0.778800</td>\n",
              "    </tr>\n",
              "    <tr>\n",
              "      <th>gru</th>\n",
              "      <td>0.960954</td>\n",
              "      <td>0.987284</td>\n",
              "      <td>0.997866</td>\n",
              "      <td>1.000000</td>\n",
              "      <td>0.996835</td>\n",
              "      <td>0.972591</td>\n",
              "      <td>0.841835</td>\n",
              "      <td>0.681981</td>\n",
              "      <td>0.978653</td>\n",
              "      <td>0.976675</td>\n",
              "      <td>0.926840</td>\n",
              "      <td>0.787868</td>\n",
              "    </tr>\n",
              "    <tr>\n",
              "      <th>ma10</th>\n",
              "      <td>0.970436</td>\n",
              "      <td>0.986311</td>\n",
              "      <td>0.995055</td>\n",
              "      <td>0.996835</td>\n",
              "      <td>1.000000</td>\n",
              "      <td>0.978998</td>\n",
              "      <td>0.855552</td>\n",
              "      <td>0.700174</td>\n",
              "      <td>0.983797</td>\n",
              "      <td>0.984220</td>\n",
              "      <td>0.940480</td>\n",
              "      <td>0.805473</td>\n",
              "    </tr>\n",
              "    <tr>\n",
              "      <th>ma20</th>\n",
              "      <td>0.924500</td>\n",
              "      <td>0.952923</td>\n",
              "      <td>0.975896</td>\n",
              "      <td>0.972591</td>\n",
              "      <td>0.978998</td>\n",
              "      <td>1.000000</td>\n",
              "      <td>0.912960</td>\n",
              "      <td>0.749102</td>\n",
              "      <td>0.940702</td>\n",
              "      <td>0.948095</td>\n",
              "      <td>0.939000</td>\n",
              "      <td>0.817750</td>\n",
              "    </tr>\n",
              "    <tr>\n",
              "      <th>ma50</th>\n",
              "      <td>0.794824</td>\n",
              "      <td>0.818177</td>\n",
              "      <td>0.841924</td>\n",
              "      <td>0.841835</td>\n",
              "      <td>0.855552</td>\n",
              "      <td>0.912960</td>\n",
              "      <td>1.000000</td>\n",
              "      <td>0.877588</td>\n",
              "      <td>0.805726</td>\n",
              "      <td>0.811040</td>\n",
              "      <td>0.831845</td>\n",
              "      <td>0.823437</td>\n",
              "    </tr>\n",
              "    <tr>\n",
              "      <th>ma100</th>\n",
              "      <td>0.653097</td>\n",
              "      <td>0.661793</td>\n",
              "      <td>0.674342</td>\n",
              "      <td>0.681981</td>\n",
              "      <td>0.700174</td>\n",
              "      <td>0.749102</td>\n",
              "      <td>0.877588</td>\n",
              "      <td>1.000000</td>\n",
              "      <td>0.651108</td>\n",
              "      <td>0.641293</td>\n",
              "      <td>0.612901</td>\n",
              "      <td>0.559698</td>\n",
              "    </tr>\n",
              "    <tr>\n",
              "      <th>mC10</th>\n",
              "      <td>0.990788</td>\n",
              "      <td>0.980956</td>\n",
              "      <td>0.969213</td>\n",
              "      <td>0.978653</td>\n",
              "      <td>0.983797</td>\n",
              "      <td>0.940702</td>\n",
              "      <td>0.805726</td>\n",
              "      <td>0.651108</td>\n",
              "      <td>1.000000</td>\n",
              "      <td>0.995847</td>\n",
              "      <td>0.947297</td>\n",
              "      <td>0.814020</td>\n",
              "    </tr>\n",
              "    <tr>\n",
              "      <th>mC20</th>\n",
              "      <td>0.982726</td>\n",
              "      <td>0.974825</td>\n",
              "      <td>0.969695</td>\n",
              "      <td>0.976675</td>\n",
              "      <td>0.984220</td>\n",
              "      <td>0.948095</td>\n",
              "      <td>0.811040</td>\n",
              "      <td>0.641293</td>\n",
              "      <td>0.995847</td>\n",
              "      <td>1.000000</td>\n",
              "      <td>0.967543</td>\n",
              "      <td>0.838025</td>\n",
              "    </tr>\n",
              "    <tr>\n",
              "      <th>mC50</th>\n",
              "      <td>0.926622</td>\n",
              "      <td>0.919008</td>\n",
              "      <td>0.921266</td>\n",
              "      <td>0.926840</td>\n",
              "      <td>0.940480</td>\n",
              "      <td>0.939000</td>\n",
              "      <td>0.831845</td>\n",
              "      <td>0.612901</td>\n",
              "      <td>0.947297</td>\n",
              "      <td>0.967543</td>\n",
              "      <td>1.000000</td>\n",
              "      <td>0.925686</td>\n",
              "    </tr>\n",
              "    <tr>\n",
              "      <th>mC100</th>\n",
              "      <td>0.792111</td>\n",
              "      <td>0.779765</td>\n",
              "      <td>0.778800</td>\n",
              "      <td>0.787868</td>\n",
              "      <td>0.805473</td>\n",
              "      <td>0.817750</td>\n",
              "      <td>0.823437</td>\n",
              "      <td>0.559698</td>\n",
              "      <td>0.814020</td>\n",
              "      <td>0.838025</td>\n",
              "      <td>0.925686</td>\n",
              "      <td>1.000000</td>\n",
              "    </tr>\n",
              "  </tbody>\n",
              "</table>\n",
              "</div>"
            ],
            "text/plain": [
              "           real       rnn      lstm  ...      mC20      mC50     mC100\n",
              "real   1.000000  0.969063  0.951328  ...  0.982726  0.926622  0.792111\n",
              "rnn    0.969063  1.000000  0.979070  ...  0.974825  0.919008  0.779765\n",
              "lstm   0.951328  0.979070  1.000000  ...  0.969695  0.921266  0.778800\n",
              "gru    0.960954  0.987284  0.997866  ...  0.976675  0.926840  0.787868\n",
              "ma10   0.970436  0.986311  0.995055  ...  0.984220  0.940480  0.805473\n",
              "ma20   0.924500  0.952923  0.975896  ...  0.948095  0.939000  0.817750\n",
              "ma50   0.794824  0.818177  0.841924  ...  0.811040  0.831845  0.823437\n",
              "ma100  0.653097  0.661793  0.674342  ...  0.641293  0.612901  0.559698\n",
              "mC10   0.990788  0.980956  0.969213  ...  0.995847  0.947297  0.814020\n",
              "mC20   0.982726  0.974825  0.969695  ...  1.000000  0.967543  0.838025\n",
              "mC50   0.926622  0.919008  0.921266  ...  0.967543  1.000000  0.925686\n",
              "mC100  0.792111  0.779765  0.778800  ...  0.838025  0.925686  1.000000\n",
              "\n",
              "[12 rows x 12 columns]"
            ]
          },
          "metadata": {
            "tags": []
          },
          "execution_count": 317
        }
      ]
    },
    {
      "cell_type": "code",
      "metadata": {
        "id": "oScv6SSJkDP4",
        "colab": {
          "base_uri": "https://localhost:8080/"
        },
        "outputId": "e5abb867-3b63-477c-8dfa-2e45f0eb1bdf"
      },
      "source": [
        "x.corr()['real'].sort_values(ascending=False)\n"
      ],
      "execution_count": null,
      "outputs": [
        {
          "output_type": "execute_result",
          "data": {
            "text/plain": [
              "real     1.000000\n",
              "mC10     0.990788\n",
              "mC20     0.982726\n",
              "ma10     0.970436\n",
              "rnn      0.969063\n",
              "gru      0.960954\n",
              "lstm     0.951328\n",
              "mC50     0.926622\n",
              "ma20     0.924500\n",
              "ma50     0.794824\n",
              "mC100    0.792111\n",
              "ma100    0.653097\n",
              "Name: real, dtype: float64"
            ]
          },
          "metadata": {
            "tags": []
          },
          "execution_count": 318
        }
      ]
    },
    {
      "cell_type": "code",
      "metadata": {
        "id": "Kdp_tjP0kcMx",
        "colab": {
          "base_uri": "https://localhost:8080/",
          "height": 52
        },
        "outputId": "8832f4ac-a409-4680-edc4-34d0d38faa63"
      },
      "source": [
        "'''\n",
        "real     1.000000\n",
        "mC10     0.990788\n",
        "mC20     0.982726\n",
        "ma10     0.970436\n",
        "rnn      0.969485\n",
        "gru      0.960465\n",
        "lstm     0.952220\n",
        "mC50     0.926622\n",
        "ma20     0.924500\n",
        "ma50     0.794824\n",
        "mC100    0.792111\n",
        "ma100    0.653097\n",
        "Name: real, dtype: float64\n",
        "'''\n",
        "# 與 'real' 的相關係數最高的前3名分別為 mC10, mC20, ma10\n",
        "# 'rnn', 'gru', 'lstm' 排在其後\n",
        "# 那麼 若用 x.corr() 來衡量 演算法達成效果的優缺點，\n",
        "# 這些 deep learning 優於傳統方法之處在哪裡？ "
      ],
      "execution_count": null,
      "outputs": [
        {
          "output_type": "execute_result",
          "data": {
            "application/vnd.google.colaboratory.intrinsic+json": {
              "type": "string"
            },
            "text/plain": [
              "'\\nreal     1.000000\\nmC10     0.990788\\nmC20     0.982726\\nma10     0.970436\\nrnn      0.969485\\ngru      0.960465\\nlstm     0.952220\\nmC50     0.926622\\nma20     0.924500\\nma50     0.794824\\nmC100    0.792111\\nma100    0.653097\\nName: real, dtype: float64\\n'"
            ]
          },
          "metadata": {
            "tags": []
          },
          "execution_count": 319
        }
      ]
    },
    {
      "cell_type": "code",
      "metadata": {
        "id": "NOEMDY1jkzRA"
      },
      "source": [
        ""
      ],
      "execution_count": null,
      "outputs": []
    }
  ]
}