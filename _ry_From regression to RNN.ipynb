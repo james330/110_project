{
  "nbformat": 4,
  "nbformat_minor": 0,
  "metadata": {
    "kernelspec": {
      "display_name": "Python 3",
      "language": "python",
      "name": "python3"
    },
    "language_info": {
      "codemirror_mode": {
        "name": "ipython",
        "version": 3
      },
      "file_extension": ".py",
      "mimetype": "text/x-python",
      "name": "python",
      "nbconvert_exporter": "python",
      "pygments_lexer": "ipython3",
      "version": "3.8.2"
    },
    "colab": {
      "name": "From regression to RNN.ipynb",
      "provenance": [],
      "include_colab_link": true
    }
  },
  "cells": [
    {
      "cell_type": "markdown",
      "metadata": {
        "id": "view-in-github",
        "colab_type": "text"
      },
      "source": [
        "<a href=\"https://colab.research.google.com/github/renyuanL/110_project/blob/main/_ry_From%20regression%20to%20RNN.ipynb\" target=\"_parent\"><img src=\"https://colab.research.google.com/assets/colab-badge.svg\" alt=\"Open In Colab\"/></a>"
      ]
    },
    {
      "cell_type": "code",
      "metadata": {
        "id": "AZNzIQU1CjsY"
      },
      "source": [
        ""
      ],
      "execution_count": 215,
      "outputs": []
    },
    {
      "cell_type": "markdown",
      "metadata": {
        "id": "lnGgdiQqoFgx"
      },
      "source": [
        "## From Regression to RNN\n",
        "\n",
        "Learning objectives:\n",
        "* [Objective 1] ARIMA\n",
        "* [Objective 2] RNN requires a 3-D tensor as input\n",
        "* [Objective 3] Stock data\n",
        "* [Objective 4] Create the training and test data for RNN/LSTM\n",
        "* [Objective 5] Run a simple RNN model\n",
        "* [Objective 6] RNN/LTSM requires normalized input data\n",
        "* [Objective 7] LSTM\n",
        "* [Objective 8] LSTM Regularization\n",
        "* [Objective 9] GRU\n",
        "* [Objective 10] GRU Regularization\n",
        "\n",
        "Note: Every run of the following code may vary.\n",
        "\n",
        "## Ref:\n",
        "- https://medium.com/swlh/a-technical-guide-on-rnn-lstm-gru-for-stock-price-prediction-bce2f7f30346\n",
        "\n",
        "- https://github.com/dataman-git/codes_for_articles/blob/master/From%20regression%20to%20RNN.ipynb\n"
      ]
    },
    {
      "cell_type": "code",
      "metadata": {
        "id": "KfVrYmC6oFgy"
      },
      "source": [
        "from statsmodels.graphics.tsaplots import plot_pacf, plot_acf\n",
        "from statsmodels.tsa.arima_process import ArmaProcess\n",
        "from statsmodels.tsa.stattools import pacf\n",
        "from statsmodels.regression.linear_model import yule_walker\n",
        "#from statsmodels.tsa.stattools import adfuller\n",
        "import matplotlib.pyplot as plt\n",
        "import numpy as np\n",
        "%matplotlib inline"
      ],
      "execution_count": 216,
      "outputs": []
    },
    {
      "cell_type": "markdown",
      "metadata": {
        "id": "yZ6V7DoNoFgz"
      },
      "source": [
        "### [Learning Objective 1] ARIMA()"
      ]
    },
    {
      "cell_type": "code",
      "metadata": {
        "id": "-SZvsQmooFgz",
        "outputId": "7cba1710-4229-4727-defd-9e53ffcb1483",
        "colab": {
          "base_uri": "https://localhost:8080/"
        }
      },
      "source": [
        "from statsmodels.graphics.tsaplots import plot_pacf, plot_acf\n",
        "\n",
        "from statsmodels.tsa.arima_process import ArmaProcess\n",
        "\n",
        "from statsmodels.tsa.stattools import pacf\n",
        "from statsmodels.regression.linear_model import yule_walker\n",
        "#from statsmodels.tsa.stattools import adfuller\n",
        "import matplotlib.pyplot as plt\n",
        "import numpy as np\n",
        "import pandas as pd\n",
        "\n",
        "%matplotlib inline\n",
        "\n",
        "# Generate the data\n",
        "import numpy as np\n",
        "\n",
        "np.random.seed(0)\n",
        "\n",
        "ar= np.array([1, -0.8, 0.2])\n",
        "ma= np.array([1])\n",
        "my_simulation= ArmaProcess(ar, ma).generate_sample(nsample=100)\n",
        "\n",
        "'''\n",
        "plt.figure(figsize=[10, 5]); # Set dimensions for figure\n",
        "plt.plot(my_simulation, linestyle='-', marker='o', color='b')\n",
        "plt.title(\"Simulated Process\")\n",
        "plt.show()\n",
        "'''\n",
        "my_simulation\n"
      ],
      "execution_count": 217,
      "outputs": [
        {
          "output_type": "execute_result",
          "data": {
            "text/plain": [
              "array([ 1.76405235,  1.81139909,  2.07504678,  3.53865081,  4.28346928,\n",
              "        1.74176738,  1.48680847,  0.68973609,  0.15120833,  0.39361794,\n",
              "        0.42869626,  1.71850693,  2.05010401,  1.41805684,  1.1682879 ,\n",
              "        0.98469328,  2.04817612,  1.23644397,  0.89258766, -0.38731441,\n",
              "       -3.04135887, -1.70200562,  0.11110348, -0.31288112,  1.99722904,\n",
              "        0.20599378, -0.18889227, -0.37949642,  1.26696053,  2.55882648,\n",
              "        1.9486165 ,  1.42529043, -0.13727671, -2.37567592, -2.22099754,\n",
              "       -1.14531388,  0.75823908,  2.03803389,  1.09145248,  0.16325245,\n",
              "       -1.1362415 , -2.36166163, -3.36835119, -0.27157323, -0.05324053,\n",
              "       -0.42635208, -1.58322892, -0.40382236, -1.62030995, -1.42822377,\n",
              "       -1.71398359, -0.69863962, -0.72692011, -1.62244035, -1.18075049,\n",
              "       -0.19178045,  0.14924296,  0.46022236, -0.2959928 , -0.69157988,\n",
              "       -1.16652579, -1.15445782, -1.50340738, -2.69811694, -1.68038594,\n",
              "       -1.2064663 , -2.2592942 , -1.10335984, -1.3381274 , -0.79788456,\n",
              "        0.3584084 ,  0.57528654,  1.52794824, -0.12752454, -0.00526764,\n",
              "       -0.66351929, -1.40055906, -1.56659305, -1.28471516, -0.65828818,\n",
              "       -1.43483735, -0.11538576,  0.6603213 , -0.98490949,  0.56826034,\n",
              "        2.54747935,  3.10311098,  1.79306808, -0.25692035,  0.49030183,\n",
              "        0.04044859,  1.15674357,  1.12558012,  1.64575442,  1.44785391,\n",
              "        1.53570541,  0.94949357,  2.23832427,  1.72767279,  1.33646274])"
            ]
          },
          "metadata": {
            "tags": []
          },
          "execution_count": 217
        }
      ]
    },
    {
      "cell_type": "code",
      "metadata": {
        "id": "WPLv4hcs8iVu"
      },
      "source": [
        "ArmaProcess??"
      ],
      "execution_count": 218,
      "outputs": []
    },
    {
      "cell_type": "markdown",
      "metadata": {
        "id": "gOeiRnSS9CxE"
      },
      "source": [
        "The ARMA(p,q) process is described by\n",
        "\n",
        ".. math::\n",
        "\n",
        "$\n",
        "        y_{t}=\\phi_{1}y_{t-1}+\\ldots+\\phi_{p}y_{t-p}+\\theta_{1}\\epsilon_{t-1}\n",
        "               +\\ldots+\\theta_{q}\\epsilon_{t-q}+\\epsilon_{t}\n",
        "$\n",
        "\n",
        "and the parameterization used in this function uses the lag-polynomial\n",
        "    representation,\n",
        "\n",
        ".. math::\n",
        "\n",
        "$\n",
        "        \\left(1-\\phi_{1}L-\\ldots-\\phi_{p}L^{p}\\right)y_{t} =\n",
        "            \\left(1-\\theta_{1}L-\\ldots-\\theta_{q}L^{q}\\right)\n",
        "$\n",
        "\n",
        "### ry: 上面這式子(from官方文件)怪怪的，修改一下...\n",
        "\n",
        "$\n",
        "        \\left(1-\\phi_{1}L-\\ldots-\\phi_{p}L^{p}\\right)y_{t} =\n",
        "            \\left(1+\\theta_{1}L+\\ldots+\\theta_{q}L^{q}\\right)\\epsilon_{t}\n",
        "$"
      ]
    },
    {
      "cell_type": "code",
      "metadata": {
        "id": "-nCuM4sn5Wpt",
        "colab": {
          "base_uri": "https://localhost:8080/",
          "height": 416
        },
        "outputId": "2fca4031-e353-4d46-edfe-da55d7444ccd"
      },
      "source": [
        "x= pd.Series(my_simulation)\n",
        "x.describe(), x.plot(grid=True)"
      ],
      "execution_count": 219,
      "outputs": [
        {
          "output_type": "execute_result",
          "data": {
            "text/plain": [
              "(count    100.000000\n",
              " mean       0.138111\n",
              " std        1.510065\n",
              " min       -3.368351\n",
              " 25%       -1.138510\n",
              " 50%        0.075776\n",
              " 75%        1.356861\n",
              " max        4.283469\n",
              " dtype: float64, <matplotlib.axes._subplots.AxesSubplot at 0x7fa248348bd0>)"
            ]
          },
          "metadata": {
            "tags": []
          },
          "execution_count": 219
        },
        {
          "output_type": "display_data",
          "data": {
            "image/png": "[encoded data removed]",
            "text/plain": [
              "<Figure size 432x288 with 1 Axes>"
            ]
          },
          "metadata": {
            "tags": [],
            "needs_background": "light"
          }
        }
      ]
    },
    {
      "cell_type": "code",
      "metadata": {
        "id": "Q7hriPRfoFg0",
        "colab": {
          "base_uri": "https://localhost:8080/",
          "height": 545
        },
        "outputId": "6c23a806-93ee-4dd4-9d23-3b3fe5f1d6ec"
      },
      "source": [
        "from matplotlib import pyplot\n",
        "from pandas.plotting import autocorrelation_plot\n",
        "plot_acf(my_simulation)"
      ],
      "execution_count": 220,
      "outputs": [
        {
          "output_type": "execute_result",
          "data": {
            "image/png": "[encoded data removed]",
            "text/plain": [
              "<Figure size 432x288 with 1 Axes>"
            ]
          },
          "metadata": {
            "tags": []
          },
          "execution_count": 220
        },
        {
          "output_type": "display_data",
          "data": {
            "image/png": "[encoded data removed]",
            "text/plain": [
              "<Figure size 432x288 with 1 Axes>"
            ]
          },
          "metadata": {
            "tags": [],
            "needs_background": "light"
          }
        }
      ]
    },
    {
      "cell_type": "code",
      "metadata": {
        "id": "G3Osje2IoFg1",
        "colab": {
          "base_uri": "https://localhost:8080/",
          "height": 545
        },
        "outputId": "0f0a793a-bc73-4595-f706-48f3d1c37195"
      },
      "source": [
        "plot_pacf(my_simulation)"
      ],
      "execution_count": 221,
      "outputs": [
        {
          "output_type": "execute_result",
          "data": {
            "image/png": "[encoded data removed]",
            "text/plain": [
              "<Figure size 432x288 with 1 Axes>"
            ]
          },
          "metadata": {
            "tags": []
          },
          "execution_count": 221
        },
        {
          "output_type": "display_data",
          "data": {
            "image/png": "[encoded data removed]",
            "text/plain": [
              "<Figure size 432x288 with 1 Axes>"
            ]
          },
          "metadata": {
            "tags": [],
            "needs_background": "light"
          }
        }
      ]
    },
    {
      "cell_type": "code",
      "metadata": {
        "id": "dYYn46FNoFg1"
      },
      "source": [
        "import warnings\n",
        "import statsmodels.api as sm\n",
        "from  statsmodels.tsa.arima_model import ARMA\n",
        "\n",
        "#mod = sm.tsa.arima.ARIMA(my_simulation, order=(2, 0, 0))\n",
        "\n",
        "mod=   sm.tsa.ARIMA(my_simulation, order=(2, 0, 0))\n",
        "#sm.tsa.ARIMA??\n"
      ],
      "execution_count": 222,
      "outputs": []
    },
    {
      "cell_type": "code",
      "metadata": {
        "id": "veYvB0EMBFgc",
        "colab": {
          "base_uri": "https://localhost:8080/",
          "height": 324
        },
        "outputId": "780d410d-c43f-432c-c87f-fcd0c137c736"
      },
      "source": [
        "\n",
        "mod_fit= mod.fit()\n",
        "\n",
        "mod_fit.summary()\n"
      ],
      "execution_count": 223,
      "outputs": [
        {
          "output_type": "execute_result",
          "data": {
            "text/html": [
              "<table class=\"simpletable\">\n",
              "<caption>ARMA Model Results</caption>\n",
              "<tr>\n",
              "  <th>Dep. Variable:</th>         <td>y</td>        <th>  No. Observations:  </th>    <td>100</td>  \n",
              "</tr>\n",
              "<tr>\n",
              "  <th>Model:</th>            <td>ARMA(2, 0)</td>    <th>  Log Likelihood     </th> <td>-141.440</td>\n",
              "</tr>\n",
              "<tr>\n",
              "  <th>Method:</th>             <td>css-mle</td>     <th>  S.D. of innovations</th>   <td>0.991</td> \n",
              "</tr>\n",
              "<tr>\n",
              "  <th>Date:</th>          <td>Sun, 13 Jun 2021</td> <th>  AIC                </th>  <td>290.880</td>\n",
              "</tr>\n",
              "<tr>\n",
              "  <th>Time:</th>              <td>04:01:18</td>     <th>  BIC                </th>  <td>301.301</td>\n",
              "</tr>\n",
              "<tr>\n",
              "  <th>Sample:</th>                <td>0</td>        <th>  HQIC               </th>  <td>295.098</td>\n",
              "</tr>\n",
              "<tr>\n",
              "  <th></th>                       <td> </td>        <th>                     </th>     <td> </td>   \n",
              "</tr>\n",
              "</table>\n",
              "<table class=\"simpletable\">\n",
              "<tr>\n",
              "     <td></td>        <th>coef</th>     <th>std err</th>      <th>z</th>      <th>P>|z|</th>  <th>[0.025</th>    <th>0.975]</th>  \n",
              "</tr>\n",
              "<tr>\n",
              "  <th>const</th>   <td>    0.1824</td> <td>    0.321</td> <td>    0.569</td> <td> 0.571</td> <td>   -0.446</td> <td>    0.811</td>\n",
              "</tr>\n",
              "<tr>\n",
              "  <th>ar.L1.y</th> <td>    0.8699</td> <td>    0.098</td> <td>    8.895</td> <td> 0.000</td> <td>    0.678</td> <td>    1.062</td>\n",
              "</tr>\n",
              "<tr>\n",
              "  <th>ar.L2.y</th> <td>   -0.1745</td> <td>    0.099</td> <td>   -1.768</td> <td> 0.080</td> <td>   -0.368</td> <td>    0.019</td>\n",
              "</tr>\n",
              "</table>\n",
              "<table class=\"simpletable\">\n",
              "<caption>Roots</caption>\n",
              "<tr>\n",
              "    <td></td>   <th>            Real</th>  <th>         Imaginary</th> <th>         Modulus</th>  <th>        Frequency</th>\n",
              "</tr>\n",
              "<tr>\n",
              "  <th>AR.1</th> <td>           1.7972</td> <td>          +0.0000j</td> <td>           1.7972</td> <td>           0.0000</td>\n",
              "</tr>\n",
              "<tr>\n",
              "  <th>AR.2</th> <td>           3.1896</td> <td>          +0.0000j</td> <td>           3.1896</td> <td>           0.0000</td>\n",
              "</tr>\n",
              "</table>"
            ],
            "text/plain": [
              "<class 'statsmodels.iolib.summary.Summary'>\n",
              "\"\"\"\n",
              "                              ARMA Model Results                              \n",
              "==============================================================================\n",
              "Dep. Variable:                      y   No. Observations:                  100\n",
              "Model:                     ARMA(2, 0)   Log Likelihood                -141.440\n",
              "Method:                       css-mle   S.D. of innovations              0.991\n",
              "Date:                Sun, 13 Jun 2021   AIC                            290.880\n",
              "Time:                        04:01:18   BIC                            301.301\n",
              "Sample:                             0   HQIC                           295.098\n",
              "                                                                              \n",
              "==============================================================================\n",
              "                 coef    std err          z      P>|z|      [0.025      0.975]\n",
              "------------------------------------------------------------------------------\n",
              "const          0.1824      0.321      0.569      0.571      -0.446       0.811\n",
              "ar.L1.y        0.8699      0.098      8.895      0.000       0.678       1.062\n",
              "ar.L2.y       -0.1745      0.099     -1.768      0.080      -0.368       0.019\n",
              "                                    Roots                                    \n",
              "=============================================================================\n",
              "                  Real          Imaginary           Modulus         Frequency\n",
              "-----------------------------------------------------------------------------\n",
              "AR.1            1.7972           +0.0000j            1.7972            0.0000\n",
              "AR.2            3.1896           +0.0000j            3.1896            0.0000\n",
              "-----------------------------------------------------------------------------\n",
              "\"\"\""
            ]
          },
          "metadata": {
            "tags": []
          },
          "execution_count": 223
        }
      ]
    },
    {
      "cell_type": "code",
      "metadata": {
        "id": "qIk6sJSJCo1i",
        "colab": {
          "base_uri": "https://localhost:8080/",
          "height": 348
        },
        "outputId": "1d7bb679-95f0-4ab6-9d1a-707c21428da4"
      },
      "source": [
        "mod_fit.summary2()"
      ],
      "execution_count": 224,
      "outputs": [
        {
          "output_type": "execute_result",
          "data": {
            "text/html": [
              "<table class=\"simpletable\">\n",
              "<tr>\n",
              "        <td>Model:</td>              <td>ARMA</td>               <td>BIC:</td>         <td>301.3011</td>\n",
              "</tr>\n",
              "<tr>\n",
              "  <td>Dependent Variable:</td>         <td>y</td>           <td>Log-Likelihood:</td>    <td>-141.44</td>\n",
              "</tr>\n",
              "<tr>\n",
              "         <td>Date:</td>        <td>2021-06-13 04:01</td>        <td>Scale:</td>         <td>1.0000</td> \n",
              "</tr>\n",
              "<tr>\n",
              "   <td>No. Observations:</td>         <td>100</td>              <td>Method:</td>        <td>css-mle</td>\n",
              "</tr>\n",
              "<tr>\n",
              "       <td>Df Model:</td>              <td>3</td>               <td>Sample:</td>           <td>0</td>   \n",
              "</tr>\n",
              "<tr>\n",
              "     <td>Df Residuals:</td>           <td>97</td>                  <td></td>               <td>0</td>   \n",
              "</tr>\n",
              "<tr>\n",
              "      <td>Converged:</td>           <td>1.0000</td>      <td>S.D. of innovations:</td>   <td>0.991</td> \n",
              "</tr>\n",
              "<tr>\n",
              "    <td>No. Iterations:</td>        <td>6.0000</td>              <td>HQIC:</td>         <td>295.098</td>\n",
              "</tr>\n",
              "<tr>\n",
              "         <td>AIC:</td>             <td>290.8804</td>               <td></td>               <td></td>    \n",
              "</tr>\n",
              "</table>\n",
              "<table class=\"simpletable\">\n",
              "<tr>\n",
              "     <td></td>      <th>Coef.</th>  <th>Std.Err.</th>    <th>t</th>     <th>P>|t|</th> <th>[0.025</th>  <th>0.975]</th>\n",
              "</tr>\n",
              "<tr>\n",
              "  <th>const</th>   <td>0.1824</td>   <td>0.3208</td>  <td>0.5685</td>  <td>0.5710</td> <td>-0.4464</td> <td>0.8112</td>\n",
              "</tr>\n",
              "<tr>\n",
              "  <th>ar.L1.y</th> <td>0.8699</td>   <td>0.0978</td>  <td>8.8953</td>  <td>0.0000</td> <td>0.6783</td>  <td>1.0616</td>\n",
              "</tr>\n",
              "<tr>\n",
              "  <th>ar.L2.y</th> <td>-0.1745</td>  <td>0.0987</td>  <td>-1.7675</td> <td>0.0803</td> <td>-0.3679</td> <td>0.0190</td>\n",
              "</tr>\n",
              "</table>\n",
              "<table class=\"simpletable\">\n",
              "<tr>\n",
              "    <td></td>    <th>Real</th>  <th>Imaginary</th> <th>Modulus</th> <th>Frequency</th>\n",
              "</tr>\n",
              "<tr>\n",
              "  <th>AR.1</th> <td>1.7972</td>  <td>0.0000</td>   <td>1.7972</td>   <td>0.0000</td>  \n",
              "</tr>\n",
              "<tr>\n",
              "  <th>AR.2</th> <td>3.1896</td>  <td>0.0000</td>   <td>3.1896</td>   <td>0.0000</td>  \n",
              "</tr>\n",
              "</table>"
            ],
            "text/plain": [
              "<class 'statsmodels.iolib.summary2.Summary'>\n",
              "\"\"\"\n",
              "                          Results: ARMA\n",
              "==================================================================\n",
              "Model:              ARMA             BIC:                 301.3011\n",
              "Dependent Variable: y                Log-Likelihood:      -141.44 \n",
              "Date:               2021-06-13 04:01 Scale:               1.0000  \n",
              "No. Observations:   100              Method:              css-mle \n",
              "Df Model:           3                Sample:              0       \n",
              "Df Residuals:       97                                    0       \n",
              "Converged:          1.0000           S.D. of innovations: 0.991   \n",
              "No. Iterations:     6.0000           HQIC:                295.098 \n",
              "AIC:                290.8804                                      \n",
              "--------------------------------------------------------------------\n",
              "             Coef.    Std.Err.      t      P>|t|     [0.025   0.975]\n",
              "--------------------------------------------------------------------\n",
              "const        0.1824     0.3208    0.5685   0.5710   -0.4464   0.8112\n",
              "ar.L1.y      0.8699     0.0978    8.8953   0.0000    0.6783   1.0616\n",
              "ar.L2.y     -0.1745     0.0987   -1.7675   0.0803   -0.3679   0.0190\n",
              "---------------------------------------------------------------------------\n",
              "               Real           Imaginary          Modulus          Frequency\n",
              "---------------------------------------------------------------------------\n",
              "AR.1          1.7972             0.0000           1.7972             0.0000\n",
              "AR.2          3.1896             0.0000           3.1896             0.0000\n",
              "==================================================================\n",
              "\n",
              "\"\"\""
            ]
          },
          "metadata": {
            "tags": []
          },
          "execution_count": 224
        }
      ]
    },
    {
      "cell_type": "markdown",
      "metadata": {
        "id": "gS9TCybboFg1"
      },
      "source": [
        "### [Learning Objective 2] RNN requires a 3-D tensor as input\n",
        "* Tensor: One tensor is a vector that enters the model\n",
        "* Time Step: One time step is one observation in the tensor.\n",
        "* Feature: One feature is one observation at a time step."
      ]
    },
    {
      "cell_type": "code",
      "metadata": {
        "id": "ZXPI3YWSoFg2",
        "colab": {
          "base_uri": "https://localhost:8080/"
        },
        "outputId": "d4c4e4cb-8d1a-418a-dfe1-ff7ffe43df96"
      },
      "source": [
        "np.random.seed(0)\n",
        "\n",
        "array = np.random.random(20) #.astype(np.float32\n",
        "array.reshape((1,20,1))\n",
        "array"
      ],
      "execution_count": 225,
      "outputs": [
        {
          "output_type": "execute_result",
          "data": {
            "text/plain": [
              "array([0.5488135 , 0.71518937, 0.60276338, 0.54488318, 0.4236548 ,\n",
              "       0.64589411, 0.43758721, 0.891773  , 0.96366276, 0.38344152,\n",
              "       0.79172504, 0.52889492, 0.56804456, 0.92559664, 0.07103606,\n",
              "       0.0871293 , 0.0202184 , 0.83261985, 0.77815675, 0.87001215])"
            ]
          },
          "metadata": {
            "tags": []
          },
          "execution_count": 225
        }
      ]
    },
    {
      "cell_type": "code",
      "metadata": {
        "id": "YyWDXACyoFg2",
        "colab": {
          "base_uri": "https://localhost:8080/",
          "height": 321
        },
        "outputId": "2eb94b75-27cf-4d60-d1e8-a62a1e705052"
      },
      "source": [
        "plt.figure(figsize=[10, 5]); # Set dimensions for figure\n",
        "plt.plot(array, linestyle='-', marker='o', color='b')\n",
        "plt.grid(True)\n",
        "plt.show()"
      ],
      "execution_count": 226,
      "outputs": [
        {
          "output_type": "display_data",
          "data": {
            "image/png": "[encoded data removed]",
            "text/plain": [
              "<Figure size 720x360 with 1 Axes>"
            ]
          },
          "metadata": {
            "tags": [],
            "needs_background": "light"
          }
        }
      ]
    },
    {
      "cell_type": "code",
      "metadata": {
        "id": "6SwjDEdroFg2",
        "colab": {
          "base_uri": "https://localhost:8080/"
        },
        "outputId": "ef807918-4a67-4570-ce88-83c4e91ed4cd"
      },
      "source": [
        "array.reshape((4,5,1))"
      ],
      "execution_count": 227,
      "outputs": [
        {
          "output_type": "execute_result",
          "data": {
            "text/plain": [
              "array([[[0.5488135 ],\n",
              "        [0.71518937],\n",
              "        [0.60276338],\n",
              "        [0.54488318],\n",
              "        [0.4236548 ]],\n",
              "\n",
              "       [[0.64589411],\n",
              "        [0.43758721],\n",
              "        [0.891773  ],\n",
              "        [0.96366276],\n",
              "        [0.38344152]],\n",
              "\n",
              "       [[0.79172504],\n",
              "        [0.52889492],\n",
              "        [0.56804456],\n",
              "        [0.92559664],\n",
              "        [0.07103606]],\n",
              "\n",
              "       [[0.0871293 ],\n",
              "        [0.0202184 ],\n",
              "        [0.83261985],\n",
              "        [0.77815675],\n",
              "        [0.87001215]]])"
            ]
          },
          "metadata": {
            "tags": []
          },
          "execution_count": 227
        }
      ]
    },
    {
      "cell_type": "code",
      "metadata": {
        "id": "wZ8uop8JoFg2",
        "colab": {
          "base_uri": "https://localhost:8080/"
        },
        "outputId": "c63ddcfd-0a60-45b7-e74b-bca7fd99d765"
      },
      "source": [
        "array.reshape((2,5,2))"
      ],
      "execution_count": 228,
      "outputs": [
        {
          "output_type": "execute_result",
          "data": {
            "text/plain": [
              "array([[[0.5488135 , 0.71518937],\n",
              "        [0.60276338, 0.54488318],\n",
              "        [0.4236548 , 0.64589411],\n",
              "        [0.43758721, 0.891773  ],\n",
              "        [0.96366276, 0.38344152]],\n",
              "\n",
              "       [[0.79172504, 0.52889492],\n",
              "        [0.56804456, 0.92559664],\n",
              "        [0.07103606, 0.0871293 ],\n",
              "        [0.0202184 , 0.83261985],\n",
              "        [0.77815675, 0.87001215]]])"
            ]
          },
          "metadata": {
            "tags": []
          },
          "execution_count": 228
        }
      ]
    },
    {
      "cell_type": "code",
      "metadata": {
        "id": "74JJls1KoFg3",
        "colab": {
          "base_uri": "https://localhost:8080/"
        },
        "outputId": "cf72e436-c890-4dd4-efb1-d8b3013e436b"
      },
      "source": [
        "np.random.seed(0)\n",
        "\n",
        "# Example 1\n",
        "array= np.random.random(20) #.astype(np.float32\n",
        "x1=   array.reshape((1,20,1))\n",
        "x1"
      ],
      "execution_count": 229,
      "outputs": [
        {
          "output_type": "execute_result",
          "data": {
            "text/plain": [
              "array([[[0.5488135 ],\n",
              "        [0.71518937],\n",
              "        [0.60276338],\n",
              "        [0.54488318],\n",
              "        [0.4236548 ],\n",
              "        [0.64589411],\n",
              "        [0.43758721],\n",
              "        [0.891773  ],\n",
              "        [0.96366276],\n",
              "        [0.38344152],\n",
              "        [0.79172504],\n",
              "        [0.52889492],\n",
              "        [0.56804456],\n",
              "        [0.92559664],\n",
              "        [0.07103606],\n",
              "        [0.0871293 ],\n",
              "        [0.0202184 ],\n",
              "        [0.83261985],\n",
              "        [0.77815675],\n",
              "        [0.87001215]]])"
            ]
          },
          "metadata": {
            "tags": []
          },
          "execution_count": 229
        }
      ]
    },
    {
      "cell_type": "code",
      "metadata": {
        "id": "T8FYKzqnFMYU",
        "colab": {
          "base_uri": "https://localhost:8080/"
        },
        "outputId": "58d91b7c-e765-4266-9c07-b448dc3b4ef8"
      },
      "source": [
        "\n",
        "# Example 2\n",
        "x2= array.reshape((4,5,1))\n",
        "x2"
      ],
      "execution_count": 230,
      "outputs": [
        {
          "output_type": "execute_result",
          "data": {
            "text/plain": [
              "array([[[0.5488135 ],\n",
              "        [0.71518937],\n",
              "        [0.60276338],\n",
              "        [0.54488318],\n",
              "        [0.4236548 ]],\n",
              "\n",
              "       [[0.64589411],\n",
              "        [0.43758721],\n",
              "        [0.891773  ],\n",
              "        [0.96366276],\n",
              "        [0.38344152]],\n",
              "\n",
              "       [[0.79172504],\n",
              "        [0.52889492],\n",
              "        [0.56804456],\n",
              "        [0.92559664],\n",
              "        [0.07103606]],\n",
              "\n",
              "       [[0.0871293 ],\n",
              "        [0.0202184 ],\n",
              "        [0.83261985],\n",
              "        [0.77815675],\n",
              "        [0.87001215]]])"
            ]
          },
          "metadata": {
            "tags": []
          },
          "execution_count": 230
        }
      ]
    },
    {
      "cell_type": "code",
      "metadata": {
        "id": "cf598s4RFNNx",
        "colab": {
          "base_uri": "https://localhost:8080/"
        },
        "outputId": "e2795aee-a817-4db0-f2c1-f54dab73f392"
      },
      "source": [
        "\n",
        "# Example 3\n",
        "x3= array.reshape((2,5,2))\n",
        "x3"
      ],
      "execution_count": 231,
      "outputs": [
        {
          "output_type": "execute_result",
          "data": {
            "text/plain": [
              "array([[[0.5488135 , 0.71518937],\n",
              "        [0.60276338, 0.54488318],\n",
              "        [0.4236548 , 0.64589411],\n",
              "        [0.43758721, 0.891773  ],\n",
              "        [0.96366276, 0.38344152]],\n",
              "\n",
              "       [[0.79172504, 0.52889492],\n",
              "        [0.56804456, 0.92559664],\n",
              "        [0.07103606, 0.0871293 ],\n",
              "        [0.0202184 , 0.83261985],\n",
              "        [0.77815675, 0.87001215]]])"
            ]
          },
          "metadata": {
            "tags": []
          },
          "execution_count": 231
        }
      ]
    },
    {
      "cell_type": "markdown",
      "metadata": {
        "id": "15PsKIWToFg3"
      },
      "source": [
        "* use numpy to store and manipulate image data. \n",
        "* We will use the Python Imaging library (PIL) to read and write data to standard file formats.\n",
        "* 4 lines of pixels, each line of pixels contains 5 pixels, and each pixel contains 3 bytes (red, green, blue)\n",
        "* The shape of the array is: height x width x 3."
      ]
    },
    {
      "cell_type": "code",
      "metadata": {
        "id": "464fyrRyGnUQ"
      },
      "source": [
        "#np.random.randint?"
      ],
      "execution_count": 232,
      "outputs": []
    },
    {
      "cell_type": "code",
      "metadata": {
        "id": "r2904p_4oFg3",
        "colab": {
          "base_uri": "https://localhost:8080/"
        },
        "outputId": "8a149470-587a-4a37-a666-8875b96a8994"
      },
      "source": [
        "np.random.seed(0)\n",
        "\n",
        "# IF it is image data:\n",
        "# Create an RGB image that is 3 dimensional arrays of 8-bit unsigned integers.\n",
        "width= 5\n",
        "height= 4\n",
        "RGB= 3\n",
        "p= width * height * RGB\n",
        "img_data= np.random.randint(low=100, high=256, size=p, dtype= np.uint8) # Generate values in (100,255)\n",
        "img_data= img_data.reshape((height, width, RGB))\n",
        "img_data"
      ],
      "execution_count": 233,
      "outputs": [
        {
          "output_type": "execute_result",
          "data": {
            "text/plain": [
              "array([[[110, 227, 240],\n",
              "        [147, 251, 217],\n",
              "        [122, 133, 167],\n",
              "        [178, 254, 182],\n",
              "        [218, 225, 239]],\n",
              "\n",
              "       [[203, 225, 109],\n",
              "        [216, 208, 121],\n",
              "        [181, 189, 202],\n",
              "        [198, 136, 105],\n",
              "        [212, 187, 158]],\n",
              "\n",
              "       [[143, 176, 170],\n",
              "        [160, 175, 232],\n",
              "        [114, 188, 254],\n",
              "        [240, 169, 158],\n",
              "        [157, 141, 198]],\n",
              "\n",
              "       [[166, 172, 222],\n",
              "        [225, 139, 174],\n",
              "        [187, 201, 235],\n",
              "        [222, 188, 194],\n",
              "        [207, 245, 181]]], dtype=uint8)"
            ]
          },
          "metadata": {
            "tags": []
          },
          "execution_count": 233
        }
      ]
    },
    {
      "cell_type": "code",
      "metadata": {
        "id": "KzE9a7TsoFg3"
      },
      "source": [
        "from PIL import Image\n",
        "img= Image.fromarray(img_data)\n",
        "img.show()\n"
      ],
      "execution_count": 234,
      "outputs": []
    },
    {
      "cell_type": "code",
      "metadata": {
        "id": "V1-7fWRvInNY"
      },
      "source": [
        "# for google colab use cv2_imshow instead\n",
        "# change x, y, h ,w to the values you are happy with\n",
        "#import cv2_imshow\n",
        "#img = cv2.imread(\"lenna.png\")\n",
        "#crop_img = img[y:y+h, x:x+w]\n",
        "#cv2_imshow(img)\n",
        "#cv2.waitKey(0)\n",
        "\n",
        "#import cv2 as cv \n",
        "#from google.colab.patches import cv2_imshow # for image display\n",
        "#from PIL import Image\n",
        "#cv2_imshow(img)\n",
        "\n"
      ],
      "execution_count": 235,
      "outputs": []
    },
    {
      "cell_type": "markdown",
      "metadata": {
        "id": "TtO9QvQ1oFg4"
      },
      "source": [
        "### [Learning Objective 3] Stock data"
      ]
    },
    {
      "cell_type": "code",
      "metadata": {
        "id": "RRo_KlCKo9bp"
      },
      "source": [
        "try:\n",
        "  import yfinance as yf\n",
        "except:\n",
        "  !pip install yfinance\n",
        "\n",
        "try:\n",
        "  from yahoofinancials import YahooFinancials\n",
        "except:\n",
        "  !pip install yahoofinancials\n",
        "  "
      ],
      "execution_count": 236,
      "outputs": []
    },
    {
      "cell_type": "code",
      "metadata": {
        "id": "ru5t5jyOoFg4",
        "colab": {
          "base_uri": "https://localhost:8080/",
          "height": 0
        },
        "outputId": "95dee015-c729-47bd-cd80-fb8d1232fbd5"
      },
      "source": [
        "import pandas as pd\n",
        "import yfinance as yf\n",
        "from yahoofinancials import YahooFinancials\n",
        "AMZN= yf.download( '^gspc', #'AMZN', \n",
        "          start= '1991-01-01',#'2013-01-01', \n",
        "          end=  '2021-01-01',#'2019-12-31', \n",
        "          progress=False)\n",
        "# AMZN = yf.download('AMZN') for all \n",
        "all_data= AMZN[['Adj Close',\n",
        "        'Open', \n",
        "        'High', \n",
        "        'Low', \n",
        "        'Close', \n",
        "        'Volume']].round(2)\n",
        "all_data\n"
      ],
      "execution_count": 237,
      "outputs": [
        {
          "output_type": "execute_result",
          "data": {
            "text/html": [
              "<div>\n",
              "<style scoped>\n",
              "    .dataframe tbody tr th:only-of-type {\n",
              "        vertical-align: middle;\n",
              "    }\n",
              "\n",
              "    .dataframe tbody tr th {\n",
              "        vertical-align: top;\n",
              "    }\n",
              "\n",
              "    .dataframe thead th {\n",
              "        text-align: right;\n",
              "    }\n",
              "</style>\n",
              "<table border=\"1\" class=\"dataframe\">\n",
              "  <thead>\n",
              "    <tr style=\"text-align: right;\">\n",
              "      <th></th>\n",
              "      <th>Adj Close</th>\n",
              "      <th>Open</th>\n",
              "      <th>High</th>\n",
              "      <th>Low</th>\n",
              "      <th>Close</th>\n",
              "      <th>Volume</th>\n",
              "    </tr>\n",
              "    <tr>\n",
              "      <th>Date</th>\n",
              "      <th></th>\n",
              "      <th></th>\n",
              "      <th></th>\n",
              "      <th></th>\n",
              "      <th></th>\n",
              "      <th></th>\n",
              "    </tr>\n",
              "  </thead>\n",
              "  <tbody>\n",
              "    <tr>\n",
              "      <th>1991-01-02</th>\n",
              "      <td>326.45</td>\n",
              "      <td>330.20</td>\n",
              "      <td>330.75</td>\n",
              "      <td>326.45</td>\n",
              "      <td>326.45</td>\n",
              "      <td>126280000</td>\n",
              "    </tr>\n",
              "    <tr>\n",
              "      <th>1991-01-03</th>\n",
              "      <td>321.91</td>\n",
              "      <td>326.46</td>\n",
              "      <td>326.53</td>\n",
              "      <td>321.90</td>\n",
              "      <td>321.91</td>\n",
              "      <td>141450000</td>\n",
              "    </tr>\n",
              "    <tr>\n",
              "      <th>1991-01-04</th>\n",
              "      <td>321.00</td>\n",
              "      <td>321.91</td>\n",
              "      <td>322.35</td>\n",
              "      <td>318.87</td>\n",
              "      <td>321.00</td>\n",
              "      <td>140820000</td>\n",
              "    </tr>\n",
              "    <tr>\n",
              "      <th>1991-01-07</th>\n",
              "      <td>315.44</td>\n",
              "      <td>320.97</td>\n",
              "      <td>320.97</td>\n",
              "      <td>315.44</td>\n",
              "      <td>315.44</td>\n",
              "      <td>130610000</td>\n",
              "    </tr>\n",
              "    <tr>\n",
              "      <th>1991-01-08</th>\n",
              "      <td>314.90</td>\n",
              "      <td>315.44</td>\n",
              "      <td>316.97</td>\n",
              "      <td>313.79</td>\n",
              "      <td>314.90</td>\n",
              "      <td>143390000</td>\n",
              "    </tr>\n",
              "    <tr>\n",
              "      <th>...</th>\n",
              "      <td>...</td>\n",
              "      <td>...</td>\n",
              "      <td>...</td>\n",
              "      <td>...</td>\n",
              "      <td>...</td>\n",
              "      <td>...</td>\n",
              "    </tr>\n",
              "    <tr>\n",
              "      <th>2020-12-24</th>\n",
              "      <td>3703.06</td>\n",
              "      <td>3694.03</td>\n",
              "      <td>3703.82</td>\n",
              "      <td>3689.32</td>\n",
              "      <td>3703.06</td>\n",
              "      <td>1885090000</td>\n",
              "    </tr>\n",
              "    <tr>\n",
              "      <th>2020-12-28</th>\n",
              "      <td>3735.36</td>\n",
              "      <td>3723.03</td>\n",
              "      <td>3740.51</td>\n",
              "      <td>3723.03</td>\n",
              "      <td>3735.36</td>\n",
              "      <td>3527460000</td>\n",
              "    </tr>\n",
              "    <tr>\n",
              "      <th>2020-12-29</th>\n",
              "      <td>3727.04</td>\n",
              "      <td>3750.01</td>\n",
              "      <td>3756.12</td>\n",
              "      <td>3723.31</td>\n",
              "      <td>3727.04</td>\n",
              "      <td>3387030000</td>\n",
              "    </tr>\n",
              "    <tr>\n",
              "      <th>2020-12-30</th>\n",
              "      <td>3732.04</td>\n",
              "      <td>3736.19</td>\n",
              "      <td>3744.63</td>\n",
              "      <td>3730.21</td>\n",
              "      <td>3732.04</td>\n",
              "      <td>3145200000</td>\n",
              "    </tr>\n",
              "    <tr>\n",
              "      <th>2020-12-31</th>\n",
              "      <td>3756.07</td>\n",
              "      <td>3733.27</td>\n",
              "      <td>3760.20</td>\n",
              "      <td>3726.88</td>\n",
              "      <td>3756.07</td>\n",
              "      <td>3172510000</td>\n",
              "    </tr>\n",
              "  </tbody>\n",
              "</table>\n",
              "<p>7559 rows × 6 columns</p>\n",
              "</div>"
            ],
            "text/plain": [
              "            Adj Close     Open     High      Low    Close      Volume\n",
              "Date                                                                 \n",
              "1991-01-02     326.45   330.20   330.75   326.45   326.45   126280000\n",
              "1991-01-03     321.91   326.46   326.53   321.90   321.91   141450000\n",
              "1991-01-04     321.00   321.91   322.35   318.87   321.00   140820000\n",
              "1991-01-07     315.44   320.97   320.97   315.44   315.44   130610000\n",
              "1991-01-08     314.90   315.44   316.97   313.79   314.90   143390000\n",
              "...               ...      ...      ...      ...      ...         ...\n",
              "2020-12-24    3703.06  3694.03  3703.82  3689.32  3703.06  1885090000\n",
              "2020-12-28    3735.36  3723.03  3740.51  3723.03  3735.36  3527460000\n",
              "2020-12-29    3727.04  3750.01  3756.12  3723.31  3727.04  3387030000\n",
              "2020-12-30    3732.04  3736.19  3744.63  3730.21  3732.04  3145200000\n",
              "2020-12-31    3756.07  3733.27  3760.20  3726.88  3756.07  3172510000\n",
              "\n",
              "[7559 rows x 6 columns]"
            ]
          },
          "metadata": {
            "tags": []
          },
          "execution_count": 237
        }
      ]
    },
    {
      "cell_type": "code",
      "metadata": {
        "id": "v4X2dBjcoFg4",
        "colab": {
          "base_uri": "https://localhost:8080/",
          "height": 0
        },
        "outputId": "5141ab40-a9de-4530-a8df-69f652f9498d"
      },
      "source": [
        "all_data['Adj Close'].plot(grid=True)"
      ],
      "execution_count": 238,
      "outputs": [
        {
          "output_type": "execute_result",
          "data": {
            "text/plain": [
              "<matplotlib.axes._subplots.AxesSubplot at 0x7fa24832a8d0>"
            ]
          },
          "metadata": {
            "tags": []
          },
          "execution_count": 238
        },
        {
          "output_type": "display_data",
          "data": {
            "image/png": "[encoded data removed]",
            "text/plain": [
              "<Figure size 432x288 with 1 Axes>"
            ]
          },
          "metadata": {
            "tags": [],
            "needs_background": "light"
          }
        }
      ]
    },
    {
      "cell_type": "code",
      "metadata": {
        "id": "FBsWAauRLpaO",
        "colab": {
          "base_uri": "https://localhost:8080/",
          "height": 0
        },
        "outputId": "c22778e3-c656-49be-a3da-cbc23f441858"
      },
      "source": [
        "all_data['Adj Close'].plot(grid=True,logy=True)"
      ],
      "execution_count": 239,
      "outputs": [
        {
          "output_type": "execute_result",
          "data": {
            "text/plain": [
              "<matplotlib.axes._subplots.AxesSubplot at 0x7fa24d1a9b50>"
            ]
          },
          "metadata": {
            "tags": []
          },
          "execution_count": 239
        },
        {
          "output_type": "display_data",
          "data": {
            "image/png": "[encoded data removed]",
            "text/plain": [
              "<Figure size 432x288 with 1 Axes>"
            ]
          },
          "metadata": {
            "tags": [],
            "needs_background": "light"
          }
        }
      ]
    },
    {
      "cell_type": "code",
      "metadata": {
        "id": "VBo8J-YQL8dW",
        "colab": {
          "base_uri": "https://localhost:8080/",
          "height": 0
        },
        "outputId": "f8f07d10-055c-4ecc-ab23-08ac4e3fc193"
      },
      "source": [
        "tr_data= all_data[:'2018']['Close']\n",
        "ts_data= all_data['2019':]['Close']\n",
        "tr_data.plot(c='r')\n",
        "ts_data.plot(c='g', grid=True, logy=True)\n",
        "tr_data.size, ts_data.size "
      ],
      "execution_count": 240,
      "outputs": [
        {
          "output_type": "execute_result",
          "data": {
            "text/plain": [
              "(7054, 505)"
            ]
          },
          "metadata": {
            "tags": []
          },
          "execution_count": 240
        },
        {
          "output_type": "display_data",
          "data": {
            "image/png": "[encoded data removed]",
            "text/plain": [
              "<Figure size 432x288 with 1 Axes>"
            ]
          },
          "metadata": {
            "tags": [],
            "needs_background": "light"
          }
        }
      ]
    },
    {
      "cell_type": "code",
      "metadata": {
        "id": "AzVzBjuDL8pT",
        "colab": {
          "base_uri": "https://localhost:8080/"
        },
        "outputId": "e54ab37b-56bf-477e-92a0-317dc9f4d4fe"
      },
      "source": [
        "tr_days= (tr_data.index[-1]-tr_data.index[0]).days\n",
        "ts_days= (ts_data.index[-1]-ts_data.index[0]).days\n",
        "\n",
        "tr_years= tr_days/365\n",
        "ts_years= ts_days/365\n",
        "tr_days, ts_days, tr_years, ts_years"
      ],
      "execution_count": 241,
      "outputs": [
        {
          "output_type": "execute_result",
          "data": {
            "text/plain": [
              "(10225, 729, 28.013698630136986, 1.9972602739726026)"
            ]
          },
          "metadata": {
            "tags": []
          },
          "execution_count": 241
        }
      ]
    },
    {
      "cell_type": "code",
      "metadata": {
        "id": "E8IKvQaJoFg4",
        "colab": {
          "base_uri": "https://localhost:8080/"
        },
        "outputId": "8a3e4d88-7796-4200-c4bb-c63a15565511"
      },
      "source": [
        "print(f\"{tr_data.size} data points in the training data\")\n",
        "print(f\"{ts_data.size} data points in the test data\")\n",
        "\n"
      ],
      "execution_count": 242,
      "outputs": [
        {
          "output_type": "stream",
          "text": [
            "7054 data points in the training data\n",
            "505 data points in the test data\n"
          ],
          "name": "stdout"
        }
      ]
    },
    {
      "cell_type": "markdown",
      "metadata": {
        "id": "MHmPLHAqoFg5"
      },
      "source": [
        "## [Learning objective 4] Create the training and test data for RNN/LSTM"
      ]
    },
    {
      "cell_type": "code",
      "metadata": {
        "id": "v1lEjbGMoFg5",
        "colab": {
          "base_uri": "https://localhost:8080/"
        },
        "outputId": "1c5a64ac-2741-467f-b3da-4099e52d2442"
      },
      "source": [
        "def ts_train_test(all_data, time_steps, for_periods):\n",
        "    '''\n",
        "    input: \n",
        "      data: dataframe with dates and price data\n",
        "    output:\n",
        "      X_train, y_train: data from 2013/1/1-2018/12/31\n",
        "      X_test:  data from 2019 -\n",
        "      sc:      insantiated MinMaxScaler object fit to the training data\n",
        "    '''\n",
        "    # create training and test set\n",
        "    ts_train = all_data[:'2018'].iloc[:,0:1].values\n",
        "    ts_test  = all_data['2019':].iloc[:,0:1].values\n",
        "    ts_train_len = len(ts_train)\n",
        "    ts_test_len = len(ts_test)\n",
        "\n",
        "    # create training data of s samples and t time steps\n",
        "    X_train = []\n",
        "    y_train = []\n",
        "    y_train_stacked = []\n",
        "    for i in range(time_steps,ts_train_len-1): \n",
        "        X_train.append(ts_train[i-time_steps:i,0])\n",
        "        y_train.append(ts_train[i:i+for_periods,0])\n",
        "    X_train, y_train = np.array(X_train), np.array(y_train)\n",
        "\n",
        "    # Reshaping X_train for efficient modelling\n",
        "    X_train= np.reshape(X_train, (X_train.shape[0],X_train.shape[1],1))\n",
        "\n",
        "    inputs= pd.concat((all_data[\"Adj Close\"][:'2018'], \n",
        "              all_data[\"Adj Close\"]['2019':]),\n",
        "            axis=0).values\n",
        "    inputs= inputs[len(inputs)-len(ts_test) - time_steps:]\n",
        "    inputs= inputs.reshape(-1,1)\n",
        "\n",
        "    # Preparing X_test\n",
        "    X_test= []\n",
        "    for i in range(time_steps,ts_test_len+time_steps-for_periods):\n",
        "        X_test.append(inputs[i-time_steps:i,0])\n",
        "        \n",
        "    X_test= np.array(X_test)\n",
        "    X_test= np.reshape(X_test, (X_test.shape[0],X_test.shape[1],1))\n",
        "\n",
        "    return X_train, y_train , X_test\n",
        "\n",
        "X_train, y_train, X_test= ts_train_test(all_data, 5, 2)\n",
        "X_train.shape, y_train.shape, X_test.shape"
      ],
      "execution_count": 243,
      "outputs": [
        {
          "output_type": "execute_result",
          "data": {
            "text/plain": [
              "((7048, 5, 1), (7048, 2), (503, 5, 1))"
            ]
          },
          "metadata": {
            "tags": []
          },
          "execution_count": 243
        }
      ]
    },
    {
      "cell_type": "code",
      "metadata": {
        "id": "TBYLJiPQoFg5",
        "colab": {
          "base_uri": "https://localhost:8080/",
          "height": 417
        },
        "outputId": "014be01b-edb4-48cf-82a5-788b0a305f9b"
      },
      "source": [
        "# Make the 3-D shape to a data frame so we can see: \n",
        "X_train_see= pd.DataFrame(np.reshape(X_train, \n",
        "                   X_train.shape[0:2] #(X_train.shape[0],X_train.shape[1])\n",
        "                   ))\n",
        "y_train_see= pd.DataFrame(y_train)\n",
        "pd.concat([X_train_see,y_train_see], axis=1)"
      ],
      "execution_count": 244,
      "outputs": [
        {
          "output_type": "execute_result",
          "data": {
            "text/html": [
              "<div>\n",
              "<style scoped>\n",
              "    .dataframe tbody tr th:only-of-type {\n",
              "        vertical-align: middle;\n",
              "    }\n",
              "\n",
              "    .dataframe tbody tr th {\n",
              "        vertical-align: top;\n",
              "    }\n",
              "\n",
              "    .dataframe thead th {\n",
              "        text-align: right;\n",
              "    }\n",
              "</style>\n",
              "<table border=\"1\" class=\"dataframe\">\n",
              "  <thead>\n",
              "    <tr style=\"text-align: right;\">\n",
              "      <th></th>\n",
              "      <th>0</th>\n",
              "      <th>1</th>\n",
              "      <th>2</th>\n",
              "      <th>3</th>\n",
              "      <th>4</th>\n",
              "      <th>0</th>\n",
              "      <th>1</th>\n",
              "    </tr>\n",
              "  </thead>\n",
              "  <tbody>\n",
              "    <tr>\n",
              "      <th>0</th>\n",
              "      <td>326.45</td>\n",
              "      <td>321.91</td>\n",
              "      <td>321.00</td>\n",
              "      <td>315.44</td>\n",
              "      <td>314.90</td>\n",
              "      <td>311.49</td>\n",
              "      <td>314.53</td>\n",
              "    </tr>\n",
              "    <tr>\n",
              "      <th>1</th>\n",
              "      <td>321.91</td>\n",
              "      <td>321.00</td>\n",
              "      <td>315.44</td>\n",
              "      <td>314.90</td>\n",
              "      <td>311.49</td>\n",
              "      <td>314.53</td>\n",
              "      <td>315.23</td>\n",
              "    </tr>\n",
              "    <tr>\n",
              "      <th>2</th>\n",
              "      <td>321.00</td>\n",
              "      <td>315.44</td>\n",
              "      <td>314.90</td>\n",
              "      <td>311.49</td>\n",
              "      <td>314.53</td>\n",
              "      <td>315.23</td>\n",
              "      <td>312.49</td>\n",
              "    </tr>\n",
              "    <tr>\n",
              "      <th>3</th>\n",
              "      <td>315.44</td>\n",
              "      <td>314.90</td>\n",
              "      <td>311.49</td>\n",
              "      <td>314.53</td>\n",
              "      <td>315.23</td>\n",
              "      <td>312.49</td>\n",
              "      <td>313.73</td>\n",
              "    </tr>\n",
              "    <tr>\n",
              "      <th>4</th>\n",
              "      <td>314.90</td>\n",
              "      <td>311.49</td>\n",
              "      <td>314.53</td>\n",
              "      <td>315.23</td>\n",
              "      <td>312.49</td>\n",
              "      <td>313.73</td>\n",
              "      <td>316.17</td>\n",
              "    </tr>\n",
              "    <tr>\n",
              "      <th>...</th>\n",
              "      <td>...</td>\n",
              "      <td>...</td>\n",
              "      <td>...</td>\n",
              "      <td>...</td>\n",
              "      <td>...</td>\n",
              "      <td>...</td>\n",
              "      <td>...</td>\n",
              "    </tr>\n",
              "    <tr>\n",
              "      <th>7043</th>\n",
              "      <td>2599.95</td>\n",
              "      <td>2545.94</td>\n",
              "      <td>2546.16</td>\n",
              "      <td>2506.96</td>\n",
              "      <td>2467.42</td>\n",
              "      <td>2416.62</td>\n",
              "      <td>2351.10</td>\n",
              "    </tr>\n",
              "    <tr>\n",
              "      <th>7044</th>\n",
              "      <td>2545.94</td>\n",
              "      <td>2546.16</td>\n",
              "      <td>2506.96</td>\n",
              "      <td>2467.42</td>\n",
              "      <td>2416.62</td>\n",
              "      <td>2351.10</td>\n",
              "      <td>2467.70</td>\n",
              "    </tr>\n",
              "    <tr>\n",
              "      <th>7045</th>\n",
              "      <td>2546.16</td>\n",
              "      <td>2506.96</td>\n",
              "      <td>2467.42</td>\n",
              "      <td>2416.62</td>\n",
              "      <td>2351.10</td>\n",
              "      <td>2467.70</td>\n",
              "      <td>2488.83</td>\n",
              "    </tr>\n",
              "    <tr>\n",
              "      <th>7046</th>\n",
              "      <td>2506.96</td>\n",
              "      <td>2467.42</td>\n",
              "      <td>2416.62</td>\n",
              "      <td>2351.10</td>\n",
              "      <td>2467.70</td>\n",
              "      <td>2488.83</td>\n",
              "      <td>2485.74</td>\n",
              "    </tr>\n",
              "    <tr>\n",
              "      <th>7047</th>\n",
              "      <td>2467.42</td>\n",
              "      <td>2416.62</td>\n",
              "      <td>2351.10</td>\n",
              "      <td>2467.70</td>\n",
              "      <td>2488.83</td>\n",
              "      <td>2485.74</td>\n",
              "      <td>2506.85</td>\n",
              "    </tr>\n",
              "  </tbody>\n",
              "</table>\n",
              "<p>7048 rows × 7 columns</p>\n",
              "</div>"
            ],
            "text/plain": [
              "            0        1        2        3        4        0        1\n",
              "0      326.45   321.91   321.00   315.44   314.90   311.49   314.53\n",
              "1      321.91   321.00   315.44   314.90   311.49   314.53   315.23\n",
              "2      321.00   315.44   314.90   311.49   314.53   315.23   312.49\n",
              "3      315.44   314.90   311.49   314.53   315.23   312.49   313.73\n",
              "4      314.90   311.49   314.53   315.23   312.49   313.73   316.17\n",
              "...       ...      ...      ...      ...      ...      ...      ...\n",
              "7043  2599.95  2545.94  2546.16  2506.96  2467.42  2416.62  2351.10\n",
              "7044  2545.94  2546.16  2506.96  2467.42  2416.62  2351.10  2467.70\n",
              "7045  2546.16  2506.96  2467.42  2416.62  2351.10  2467.70  2488.83\n",
              "7046  2506.96  2467.42  2416.62  2351.10  2467.70  2488.83  2485.74\n",
              "7047  2467.42  2416.62  2351.10  2467.70  2488.83  2485.74  2506.85\n",
              "\n",
              "[7048 rows x 7 columns]"
            ]
          },
          "metadata": {
            "tags": []
          },
          "execution_count": 244
        }
      ]
    },
    {
      "cell_type": "code",
      "metadata": {
        "id": "Mc2qWkgxoFg6",
        "colab": {
          "base_uri": "https://localhost:8080/",
          "height": 417
        },
        "outputId": "0a49424b-2c8c-4c4d-af90-f4cb86eb5377"
      },
      "source": [
        "# Make the 3-D shape to a data frame so we can see: \n",
        "X_test_see= pd.DataFrame(np.reshape(X_test, \n",
        "                  X_test.shape[0:2] #(X_test.shape[0],X_test.shape[1])\n",
        "                  ))\n",
        "pd.DataFrame(X_test_see)"
      ],
      "execution_count": 245,
      "outputs": [
        {
          "output_type": "execute_result",
          "data": {
            "text/html": [
              "<div>\n",
              "<style scoped>\n",
              "    .dataframe tbody tr th:only-of-type {\n",
              "        vertical-align: middle;\n",
              "    }\n",
              "\n",
              "    .dataframe tbody tr th {\n",
              "        vertical-align: top;\n",
              "    }\n",
              "\n",
              "    .dataframe thead th {\n",
              "        text-align: right;\n",
              "    }\n",
              "</style>\n",
              "<table border=\"1\" class=\"dataframe\">\n",
              "  <thead>\n",
              "    <tr style=\"text-align: right;\">\n",
              "      <th></th>\n",
              "      <th>0</th>\n",
              "      <th>1</th>\n",
              "      <th>2</th>\n",
              "      <th>3</th>\n",
              "      <th>4</th>\n",
              "    </tr>\n",
              "  </thead>\n",
              "  <tbody>\n",
              "    <tr>\n",
              "      <th>0</th>\n",
              "      <td>2351.10</td>\n",
              "      <td>2467.70</td>\n",
              "      <td>2488.83</td>\n",
              "      <td>2485.74</td>\n",
              "      <td>2506.85</td>\n",
              "    </tr>\n",
              "    <tr>\n",
              "      <th>1</th>\n",
              "      <td>2467.70</td>\n",
              "      <td>2488.83</td>\n",
              "      <td>2485.74</td>\n",
              "      <td>2506.85</td>\n",
              "      <td>2510.03</td>\n",
              "    </tr>\n",
              "    <tr>\n",
              "      <th>2</th>\n",
              "      <td>2488.83</td>\n",
              "      <td>2485.74</td>\n",
              "      <td>2506.85</td>\n",
              "      <td>2510.03</td>\n",
              "      <td>2447.89</td>\n",
              "    </tr>\n",
              "    <tr>\n",
              "      <th>3</th>\n",
              "      <td>2485.74</td>\n",
              "      <td>2506.85</td>\n",
              "      <td>2510.03</td>\n",
              "      <td>2447.89</td>\n",
              "      <td>2531.94</td>\n",
              "    </tr>\n",
              "    <tr>\n",
              "      <th>4</th>\n",
              "      <td>2506.85</td>\n",
              "      <td>2510.03</td>\n",
              "      <td>2447.89</td>\n",
              "      <td>2531.94</td>\n",
              "      <td>2549.69</td>\n",
              "    </tr>\n",
              "    <tr>\n",
              "      <th>...</th>\n",
              "      <td>...</td>\n",
              "      <td>...</td>\n",
              "      <td>...</td>\n",
              "      <td>...</td>\n",
              "      <td>...</td>\n",
              "    </tr>\n",
              "    <tr>\n",
              "      <th>498</th>\n",
              "      <td>3694.62</td>\n",
              "      <td>3701.17</td>\n",
              "      <td>3722.48</td>\n",
              "      <td>3709.41</td>\n",
              "      <td>3694.92</td>\n",
              "    </tr>\n",
              "    <tr>\n",
              "      <th>499</th>\n",
              "      <td>3701.17</td>\n",
              "      <td>3722.48</td>\n",
              "      <td>3709.41</td>\n",
              "      <td>3694.92</td>\n",
              "      <td>3687.26</td>\n",
              "    </tr>\n",
              "    <tr>\n",
              "      <th>500</th>\n",
              "      <td>3722.48</td>\n",
              "      <td>3709.41</td>\n",
              "      <td>3694.92</td>\n",
              "      <td>3687.26</td>\n",
              "      <td>3690.01</td>\n",
              "    </tr>\n",
              "    <tr>\n",
              "      <th>501</th>\n",
              "      <td>3709.41</td>\n",
              "      <td>3694.92</td>\n",
              "      <td>3687.26</td>\n",
              "      <td>3690.01</td>\n",
              "      <td>3703.06</td>\n",
              "    </tr>\n",
              "    <tr>\n",
              "      <th>502</th>\n",
              "      <td>3694.92</td>\n",
              "      <td>3687.26</td>\n",
              "      <td>3690.01</td>\n",
              "      <td>3703.06</td>\n",
              "      <td>3735.36</td>\n",
              "    </tr>\n",
              "  </tbody>\n",
              "</table>\n",
              "<p>503 rows × 5 columns</p>\n",
              "</div>"
            ],
            "text/plain": [
              "           0        1        2        3        4\n",
              "0    2351.10  2467.70  2488.83  2485.74  2506.85\n",
              "1    2467.70  2488.83  2485.74  2506.85  2510.03\n",
              "2    2488.83  2485.74  2506.85  2510.03  2447.89\n",
              "3    2485.74  2506.85  2510.03  2447.89  2531.94\n",
              "4    2506.85  2510.03  2447.89  2531.94  2549.69\n",
              "..       ...      ...      ...      ...      ...\n",
              "498  3694.62  3701.17  3722.48  3709.41  3694.92\n",
              "499  3701.17  3722.48  3709.41  3694.92  3687.26\n",
              "500  3722.48  3709.41  3694.92  3687.26  3690.01\n",
              "501  3709.41  3694.92  3687.26  3690.01  3703.06\n",
              "502  3694.92  3687.26  3690.01  3703.06  3735.36\n",
              "\n",
              "[503 rows x 5 columns]"
            ]
          },
          "metadata": {
            "tags": []
          },
          "execution_count": 245
        }
      ]
    },
    {
      "cell_type": "code",
      "metadata": {
        "id": "w7MN1GBUoFg6",
        "colab": {
          "base_uri": "https://localhost:8080/"
        },
        "outputId": "6087e43e-a4aa-4653-a6f2-1418a6dc0587"
      },
      "source": [
        "print(f\"{X_train.shape} samples in the training data\")\n",
        "print(f\"{y_train.shape} samples in the training label\")\n",
        "print(f\"{X_test.shape} samples in the test data\")"
      ],
      "execution_count": 246,
      "outputs": [
        {
          "output_type": "stream",
          "text": [
            "(7048, 5, 1) samples in the training data\n",
            "(7048, 2) samples in the training label\n",
            "(503, 5, 1) samples in the test data\n"
          ],
          "name": "stdout"
        }
      ]
    },
    {
      "cell_type": "markdown",
      "metadata": {
        "id": "edzWqzNuoFg6"
      },
      "source": [
        "## [Learning objective 5] Run a simple RNN model"
      ]
    },
    {
      "cell_type": "code",
      "metadata": {
        "id": "hYGr0luxoFg6",
        "colab": {
          "base_uri": "https://localhost:8080/"
        },
        "outputId": "4d57eac1-5a46-419f-d8ff-5f00658e971d"
      },
      "source": [
        "def simple_rnn_model(X_train, y_train, X_test):\n",
        "    '''\n",
        "    create single layer rnn model trained on X_train and y_train\n",
        "    and make predictions on the X_test data\n",
        "    '''\n",
        "    # create a model\n",
        "    from keras.models import Sequential\n",
        "    from keras.layers import Dense, SimpleRNN\n",
        "    \n",
        "    my_rnn_model = Sequential()\n",
        "    my_rnn_model.add(SimpleRNN(32, return_sequences=True))\n",
        "    #my_rnn_model.add(SimpleRNN(32, return_sequences=True))\n",
        "    #my_rnn_model.add(SimpleRNN(32, return_sequences=True))\n",
        "    my_rnn_model.add(SimpleRNN(32))\n",
        "    my_rnn_model.add(Dense(2)) # The time step of the output\n",
        "\n",
        "    my_rnn_model.compile(optimizer='rmsprop', \n",
        "               loss='mean_squared_error')\n",
        "\n",
        "    # fit the RNN model\n",
        "    my_rnn_model.fit(X_train, y_train, \n",
        "            epochs=100, \n",
        "            batch_size=150, \n",
        "            verbose=0)\n",
        "\n",
        "    # Finalizing predictions\n",
        "    rnn_predictions= my_rnn_model.predict(X_test)\n",
        "\n",
        "    return my_rnn_model, rnn_predictions\n",
        "\n",
        "(my_rnn_model, \n",
        "rnn_predictions)= simple_rnn_model(X_train, y_train, X_test)\n",
        "\n",
        "my_rnn_model, rnn_predictions"
      ],
      "execution_count": 247,
      "outputs": [
        {
          "output_type": "execute_result",
          "data": {
            "text/plain": [
              "(<keras.engine.sequential.Sequential at 0x7fa24cea4c10>,\n",
              " array([[157.25299, 159.97682],\n",
              "        [157.25299, 159.97682],\n",
              "        [157.25299, 159.97682],\n",
              "        ...,\n",
              "        [157.25299, 159.97682],\n",
              "        [157.25299, 159.97682],\n",
              "        [157.25299, 159.97682]], dtype=float32))"
            ]
          },
          "metadata": {
            "tags": []
          },
          "execution_count": 247
        }
      ]
    },
    {
      "cell_type": "code",
      "metadata": {
        "id": "WaJBssCcTPnS"
      },
      "source": [
        ""
      ],
      "execution_count": 247,
      "outputs": []
    },
    {
      "cell_type": "code",
      "metadata": {
        "id": "ESXqYAVRoFg6",
        "colab": {
          "base_uri": "https://localhost:8080/",
          "height": 529
        },
        "outputId": "9c51ce20-4d19-4c7c-85e5-3ea04c356b1c"
      },
      "source": [
        "def actual_pred_plot(preds):\n",
        "    actual_pred= pd.DataFrame()#columns= ['Adj. Close', 'prediction'])\n",
        "    actual_pred['real']= ts_data[-len(preds):] #all_data.loc['2019':,'Adj Close'][0:len(preds)]\n",
        "    actual_pred['pred']= preds[:,0]\n",
        "\n",
        "    from keras.metrics import MeanSquaredError\n",
        "    m = MeanSquaredError()\n",
        "    m.update_state(np.array(actual_pred['real']),\n",
        "            np.array(actual_pred['pred']))\n",
        "    actual_pred.plot(grid=True, logy=True)\n",
        "    return (m.result().numpy(), actual_pred)\n",
        "    \n",
        "actual_pred_plot(rnn_predictions)  "
      ],
      "execution_count": 248,
      "outputs": [
        {
          "output_type": "execute_result",
          "data": {
            "text/plain": [
              "(8558129.0,                real        pred\n",
              " Date                           \n",
              " 2019-01-04  2531.94  157.252991\n",
              " 2019-01-07  2549.69  157.252991\n",
              " 2019-01-08  2574.41  157.252991\n",
              " 2019-01-09  2584.96  157.252991\n",
              " 2019-01-10  2596.64  157.252991\n",
              " ...             ...         ...\n",
              " 2020-12-24  3703.06  157.252991\n",
              " 2020-12-28  3735.36  157.252991\n",
              " 2020-12-29  3727.04  157.252991\n",
              " 2020-12-30  3732.04  157.252991\n",
              " 2020-12-31  3756.07  157.252991\n",
              " \n",
              " [503 rows x 2 columns])"
            ]
          },
          "metadata": {
            "tags": []
          },
          "execution_count": 248
        },
        {
          "output_type": "display_data",
          "data": {
            "image/png": "[encoded data removed]",
            "text/plain": [
              "<Figure size 432x288 with 1 Axes>"
            ]
          },
          "metadata": {
            "tags": [],
            "needs_background": "light"
          }
        }
      ]
    },
    {
      "cell_type": "markdown",
      "metadata": {
        "id": "iYLB-sF0oFg7"
      },
      "source": [
        "## [Learning objective 6] RNN/LTSM requires normalized input data"
      ]
    },
    {
      "cell_type": "code",
      "metadata": {
        "id": "e1Y0eTfWoFg7"
      },
      "source": [
        "def ts_train_test_normalize(all_data, \n",
        "               time_steps=5, \n",
        "               for_periods=2):\n",
        "    '''\n",
        "    input: \n",
        "      data: dataframe with dates and price data\n",
        "      time_steps: 向後回朔日期\n",
        "      for_periods: 向前預測日期\n",
        "    output:\n",
        "      X_train, y_train: data from 2013/1/1-2018/12/31\n",
        "      X_test:  data from 2019 -\n",
        "      sc:      insantiated MinMaxScaler object fit to the training data\n",
        "    '''\n",
        "    # create training and test set\n",
        "    ts_train = all_data[:'2018'].iloc[:,0:1].values #tr_data.values #\n",
        "    ts_test  = all_data['2019':].iloc[:,0:1].values #ts_data.values #\n",
        "    ts_train_len = len(ts_train)\n",
        "    ts_test_len = len(ts_test)\n",
        "\n",
        "    # scale the data\n",
        "    from sklearn.preprocessing import MinMaxScaler\n",
        "    sc= MinMaxScaler(feature_range=(0,1))\n",
        "\n",
        "    ts_train_scaled= sc.fit_transform(ts_train)\n",
        "\n",
        "    # create training data of s samples and t time steps\n",
        "    X_train= []\n",
        "    y_train= []\n",
        "    y_train_stacked= []\n",
        "    for i in range(time_steps,ts_train_len-1): \n",
        "        X_train.append(ts_train_scaled[i-time_steps:i,0])\n",
        "        y_train.append(ts_train_scaled[i:i+for_periods,0])\n",
        "    X_train, y_train = np.array(X_train), np.array(y_train)\n",
        "\n",
        "    # Reshaping X_train for efficient modelling\n",
        "    X_train = np.reshape(X_train, (X_train.shape[0],X_train.shape[1],1))\n",
        "\n",
        "    inputs = pd.concat((all_data[\"Adj Close\"][:'2018'], #ts_train, #\n",
        "               all_data[\"Adj Close\"]['2019':] #ts_test  #\n",
        "               ),axis=0).values\n",
        "    inputs = inputs[len(inputs)-len(ts_test) - time_steps:]\n",
        "    inputs = inputs.reshape(-1,1)\n",
        "    inputs  = sc.transform(inputs)\n",
        "\n",
        "    # Preparing X_test\n",
        "    X_test = []\n",
        "    for i in range(time_steps,ts_test_len+time_steps-for_periods):\n",
        "        X_test.append(inputs[i-time_steps:i,0])\n",
        "        \n",
        "    X_test = np.array(X_test)\n",
        "    X_test = np.reshape(X_test, (X_test.shape[0],X_test.shape[1],1))\n",
        "\n",
        "    return X_train, y_train , X_test, sc\n",
        "\n",
        "X_train, y_train, X_test, sc = ts_train_test_normalize(all_data)\n"
      ],
      "execution_count": 249,
      "outputs": []
    },
    {
      "cell_type": "code",
      "metadata": {
        "id": "2qornJWoataB",
        "colab": {
          "base_uri": "https://localhost:8080/",
          "height": 648
        },
        "outputId": "47697ebb-482f-48fc-8b41-3859e9732912"
      },
      "source": [
        "\n",
        "def simple_rnn_model(X_train, y_train, X_test, sc):\n",
        "    '''\n",
        "    create single layer rnn model trained on X_train and y_train\n",
        "    and make predictions on the X_test data\n",
        "    '''\n",
        "    # create a model\n",
        "    from keras.models import Sequential\n",
        "    from keras.layers import Dense, SimpleRNN\n",
        "    \n",
        "    my_rnn_model = Sequential()\n",
        "    my_rnn_model.add(SimpleRNN(32, return_sequences=True))\n",
        "    #my_rnn_model.add(SimpleRNN(32, return_sequences=True))\n",
        "    #my_rnn_model.add(SimpleRNN(32, return_sequences=True))\n",
        "    my_rnn_model.add(SimpleRNN(32))\n",
        "    my_rnn_model.add(Dense(2)) # The time step of the output\n",
        "\n",
        "    my_rnn_model.compile(optimizer='rmsprop', loss='mean_squared_error')\n",
        "\n",
        "    # fit the RNN model\n",
        "    my_rnn_model.fit(X_train, y_train, epochs=100, batch_size=150, verbose=0)\n",
        "\n",
        "    # Finalizing predictions\n",
        "    rnn_predictions = my_rnn_model.predict(X_test)\n",
        "    from sklearn.preprocessing import MinMaxScaler\n",
        "    rnn_predictions = sc.inverse_transform(rnn_predictions)\n",
        "\n",
        "    return my_rnn_model, rnn_predictions\n",
        "\n",
        "\n",
        "my_rnn_model, rnn_predictions_2= simple_rnn_model(X_train, y_train, X_test, sc)\n",
        "rnn_predictions_2, actual_pred_plot(rnn_predictions_2)\n",
        "\n"
      ],
      "execution_count": 250,
      "outputs": [
        {
          "output_type": "execute_result",
          "data": {
            "text/plain": [
              "(array([[2427.5737, 2436.5027],\n",
              "        [2447.066 , 2455.8855],\n",
              "        [2381.7815, 2391.1028],\n",
              "        ...,\n",
              "        [3532.592 , 3540.8267],\n",
              "        [3544.2722, 3552.4338],\n",
              "        [3571.5503, 3579.6313]], dtype=float32),\n",
              " (15635.225,                real         pred\n",
              "  Date                            \n",
              "  2019-01-04  2531.94  2427.573730\n",
              "  2019-01-07  2549.69  2447.065918\n",
              "  2019-01-08  2574.41  2381.781494\n",
              "  2019-01-09  2584.96  2481.775635\n",
              "  2019-01-10  2596.64  2490.355957\n",
              "  ...             ...          ...\n",
              "  2020-12-24  3703.06  3531.197021\n",
              "  2020-12-28  3735.36  3523.650635\n",
              "  2020-12-29  3727.04  3532.592041\n",
              "  2020-12-30  3732.04  3544.272217\n",
              "  2020-12-31  3756.07  3571.550293\n",
              "  \n",
              "  [503 rows x 2 columns]))"
            ]
          },
          "metadata": {
            "tags": []
          },
          "execution_count": 250
        },
        {
          "output_type": "display_data",
          "data": {
            "image/png": "[encoded data removed]",
            "text/plain": [
              "<Figure size 432x288 with 1 Axes>"
            ]
          },
          "metadata": {
            "tags": [],
            "needs_background": "light"
          }
        }
      ]
    },
    {
      "cell_type": "code",
      "metadata": {
        "id": "7ecgLVgSYonr"
      },
      "source": [
        "\n"
      ],
      "execution_count": 250,
      "outputs": []
    },
    {
      "cell_type": "markdown",
      "metadata": {
        "id": "DlPJ6mMboFg7"
      },
      "source": [
        "## [Learning objective 7] LSTM"
      ]
    },
    {
      "cell_type": "code",
      "metadata": {
        "id": "BEb-WzoboFg8",
        "colab": {
          "base_uri": "https://localhost:8080/",
          "height": 584
        },
        "outputId": "a55fdf91-56d6-4b43-fa8e-7d06d25081cd"
      },
      "source": [
        "def LSTM_model(X_train, y_train, X_test, sc):\n",
        "    # create a model\n",
        "    from keras.models import Sequential\n",
        "    from keras.layers import Dense, SimpleRNN, GRU, LSTM\n",
        "    from keras.optimizers import SGD\n",
        "    \n",
        "    # The LSTM architecture\n",
        "    my_LSTM_model = Sequential()\n",
        "    my_LSTM_model.add(LSTM(units=50, return_sequences=True, input_shape=(X_train.shape[1],1), activation='tanh'))\n",
        "    #my_LSTM_model.add(LSTM(units=50, return_sequences=True, input_shape=(X_train.shape[1],1), activation='tanh'))\n",
        "    #my_LSTM_model.add(LSTM(units=50, return_sequences=True, input_shape=(X_train.shape[1],1), activation='tanh'))\n",
        "    my_LSTM_model.add(LSTM(units=50, activation='tanh'))\n",
        "    my_LSTM_model.add(Dense(units=2))\n",
        "\n",
        "    # Compiling\n",
        "    my_LSTM_model.compile(optimizer=SGD(lr=0.01, decay=1e-7, momentum=0.9, nesterov=False),loss='mean_squared_error')\n",
        "    # Fitting to the training set\n",
        "    my_LSTM_model.fit(X_train,y_train,epochs=50,batch_size=150, verbose=0)\n",
        "\n",
        "    LSTM_prediction = my_LSTM_model.predict(X_test)\n",
        "    LSTM_prediction = sc.inverse_transform(LSTM_prediction)\n",
        "\n",
        "    return my_LSTM_model, LSTM_prediction\n",
        "\n",
        "my_LSTM_model, LSTM_prediction = LSTM_model(X_train, y_train, X_test, sc)\n",
        "LSTM_prediction[1:10]\n",
        "actual_pred_plot(LSTM_prediction)   "
      ],
      "execution_count": 251,
      "outputs": [
        {
          "output_type": "stream",
          "text": [
            "/usr/local/lib/python3.7/dist-packages/tensorflow/python/keras/optimizer_v2/optimizer_v2.py:375: UserWarning: The `lr` argument is deprecated, use `learning_rate` instead.\n",
            "  \"The `lr` argument is deprecated, use `learning_rate` instead.\")\n"
          ],
          "name": "stderr"
        },
        {
          "output_type": "execute_result",
          "data": {
            "text/plain": [
              "(31198.21,                real         pred\n",
              " Date                            \n",
              " 2019-01-04  2531.94  2431.104980\n",
              " 2019-01-07  2549.69  2464.134277\n",
              " 2019-01-08  2574.41  2466.545898\n",
              " 2019-01-09  2584.96  2469.395752\n",
              " 2019-01-10  2596.64  2477.652100\n",
              " ...             ...          ...\n",
              " 2020-12-24  3703.06  3396.937500\n",
              " 2020-12-28  3735.36  3397.366211\n",
              " 2020-12-29  3727.04  3396.115967\n",
              " 2020-12-30  3732.04  3391.797607\n",
              " 2020-12-31  3756.07  3392.314941\n",
              " \n",
              " [503 rows x 2 columns])"
            ]
          },
          "metadata": {
            "tags": []
          },
          "execution_count": 251
        },
        {
          "output_type": "display_data",
          "data": {
            "image/png": "[encoded data removed]",
            "text/plain": [
              "<Figure size 432x288 with 1 Axes>"
            ]
          },
          "metadata": {
            "tags": [],
            "needs_background": "light"
          }
        }
      ]
    },
    {
      "cell_type": "markdown",
      "metadata": {
        "id": "ReZTpbffoFg8"
      },
      "source": [
        "## [Learning objective 8] LSTM Regularization"
      ]
    },
    {
      "cell_type": "code",
      "metadata": {
        "id": "l6j5QfeXoFg8",
        "colab": {
          "base_uri": "https://localhost:8080/",
          "height": 702
        },
        "outputId": "e739bb41-cf92-4b7e-cd3c-2acc71fc3d73"
      },
      "source": [
        "def LSTM_model_regularization(X_train, y_train, X_test, sc):\n",
        "    # create a model\n",
        "    from keras.models import Sequential\n",
        "    from keras.layers import Dense, SimpleRNN, GRU, LSTM\n",
        "    from keras.optimizers import SGD\n",
        "    \n",
        "    # The LSTM architecture\n",
        "    my_LSTM_model = Sequential()\n",
        "    my_LSTM_model.add(LSTM(units=50, return_sequences=True, input_shape=(X_train.shape[1],1), activation='tanh'))\n",
        "    #my_LSTM_model.add(LSTM(units=50, return_sequences=True, input_shape=(X_train.shape[1],1), activation='tanh'))\n",
        "    #my_LSTM_model.add(LSTM(units=50, return_sequences=True, input_shape=(X_train.shape[1],1), activation='tanh'))\n",
        "    my_LSTM_model.add(LSTM(units=50, activation='tanh'))\n",
        "    my_LSTM_model.add(Dense(units=2))\n",
        "\n",
        "    # Compiling\n",
        "    my_LSTM_model.compile(optimizer=SGD(lr=0.01, \n",
        "                      decay=1e-7, \n",
        "                      momentum=0.9, \n",
        "                      nesterov=False),\n",
        "               loss='mean_squared_error')\n",
        "    # Fitting to the training set\n",
        "    my_LSTM_model.fit(X_train,y_train,epochs=50,batch_size=150, verbose=0)\n",
        "\n",
        "    LSTM_prediction = my_LSTM_model.predict(X_test)\n",
        "    LSTM_prediction = sc.inverse_transform(LSTM_prediction)\n",
        "\n",
        "    return my_LSTM_model, LSTM_prediction\n",
        "\n",
        "my_LSTM_model, LSTM_prediction= LSTM_model_regularization(X_train, y_train, X_test, sc)\n",
        "LSTM_prediction, actual_pred_plot(LSTM_prediction)  "
      ],
      "execution_count": 252,
      "outputs": [
        {
          "output_type": "stream",
          "text": [
            "/usr/local/lib/python3.7/dist-packages/tensorflow/python/keras/optimizer_v2/optimizer_v2.py:375: UserWarning: The `lr` argument is deprecated, use `learning_rate` instead.\n",
            "  \"The `lr` argument is deprecated, use `learning_rate` instead.\")\n"
          ],
          "name": "stderr"
        },
        {
          "output_type": "execute_result",
          "data": {
            "text/plain": [
              "(array([[2436.1104, 2440.5215],\n",
              "        [2470.1443, 2474.0317],\n",
              "        [2472.6628, 2476.1528],\n",
              "        ...,\n",
              "        [3439.6145, 3451.7207],\n",
              "        [3435.0447, 3447.3096],\n",
              "        [3435.6492, 3448.2402]], dtype=float32),\n",
              " (24899.703,                real         pred\n",
              "  Date                            \n",
              "  2019-01-04  2531.94  2436.110352\n",
              "  2019-01-07  2549.69  2470.144287\n",
              "  2019-01-08  2574.41  2472.662842\n",
              "  2019-01-09  2584.96  2475.657227\n",
              "  2019-01-10  2596.64  2484.058350\n",
              "  ...             ...          ...\n",
              "  2020-12-24  3703.06  3440.441895\n",
              "  2020-12-28  3735.36  3440.891357\n",
              "  2020-12-29  3727.04  3439.614502\n",
              "  2020-12-30  3732.04  3435.044678\n",
              "  2020-12-31  3756.07  3435.649170\n",
              "  \n",
              "  [503 rows x 2 columns]))"
            ]
          },
          "metadata": {
            "tags": []
          },
          "execution_count": 252
        },
        {
          "output_type": "display_data",
          "data": {
            "image/png": "[encoded data removed]",
            "text/plain": [
              "<Figure size 432x288 with 1 Axes>"
            ]
          },
          "metadata": {
            "tags": [],
            "needs_background": "light"
          }
        }
      ]
    },
    {
      "cell_type": "markdown",
      "metadata": {
        "id": "5GgrhVo4oFg8"
      },
      "source": [
        "## [Learning objective 9] GRU"
      ]
    },
    {
      "cell_type": "code",
      "metadata": {
        "id": "_LocI-ZUoFg8",
        "colab": {
          "base_uri": "https://localhost:8080/",
          "height": 702
        },
        "outputId": "b9afc0f9-534f-4632-bd98-6839e4e9635d"
      },
      "source": [
        "def GRU_model(X_train, y_train, X_test, sc):\n",
        "    # create a model\n",
        "    from keras.models import Sequential\n",
        "    from keras.layers import Dense, SimpleRNN, GRU\n",
        "    from keras.optimizers import SGD\n",
        "    \n",
        "    # The GRU architecture\n",
        "    my_GRU_model = Sequential()\n",
        "    # First GRU layer with Dropout regularisation\n",
        "    my_GRU_model.add(GRU(units=50, return_sequences=True, input_shape=(X_train.shape[1],1), activation='tanh'))\n",
        "    #my_GRU_model.add(GRU(units=50, return_sequences=True, input_shape=(X_train.shape[1],1), activation='tanh'))\n",
        "    #my_GRU_model.add(GRU(units=50, return_sequences=True, input_shape=(X_train.shape[1],1), activation='tanh'))\n",
        "    my_GRU_model.add(GRU(units=50, activation='tanh'))\n",
        "    my_GRU_model.add(Dense(units=2))\n",
        "\n",
        "    # Compiling the RNN\n",
        "    my_GRU_model.compile(optimizer=SGD(lr=0.01, decay=1e-7, momentum=0.9, nesterov=False),loss='mean_squared_error')\n",
        "    # Fitting to the training set\n",
        "    my_GRU_model.fit(X_train,y_train,epochs=50,batch_size=150, verbose=0)\n",
        "\n",
        "    GRU_prediction = my_GRU_model.predict(X_test)\n",
        "    GRU_prediction = sc.inverse_transform(GRU_prediction)\n",
        "\n",
        "    return my_GRU_model, GRU_prediction\n",
        "\n",
        "my_GRU_model, GRU_prediction = GRU_model(X_train, y_train, X_test, sc)\n",
        "GRU_prediction, actual_pred_plot(GRU_prediction)  "
      ],
      "execution_count": 253,
      "outputs": [
        {
          "output_type": "stream",
          "text": [
            "/usr/local/lib/python3.7/dist-packages/tensorflow/python/keras/optimizer_v2/optimizer_v2.py:375: UserWarning: The `lr` argument is deprecated, use `learning_rate` instead.\n",
            "  \"The `lr` argument is deprecated, use `learning_rate` instead.\")\n"
          ],
          "name": "stderr"
        },
        {
          "output_type": "execute_result",
          "data": {
            "text/plain": [
              "(array([[2458.6921, 2459.8557],\n",
              "        [2479.8918, 2480.8433],\n",
              "        [2472.672 , 2473.62  ],\n",
              "        ...,\n",
              "        [3551.512 , 3553.4248],\n",
              "        [3550.1702, 3552.1028],\n",
              "        [3557.6733, 3559.649 ]], dtype=float32),\n",
              " (12784.425,                real         pred\n",
              "  Date                            \n",
              "  2019-01-04  2531.94  2458.692139\n",
              "  2019-01-07  2549.69  2479.891846\n",
              "  2019-01-08  2574.41  2472.672119\n",
              "  2019-01-09  2584.96  2479.909668\n",
              "  2019-01-10  2596.64  2494.833740\n",
              "  ...             ...          ...\n",
              "  2020-12-24  3703.06  3558.574463\n",
              "  2020-12-28  3735.36  3554.968994\n",
              "  2020-12-29  3727.04  3551.511963\n",
              "  2020-12-30  3732.04  3550.170166\n",
              "  2020-12-31  3756.07  3557.673340\n",
              "  \n",
              "  [503 rows x 2 columns]))"
            ]
          },
          "metadata": {
            "tags": []
          },
          "execution_count": 253
        },
        {
          "output_type": "display_data",
          "data": {
            "image/png": "[encoded data removed]",
            "text/plain": [
              "<Figure size 432x288 with 1 Axes>"
            ]
          },
          "metadata": {
            "tags": [],
            "needs_background": "light"
          }
        }
      ]
    },
    {
      "cell_type": "markdown",
      "metadata": {
        "id": "7pzuQ4EloFg9"
      },
      "source": [
        "## [Learning objective 10] GRU Regularization"
      ]
    },
    {
      "cell_type": "code",
      "metadata": {
        "id": "wjp2zqO-oFg9",
        "colab": {
          "base_uri": "https://localhost:8080/",
          "height": 584
        },
        "outputId": "66eb5730-f7ae-41a4-a161-e4b462074f69"
      },
      "source": [
        "def GRU_model_regularization(X_train, y_train, X_test, sc):\n",
        "    '''\n",
        "    create GRU model trained on X_train and y_train\n",
        "    and make predictions on the X_test data\n",
        "    '''\n",
        "    # create a model\n",
        "    from keras.models import Sequential\n",
        "    from keras.layers import Dense, SimpleRNN, GRU\n",
        "    from keras.optimizers import SGD\n",
        "    from keras.layers import Dropout\n",
        "    \n",
        "    # The GRU architecture\n",
        "    my_GRU_model = Sequential()\n",
        "    # First GRU layer with Dropout regularisation\n",
        "    my_GRU_model.add(GRU(units=50, return_sequences=True, input_shape=(X_train.shape[1],1), activation='tanh'))\n",
        "    my_GRU_model.add(Dropout(0.2))\n",
        "    # Second GRU layer\n",
        "    my_GRU_model.add(GRU(units=50, return_sequences=True, activation='tanh'))\n",
        "    my_GRU_model.add(Dropout(0.2))\n",
        "    \n",
        "    # Third GRU layer\n",
        "    my_GRU_model.add(GRU(units=50, return_sequences=True, activation='tanh'))\n",
        "    my_GRU_model.add(Dropout(0.2))\n",
        "    # Fourth GRU layer\n",
        "    my_GRU_model.add(GRU(units=50, activation='tanh'))\n",
        "    my_GRU_model.add(Dropout(0.2))\n",
        "    # The output layer\n",
        "    my_GRU_model.add(Dense(units=1))\n",
        "    # Compiling the RNN\n",
        "    my_GRU_model.compile(optimizer=SGD(lr=0.01, decay=1e-7, momentum=0.9, nesterov=False),loss='mean_squared_error')\n",
        "    # Fitting to the training set\n",
        "    my_GRU_model.fit(X_train,y_train,epochs=50,batch_size=150, verbose=0)\n",
        "\n",
        "    GRU_predictions = my_GRU_model.predict(X_test)\n",
        "    GRU_predictions = sc.inverse_transform(GRU_predictions)\n",
        "\n",
        "    return my_GRU_model, GRU_predictions\n",
        "\n",
        "my_GRU_model, GRU_predictions = GRU_model_regularization(X_train, y_train, X_test, sc)\n",
        "GRU_predictions\n",
        "actual_pred_plot(GRU_prediction)  "
      ],
      "execution_count": 254,
      "outputs": [
        {
          "output_type": "stream",
          "text": [
            "/usr/local/lib/python3.7/dist-packages/tensorflow/python/keras/optimizer_v2/optimizer_v2.py:375: UserWarning: The `lr` argument is deprecated, use `learning_rate` instead.\n",
            "  \"The `lr` argument is deprecated, use `learning_rate` instead.\")\n"
          ],
          "name": "stderr"
        },
        {
          "output_type": "execute_result",
          "data": {
            "text/plain": [
              "(12784.425,                real         pred\n",
              " Date                            \n",
              " 2019-01-04  2531.94  2458.692139\n",
              " 2019-01-07  2549.69  2479.891846\n",
              " 2019-01-08  2574.41  2472.672119\n",
              " 2019-01-09  2584.96  2479.909668\n",
              " 2019-01-10  2596.64  2494.833740\n",
              " ...             ...          ...\n",
              " 2020-12-24  3703.06  3558.574463\n",
              " 2020-12-28  3735.36  3554.968994\n",
              " 2020-12-29  3727.04  3551.511963\n",
              " 2020-12-30  3732.04  3550.170166\n",
              " 2020-12-31  3756.07  3557.673340\n",
              " \n",
              " [503 rows x 2 columns])"
            ]
          },
          "metadata": {
            "tags": []
          },
          "execution_count": 254
        },
        {
          "output_type": "display_data",
          "data": {
            "image/png": "[encoded data removed]",
            "text/plain": [
              "<Figure size 432x288 with 1 Axes>"
            ]
          },
          "metadata": {
            "tags": [],
            "needs_background": "light"
          }
        }
      ]
    },
    {
      "cell_type": "code",
      "metadata": {
        "id": "r3EeA5VloFg9"
      },
      "source": [
        ""
      ],
      "execution_count": 254,
      "outputs": []
    },
    {
      "cell_type": "code",
      "metadata": {
        "id": "bElUzPNQoFg9",
        "colab": {
          "base_uri": "https://localhost:8080/",
          "height": 447
        },
        "outputId": "94cf523d-5729-4e5d-bb62-cdd728d27d99"
      },
      "source": [
        "preds= rnn_predictions_2\n",
        "\n",
        "x= pd.DataFrame()#columns= ['Adj. Close', 'prediction'])\n",
        "x['real']= ts_data[-len(preds):] #all_data.loc['2019':,'Adj Close'][0:len(preds)]\n",
        "x['rnn']= preds[:,0]\n",
        "\n",
        "x['lstm']= LSTM_prediction[:,0]\n",
        "x['gru']= GRU_prediction[:,0]\n",
        "\n",
        "x"
      ],
      "execution_count": 255,
      "outputs": [
        {
          "output_type": "execute_result",
          "data": {
            "text/html": [
              "<div>\n",
              "<style scoped>\n",
              "    .dataframe tbody tr th:only-of-type {\n",
              "        vertical-align: middle;\n",
              "    }\n",
              "\n",
              "    .dataframe tbody tr th {\n",
              "        vertical-align: top;\n",
              "    }\n",
              "\n",
              "    .dataframe thead th {\n",
              "        text-align: right;\n",
              "    }\n",
              "</style>\n",
              "<table border=\"1\" class=\"dataframe\">\n",
              "  <thead>\n",
              "    <tr style=\"text-align: right;\">\n",
              "      <th></th>\n",
              "      <th>real</th>\n",
              "      <th>rnn</th>\n",
              "      <th>lstm</th>\n",
              "      <th>gru</th>\n",
              "    </tr>\n",
              "    <tr>\n",
              "      <th>Date</th>\n",
              "      <th></th>\n",
              "      <th></th>\n",
              "      <th></th>\n",
              "      <th></th>\n",
              "    </tr>\n",
              "  </thead>\n",
              "  <tbody>\n",
              "    <tr>\n",
              "      <th>2019-01-04</th>\n",
              "      <td>2531.94</td>\n",
              "      <td>2427.573730</td>\n",
              "      <td>2436.110352</td>\n",
              "      <td>2458.692139</td>\n",
              "    </tr>\n",
              "    <tr>\n",
              "      <th>2019-01-07</th>\n",
              "      <td>2549.69</td>\n",
              "      <td>2447.065918</td>\n",
              "      <td>2470.144287</td>\n",
              "      <td>2479.891846</td>\n",
              "    </tr>\n",
              "    <tr>\n",
              "      <th>2019-01-08</th>\n",
              "      <td>2574.41</td>\n",
              "      <td>2381.781494</td>\n",
              "      <td>2472.662842</td>\n",
              "      <td>2472.672119</td>\n",
              "    </tr>\n",
              "    <tr>\n",
              "      <th>2019-01-09</th>\n",
              "      <td>2584.96</td>\n",
              "      <td>2481.775635</td>\n",
              "      <td>2475.657227</td>\n",
              "      <td>2479.909668</td>\n",
              "    </tr>\n",
              "    <tr>\n",
              "      <th>2019-01-10</th>\n",
              "      <td>2596.64</td>\n",
              "      <td>2490.355957</td>\n",
              "      <td>2484.058350</td>\n",
              "      <td>2494.833740</td>\n",
              "    </tr>\n",
              "    <tr>\n",
              "      <th>...</th>\n",
              "      <td>...</td>\n",
              "      <td>...</td>\n",
              "      <td>...</td>\n",
              "      <td>...</td>\n",
              "    </tr>\n",
              "    <tr>\n",
              "      <th>2020-12-24</th>\n",
              "      <td>3703.06</td>\n",
              "      <td>3531.197021</td>\n",
              "      <td>3440.441895</td>\n",
              "      <td>3558.574463</td>\n",
              "    </tr>\n",
              "    <tr>\n",
              "      <th>2020-12-28</th>\n",
              "      <td>3735.36</td>\n",
              "      <td>3523.650635</td>\n",
              "      <td>3440.891357</td>\n",
              "      <td>3554.968994</td>\n",
              "    </tr>\n",
              "    <tr>\n",
              "      <th>2020-12-29</th>\n",
              "      <td>3727.04</td>\n",
              "      <td>3532.592041</td>\n",
              "      <td>3439.614502</td>\n",
              "      <td>3551.511963</td>\n",
              "    </tr>\n",
              "    <tr>\n",
              "      <th>2020-12-30</th>\n",
              "      <td>3732.04</td>\n",
              "      <td>3544.272217</td>\n",
              "      <td>3435.044678</td>\n",
              "      <td>3550.170166</td>\n",
              "    </tr>\n",
              "    <tr>\n",
              "      <th>2020-12-31</th>\n",
              "      <td>3756.07</td>\n",
              "      <td>3571.550293</td>\n",
              "      <td>3435.649170</td>\n",
              "      <td>3557.673340</td>\n",
              "    </tr>\n",
              "  </tbody>\n",
              "</table>\n",
              "<p>503 rows × 4 columns</p>\n",
              "</div>"
            ],
            "text/plain": [
              "               real          rnn         lstm          gru\n",
              "Date                                                      \n",
              "2019-01-04  2531.94  2427.573730  2436.110352  2458.692139\n",
              "2019-01-07  2549.69  2447.065918  2470.144287  2479.891846\n",
              "2019-01-08  2574.41  2381.781494  2472.662842  2472.672119\n",
              "2019-01-09  2584.96  2481.775635  2475.657227  2479.909668\n",
              "2019-01-10  2596.64  2490.355957  2484.058350  2494.833740\n",
              "...             ...          ...          ...          ...\n",
              "2020-12-24  3703.06  3531.197021  3440.441895  3558.574463\n",
              "2020-12-28  3735.36  3523.650635  3440.891357  3554.968994\n",
              "2020-12-29  3727.04  3532.592041  3439.614502  3551.511963\n",
              "2020-12-30  3732.04  3544.272217  3435.044678  3550.170166\n",
              "2020-12-31  3756.07  3571.550293  3435.649170  3557.673340\n",
              "\n",
              "[503 rows x 4 columns]"
            ]
          },
          "metadata": {
            "tags": []
          },
          "execution_count": 255
        }
      ]
    },
    {
      "cell_type": "code",
      "metadata": {
        "id": "J7qnikZse91F",
        "colab": {
          "base_uri": "https://localhost:8080/",
          "height": 295
        },
        "outputId": "aa51918d-a1d3-41f7-9cb9-105d1e34bca5"
      },
      "source": [
        "x.plot(grid=True,logy=True)"
      ],
      "execution_count": 256,
      "outputs": [
        {
          "output_type": "execute_result",
          "data": {
            "text/plain": [
              "<matplotlib.axes._subplots.AxesSubplot at 0x7fa2336df8d0>"
            ]
          },
          "metadata": {
            "tags": []
          },
          "execution_count": 256
        },
        {
          "output_type": "display_data",
          "data": {
            "image/png": "[encoded data removed]",
            "text/plain": [
              "<Figure size 432x288 with 1 Axes>"
            ]
          },
          "metadata": {
            "tags": [],
            "needs_background": "light"
          }
        }
      ]
    },
    {
      "cell_type": "code",
      "metadata": {
        "id": "5Kt7qYRtfG-B",
        "colab": {
          "base_uri": "https://localhost:8080/",
          "height": 172
        },
        "outputId": "83ea8d47-a959-4005-e8cf-ba90684847f8"
      },
      "source": [
        "x.corr()"
      ],
      "execution_count": 257,
      "outputs": [
        {
          "output_type": "execute_result",
          "data": {
            "text/html": [
              "<div>\n",
              "<style scoped>\n",
              "    .dataframe tbody tr th:only-of-type {\n",
              "        vertical-align: middle;\n",
              "    }\n",
              "\n",
              "    .dataframe tbody tr th {\n",
              "        vertical-align: top;\n",
              "    }\n",
              "\n",
              "    .dataframe thead th {\n",
              "        text-align: right;\n",
              "    }\n",
              "</style>\n",
              "<table border=\"1\" class=\"dataframe\">\n",
              "  <thead>\n",
              "    <tr style=\"text-align: right;\">\n",
              "      <th></th>\n",
              "      <th>real</th>\n",
              "      <th>rnn</th>\n",
              "      <th>lstm</th>\n",
              "      <th>gru</th>\n",
              "    </tr>\n",
              "  </thead>\n",
              "  <tbody>\n",
              "    <tr>\n",
              "      <th>real</th>\n",
              "      <td>1.000000</td>\n",
              "      <td>0.969485</td>\n",
              "      <td>0.952220</td>\n",
              "      <td>0.960465</td>\n",
              "    </tr>\n",
              "    <tr>\n",
              "      <th>rnn</th>\n",
              "      <td>0.969485</td>\n",
              "      <td>1.000000</td>\n",
              "      <td>0.980789</td>\n",
              "      <td>0.987988</td>\n",
              "    </tr>\n",
              "    <tr>\n",
              "      <th>lstm</th>\n",
              "      <td>0.952220</td>\n",
              "      <td>0.980789</td>\n",
              "      <td>1.000000</td>\n",
              "      <td>0.998402</td>\n",
              "    </tr>\n",
              "    <tr>\n",
              "      <th>gru</th>\n",
              "      <td>0.960465</td>\n",
              "      <td>0.987988</td>\n",
              "      <td>0.998402</td>\n",
              "      <td>1.000000</td>\n",
              "    </tr>\n",
              "  </tbody>\n",
              "</table>\n",
              "</div>"
            ],
            "text/plain": [
              "          real       rnn      lstm       gru\n",
              "real  1.000000  0.969485  0.952220  0.960465\n",
              "rnn   0.969485  1.000000  0.980789  0.987988\n",
              "lstm  0.952220  0.980789  1.000000  0.998402\n",
              "gru   0.960465  0.987988  0.998402  1.000000"
            ]
          },
          "metadata": {
            "tags": []
          },
          "execution_count": 257
        }
      ]
    },
    {
      "cell_type": "code",
      "metadata": {
        "id": "WSy5cUYvfPjz",
        "outputId": "da491075-5dbc-4c65-8e1a-b2690b533649",
        "colab": {
          "base_uri": "https://localhost:8080/",
          "height": 447
        }
      },
      "source": [
        "# 如果不用 RNN/LSTM/GRU，只用 moving average 呢？\n",
        "x"
      ],
      "execution_count": 258,
      "outputs": [
        {
          "output_type": "execute_result",
          "data": {
            "text/html": [
              "<div>\n",
              "<style scoped>\n",
              "    .dataframe tbody tr th:only-of-type {\n",
              "        vertical-align: middle;\n",
              "    }\n",
              "\n",
              "    .dataframe tbody tr th {\n",
              "        vertical-align: top;\n",
              "    }\n",
              "\n",
              "    .dataframe thead th {\n",
              "        text-align: right;\n",
              "    }\n",
              "</style>\n",
              "<table border=\"1\" class=\"dataframe\">\n",
              "  <thead>\n",
              "    <tr style=\"text-align: right;\">\n",
              "      <th></th>\n",
              "      <th>real</th>\n",
              "      <th>rnn</th>\n",
              "      <th>lstm</th>\n",
              "      <th>gru</th>\n",
              "    </tr>\n",
              "    <tr>\n",
              "      <th>Date</th>\n",
              "      <th></th>\n",
              "      <th></th>\n",
              "      <th></th>\n",
              "      <th></th>\n",
              "    </tr>\n",
              "  </thead>\n",
              "  <tbody>\n",
              "    <tr>\n",
              "      <th>2019-01-04</th>\n",
              "      <td>2531.94</td>\n",
              "      <td>2427.573730</td>\n",
              "      <td>2436.110352</td>\n",
              "      <td>2458.692139</td>\n",
              "    </tr>\n",
              "    <tr>\n",
              "      <th>2019-01-07</th>\n",
              "      <td>2549.69</td>\n",
              "      <td>2447.065918</td>\n",
              "      <td>2470.144287</td>\n",
              "      <td>2479.891846</td>\n",
              "    </tr>\n",
              "    <tr>\n",
              "      <th>2019-01-08</th>\n",
              "      <td>2574.41</td>\n",
              "      <td>2381.781494</td>\n",
              "      <td>2472.662842</td>\n",
              "      <td>2472.672119</td>\n",
              "    </tr>\n",
              "    <tr>\n",
              "      <th>2019-01-09</th>\n",
              "      <td>2584.96</td>\n",
              "      <td>2481.775635</td>\n",
              "      <td>2475.657227</td>\n",
              "      <td>2479.909668</td>\n",
              "    </tr>\n",
              "    <tr>\n",
              "      <th>2019-01-10</th>\n",
              "      <td>2596.64</td>\n",
              "      <td>2490.355957</td>\n",
              "      <td>2484.058350</td>\n",
              "      <td>2494.833740</td>\n",
              "    </tr>\n",
              "    <tr>\n",
              "      <th>...</th>\n",
              "      <td>...</td>\n",
              "      <td>...</td>\n",
              "      <td>...</td>\n",
              "      <td>...</td>\n",
              "    </tr>\n",
              "    <tr>\n",
              "      <th>2020-12-24</th>\n",
              "      <td>3703.06</td>\n",
              "      <td>3531.197021</td>\n",
              "      <td>3440.441895</td>\n",
              "      <td>3558.574463</td>\n",
              "    </tr>\n",
              "    <tr>\n",
              "      <th>2020-12-28</th>\n",
              "      <td>3735.36</td>\n",
              "      <td>3523.650635</td>\n",
              "      <td>3440.891357</td>\n",
              "      <td>3554.968994</td>\n",
              "    </tr>\n",
              "    <tr>\n",
              "      <th>2020-12-29</th>\n",
              "      <td>3727.04</td>\n",
              "      <td>3532.592041</td>\n",
              "      <td>3439.614502</td>\n",
              "      <td>3551.511963</td>\n",
              "    </tr>\n",
              "    <tr>\n",
              "      <th>2020-12-30</th>\n",
              "      <td>3732.04</td>\n",
              "      <td>3544.272217</td>\n",
              "      <td>3435.044678</td>\n",
              "      <td>3550.170166</td>\n",
              "    </tr>\n",
              "    <tr>\n",
              "      <th>2020-12-31</th>\n",
              "      <td>3756.07</td>\n",
              "      <td>3571.550293</td>\n",
              "      <td>3435.649170</td>\n",
              "      <td>3557.673340</td>\n",
              "    </tr>\n",
              "  </tbody>\n",
              "</table>\n",
              "<p>503 rows × 4 columns</p>\n",
              "</div>"
            ],
            "text/plain": [
              "               real          rnn         lstm          gru\n",
              "Date                                                      \n",
              "2019-01-04  2531.94  2427.573730  2436.110352  2458.692139\n",
              "2019-01-07  2549.69  2447.065918  2470.144287  2479.891846\n",
              "2019-01-08  2574.41  2381.781494  2472.662842  2472.672119\n",
              "2019-01-09  2584.96  2481.775635  2475.657227  2479.909668\n",
              "2019-01-10  2596.64  2490.355957  2484.058350  2494.833740\n",
              "...             ...          ...          ...          ...\n",
              "2020-12-24  3703.06  3531.197021  3440.441895  3558.574463\n",
              "2020-12-28  3735.36  3523.650635  3440.891357  3554.968994\n",
              "2020-12-29  3727.04  3532.592041  3439.614502  3551.511963\n",
              "2020-12-30  3732.04  3544.272217  3435.044678  3550.170166\n",
              "2020-12-31  3756.07  3571.550293  3435.649170  3557.673340\n",
              "\n",
              "[503 rows x 4 columns]"
            ]
          },
          "metadata": {
            "tags": []
          },
          "execution_count": 258
        }
      ]
    },
    {
      "cell_type": "code",
      "metadata": {
        "id": "UL0TUemgjIbj",
        "outputId": "91ca95ca-db02-4484-e2f8-6ff2808e7972",
        "colab": {
          "base_uri": "https://localhost:8080/",
          "height": 447
        }
      },
      "source": [
        "for w in [10, 20, 50, 100]:\n",
        "  x[f'ma{w}']=x['real'].rolling(window=w).mean()\n",
        "x"
      ],
      "execution_count": 261,
      "outputs": [
        {
          "output_type": "execute_result",
          "data": {
            "text/html": [
              "<div>\n",
              "<style scoped>\n",
              "    .dataframe tbody tr th:only-of-type {\n",
              "        vertical-align: middle;\n",
              "    }\n",
              "\n",
              "    .dataframe tbody tr th {\n",
              "        vertical-align: top;\n",
              "    }\n",
              "\n",
              "    .dataframe thead th {\n",
              "        text-align: right;\n",
              "    }\n",
              "</style>\n",
              "<table border=\"1\" class=\"dataframe\">\n",
              "  <thead>\n",
              "    <tr style=\"text-align: right;\">\n",
              "      <th></th>\n",
              "      <th>real</th>\n",
              "      <th>rnn</th>\n",
              "      <th>lstm</th>\n",
              "      <th>gru</th>\n",
              "      <th>ma10</th>\n",
              "      <th>ma20</th>\n",
              "      <th>ma50</th>\n",
              "      <th>ma100</th>\n",
              "    </tr>\n",
              "    <tr>\n",
              "      <th>Date</th>\n",
              "      <th></th>\n",
              "      <th></th>\n",
              "      <th></th>\n",
              "      <th></th>\n",
              "      <th></th>\n",
              "      <th></th>\n",
              "      <th></th>\n",
              "      <th></th>\n",
              "    </tr>\n",
              "  </thead>\n",
              "  <tbody>\n",
              "    <tr>\n",
              "      <th>2019-01-04</th>\n",
              "      <td>2531.94</td>\n",
              "      <td>2427.573730</td>\n",
              "      <td>2436.110352</td>\n",
              "      <td>2458.692139</td>\n",
              "      <td>NaN</td>\n",
              "      <td>NaN</td>\n",
              "      <td>NaN</td>\n",
              "      <td>NaN</td>\n",
              "    </tr>\n",
              "    <tr>\n",
              "      <th>2019-01-07</th>\n",
              "      <td>2549.69</td>\n",
              "      <td>2447.065918</td>\n",
              "      <td>2470.144287</td>\n",
              "      <td>2479.891846</td>\n",
              "      <td>NaN</td>\n",
              "      <td>NaN</td>\n",
              "      <td>NaN</td>\n",
              "      <td>NaN</td>\n",
              "    </tr>\n",
              "    <tr>\n",
              "      <th>2019-01-08</th>\n",
              "      <td>2574.41</td>\n",
              "      <td>2381.781494</td>\n",
              "      <td>2472.662842</td>\n",
              "      <td>2472.672119</td>\n",
              "      <td>NaN</td>\n",
              "      <td>NaN</td>\n",
              "      <td>NaN</td>\n",
              "      <td>NaN</td>\n",
              "    </tr>\n",
              "    <tr>\n",
              "      <th>2019-01-09</th>\n",
              "      <td>2584.96</td>\n",
              "      <td>2481.775635</td>\n",
              "      <td>2475.657227</td>\n",
              "      <td>2479.909668</td>\n",
              "      <td>NaN</td>\n",
              "      <td>NaN</td>\n",
              "      <td>NaN</td>\n",
              "      <td>NaN</td>\n",
              "    </tr>\n",
              "    <tr>\n",
              "      <th>2019-01-10</th>\n",
              "      <td>2596.64</td>\n",
              "      <td>2490.355957</td>\n",
              "      <td>2484.058350</td>\n",
              "      <td>2494.833740</td>\n",
              "      <td>NaN</td>\n",
              "      <td>NaN</td>\n",
              "      <td>NaN</td>\n",
              "      <td>NaN</td>\n",
              "    </tr>\n",
              "    <tr>\n",
              "      <th>...</th>\n",
              "      <td>...</td>\n",
              "      <td>...</td>\n",
              "      <td>...</td>\n",
              "      <td>...</td>\n",
              "      <td>...</td>\n",
              "      <td>...</td>\n",
              "      <td>...</td>\n",
              "      <td>...</td>\n",
              "    </tr>\n",
              "    <tr>\n",
              "      <th>2020-12-24</th>\n",
              "      <td>3703.06</td>\n",
              "      <td>3531.197021</td>\n",
              "      <td>3440.441895</td>\n",
              "      <td>3558.574463</td>\n",
              "      <td>3691.388</td>\n",
              "      <td>3680.3145</td>\n",
              "      <td>3563.2108</td>\n",
              "      <td>3478.3820</td>\n",
              "    </tr>\n",
              "    <tr>\n",
              "      <th>2020-12-28</th>\n",
              "      <td>3735.36</td>\n",
              "      <td>3523.650635</td>\n",
              "      <td>3440.891357</td>\n",
              "      <td>3554.968994</td>\n",
              "      <td>3698.578</td>\n",
              "      <td>3685.1650</td>\n",
              "      <td>3568.2512</td>\n",
              "      <td>3482.4579</td>\n",
              "    </tr>\n",
              "    <tr>\n",
              "      <th>2020-12-29</th>\n",
              "      <td>3727.04</td>\n",
              "      <td>3532.592041</td>\n",
              "      <td>3439.614502</td>\n",
              "      <td>3551.511963</td>\n",
              "      <td>3706.533</td>\n",
              "      <td>3690.4355</td>\n",
              "      <td>3573.1158</td>\n",
              "      <td>3486.2367</td>\n",
              "    </tr>\n",
              "    <tr>\n",
              "      <th>2020-12-30</th>\n",
              "      <td>3732.04</td>\n",
              "      <td>3544.272217</td>\n",
              "      <td>3435.044678</td>\n",
              "      <td>3550.170166</td>\n",
              "      <td>3710.275</td>\n",
              "      <td>3693.9150</td>\n",
              "      <td>3579.2182</td>\n",
              "      <td>3490.0443</td>\n",
              "    </tr>\n",
              "    <tr>\n",
              "      <th>2020-12-31</th>\n",
              "      <td>3756.07</td>\n",
              "      <td>3571.550293</td>\n",
              "      <td>3435.649170</td>\n",
              "      <td>3557.673340</td>\n",
              "      <td>3715.765</td>\n",
              "      <td>3698.2680</td>\n",
              "      <td>3585.4772</td>\n",
              "      <td>3494.0003</td>\n",
              "    </tr>\n",
              "  </tbody>\n",
              "</table>\n",
              "<p>503 rows × 8 columns</p>\n",
              "</div>"
            ],
            "text/plain": [
              "               real          rnn         lstm  ...       ma20       ma50      ma100\n",
              "Date                                           ...                                 \n",
              "2019-01-04  2531.94  2427.573730  2436.110352  ...        NaN        NaN        NaN\n",
              "2019-01-07  2549.69  2447.065918  2470.144287  ...        NaN        NaN        NaN\n",
              "2019-01-08  2574.41  2381.781494  2472.662842  ...        NaN        NaN        NaN\n",
              "2019-01-09  2584.96  2481.775635  2475.657227  ...        NaN        NaN        NaN\n",
              "2019-01-10  2596.64  2490.355957  2484.058350  ...        NaN        NaN        NaN\n",
              "...             ...          ...          ...  ...        ...        ...        ...\n",
              "2020-12-24  3703.06  3531.197021  3440.441895  ...  3680.3145  3563.2108  3478.3820\n",
              "2020-12-28  3735.36  3523.650635  3440.891357  ...  3685.1650  3568.2512  3482.4579\n",
              "2020-12-29  3727.04  3532.592041  3439.614502  ...  3690.4355  3573.1158  3486.2367\n",
              "2020-12-30  3732.04  3544.272217  3435.044678  ...  3693.9150  3579.2182  3490.0443\n",
              "2020-12-31  3756.07  3571.550293  3435.649170  ...  3698.2680  3585.4772  3494.0003\n",
              "\n",
              "[503 rows x 8 columns]"
            ]
          },
          "metadata": {
            "tags": []
          },
          "execution_count": 261
        }
      ]
    },
    {
      "cell_type": "code",
      "metadata": {
        "id": "juDiDD5PjMgp",
        "outputId": "89d8e933-ab79-4a24-84c4-f177179e44c7",
        "colab": {
          "base_uri": "https://localhost:8080/",
          "height": 295
        }
      },
      "source": [
        "x.corr()"
      ],
      "execution_count": 262,
      "outputs": [
        {
          "output_type": "execute_result",
          "data": {
            "text/html": [
              "<div>\n",
              "<style scoped>\n",
              "    .dataframe tbody tr th:only-of-type {\n",
              "        vertical-align: middle;\n",
              "    }\n",
              "\n",
              "    .dataframe tbody tr th {\n",
              "        vertical-align: top;\n",
              "    }\n",
              "\n",
              "    .dataframe thead th {\n",
              "        text-align: right;\n",
              "    }\n",
              "</style>\n",
              "<table border=\"1\" class=\"dataframe\">\n",
              "  <thead>\n",
              "    <tr style=\"text-align: right;\">\n",
              "      <th></th>\n",
              "      <th>real</th>\n",
              "      <th>rnn</th>\n",
              "      <th>lstm</th>\n",
              "      <th>gru</th>\n",
              "      <th>ma10</th>\n",
              "      <th>ma20</th>\n",
              "      <th>ma50</th>\n",
              "      <th>ma100</th>\n",
              "    </tr>\n",
              "  </thead>\n",
              "  <tbody>\n",
              "    <tr>\n",
              "      <th>real</th>\n",
              "      <td>1.000000</td>\n",
              "      <td>0.969485</td>\n",
              "      <td>0.952220</td>\n",
              "      <td>0.960465</td>\n",
              "      <td>0.970436</td>\n",
              "      <td>0.924500</td>\n",
              "      <td>0.794824</td>\n",
              "      <td>0.653097</td>\n",
              "    </tr>\n",
              "    <tr>\n",
              "      <th>rnn</th>\n",
              "      <td>0.969485</td>\n",
              "      <td>1.000000</td>\n",
              "      <td>0.980789</td>\n",
              "      <td>0.987988</td>\n",
              "      <td>0.986730</td>\n",
              "      <td>0.953047</td>\n",
              "      <td>0.819079</td>\n",
              "      <td>0.663976</td>\n",
              "    </tr>\n",
              "    <tr>\n",
              "      <th>lstm</th>\n",
              "      <td>0.952220</td>\n",
              "      <td>0.980789</td>\n",
              "      <td>1.000000</td>\n",
              "      <td>0.998402</td>\n",
              "      <td>0.995386</td>\n",
              "      <td>0.975954</td>\n",
              "      <td>0.842544</td>\n",
              "      <td>0.675825</td>\n",
              "    </tr>\n",
              "    <tr>\n",
              "      <th>gru</th>\n",
              "      <td>0.960465</td>\n",
              "      <td>0.987988</td>\n",
              "      <td>0.998402</td>\n",
              "      <td>1.000000</td>\n",
              "      <td>0.996910</td>\n",
              "      <td>0.973159</td>\n",
              "      <td>0.842869</td>\n",
              "      <td>0.683122</td>\n",
              "    </tr>\n",
              "    <tr>\n",
              "      <th>ma10</th>\n",
              "      <td>0.970436</td>\n",
              "      <td>0.986730</td>\n",
              "      <td>0.995386</td>\n",
              "      <td>0.996910</td>\n",
              "      <td>1.000000</td>\n",
              "      <td>0.978998</td>\n",
              "      <td>0.855552</td>\n",
              "      <td>0.700174</td>\n",
              "    </tr>\n",
              "    <tr>\n",
              "      <th>ma20</th>\n",
              "      <td>0.924500</td>\n",
              "      <td>0.953047</td>\n",
              "      <td>0.975954</td>\n",
              "      <td>0.973159</td>\n",
              "      <td>0.978998</td>\n",
              "      <td>1.000000</td>\n",
              "      <td>0.912960</td>\n",
              "      <td>0.749102</td>\n",
              "    </tr>\n",
              "    <tr>\n",
              "      <th>ma50</th>\n",
              "      <td>0.794824</td>\n",
              "      <td>0.819079</td>\n",
              "      <td>0.842544</td>\n",
              "      <td>0.842869</td>\n",
              "      <td>0.855552</td>\n",
              "      <td>0.912960</td>\n",
              "      <td>1.000000</td>\n",
              "      <td>0.877588</td>\n",
              "    </tr>\n",
              "    <tr>\n",
              "      <th>ma100</th>\n",
              "      <td>0.653097</td>\n",
              "      <td>0.663976</td>\n",
              "      <td>0.675825</td>\n",
              "      <td>0.683122</td>\n",
              "      <td>0.700174</td>\n",
              "      <td>0.749102</td>\n",
              "      <td>0.877588</td>\n",
              "      <td>1.000000</td>\n",
              "    </tr>\n",
              "  </tbody>\n",
              "</table>\n",
              "</div>"
            ],
            "text/plain": [
              "           real       rnn      lstm  ...      ma20      ma50     ma100\n",
              "real   1.000000  0.969485  0.952220  ...  0.924500  0.794824  0.653097\n",
              "rnn    0.969485  1.000000  0.980789  ...  0.953047  0.819079  0.663976\n",
              "lstm   0.952220  0.980789  1.000000  ...  0.975954  0.842544  0.675825\n",
              "gru    0.960465  0.987988  0.998402  ...  0.973159  0.842869  0.683122\n",
              "ma10   0.970436  0.986730  0.995386  ...  0.978998  0.855552  0.700174\n",
              "ma20   0.924500  0.953047  0.975954  ...  1.000000  0.912960  0.749102\n",
              "ma50   0.794824  0.819079  0.842544  ...  0.912960  1.000000  0.877588\n",
              "ma100  0.653097  0.663976  0.675825  ...  0.749102  0.877588  1.000000\n",
              "\n",
              "[8 rows x 8 columns]"
            ]
          },
          "metadata": {
            "tags": []
          },
          "execution_count": 262
        }
      ]
    },
    {
      "cell_type": "code",
      "metadata": {
        "id": "4Blk4sDPjpdA",
        "outputId": "5ca10d29-ce08-4c50-f659-84d7085b0967",
        "colab": {
          "base_uri": "https://localhost:8080/",
          "height": 294
        }
      },
      "source": [
        "x.plot()"
      ],
      "execution_count": 263,
      "outputs": [
        {
          "output_type": "execute_result",
          "data": {
            "text/plain": [
              "<matplotlib.axes._subplots.AxesSubplot at 0x7fa245dc5f10>"
            ]
          },
          "metadata": {
            "tags": []
          },
          "execution_count": 263
        },
        {
          "output_type": "display_data",
          "data": {
            "image/png": "[encoded data removed]",
            "text/plain": [
              "<Figure size 432x288 with 1 Axes>"
            ]
          },
          "metadata": {
            "tags": [],
            "needs_background": "light"
          }
        }
      ]
    },
    {
      "cell_type": "code",
      "metadata": {
        "id": "fq96RHC1jttB",
        "outputId": "cd82d6b3-e58e-4c1d-cef3-c3f6e515acb3",
        "colab": {
          "base_uri": "https://localhost:8080/",
          "height": 418
        }
      },
      "source": [
        "for w in [10, 20, 50, 100]:\n",
        "  x[f'mC{w}']=x['real'].rolling(window=w, center=True).mean()\n",
        "x.corr()\n"
      ],
      "execution_count": 264,
      "outputs": [
        {
          "output_type": "execute_result",
          "data": {
            "text/html": [
              "<div>\n",
              "<style scoped>\n",
              "    .dataframe tbody tr th:only-of-type {\n",
              "        vertical-align: middle;\n",
              "    }\n",
              "\n",
              "    .dataframe tbody tr th {\n",
              "        vertical-align: top;\n",
              "    }\n",
              "\n",
              "    .dataframe thead th {\n",
              "        text-align: right;\n",
              "    }\n",
              "</style>\n",
              "<table border=\"1\" class=\"dataframe\">\n",
              "  <thead>\n",
              "    <tr style=\"text-align: right;\">\n",
              "      <th></th>\n",
              "      <th>real</th>\n",
              "      <th>rnn</th>\n",
              "      <th>lstm</th>\n",
              "      <th>gru</th>\n",
              "      <th>ma10</th>\n",
              "      <th>ma20</th>\n",
              "      <th>ma50</th>\n",
              "      <th>ma100</th>\n",
              "      <th>mC10</th>\n",
              "      <th>mC20</th>\n",
              "      <th>mC50</th>\n",
              "      <th>mC100</th>\n",
              "    </tr>\n",
              "  </thead>\n",
              "  <tbody>\n",
              "    <tr>\n",
              "      <th>real</th>\n",
              "      <td>1.000000</td>\n",
              "      <td>0.969485</td>\n",
              "      <td>0.952220</td>\n",
              "      <td>0.960465</td>\n",
              "      <td>0.970436</td>\n",
              "      <td>0.924500</td>\n",
              "      <td>0.794824</td>\n",
              "      <td>0.653097</td>\n",
              "      <td>0.990788</td>\n",
              "      <td>0.982726</td>\n",
              "      <td>0.926622</td>\n",
              "      <td>0.792111</td>\n",
              "    </tr>\n",
              "    <tr>\n",
              "      <th>rnn</th>\n",
              "      <td>0.969485</td>\n",
              "      <td>1.000000</td>\n",
              "      <td>0.980789</td>\n",
              "      <td>0.987988</td>\n",
              "      <td>0.986730</td>\n",
              "      <td>0.953047</td>\n",
              "      <td>0.819079</td>\n",
              "      <td>0.663976</td>\n",
              "      <td>0.981824</td>\n",
              "      <td>0.975224</td>\n",
              "      <td>0.919203</td>\n",
              "      <td>0.780545</td>\n",
              "    </tr>\n",
              "    <tr>\n",
              "      <th>lstm</th>\n",
              "      <td>0.952220</td>\n",
              "      <td>0.980789</td>\n",
              "      <td>1.000000</td>\n",
              "      <td>0.998402</td>\n",
              "      <td>0.995386</td>\n",
              "      <td>0.975954</td>\n",
              "      <td>0.842544</td>\n",
              "      <td>0.675825</td>\n",
              "      <td>0.970081</td>\n",
              "      <td>0.970420</td>\n",
              "      <td>0.922023</td>\n",
              "      <td>0.779967</td>\n",
              "    </tr>\n",
              "    <tr>\n",
              "      <th>gru</th>\n",
              "      <td>0.960465</td>\n",
              "      <td>0.987988</td>\n",
              "      <td>0.998402</td>\n",
              "      <td>1.000000</td>\n",
              "      <td>0.996910</td>\n",
              "      <td>0.973159</td>\n",
              "      <td>0.842869</td>\n",
              "      <td>0.683122</td>\n",
              "      <td>0.978187</td>\n",
              "      <td>0.976425</td>\n",
              "      <td>0.926895</td>\n",
              "      <td>0.788047</td>\n",
              "    </tr>\n",
              "    <tr>\n",
              "      <th>ma10</th>\n",
              "      <td>0.970436</td>\n",
              "      <td>0.986730</td>\n",
              "      <td>0.995386</td>\n",
              "      <td>0.996910</td>\n",
              "      <td>1.000000</td>\n",
              "      <td>0.978998</td>\n",
              "      <td>0.855552</td>\n",
              "      <td>0.700174</td>\n",
              "      <td>0.983797</td>\n",
              "      <td>0.984220</td>\n",
              "      <td>0.940480</td>\n",
              "      <td>0.805473</td>\n",
              "    </tr>\n",
              "    <tr>\n",
              "      <th>ma20</th>\n",
              "      <td>0.924500</td>\n",
              "      <td>0.953047</td>\n",
              "      <td>0.975954</td>\n",
              "      <td>0.973159</td>\n",
              "      <td>0.978998</td>\n",
              "      <td>1.000000</td>\n",
              "      <td>0.912960</td>\n",
              "      <td>0.749102</td>\n",
              "      <td>0.940702</td>\n",
              "      <td>0.948095</td>\n",
              "      <td>0.939000</td>\n",
              "      <td>0.817750</td>\n",
              "    </tr>\n",
              "    <tr>\n",
              "      <th>ma50</th>\n",
              "      <td>0.794824</td>\n",
              "      <td>0.819079</td>\n",
              "      <td>0.842544</td>\n",
              "      <td>0.842869</td>\n",
              "      <td>0.855552</td>\n",
              "      <td>0.912960</td>\n",
              "      <td>1.000000</td>\n",
              "      <td>0.877588</td>\n",
              "      <td>0.805726</td>\n",
              "      <td>0.811040</td>\n",
              "      <td>0.831845</td>\n",
              "      <td>0.823437</td>\n",
              "    </tr>\n",
              "    <tr>\n",
              "      <th>ma100</th>\n",
              "      <td>0.653097</td>\n",
              "      <td>0.663976</td>\n",
              "      <td>0.675825</td>\n",
              "      <td>0.683122</td>\n",
              "      <td>0.700174</td>\n",
              "      <td>0.749102</td>\n",
              "      <td>0.877588</td>\n",
              "      <td>1.000000</td>\n",
              "      <td>0.651108</td>\n",
              "      <td>0.641293</td>\n",
              "      <td>0.612901</td>\n",
              "      <td>0.559698</td>\n",
              "    </tr>\n",
              "    <tr>\n",
              "      <th>mC10</th>\n",
              "      <td>0.990788</td>\n",
              "      <td>0.981824</td>\n",
              "      <td>0.970081</td>\n",
              "      <td>0.978187</td>\n",
              "      <td>0.983797</td>\n",
              "      <td>0.940702</td>\n",
              "      <td>0.805726</td>\n",
              "      <td>0.651108</td>\n",
              "      <td>1.000000</td>\n",
              "      <td>0.995847</td>\n",
              "      <td>0.947297</td>\n",
              "      <td>0.814020</td>\n",
              "    </tr>\n",
              "    <tr>\n",
              "      <th>mC20</th>\n",
              "      <td>0.982726</td>\n",
              "      <td>0.975224</td>\n",
              "      <td>0.970420</td>\n",
              "      <td>0.976425</td>\n",
              "      <td>0.984220</td>\n",
              "      <td>0.948095</td>\n",
              "      <td>0.811040</td>\n",
              "      <td>0.641293</td>\n",
              "      <td>0.995847</td>\n",
              "      <td>1.000000</td>\n",
              "      <td>0.967543</td>\n",
              "      <td>0.838025</td>\n",
              "    </tr>\n",
              "    <tr>\n",
              "      <th>mC50</th>\n",
              "      <td>0.926622</td>\n",
              "      <td>0.919203</td>\n",
              "      <td>0.922023</td>\n",
              "      <td>0.926895</td>\n",
              "      <td>0.940480</td>\n",
              "      <td>0.939000</td>\n",
              "      <td>0.831845</td>\n",
              "      <td>0.612901</td>\n",
              "      <td>0.947297</td>\n",
              "      <td>0.967543</td>\n",
              "      <td>1.000000</td>\n",
              "      <td>0.925686</td>\n",
              "    </tr>\n",
              "    <tr>\n",
              "      <th>mC100</th>\n",
              "      <td>0.792111</td>\n",
              "      <td>0.780545</td>\n",
              "      <td>0.779967</td>\n",
              "      <td>0.788047</td>\n",
              "      <td>0.805473</td>\n",
              "      <td>0.817750</td>\n",
              "      <td>0.823437</td>\n",
              "      <td>0.559698</td>\n",
              "      <td>0.814020</td>\n",
              "      <td>0.838025</td>\n",
              "      <td>0.925686</td>\n",
              "      <td>1.000000</td>\n",
              "    </tr>\n",
              "  </tbody>\n",
              "</table>\n",
              "</div>"
            ],
            "text/plain": [
              "           real       rnn      lstm  ...      mC20      mC50     mC100\n",
              "real   1.000000  0.969485  0.952220  ...  0.982726  0.926622  0.792111\n",
              "rnn    0.969485  1.000000  0.980789  ...  0.975224  0.919203  0.780545\n",
              "lstm   0.952220  0.980789  1.000000  ...  0.970420  0.922023  0.779967\n",
              "gru    0.960465  0.987988  0.998402  ...  0.976425  0.926895  0.788047\n",
              "ma10   0.970436  0.986730  0.995386  ...  0.984220  0.940480  0.805473\n",
              "ma20   0.924500  0.953047  0.975954  ...  0.948095  0.939000  0.817750\n",
              "ma50   0.794824  0.819079  0.842544  ...  0.811040  0.831845  0.823437\n",
              "ma100  0.653097  0.663976  0.675825  ...  0.641293  0.612901  0.559698\n",
              "mC10   0.990788  0.981824  0.970081  ...  0.995847  0.947297  0.814020\n",
              "mC20   0.982726  0.975224  0.970420  ...  1.000000  0.967543  0.838025\n",
              "mC50   0.926622  0.919203  0.922023  ...  0.967543  1.000000  0.925686\n",
              "mC100  0.792111  0.780545  0.779967  ...  0.838025  0.925686  1.000000\n",
              "\n",
              "[12 rows x 12 columns]"
            ]
          },
          "metadata": {
            "tags": []
          },
          "execution_count": 264
        }
      ]
    },
    {
      "cell_type": "code",
      "metadata": {
        "id": "oScv6SSJkDP4",
        "outputId": "d787d126-6134-445b-c55f-e708deaa7a8e",
        "colab": {
          "base_uri": "https://localhost:8080/"
        }
      },
      "source": [
        "x.corr()['real'].sort_values(ascending=False)\n"
      ],
      "execution_count": 270,
      "outputs": [
        {
          "output_type": "execute_result",
          "data": {
            "text/plain": [
              "real     1.000000\n",
              "mC10     0.990788\n",
              "mC20     0.982726\n",
              "ma10     0.970436\n",
              "rnn      0.969485\n",
              "gru      0.960465\n",
              "lstm     0.952220\n",
              "mC50     0.926622\n",
              "ma20     0.924500\n",
              "ma50     0.794824\n",
              "mC100    0.792111\n",
              "ma100    0.653097\n",
              "Name: real, dtype: float64"
            ]
          },
          "metadata": {
            "tags": []
          },
          "execution_count": 270
        }
      ]
    },
    {
      "cell_type": "code",
      "metadata": {
        "id": "Kdp_tjP0kcMx"
      },
      "source": [
        "'''\n",
        "real     1.000000\n",
        "mC10     0.990788\n",
        "mC20     0.982726\n",
        "ma10     0.970436\n",
        "rnn      0.969485\n",
        "gru      0.960465\n",
        "lstm     0.952220\n",
        "mC50     0.926622\n",
        "ma20     0.924500\n",
        "ma50     0.794824\n",
        "mC100    0.792111\n",
        "ma100    0.653097\n",
        "Name: real, dtype: float64\n",
        "'''\n",
        "# 與 'real' 的相關係數最高的前3名分別為 mC10, mC20, ma10\n",
        "# 'rnn', 'gru', 'lstm' 排在其後\n",
        "# 那麼 若用 x.corr() 來衡量 演算法達成效果的優缺點，\n",
        "# 這些 deep learning 優於傳統方法之處在哪裡？ "
      ],
      "execution_count": 270,
      "outputs": []
    },
    {
      "cell_type": "code",
      "metadata": {
        "id": "NOEMDY1jkzRA"
      },
      "source": [
        ""
      ],
      "execution_count": null,
      "outputs": []
    }
  ]
}